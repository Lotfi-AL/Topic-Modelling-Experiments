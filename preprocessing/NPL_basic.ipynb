{
 "cells": [
  {
   "cell_type": "code",
   "execution_count": 57,
   "metadata": {
    "collapsed": true
   },
   "outputs": [],
   "source": [
    "from datasets import load_dataset\n",
    "import pandas as pd\n",
    "import os\n",
    "from utils.filemanagement import load_from_file,save_preprocessed_df_to_file\n",
    "import matplotlib.pyplot as plt\n",
    "from utils.filemanagement import ROOT_PATH"
   ]
  },
  {
   "cell_type": "code",
   "execution_count": 57,
   "outputs": [],
   "source": [],
   "metadata": {
    "collapsed": false,
    "pycharm": {
     "name": "#%%\n"
    }
   }
  },
  {
   "cell_type": "code",
   "execution_count": 57,
   "outputs": [],
   "source": [],
   "metadata": {
    "collapsed": false,
    "pycharm": {
     "name": "#%%\n"
    }
   }
  },
  {
   "cell_type": "code",
   "execution_count": 58,
   "outputs": [],
   "source": [
    "folder_path_data = r\"preprocessed_data\"\n",
    "file_name_previous_data =\"np_large_raw.csv\"\n",
    "file_name_data =\"np_large_basic.csv\"\n",
    "read_from_file = True\n",
    "\n",
    "file_path = os.path.join(ROOT_PATH,folder_path_data,\"data\",file_name_previous_data)\n",
    "df = pd.read_csv(file_path,index_col=0,encoding=\"utf-8\")\n",
    "\n",
    "file_path_load = os.path.join(ROOT_PATH,folder_path_data,\"data\",file_name_data)\n",
    "if read_from_file:\n",
    "    df = pd.read_csv(file_path_load,index_col=0,encoding=\"utf-8\")\n",
    "#df_one = load_from_file(folder_path_data, file_name_data,index_col=0)"
   ],
   "metadata": {
    "collapsed": false,
    "pycharm": {
     "name": "#%%\n"
    }
   }
  },
  {
   "cell_type": "code",
   "execution_count": 59,
   "outputs": [
    {
     "name": "stderr",
     "output_type": "stream",
     "text": [
      "C:\\Users\\lotfi\\AppData\\Local\\Temp\\ipykernel_23736\\2913396941.py:1: FutureWarning: The default value of regex will change from True to False in a future version.\n",
      "  df['text'] = df['text'].str.replace(r'[^\\w\\s]+', '')\n"
     ]
    }
   ],
   "source": [
    "df['text'] = df['text'].str.replace(r'[^\\w\\s]+', '')"
   ],
   "metadata": {
    "collapsed": false,
    "pycharm": {
     "name": "#%%\n"
    }
   }
  },
  {
   "cell_type": "code",
   "execution_count": 60,
   "outputs": [],
   "source": [
    "df['date'] = pd.to_datetime(df['label'],format=\"%Y\")#pd.to_datetime(df['label'])"
   ],
   "metadata": {
    "collapsed": false,
    "pycharm": {
     "name": "#%%\n"
    }
   }
  },
  {
   "cell_type": "code",
   "execution_count": 61,
   "outputs": [],
   "source": [
    "#df = df.drop(['label',\"partier\"], axis=1)"
   ],
   "metadata": {
    "collapsed": false,
    "pycharm": {
     "name": "#%%\n"
    }
   }
  },
  {
   "cell_type": "code",
   "execution_count": 62,
   "outputs": [],
   "source": [
    "df = df[df['text'].str.strip().astype(bool)]"
   ],
   "metadata": {
    "collapsed": false,
    "pycharm": {
     "name": "#%%\n"
    }
   }
  },
  {
   "cell_type": "code",
   "execution_count": 63,
   "outputs": [],
   "source": [
    "file_path = os.path.join(ROOT_PATH,folder_path_data,\"data\",file_name_data)\n",
    "if not read_from_file:\n",
    "    df.to_csv(file_path,encoding=\"utf-8\")"
   ],
   "metadata": {
    "collapsed": false,
    "pycharm": {
     "name": "#%%\n"
    }
   }
  },
  {
   "cell_type": "code",
   "execution_count": 63,
   "outputs": [],
   "source": [],
   "metadata": {
    "collapsed": false,
    "pycharm": {
     "name": "#%%\n"
    }
   }
  },
  {
   "cell_type": "code",
   "execution_count": 63,
   "outputs": [],
   "source": [],
   "metadata": {
    "collapsed": false,
    "pycharm": {
     "name": "#%%\n"
    }
   }
  },
  {
   "cell_type": "code",
   "execution_count": 64,
   "outputs": [
    {
     "data": {
      "text/plain": "               label\ncount  386795.000000\nmean     2010.553671\nstd         7.108579\nmin      1998.000000\n25%      2004.000000\n50%      2011.000000\n75%      2017.000000\nmax      2022.000000",
      "text/html": "<div>\n<style scoped>\n    .dataframe tbody tr th:only-of-type {\n        vertical-align: middle;\n    }\n\n    .dataframe tbody tr th {\n        vertical-align: top;\n    }\n\n    .dataframe thead th {\n        text-align: right;\n    }\n</style>\n<table border=\"1\" class=\"dataframe\">\n  <thead>\n    <tr style=\"text-align: right;\">\n      <th></th>\n      <th>label</th>\n    </tr>\n  </thead>\n  <tbody>\n    <tr>\n      <th>count</th>\n      <td>386795.000000</td>\n    </tr>\n    <tr>\n      <th>mean</th>\n      <td>2010.553671</td>\n    </tr>\n    <tr>\n      <th>std</th>\n      <td>7.108579</td>\n    </tr>\n    <tr>\n      <th>min</th>\n      <td>1998.000000</td>\n    </tr>\n    <tr>\n      <th>25%</th>\n      <td>2004.000000</td>\n    </tr>\n    <tr>\n      <th>50%</th>\n      <td>2011.000000</td>\n    </tr>\n    <tr>\n      <th>75%</th>\n      <td>2017.000000</td>\n    </tr>\n    <tr>\n      <th>max</th>\n      <td>2022.000000</td>\n    </tr>\n  </tbody>\n</table>\n</div>"
     },
     "execution_count": 64,
     "metadata": {},
     "output_type": "execute_result"
    }
   ],
   "source": [
    "df.describe()"
   ],
   "metadata": {
    "collapsed": false,
    "pycharm": {
     "name": "#%%\n"
    }
   }
  },
  {
   "cell_type": "code",
   "execution_count": 65,
   "outputs": [
    {
     "data": {
      "text/plain": "                                                text  label       date\n0  Hvis ingen har noe å innvende skal jeg etterko...   1998 1998-01-01\n1  Fungerende president vil anmode sekretæren for...   1998 1998-01-01\n2  Odelstinget skal foreta valg av presidenter og...   1998 1998-01-01\n3                          Jeg foreslår Gunnar Skaug   1998 1998-01-01\n4  Gunnar Skaug er foreslått valgt til Odelstinge...   1998 1998-01-01",
      "text/html": "<div>\n<style scoped>\n    .dataframe tbody tr th:only-of-type {\n        vertical-align: middle;\n    }\n\n    .dataframe tbody tr th {\n        vertical-align: top;\n    }\n\n    .dataframe thead th {\n        text-align: right;\n    }\n</style>\n<table border=\"1\" class=\"dataframe\">\n  <thead>\n    <tr style=\"text-align: right;\">\n      <th></th>\n      <th>text</th>\n      <th>label</th>\n      <th>date</th>\n    </tr>\n  </thead>\n  <tbody>\n    <tr>\n      <th>0</th>\n      <td>Hvis ingen har noe å innvende skal jeg etterko...</td>\n      <td>1998</td>\n      <td>1998-01-01</td>\n    </tr>\n    <tr>\n      <th>1</th>\n      <td>Fungerende president vil anmode sekretæren for...</td>\n      <td>1998</td>\n      <td>1998-01-01</td>\n    </tr>\n    <tr>\n      <th>2</th>\n      <td>Odelstinget skal foreta valg av presidenter og...</td>\n      <td>1998</td>\n      <td>1998-01-01</td>\n    </tr>\n    <tr>\n      <th>3</th>\n      <td>Jeg foreslår Gunnar Skaug</td>\n      <td>1998</td>\n      <td>1998-01-01</td>\n    </tr>\n    <tr>\n      <th>4</th>\n      <td>Gunnar Skaug er foreslått valgt til Odelstinge...</td>\n      <td>1998</td>\n      <td>1998-01-01</td>\n    </tr>\n  </tbody>\n</table>\n</div>"
     },
     "execution_count": 65,
     "metadata": {},
     "output_type": "execute_result"
    }
   ],
   "source": [
    "df.head()"
   ],
   "metadata": {
    "collapsed": false,
    "pycharm": {
     "name": "#%%\n"
    }
   }
  },
  {
   "cell_type": "code",
   "execution_count": 66,
   "outputs": [
    {
     "data": {
      "text/plain": "                                                     text  label       date\n0       Hvis ingen har noe å innvende skal jeg etterko...   1998 1998-01-01\n1       Fungerende president vil anmode sekretæren for...   1998 1998-01-01\n2       Odelstinget skal foreta valg av presidenter og...   1998 1998-01-01\n3                               Jeg foreslår Gunnar Skaug   1998 1998-01-01\n4       Gunnar Skaug er foreslått valgt til Odelstinge...   1998 1998-01-01\n...                                                   ...    ...        ...\n386792                        Debatten i sak nr 2 er omme   2022 2022-01-01\n386793  Da går vi til votering over sakene på dagens kart   2022 2022-01-01\n386794  Presidenten foreslår at redegjørelsen vedlegge...   2022 2022-01-01\n386795                        Sak nr 2 var interpellasjon   2022 2022-01-01\n386796  Dermed er dagens kart ferdigbehandlet Forlange...   2022 2022-01-01\n\n[386795 rows x 3 columns]",
      "text/html": "<div>\n<style scoped>\n    .dataframe tbody tr th:only-of-type {\n        vertical-align: middle;\n    }\n\n    .dataframe tbody tr th {\n        vertical-align: top;\n    }\n\n    .dataframe thead th {\n        text-align: right;\n    }\n</style>\n<table border=\"1\" class=\"dataframe\">\n  <thead>\n    <tr style=\"text-align: right;\">\n      <th></th>\n      <th>text</th>\n      <th>label</th>\n      <th>date</th>\n    </tr>\n  </thead>\n  <tbody>\n    <tr>\n      <th>0</th>\n      <td>Hvis ingen har noe å innvende skal jeg etterko...</td>\n      <td>1998</td>\n      <td>1998-01-01</td>\n    </tr>\n    <tr>\n      <th>1</th>\n      <td>Fungerende president vil anmode sekretæren for...</td>\n      <td>1998</td>\n      <td>1998-01-01</td>\n    </tr>\n    <tr>\n      <th>2</th>\n      <td>Odelstinget skal foreta valg av presidenter og...</td>\n      <td>1998</td>\n      <td>1998-01-01</td>\n    </tr>\n    <tr>\n      <th>3</th>\n      <td>Jeg foreslår Gunnar Skaug</td>\n      <td>1998</td>\n      <td>1998-01-01</td>\n    </tr>\n    <tr>\n      <th>4</th>\n      <td>Gunnar Skaug er foreslått valgt til Odelstinge...</td>\n      <td>1998</td>\n      <td>1998-01-01</td>\n    </tr>\n    <tr>\n      <th>...</th>\n      <td>...</td>\n      <td>...</td>\n      <td>...</td>\n    </tr>\n    <tr>\n      <th>386792</th>\n      <td>Debatten i sak nr 2 er omme</td>\n      <td>2022</td>\n      <td>2022-01-01</td>\n    </tr>\n    <tr>\n      <th>386793</th>\n      <td>Da går vi til votering over sakene på dagens kart</td>\n      <td>2022</td>\n      <td>2022-01-01</td>\n    </tr>\n    <tr>\n      <th>386794</th>\n      <td>Presidenten foreslår at redegjørelsen vedlegge...</td>\n      <td>2022</td>\n      <td>2022-01-01</td>\n    </tr>\n    <tr>\n      <th>386795</th>\n      <td>Sak nr 2 var interpellasjon</td>\n      <td>2022</td>\n      <td>2022-01-01</td>\n    </tr>\n    <tr>\n      <th>386796</th>\n      <td>Dermed er dagens kart ferdigbehandlet Forlange...</td>\n      <td>2022</td>\n      <td>2022-01-01</td>\n    </tr>\n  </tbody>\n</table>\n<p>386795 rows × 3 columns</p>\n</div>"
     },
     "execution_count": 66,
     "metadata": {},
     "output_type": "execute_result"
    }
   ],
   "source": [
    "df"
   ],
   "metadata": {
    "collapsed": false,
    "pycharm": {
     "name": "#%%\n"
    }
   }
  },
  {
   "cell_type": "code",
   "execution_count": 67,
   "outputs": [
    {
     "data": {
      "text/plain": "70830"
     },
     "execution_count": 67,
     "metadata": {},
     "output_type": "execute_result"
    }
   ],
   "source": [
    "df.text.map(len).max()"
   ],
   "metadata": {
    "collapsed": false,
    "pycharm": {
     "name": "#%%\n"
    }
   }
  },
  {
   "cell_type": "code",
   "execution_count": 68,
   "outputs": [
    {
     "data": {
      "text/plain": "2"
     },
     "execution_count": 68,
     "metadata": {},
     "output_type": "execute_result"
    }
   ],
   "source": [
    "df.text.map(len).min()"
   ],
   "metadata": {
    "collapsed": false,
    "pycharm": {
     "name": "#%%\n"
    }
   }
  },
  {
   "cell_type": "code",
   "execution_count": 69,
   "outputs": [
    {
     "data": {
      "text/plain": "                                                     text  label       date\n347520  Under debatten er det satt frem i alt 223 fors...   2020 2020-01-01",
      "text/html": "<div>\n<style scoped>\n    .dataframe tbody tr th:only-of-type {\n        vertical-align: middle;\n    }\n\n    .dataframe tbody tr th {\n        vertical-align: top;\n    }\n\n    .dataframe thead th {\n        text-align: right;\n    }\n</style>\n<table border=\"1\" class=\"dataframe\">\n  <thead>\n    <tr style=\"text-align: right;\">\n      <th></th>\n      <th>text</th>\n      <th>label</th>\n      <th>date</th>\n    </tr>\n  </thead>\n  <tbody>\n    <tr>\n      <th>347520</th>\n      <td>Under debatten er det satt frem i alt 223 fors...</td>\n      <td>2020</td>\n      <td>2020-01-01</td>\n    </tr>\n  </tbody>\n</table>\n</div>"
     },
     "execution_count": 69,
     "metadata": {},
     "output_type": "execute_result"
    }
   ],
   "source": [
    "import numpy as np\n",
    "lengths = df[\"text\"].str.len()\n",
    "argmax = np.where(lengths == lengths.max())[0]\n",
    "df.iloc[argmax]"
   ],
   "metadata": {
    "collapsed": false,
    "pycharm": {
     "name": "#%%\n"
    }
   }
  },
  {
   "cell_type": "code",
   "execution_count": 70,
   "outputs": [
    {
     "data": {
      "text/plain": "       text  label       date\n56       Ja   1998 1998-01-01\n1923     Ja   1998 1998-01-01\n2716     Ja   1998 1998-01-01\n2966     Ja   1998 1998-01-01\n4327     Ja   1999 1999-01-01\n...     ...    ...        ...\n381754   Ja   2022 2022-01-01\n386044   Ja   2022 2022-01-01\n386045   Ok   2022 2022-01-01\n386296   Ja   2022 2022-01-01\n386354   Ja   2022 2022-01-01\n\n[199 rows x 3 columns]",
      "text/html": "<div>\n<style scoped>\n    .dataframe tbody tr th:only-of-type {\n        vertical-align: middle;\n    }\n\n    .dataframe tbody tr th {\n        vertical-align: top;\n    }\n\n    .dataframe thead th {\n        text-align: right;\n    }\n</style>\n<table border=\"1\" class=\"dataframe\">\n  <thead>\n    <tr style=\"text-align: right;\">\n      <th></th>\n      <th>text</th>\n      <th>label</th>\n      <th>date</th>\n    </tr>\n  </thead>\n  <tbody>\n    <tr>\n      <th>56</th>\n      <td>Ja</td>\n      <td>1998</td>\n      <td>1998-01-01</td>\n    </tr>\n    <tr>\n      <th>1923</th>\n      <td>Ja</td>\n      <td>1998</td>\n      <td>1998-01-01</td>\n    </tr>\n    <tr>\n      <th>2716</th>\n      <td>Ja</td>\n      <td>1998</td>\n      <td>1998-01-01</td>\n    </tr>\n    <tr>\n      <th>2966</th>\n      <td>Ja</td>\n      <td>1998</td>\n      <td>1998-01-01</td>\n    </tr>\n    <tr>\n      <th>4327</th>\n      <td>Ja</td>\n      <td>1999</td>\n      <td>1999-01-01</td>\n    </tr>\n    <tr>\n      <th>...</th>\n      <td>...</td>\n      <td>...</td>\n      <td>...</td>\n    </tr>\n    <tr>\n      <th>381754</th>\n      <td>Ja</td>\n      <td>2022</td>\n      <td>2022-01-01</td>\n    </tr>\n    <tr>\n      <th>386044</th>\n      <td>Ja</td>\n      <td>2022</td>\n      <td>2022-01-01</td>\n    </tr>\n    <tr>\n      <th>386045</th>\n      <td>Ok</td>\n      <td>2022</td>\n      <td>2022-01-01</td>\n    </tr>\n    <tr>\n      <th>386296</th>\n      <td>Ja</td>\n      <td>2022</td>\n      <td>2022-01-01</td>\n    </tr>\n    <tr>\n      <th>386354</th>\n      <td>Ja</td>\n      <td>2022</td>\n      <td>2022-01-01</td>\n    </tr>\n  </tbody>\n</table>\n<p>199 rows × 3 columns</p>\n</div>"
     },
     "execution_count": 70,
     "metadata": {},
     "output_type": "execute_result"
    }
   ],
   "source": [
    "lengths = df[\"text\"].str.len()\n",
    "argmax = np.where(lengths == lengths.min())[0]\n",
    "df.iloc[argmax]"
   ],
   "metadata": {
    "collapsed": false,
    "pycharm": {
     "name": "#%%\n"
    }
   }
  },
  {
   "cell_type": "code",
   "execution_count": 71,
   "outputs": [
    {
     "data": {
      "text/plain": "array(['1998-01-01T00:00:00.000000000', '1999-01-01T00:00:00.000000000',\n       '2000-01-01T00:00:00.000000000', '2001-01-01T00:00:00.000000000',\n       '2002-01-01T00:00:00.000000000', '2003-01-01T00:00:00.000000000',\n       '2004-01-01T00:00:00.000000000', '2005-01-01T00:00:00.000000000',\n       '2006-01-01T00:00:00.000000000', '2007-01-01T00:00:00.000000000',\n       '2008-01-01T00:00:00.000000000', '2009-01-01T00:00:00.000000000',\n       '2010-01-01T00:00:00.000000000', '2011-01-01T00:00:00.000000000',\n       '2012-01-01T00:00:00.000000000', '2013-01-01T00:00:00.000000000',\n       '2014-01-01T00:00:00.000000000', '2015-01-01T00:00:00.000000000',\n       '2016-01-01T00:00:00.000000000', '2017-01-01T00:00:00.000000000',\n       '2018-01-01T00:00:00.000000000', '2019-01-01T00:00:00.000000000',\n       '2020-01-01T00:00:00.000000000', '2021-01-01T00:00:00.000000000',\n       '2022-01-01T00:00:00.000000000'], dtype='datetime64[ns]')"
     },
     "execution_count": 71,
     "metadata": {},
     "output_type": "execute_result"
    }
   ],
   "source": [
    "df['date'].unique()"
   ],
   "metadata": {
    "collapsed": false,
    "pycharm": {
     "name": "#%%\n"
    }
   }
  },
  {
   "cell_type": "code",
   "execution_count": 72,
   "outputs": [
    {
     "data": {
      "text/plain": "<Figure size 800x600 with 1 Axes>",
      "image/png": "[encoded data removed]"
     },
     "metadata": {},
     "output_type": "display_data"
    }
   ],
   "source": [
    "data = df[\"text\"].str.len()\n",
    "\n",
    "fig,ax = plt.subplots(figsize=(8,6))\n",
    "ax.plot(df['date'],data)\n",
    "\n",
    "df['date'] =pd.to_datetime(df['date'])"
   ],
   "metadata": {
    "collapsed": false,
    "pycharm": {
     "name": "#%%\n"
    }
   }
  },
  {
   "cell_type": "code",
   "execution_count": 73,
   "outputs": [
    {
     "data": {
      "text/plain": "0        1998-01-01\n1        1998-01-01\n2        1998-01-01\n3        1998-01-01\n4        1998-01-01\n            ...    \n386792   2022-01-01\n386793   2022-01-01\n386794   2022-01-01\n386795   2022-01-01\n386796   2022-01-01\nName: date, Length: 386795, dtype: datetime64[ns]"
     },
     "execution_count": 73,
     "metadata": {},
     "output_type": "execute_result"
    }
   ],
   "source": [
    "df.date"
   ],
   "metadata": {
    "collapsed": false,
    "pycharm": {
     "name": "#%%\n"
    }
   }
  },
  {
   "cell_type": "code",
   "execution_count": 74,
   "outputs": [
    {
     "name": "stdout",
     "output_type": "stream",
     "text": [
      "Length of vocab: 524092\n"
     ]
    }
   ],
   "source": [
    "vocab = set()\n",
    "df['text'].str.lower().str.split().apply(vocab.update)\n",
    "print(f\"Length of vocab: {len(vocab)}\")"
   ],
   "metadata": {
    "collapsed": false,
    "pycharm": {
     "name": "#%%\n"
    }
   }
  },
  {
   "cell_type": "code",
   "execution_count": 74,
   "outputs": [],
   "source": [],
   "metadata": {
    "collapsed": false,
    "pycharm": {
     "name": "#%%\n"
    }
   }
  },
  {
   "cell_type": "code",
   "execution_count": 75,
   "outputs": [
    {
     "name": "stdout",
     "output_type": "stream",
     "text": [
      "['reguleringsbestemmelsene', 'investeringsmotiver', 'avlusingsmiddel', 'diagnosemessig', 'meningsytringa', 'oljearbeidsplass', 'tregitter', 'bensinstasjonskonsept', 'arbeidstilsynsinspektører', 'korrupsjonsbekjempelse', 'uslitelig', 'reknetykket', 'sanneleg', 'forvaltingsdomstol', 'høires', 'markedsbestemt', 'småkraftproduksjonen', 'refusjonsutbetalingene', 'janeiperspektivet', 'kontrollsiden', 'pst100', 'maksimaltid', 'snøhvitkontrakten', 'forbruksstatistikk', 'distriktsdifferensieringen', 'teknologidebatten', 'utdanningsstøttens', 'påny', 'makeskifteoppgjer', 'egenevalueringen', 'riksveiprosjekter', 'takstnemnd', 'rases', 'klesimport', 'normalskjenketid', 'molde4', 'forsikringsverksemdsloven', 'konkursstatistikken', 'næringsforeiningar', 'kjønnssjukdom', 'hyllesttalen', 'letthets', 'fellesutfordringer', 'suvereniteten', 'bistandsramme', 'togalternativene', 'forsøkte', 'rettsmedisin', 'rettighetshaverorganisasjonen', 'målestokkonkurranser', 'tomtas', 'vattenkraft', '199316', 'strafferettsapparat', 'krprosjekt', 'leonardo', 'fotterapeut', 'sjåhaldning', 'fremelske', 'vanylven', 'dødelighed', 'sekundærbevegelser', 'formodentlig', 'nedarvede', 'noxforhandlingene', 'bygdens', 'landforlandrapporteringsregelverk', 'tilsynshåndtering', 'flora', 'tilogfrapendling', 'stavåbrua', 'vanntiltak', 'bekreftes', 'anorexi', 'akutttiltak', 'utviklings', 'skjærhallen', 'isbrytende', 'fasenovergangen', 'landfald', 'chinaafrica', 'opptakssystemet', 'helsetjenesteaksjonen', 'betalingsgrensene', 'brua', 'ntpvedtakene', 'hjertebehandling', 'habilitetskriterier', '22punktsplan', 'bakvendtlandet', 'strandaksjonen', 'skrytemidlane', 'utenriksstoff', 'nettbokhandlere', 'terskelhevinga', 'kjemikalieskadene', 'samordningsfradragene', 'helikopterregularitet', 'forskriftstekniske', 'landorganisasjon', 'kreftsykepleie', 'viktegaste', 'konsernsjefs', 'øke', 'produsentlandene', 'oppfølgingskompetanse', 'krabat', 'usubsidiert', 'omsorgssabotasje', 'regionaliseringa', 'bredbåndslinje', 'kommapresidenten', 'programfagene', 'energiforpliktingar', 'veiulempe', 'posedialyse', 'verdifulle', 'fattigdomssaken', 'klagesystemer', 'gallupspørsmål', 'samferdsleministeren', 'russlandsamarbeidet', 'okcuoglu', 'sæverud', 'hverdagslighet', 'enprosenten', 'barnevernsreformens', 'oljemarkedet', 'gehør', 'atombaserte', 'råvareavhengig', 'konsumentens', 'markedspremisser', 'hevnreaksjoner', 'uoffisielle', 'biokalk', 'energidiplomati', 'vgsak', 'mjøsutvalets', 'målformuleringane', 'vurderingsberedskap', 'saksfremlegging', 'samferdselstiltaka', 'umtsmarkedet', 'jordsøkernes', 'politipost', 'investeringssektorene', 'musikkskaperkraft', 'miljøtilstand', 'vannkraftinntektene', 'finnane', 'gjennomgåtte', 'bestillerforhold', 'tilleggsproblemene', 'västra', 'kiropraktorforening', 'fjernstrekning', 'politimestere', 'tvangsinnmeldt', 'dansegulvet', '075g', 'materialproduksjon', 'beredskapsinstitusjoner', 'flagge', 'elektrisitetskapasiteten', 'gjevingåsentunnelen', '2krimjournalist', 'grand', 'ulovlegheiter', 'høyrefrieri', 'vassinfiltrasjonsanlegg', 'bsuforskriften', 'middelsstor', 'avgiftsregelverket', 'reiseregulativer', 'sikkerheitsmyndigheiter', 'båtlag', 'privatpraktiserende', 'nødnettet', '48timersprosdyren', 'klassifiserer', 'forskningsfase', 'utdanningskandidater', 'livstidskostnaden', 'pumpe', 'avtaleretten', 'råmevilkåra', 'bruttoinntekter', 'deponibehov', 'åsetesrett', 'bukoperasjoner', 'corsia', 'ervervstap', 'forhandlingskompetanse', 'prinsippprivatisering', '3721jf', 'laksebaroner', 'polordningen', 'videreføres', 'stalingrad', 'idrettsforvaltning', 'besluttande', 'avtalepsykologene', 'livssynsopplæringen', 'gjentakelsens', 'forebyggingsfasen', 'eøslovgjeving', 'rettighetsregulert', 'arktitektur', 'helikopterkjøp', 'oppkapitaliseringa', 'politireserve', 'snorer', 'databehandlingen', 'telemarksplommer', 'stråleverns', 'prisforskrift', 'göransson', 'samlivene', 'energiproduksjon95kapitalinnskudd', 'mediebygg', 'representasjonsrett', 'resource', 'jordmikrobar', 'kreftforskere', 'puggeskule', 'felland', 'avgjerast', 'klasseunntak', 'kvalitetsreforma', 'innkjøpsregime', 'bidrags', 'grunnlovenretten', 'innvandringsreguleringen', 'megle', 'utskillinger', 'byskoger', 'krigsoppgjøret', 'forurensningssituasjoner', 'flytenester', 'døgninstitusjonane', 'drivstofforsyninger', 'shahzad', '39350', 'lønnsjustering', 'partikkelspreiing', 'mariaerklæringen', 'kulturaksen', 'sosialinstitusjoner', 'objektsikringsprosjekt', 'internettleverandørenes', 'ekteparsamboende', 'hovedmål', 'iktbevilgning', 'bedriftsarrangementer', 'aleneforsørgerrolle', 'spillet', 'samarbeidsmøter', 'nrkvirksomhetene', 'forskningsinnsatser', 'primærscreening', 'oljekonto', 'nødhjelpsinnsatsen', 'bistandsutfordring', 'talspersonar', 'tidsarbeidet', 'multilateralistiske', 'enkeltpersonforetakenes', 'likningsverdiane', 'forsikringsaktørers', 'reisekapasitet', 'kredittkortbudsjett', 'skattemeldinga', 'totalstrekning', 'kursopplegget', 'utenlandstrafikk', 'samarbeidsministere', 'eøsproblematikk', 'tariffoppgjørstider', 'kriseapparat', 'eierskappresidenten', 'høyremener', 'oppvekststeder', '21aktiviteter', 'følgetjenestetilbudet', 'gjeldsinformasjonslov', 'lillebroren', 'verkene', 'heimfallsretten', 'hjemsendte', 'transisjon', 'naturbruksskoler', 'hovudgeskjeft', '000919diverse', 'fyllestasjonen', 'avideologisering', 'isbjørnbestanden', 'lederposisjoner', 'abdi', 'lausmassane', '000utlendingsdirektoratet70økonomiske', 'bevilgningstempo', 'plutselege', 'saksbehandlingsreglane', 'retroregjering', 'prisreduksjoner', 'toalettvask', 'fulltidssjåfører', 'kandidaturet', 'toårige', 'kloakkslammet', 'reserveareal', 'forskerutveksling', 'fjernsynsrettar', 'kjempeutfordringer', 'samfunns', 'milliardkuttet', 'sandal', 'vågsli', 'omkøyringa', 'kursaktørar', 'realityfjernsyn', 'rovdyrdebatten', 'pent', 'sletbakk', 'etterlever', 'finansieringsvilkår', 'berekningsmetode', 'bompengefinansering', 'långiving', 'presidentperioder', 'distribuerast', 'sekkepostene', 'konjunkturpåvirkelig', 'sao', 'verdenskrigene', 'prestegjeldmønsteret', 'statsgrunn', 'harpresidenten', 'galeien', 'lærlingetilskotet', 'arbeidskjøparane', 'basisramme', 'maitale', 'frynsete', 'sykkelvegsatsinga', 'havnivåauke', 'flyanbud', 'morbarnhelse', 'teiknspråk', 'fartøykvote', 'hovudutøvar', 'flimmerproblematikken', 'gebyrpolitikken', 'likere', 'rekeflåten', 'eustandarder', 'eøssituasjonen', 'velferdsmodellens', 'dyrestamme', 'skjøner', '180402', 'føreforholda', 'aspirantopptaket', 'kommunesamanslutningar', 'naturvernorganisasjoner', 'kapitalsvake', 'nordfjordakademiet', 'trældals', 'valentinerne', 'sektoravgifter', 'forpostfektningen', 'aktivitetstilboda', '10minuttersprinsippet', 'overspilles', 'innebygd', 'husdyrbrukere', 'transportplansammenheng', 'minefartøyer', 'miljøslag', 'aarbergsbotten', 'flykartlegging', 'langtidsytelsene', 'løvlidfor', 'treledda', 'skattefratrekk', 'vintervold', 'verkstedbygninger', 'flypassasjerbeskatningen', 'forfjamselsen', 'detaljspørsmål', 'kvinnegruppen', 'forbeholdte', 'bosettingssituasjon', 'reklamemateriell', 'furunkulose', 'medieinstitusjon', 'erstatningslokaler', 'entreprisen', 'virksomhetsoverdratt', 'generasjonsforholdene', 'erstatta', 'etatsskole', 'sjiapartier', 'lykkeligste', 'lærerutdanningsmaster', 'resultatansvarlig', 'miljølovverket', 'høyteknologinasjon', 'synkront', 'krigtankegang', '4070', 'sommerbeite', 'konsesjonsprising', 'kunnskapsbaser', 'strandsoner', 'tilspissa', 'forurensningsnivåer', 'bonuslønninger', 'trekkfullmaktene', 'varseloppgave', 'avisingsplattformer', 'husmannsavtalen', 'vingestekking', 'koptere', 'mekanisert', 'meles', '2002', 'sikkerheitspolitisk', 'melkekvoteordningen', 'alpinister', 'markedsavgrensninger', 'innspelingsstad', 'moralistiske', 'ikkeoptimale', 'vikepliktsreglane', 'klimasjokket', 'generaldirektøren', 'udidirektørens', 'kjernekraftsituasjonen', 'prinsippelle', 'primærbustaden', 'kreftoverleving', 'spesialundervisningas', 'fordekker', 'sakspågang', 'ernæringspolitikk', 'naturressursen', 'underfinansieringa', 'kredittforeningen', 'forsøplingsutfordringene', 'småkonsesjonar', 'føljast', 'avkastningsgarantier', 'volumorientert', 'bojanowskifor', 'itkampanjen', 'bankmiljøer', 'visesekretær', 'tilfluktsrommet', 'kårstø', 'anbefale', 'kontraktparlamentarisme', 'dyrevelferdsmelding', 'laboratoriebransjen', 'aaserød', 'venstrearmen', 'utenlandssoning', 'sentralledelsens', 'honningen', 'struktureringens', 'approval', 'momsbelastninga', 'inkl', 'utbyggingsgraden', 'gardin', 'dyrevernshensyn', 'grensenaboer', 'rutebåtselskap', 'bankkriser', 'schaefersaka', 'industribase', 'ansporende', 'spesialopprettede', 'tilskuddssystemene', 'spolar', 'adgangskort', 'regionplanlegging', 'ep', 'inntektsutjevnende', 'innerlomma', 'kotelettmiddag', 'usagelig', 'regnskapsbedrifter', 'mellomstor', 'forbrytelsessaker', 'høyreside', 'festivalutvalget', 'sluttbehandles', 'leggevakter', 'romantisere', 'kokker', 'identitetsbytte', 'trafikksikkerheitstiltak', 'jernbaneformål', 'sørafrikanske', 'idkortløsning', 'nyttekostvurderingene', 'samanslåingsprosessar', 'villakssmolt', 'vestlandets', 'mannsmarkert', 'yrkestransportforskriftens', 'vernehjem', 'vedlikehaldsinnsatsen', 'ankesiden', '1617åring', 'tilrådingene', 'ivrigast', 'luftfartsnorge', 'fireårsperiodar', 'studentvurderinger', 'politistasjonsdistriktene', 'reklameindustri', 'overnattingspriser', 'ansvarsfordelinger', 'underleverandørerleverandører', 'gjeldsuroen', 'menighetssammenheng', 'samfunnsskjønn', 'førskulealder', 'groruddalssatsing', 'jevnførbare', 'talloppstillinger', 'dyrevelferdsseier', 'slamområder', 'bryggekantene', 'iktutgiftene', 'ulykkelige', 'hurtigbåtkoden', 'dyktigare', 'rusbrussaken', 'enemarked', 'feltsenger', 'veteranmonumentet', 'arvefordeling', 'tilsynsmyndigheit', 'aleneboerne', 'tilleggsutgreiingar', 'scenarioberegninger', 'portotakster', 'butikkeierne', 'kollektivbrukere', 'helhetsinntrykk', 'belær', 'lekeplassutstyr', '100millionerklassen', 'støtteprogrammer', 'nasjonsstyrte', 'sanking', 'offisiell', 'overskridelsenproblemene', 'taushet4', 'industrianlegget', 'nisjekapasiteten', 'godeskatt', 'westgaardhalle', 'bibelsk', 'nøkkelarter', 'nederlands', 'verdinormene', 'hytteanlegg', 'konsulentfirmaet', 'hovedbudskapene', 'nearly', 'oljenedtur', 'praksisskoler', 'byplanen', 'årsoppgavepliktige', 'brannsyn', 'nedpriortiere', 'driftsstedene', 'læreplanmateriellet', 'utslags', 'ikkjehandelsvridande', 'menendez', 'krabbeinvasjonen', 'nilsfredrik', 'pingpongdebatt', '67års', 'påskebudskapet', 'feilmålinger', 'domstolskontroll', 'eksporttoll', 'fachhochschule', 'pyttsann', 'insulinpumper', 'heimehjelpheimesjukepleiarar', 'barnehagetypen', 'skattesatsane', 'hundretusentalls', 'birkenes', 'foregangskommuneprogram', 'forvalterrolle', 'tannpussen', 'helsestell', 'forsvarstaler', 'institusjonsgodkjenning', 'skadeutbetalingen', 'skattelovnader', 'pasientutvikling', 'strandarealer', 'jordbruksgårdene', 'narkopushere', 'gardiner', 'feltartilleriet', 'imperialismen', 'gjødselprisreduksjonen', 'mødrenes', 'kostnadsforhold', 'fjorddeponering', 'oppkjøper', 'fagpersonane', 'solidaritetsarbeidere', 'interessegruppe', 'utdanningsoppgaver', 'atferdsproblemet', 'ppt', 'rettslivet', 'sneglene', 'tobakksprodukterforbud', 'bransjane', 'driftsmiddelapparatet', 'korrespondert', 'studenthelsetjenester', 'symbolpåplussing', 'tjeldbergodden', 'jellestadhaugen', 'varskoropet', 'risdyrkingsarealet', 'produksjonsavgifta', '20092018', 'tatermuseum', 'røysdaglig', 'tilbakebetalingen', 'honnørorda', 'studentopptaket', 'utanlandskonsesjonsordninga', 'beklagende', 'forsterkingen', 'svekkja', 'premiebeløp', 'uredelighet', 'styrkingen', 'markedsblå', 'reduksjonene', 'tilegning', 'sekstimarsdagar', 'pasienttransportbiler', 'regelverksbehandlingen', 'oslodomstolene', 'kameratgjengen', 'handverkartenesteloven', 'plassbesparende', 'velferdsparametere', 'djevelske', 'veiledningspedagogikk', 'telle', 'reinsvolljaren', 'referansefeil', 'vaffelsteiking', 'superlett', 'formuesflytting', 'fargespor', 'kalkingsmidlene', 'rusomsorgstilbod', 'slakk', 'avgiftsreduksjoner', 'klimakvoter1salgsinntekter', 'ærbarheitskontrollar', 'afrodite', 'muskelbunter', 'utnevningene', 'fjordturisme', 'bidragsyteres', 'sirakvinautbygginga', 'kampsport', 'halvfaglighet', 'minimumsinnholdet', 'naboungdom', 'arbeiderpartifraksjonens', 'handelsvirkninger', 'renoveringane', 'materialisering', 'framgangstid', 'pumpestasjonene', 'ærekjensle', 'kubikkmeter', 'kontrollenhetene', 'familieeining', 'ytringsfrihetens', 'ontario', 'tjenesteuttalelse', 'dommerstillingen', 'forvalterens', 'fisketacoen', 't5pcsystemet', 'kommunekonferanse', 'middagstallerken', 'farligheten', 'toventunnelen', 'inneklimafaktorer', 'veivalgmeldingen', 'primæroperatører', 'ultralydundersøkelse', 'verdiskapingsside', 'verditeori', 'fiskevernsonen', 'endepunktene', 'varmeprodusent', 'gjennomgangspriser', 'selvmordsraten', 'fornebubaneutbyggingen', 'nettøkonomi', 'hovedkritikker', 'redningsvestar', 'masseproduksjon', 'bedømmelseskomiteene', 'skopusserutstyret', 'sementproduksjonen', 'kategori1', 'nødhjelpsområdet', 'oppmuntrast', 'servicefunksjoner', 'suverenitetsavgiving', 'dieselaggregatet', 'finansiertpresidenten', 'fattigdomsperspektivet', 'turistsafari', 'fanabonden', 'kraftleverandørene', 'likestillingireversbegrepet', 'traseens', 'etterforskende', 'utsagt', 'sjelesorgssamtaler', 'beredskapsmodellar', 'unntakshjemlene', 'smbkundersmå', 'taxfreeregler', 'gleppa', 'kapasitetsutnyttelsen', 'ballettalenter', 'spesialisthelsetjenest', 'sexforbrytelser', 'reaksjonsmoglegheitene', 'johansons', 'gjenreisningsarbeid', 'tettet', 'rettsarbeidet', 'changes', 'tilgrise', 'hivinfeksjonen', 'likestillingsstatsråden', 'talerlistene', 'matsituasjonen', 'studiestøttesystemet', 'nullutsleppssoner', 'konsesjonsavdelingen', 'selskapsbeskatning', 'rammestyrt', 'rensere', 'europarådsammenheng', 'stabiliseringsreserve', 'kontorene', 'urettferd', 'jordskjelv', 'økonomspråket', 'helsetilbudets', '20402045', 'konkurransearenaene', 'fellesnevnere', 'anstendigheten', 'rotenonbehandling', 'kommunalbudsjett', 'kabeltilknytning', 'lydeting', 'prioriteringsjobb', 'mobilitetssystem', 'maskerte', 'ballettkulturen', 'forhandlingspakken', 'signerer', 'müllerenberg', 'utilbørlege', 'diktatoren', 'værthenvender', 'kulturtvkanal', 'konfliktløsningsråd', 'rusmiddelavhengige71kjøp', 'kronerklassen', 'vestelege', 'mennerettighetskonvensjonens', 'oppfølging', 'sikkerheitsinteresser', 'forfølgelsesopptreden', 'rikspolitikk', 'lagringsmekanismene', 'overskottet', 'inntektens', 'incestsentra', 'assimilasjonspolitikken', 'veronica', 'bestemmelsen7', 'fjellskolen', 'vinterklima', 'etterretningsaktivitet', 'nyttårsdag', 'merkebørs', 'gavis', 'filharmonikerne', 'alkoholikerne', 'storbymiljø', 'bremsast', 'kystveien', 'utdanningsreformen', 'idrettsorganisasjonenes', 'pensjonsinnbetaling', 'verftsindustriens', 'støytandekriteria', 'serie', 'marsjert', 'merinvesteringene', 'grassida', 'romprogramma', '90årsalderen', 'veiavangen', '2105', 'massepermisjoner', 'basiselementene', 'formløse', 'personellomstillingen', 'debattmuligheter', 'tårnarien', 'underplanlegging', 'renteprognosen', 'realrentenivå', 'finansdebatter', 'prosjektfinansieringsmodeller', 'sykkelfeltet', 'hjerteinfarkt', 'siviltjenesten', 'sentrumsinitiativ', 'avgiftspotensial', 'utmarksrettar', 'tjenestespekter', 'kraftsektor', 'eidproblematikken', 'vekstanslaga', 'generalkommissær', 'aktivitetsmiljøer', 'statsoverhoder', 'kulturskuleplass', 'urmakarfag', 'økonomiene', 'sykehjemstrengende', 'overgrepssakene', 'tangprøver', 'krisehåndteringsorganer', 'oppringingar', 'utbyggingskontrakten', 'signifikante', 'avgrening', 'bloggaren', 'statsbyggingen', 'handelsdepartementetstatssekretær', 'ankeprøving', 'realitetenes', 'slaktevekten', 'knutepunktordningene', 'friviljug', 'avm', 'feriepengesaken', 'apisai', 'verkstedperiode', 'lærings', 'pensjonsselskapenes', 'randsoneselskaper', 'flygelederkapasiteten', 'alderspensjonisten', 'opplæringens', 'mødrehjemsplasseringen', 'energitilnærming', 'kristendomsdominert', 'knoppskyting', 'natosolidariteten', 'fiskerimatfat', 'bilpendlerne', 'tilbaketrukketheten', 'oktober18', 'beslutta', '406', 'heltemodige', 'sumvirkninger', 'innregistrert', 'polarforskning', 'legeme', 'spaningsaktivitet', 'ungdomsbevegelse', 'avfallsøkonomien', 'mogens', 'arbeidsreisande', 'bangladeshs', 'førarkortet', 'rettssak', 'desentraliseres', 'bortvises', 'innskuddspensjon', 'levekårsindeksene', 'forordningeuvidereutvikling', 'oppjusterer', 'ashan', 'synda', 'skulebidragsindikatorar', 'markedsadgangen', 'personelloverføringen', 'montessoriprinsippet', 'observatørkorpset', 'valutaunionens', 'veiarbeider', '19974', 'lærerutdannere', 'verneplanen', 'blindeskrift', '400480', 'enkeltfamilier', 'medkollegaer', 'bibemerkning', 'atomalder', 'åremålsfunksjonene', 'tvnettet', 'folkehelseeffekten', 'luftstridsplattformer', 'musikkbingene', 'kommisjonspresident', 'senna', 'sjukehusinvesteringane', 'koronarelaterte', 'stoltenbergrapportens', 'utdanningstjenestene', 'røyselands', 'brualternativet', 'fondsavsetjingar', 'samskipnadens', 'lånekilder', 'tilleggskunnskap', 'arbeidsbåtar', 'noraqua', 'returpraksis', 'innsamlingskontrollens', 'landbruksmaskiner', 'føleri', 'spotify', 'kunnskapssatsinga', 'banktenestene', 'dieselpurker', '4137', 'inkluderingshemmende', 'terminalbyggene', 'fortettet', 'eksportprodukt', 'hovedbaser', 'sjøørretbestander', 'reformminister', 'krypende', 'stedstilhørighet', 'tinestafetten', 'terminerast', '2231', 'habiliteringsfeltet', 'nettogapet', 'steina', 'dødsulykka', 'inspeksjoner', 'raaheim', 'generasjonskamp', 'oversiktelig', 'næringslivskompetanse', 'landevaluering', 'melderutinane', 'edibenevnelsene', 'sakstemaet', 'riksrevisjonsproblematikken', 'allmenngjøring', 'ekspertarbeidene', 'utdanningsutvalgs', 'konsesjonsprosessar', 'filmlerret', 'verneverdiane', 'søkeportaler']\n"
     ]
    }
   ],
   "source": [
    "print(list(vocab)[0:1000])"
   ],
   "metadata": {
    "collapsed": false,
    "pycharm": {
     "name": "#%%\n"
    }
   }
  },
  {
   "cell_type": "code",
   "execution_count": 76,
   "outputs": [
    {
     "name": "stdout",
     "output_type": "stream",
     "text": [
      "Max tokens: 70830\n"
     ]
    }
   ],
   "source": [
    "print(f\"Max tokens: {df.text.map(len).max()}\")"
   ],
   "metadata": {
    "collapsed": false,
    "pycharm": {
     "name": "#%%\n"
    }
   }
  },
  {
   "cell_type": "code",
   "execution_count": 77,
   "outputs": [
    {
     "name": "stdout",
     "output_type": "stream",
     "text": [
      "Min tokens: 2\n"
     ]
    }
   ],
   "source": [
    "print(f\"Min tokens: {df.text.map(len).min()}\")"
   ],
   "metadata": {
    "collapsed": false,
    "pycharm": {
     "name": "#%%\n"
    }
   }
  },
  {
   "cell_type": "code",
   "execution_count": 78,
   "outputs": [],
   "source": [
    "r = list(df['text'])"
   ],
   "metadata": {
    "collapsed": false,
    "pycharm": {
     "name": "#%%\n"
    }
   }
  },
  {
   "cell_type": "code",
   "execution_count": 79,
   "outputs": [
    {
     "name": "stdout",
     "output_type": "stream",
     "text": [
      "Tokens in dataset: 509554172\n"
     ]
    }
   ],
   "source": [
    "res = 0\n",
    "for item in r:\n",
    "    res+= len(item)\n",
    "print(f\"Tokens in dataset: {res}\")"
   ],
   "metadata": {
    "collapsed": false,
    "pycharm": {
     "name": "#%%\n"
    }
   }
  },
  {
   "cell_type": "code",
   "execution_count": 79,
   "outputs": [],
   "source": [],
   "metadata": {
    "collapsed": false,
    "pycharm": {
     "name": "#%%\n"
    }
   }
  },
  {
   "cell_type": "code",
   "execution_count": 79,
   "outputs": [],
   "source": [],
   "metadata": {
    "collapsed": false,
    "pycharm": {
     "name": "#%%\n"
    }
   }
  },
  {
   "cell_type": "code",
   "execution_count": 80,
   "outputs": [
    {
     "name": "stderr",
     "output_type": "stream",
     "text": [
      "\n",
      "KeyboardInterrupt\n",
      "\n"
     ]
    }
   ],
   "source": [
    "#from nltk.classify.textcat import TextCat\n",
    "#tc = TextCat()\n",
    "#df['text'][0:100].apply(tc.guess_language)"
   ],
   "metadata": {
    "collapsed": false,
    "pycharm": {
     "name": "#%%\n"
    }
   }
  },
  {
   "cell_type": "code",
   "execution_count": null,
   "outputs": [],
   "source": [
    "from utils.dataset_stats import get_data_stats\n",
    "from utils.filemanagement import write_dataset_stats\n",
    "\n",
    "\n",
    "\n",
    "vocab_long = get_data_stats(df['text'])\n",
    "\n",
    "#for item in vocab_long:\n",
    "#    if item not in vocab:\n",
    "#        print(item,\"we failed here\")\n",
    "\n",
    "stats = get_data_stats(df['text'])\n",
    "print(stats)\n",
    "\n",
    "write_dataset_stats(folder_path_data,file_name_data,stats)"
   ],
   "metadata": {
    "collapsed": false,
    "pycharm": {
     "name": "#%%\n"
    }
   }
  }
 ],
 "metadata": {
  "kernelspec": {
   "display_name": "Python 3",
   "language": "python",
   "name": "python3"
  },
  "language_info": {
   "codemirror_mode": {
    "name": "ipython",
    "version": 2
   },
   "file_extension": ".py",
   "mimetype": "text/x-python",
   "name": "python",
   "nbconvert_exporter": "python",
   "pygments_lexer": "ipython2",
   "version": "2.7.6"
  }
 },
 "nbformat": 4,
 "nbformat_minor": 0
}