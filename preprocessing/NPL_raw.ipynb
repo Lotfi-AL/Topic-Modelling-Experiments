{
 "cells": [
  {
   "cell_type": "code",
   "execution_count": 1,
   "metadata": {
    "collapsed": true
   },
   "outputs": [],
   "source": [
    "from datasets import load_dataset\n",
    "import pandas as pd\n",
    "import os\n",
    "from utils.filemanagement import load_from_file,save_preprocessed_df_to_file\n",
    "import matplotlib.pyplot as plt\n",
    "from utils.filemanagement import ROOT_PATH"
   ]
  },
  {
   "cell_type": "code",
   "execution_count": 1,
   "metadata": {
    "collapsed": false,
    "pycharm": {
     "name": "#%%\n"
    }
   },
   "outputs": [],
   "source": []
  },
  {
   "cell_type": "code",
   "execution_count": 1,
   "metadata": {
    "collapsed": false,
    "pycharm": {
     "name": "#%%\n"
    }
   },
   "outputs": [],
   "source": []
  },
  {
   "cell_type": "code",
   "execution_count": 2,
   "metadata": {
    "collapsed": false,
    "pycharm": {
     "name": "#%%\n"
    }
   },
   "outputs": [],
   "source": [
    "folder_path_data = r\"preprocessed_data\"\n",
    "file_name_previous_data =\"NPL_unprocessed.csv\"\n",
    "file_name_data =\"np_large_raw.csv\"\n",
    "\n",
    "import csv\n",
    "file_path = os.path.join(ROOT_PATH,folder_path_data,\"data\",file_name_previous_data)\n",
    "\n",
    "df = pd.read_csv(file_path,index_col=0,encoding=\"latin-1\")\n",
    "#df_one = load_from_file(folder_path_data, file_name_data,index_col=0)"
   ]
  },
  {
   "cell_type": "code",
   "execution_count": 3,
   "metadata": {
    "collapsed": false,
    "pycharm": {
     "name": "#%%\n"
    }
   },
   "outputs": [],
   "source": [
    "df['date'] = pd.to_datetime(df['label'],format=\"%Y\")#pd.to_datetime(df['label'])"
   ]
  },
  {
   "cell_type": "code",
   "execution_count": 4,
   "metadata": {
    "collapsed": false,
    "pycharm": {
     "name": "#%%\n"
    }
   },
   "outputs": [
    {
     "data": {
      "text/html": [
       "<div>\n",
       "<style scoped>\n",
       "    .dataframe tbody tr th:only-of-type {\n",
       "        vertical-align: middle;\n",
       "    }\n",
       "\n",
       "    .dataframe tbody tr th {\n",
       "        vertical-align: top;\n",
       "    }\n",
       "\n",
       "    .dataframe thead th {\n",
       "        text-align: right;\n",
       "    }\n",
       "</style>\n",
       "<table border=\"1\" class=\"dataframe\">\n",
       "  <thead>\n",
       "    <tr style=\"text-align: right;\">\n",
       "      <th></th>\n",
       "      <th>text</th>\n",
       "      <th>label</th>\n",
       "      <th>date</th>\n",
       "    </tr>\n",
       "  </thead>\n",
       "  <tbody>\n",
       "    <tr>\n",
       "      <th>0</th>\n",
       "      <td>Hvis ingen har noe å innvende, skal jeg etterk...</td>\n",
       "      <td>1998</td>\n",
       "      <td>1998-01-01</td>\n",
       "    </tr>\n",
       "    <tr>\n",
       "      <th>1</th>\n",
       "      <td>Fungerende president vil anmode sekretæren for...</td>\n",
       "      <td>1998</td>\n",
       "      <td>1998-01-01</td>\n",
       "    </tr>\n",
       "    <tr>\n",
       "      <th>2</th>\n",
       "      <td>Odelstinget skal foreta valg av presidenter og...</td>\n",
       "      <td>1998</td>\n",
       "      <td>1998-01-01</td>\n",
       "    </tr>\n",
       "    <tr>\n",
       "      <th>3</th>\n",
       "      <td>Jeg foreslår Gunnar Skaug.</td>\n",
       "      <td>1998</td>\n",
       "      <td>1998-01-01</td>\n",
       "    </tr>\n",
       "    <tr>\n",
       "      <th>4</th>\n",
       "      <td>Gunnar Skaug er foreslått valgt til Odelstinge...</td>\n",
       "      <td>1998</td>\n",
       "      <td>1998-01-01</td>\n",
       "    </tr>\n",
       "  </tbody>\n",
       "</table>\n",
       "</div>"
      ],
      "text/plain": [
       "                                                text  label       date\n",
       "0  Hvis ingen har noe å innvende, skal jeg etterk...   1998 1998-01-01\n",
       "1  Fungerende president vil anmode sekretæren for...   1998 1998-01-01\n",
       "2  Odelstinget skal foreta valg av presidenter og...   1998 1998-01-01\n",
       "3                         Jeg foreslår Gunnar Skaug.   1998 1998-01-01\n",
       "4  Gunnar Skaug er foreslått valgt til Odelstinge...   1998 1998-01-01"
      ]
     },
     "execution_count": 4,
     "metadata": {},
     "output_type": "execute_result"
    }
   ],
   "source": [
    "df.head()"
   ]
  },
  {
   "cell_type": "code",
   "execution_count": 5,
   "metadata": {
    "collapsed": false,
    "pycharm": {
     "name": "#%%\n"
    }
   },
   "outputs": [],
   "source": [
    "df = df[df['text'].str.strip().astype(bool)]"
   ]
  },
  {
   "cell_type": "code",
   "execution_count": 6,
   "metadata": {
    "collapsed": false,
    "pycharm": {
     "name": "#%%\n"
    }
   },
   "outputs": [],
   "source": [
    "file_path = os.path.join(ROOT_PATH,folder_path_data,\"data\",file_name_data)\n",
    "df.to_csv(file_path,encoding=\"utf-8\")"
   ]
  },
  {
   "cell_type": "code",
   "execution_count": 7,
   "metadata": {
    "collapsed": false,
    "pycharm": {
     "name": "#%%\n"
    }
   },
   "outputs": [],
   "source": [
    "df = pd.read_csv(file_path,index_col=0,encoding=\"utf-8\")"
   ]
  },
  {
   "cell_type": "code",
   "execution_count": 8,
   "metadata": {
    "collapsed": false,
    "pycharm": {
     "name": "#%%\n"
    }
   },
   "outputs": [
    {
     "data": {
      "text/html": [
       "<div>\n",
       "<style scoped>\n",
       "    .dataframe tbody tr th:only-of-type {\n",
       "        vertical-align: middle;\n",
       "    }\n",
       "\n",
       "    .dataframe tbody tr th {\n",
       "        vertical-align: top;\n",
       "    }\n",
       "\n",
       "    .dataframe thead th {\n",
       "        text-align: right;\n",
       "    }\n",
       "</style>\n",
       "<table border=\"1\" class=\"dataframe\">\n",
       "  <thead>\n",
       "    <tr style=\"text-align: right;\">\n",
       "      <th></th>\n",
       "      <th>label</th>\n",
       "    </tr>\n",
       "  </thead>\n",
       "  <tbody>\n",
       "    <tr>\n",
       "      <th>count</th>\n",
       "      <td>386797.000000</td>\n",
       "    </tr>\n",
       "    <tr>\n",
       "      <th>mean</th>\n",
       "      <td>2010.553714</td>\n",
       "    </tr>\n",
       "    <tr>\n",
       "      <th>std</th>\n",
       "      <td>7.108589</td>\n",
       "    </tr>\n",
       "    <tr>\n",
       "      <th>min</th>\n",
       "      <td>1998.000000</td>\n",
       "    </tr>\n",
       "    <tr>\n",
       "      <th>25%</th>\n",
       "      <td>2004.000000</td>\n",
       "    </tr>\n",
       "    <tr>\n",
       "      <th>50%</th>\n",
       "      <td>2011.000000</td>\n",
       "    </tr>\n",
       "    <tr>\n",
       "      <th>75%</th>\n",
       "      <td>2017.000000</td>\n",
       "    </tr>\n",
       "    <tr>\n",
       "      <th>max</th>\n",
       "      <td>2022.000000</td>\n",
       "    </tr>\n",
       "  </tbody>\n",
       "</table>\n",
       "</div>"
      ],
      "text/plain": [
       "               label\n",
       "count  386797.000000\n",
       "mean     2010.553714\n",
       "std         7.108589\n",
       "min      1998.000000\n",
       "25%      2004.000000\n",
       "50%      2011.000000\n",
       "75%      2017.000000\n",
       "max      2022.000000"
      ]
     },
     "execution_count": 8,
     "metadata": {},
     "output_type": "execute_result"
    }
   ],
   "source": [
    "df.describe()"
   ]
  },
  {
   "cell_type": "code",
   "execution_count": 9,
   "metadata": {
    "collapsed": false,
    "pycharm": {
     "name": "#%%\n"
    }
   },
   "outputs": [
    {
     "data": {
      "text/html": [
       "<div>\n",
       "<style scoped>\n",
       "    .dataframe tbody tr th:only-of-type {\n",
       "        vertical-align: middle;\n",
       "    }\n",
       "\n",
       "    .dataframe tbody tr th {\n",
       "        vertical-align: top;\n",
       "    }\n",
       "\n",
       "    .dataframe thead th {\n",
       "        text-align: right;\n",
       "    }\n",
       "</style>\n",
       "<table border=\"1\" class=\"dataframe\">\n",
       "  <thead>\n",
       "    <tr style=\"text-align: right;\">\n",
       "      <th></th>\n",
       "      <th>text</th>\n",
       "      <th>label</th>\n",
       "      <th>date</th>\n",
       "    </tr>\n",
       "  </thead>\n",
       "  <tbody>\n",
       "    <tr>\n",
       "      <th>0</th>\n",
       "      <td>Hvis ingen har noe å innvende, skal jeg etterk...</td>\n",
       "      <td>1998</td>\n",
       "      <td>1998-01-01</td>\n",
       "    </tr>\n",
       "    <tr>\n",
       "      <th>1</th>\n",
       "      <td>Fungerende president vil anmode sekretæren for...</td>\n",
       "      <td>1998</td>\n",
       "      <td>1998-01-01</td>\n",
       "    </tr>\n",
       "    <tr>\n",
       "      <th>2</th>\n",
       "      <td>Odelstinget skal foreta valg av presidenter og...</td>\n",
       "      <td>1998</td>\n",
       "      <td>1998-01-01</td>\n",
       "    </tr>\n",
       "    <tr>\n",
       "      <th>3</th>\n",
       "      <td>Jeg foreslår Gunnar Skaug.</td>\n",
       "      <td>1998</td>\n",
       "      <td>1998-01-01</td>\n",
       "    </tr>\n",
       "    <tr>\n",
       "      <th>4</th>\n",
       "      <td>Gunnar Skaug er foreslått valgt til Odelstinge...</td>\n",
       "      <td>1998</td>\n",
       "      <td>1998-01-01</td>\n",
       "    </tr>\n",
       "  </tbody>\n",
       "</table>\n",
       "</div>"
      ],
      "text/plain": [
       "                                                text  label        date\n",
       "0  Hvis ingen har noe å innvende, skal jeg etterk...   1998  1998-01-01\n",
       "1  Fungerende president vil anmode sekretæren for...   1998  1998-01-01\n",
       "2  Odelstinget skal foreta valg av presidenter og...   1998  1998-01-01\n",
       "3                         Jeg foreslår Gunnar Skaug.   1998  1998-01-01\n",
       "4  Gunnar Skaug er foreslått valgt til Odelstinge...   1998  1998-01-01"
      ]
     },
     "execution_count": 9,
     "metadata": {},
     "output_type": "execute_result"
    }
   ],
   "source": [
    "df.head()"
   ]
  },
  {
   "cell_type": "code",
   "execution_count": 10,
   "metadata": {
    "collapsed": false,
    "pycharm": {
     "name": "#%%\n"
    }
   },
   "outputs": [
    {
     "data": {
      "text/html": [
       "<div>\n",
       "<style scoped>\n",
       "    .dataframe tbody tr th:only-of-type {\n",
       "        vertical-align: middle;\n",
       "    }\n",
       "\n",
       "    .dataframe tbody tr th {\n",
       "        vertical-align: top;\n",
       "    }\n",
       "\n",
       "    .dataframe thead th {\n",
       "        text-align: right;\n",
       "    }\n",
       "</style>\n",
       "<table border=\"1\" class=\"dataframe\">\n",
       "  <thead>\n",
       "    <tr style=\"text-align: right;\">\n",
       "      <th></th>\n",
       "      <th>text</th>\n",
       "      <th>label</th>\n",
       "      <th>date</th>\n",
       "    </tr>\n",
       "  </thead>\n",
       "  <tbody>\n",
       "    <tr>\n",
       "      <th>0</th>\n",
       "      <td>Hvis ingen har noe å innvende, skal jeg etterk...</td>\n",
       "      <td>1998</td>\n",
       "      <td>1998-01-01</td>\n",
       "    </tr>\n",
       "    <tr>\n",
       "      <th>1</th>\n",
       "      <td>Fungerende president vil anmode sekretæren for...</td>\n",
       "      <td>1998</td>\n",
       "      <td>1998-01-01</td>\n",
       "    </tr>\n",
       "    <tr>\n",
       "      <th>2</th>\n",
       "      <td>Odelstinget skal foreta valg av presidenter og...</td>\n",
       "      <td>1998</td>\n",
       "      <td>1998-01-01</td>\n",
       "    </tr>\n",
       "    <tr>\n",
       "      <th>3</th>\n",
       "      <td>Jeg foreslår Gunnar Skaug.</td>\n",
       "      <td>1998</td>\n",
       "      <td>1998-01-01</td>\n",
       "    </tr>\n",
       "    <tr>\n",
       "      <th>4</th>\n",
       "      <td>Gunnar Skaug er foreslått valgt til Odelstinge...</td>\n",
       "      <td>1998</td>\n",
       "      <td>1998-01-01</td>\n",
       "    </tr>\n",
       "    <tr>\n",
       "      <th>...</th>\n",
       "      <td>...</td>\n",
       "      <td>...</td>\n",
       "      <td>...</td>\n",
       "    </tr>\n",
       "    <tr>\n",
       "      <th>386792</th>\n",
       "      <td>Debatten i sak nr. 2 er omme.</td>\n",
       "      <td>2022</td>\n",
       "      <td>2022-01-01</td>\n",
       "    </tr>\n",
       "    <tr>\n",
       "      <th>386793</th>\n",
       "      <td>Da går vi til votering over sakene på dagens k...</td>\n",
       "      <td>2022</td>\n",
       "      <td>2022-01-01</td>\n",
       "    </tr>\n",
       "    <tr>\n",
       "      <th>386794</th>\n",
       "      <td>Presidenten foreslår at redegjørelsen vedlegge...</td>\n",
       "      <td>2022</td>\n",
       "      <td>2022-01-01</td>\n",
       "    </tr>\n",
       "    <tr>\n",
       "      <th>386795</th>\n",
       "      <td>Sak nr. 2 var interpellasjon.</td>\n",
       "      <td>2022</td>\n",
       "      <td>2022-01-01</td>\n",
       "    </tr>\n",
       "    <tr>\n",
       "      <th>386796</th>\n",
       "      <td>Dermed er dagens kart ferdigbehandlet. Forlang...</td>\n",
       "      <td>2022</td>\n",
       "      <td>2022-01-01</td>\n",
       "    </tr>\n",
       "  </tbody>\n",
       "</table>\n",
       "<p>386797 rows × 3 columns</p>\n",
       "</div>"
      ],
      "text/plain": [
       "                                                     text  label        date\n",
       "0       Hvis ingen har noe å innvende, skal jeg etterk...   1998  1998-01-01\n",
       "1       Fungerende president vil anmode sekretæren for...   1998  1998-01-01\n",
       "2       Odelstinget skal foreta valg av presidenter og...   1998  1998-01-01\n",
       "3                              Jeg foreslår Gunnar Skaug.   1998  1998-01-01\n",
       "4       Gunnar Skaug er foreslått valgt til Odelstinge...   1998  1998-01-01\n",
       "...                                                   ...    ...         ...\n",
       "386792                      Debatten i sak nr. 2 er omme.   2022  2022-01-01\n",
       "386793  Da går vi til votering over sakene på dagens k...   2022  2022-01-01\n",
       "386794  Presidenten foreslår at redegjørelsen vedlegge...   2022  2022-01-01\n",
       "386795                      Sak nr. 2 var interpellasjon.   2022  2022-01-01\n",
       "386796  Dermed er dagens kart ferdigbehandlet. Forlang...   2022  2022-01-01\n",
       "\n",
       "[386797 rows x 3 columns]"
      ]
     },
     "execution_count": 10,
     "metadata": {},
     "output_type": "execute_result"
    }
   ],
   "source": [
    "df"
   ]
  },
  {
   "cell_type": "code",
   "execution_count": 11,
   "metadata": {
    "collapsed": false,
    "pycharm": {
     "name": "#%%\n"
    }
   },
   "outputs": [
    {
     "data": {
      "text/plain": [
       "72322"
      ]
     },
     "execution_count": 11,
     "metadata": {},
     "output_type": "execute_result"
    }
   ],
   "source": [
    "df.text.map(len).max()"
   ]
  },
  {
   "cell_type": "code",
   "execution_count": 12,
   "metadata": {
    "collapsed": false,
    "pycharm": {
     "name": "#%%\n"
    }
   },
   "outputs": [
    {
     "data": {
      "text/plain": [
       "1"
      ]
     },
     "execution_count": 12,
     "metadata": {},
     "output_type": "execute_result"
    }
   ],
   "source": [
    "df.text.map(len).min()"
   ]
  },
  {
   "cell_type": "code",
   "execution_count": 13,
   "metadata": {
    "collapsed": false,
    "pycharm": {
     "name": "#%%\n"
    }
   },
   "outputs": [
    {
     "data": {
      "text/html": [
       "<div>\n",
       "<style scoped>\n",
       "    .dataframe tbody tr th:only-of-type {\n",
       "        vertical-align: middle;\n",
       "    }\n",
       "\n",
       "    .dataframe tbody tr th {\n",
       "        vertical-align: top;\n",
       "    }\n",
       "\n",
       "    .dataframe thead th {\n",
       "        text-align: right;\n",
       "    }\n",
       "</style>\n",
       "<table border=\"1\" class=\"dataframe\">\n",
       "  <thead>\n",
       "    <tr style=\"text-align: right;\">\n",
       "      <th></th>\n",
       "      <th>text</th>\n",
       "      <th>label</th>\n",
       "      <th>date</th>\n",
       "    </tr>\n",
       "  </thead>\n",
       "  <tbody>\n",
       "    <tr>\n",
       "      <th>347520</th>\n",
       "      <td>Under debatten er det satt frem i alt 223 fors...</td>\n",
       "      <td>2020</td>\n",
       "      <td>2020-01-01</td>\n",
       "    </tr>\n",
       "  </tbody>\n",
       "</table>\n",
       "</div>"
      ],
      "text/plain": [
       "                                                     text  label        date\n",
       "347520  Under debatten er det satt frem i alt 223 fors...   2020  2020-01-01"
      ]
     },
     "execution_count": 13,
     "metadata": {},
     "output_type": "execute_result"
    }
   ],
   "source": [
    "import numpy as np\n",
    "lengths = df[\"text\"].str.len()\n",
    "argmax = np.where(lengths == lengths.max())[0]\n",
    "df.iloc[argmax]"
   ]
  },
  {
   "cell_type": "code",
   "execution_count": 14,
   "metadata": {
    "collapsed": false,
    "pycharm": {
     "name": "#%%\n"
    }
   },
   "outputs": [
    {
     "data": {
      "text/html": [
       "<div>\n",
       "<style scoped>\n",
       "    .dataframe tbody tr th:only-of-type {\n",
       "        vertical-align: middle;\n",
       "    }\n",
       "\n",
       "    .dataframe tbody tr th {\n",
       "        vertical-align: top;\n",
       "    }\n",
       "\n",
       "    .dataframe thead th {\n",
       "        text-align: right;\n",
       "    }\n",
       "</style>\n",
       "<table border=\"1\" class=\"dataframe\">\n",
       "  <thead>\n",
       "    <tr style=\"text-align: right;\">\n",
       "      <th></th>\n",
       "      <th>text</th>\n",
       "      <th>label</th>\n",
       "      <th>date</th>\n",
       "    </tr>\n",
       "  </thead>\n",
       "  <tbody>\n",
       "    <tr>\n",
       "      <th>287137</th>\n",
       "      <td>.</td>\n",
       "      <td>2017</td>\n",
       "      <td>2017-01-01</td>\n",
       "    </tr>\n",
       "    <tr>\n",
       "      <th>373038</th>\n",
       "      <td>»</td>\n",
       "      <td>2021</td>\n",
       "      <td>2021-01-01</td>\n",
       "    </tr>\n",
       "  </tbody>\n",
       "</table>\n",
       "</div>"
      ],
      "text/plain": [
       "       text  label        date\n",
       "287137    .   2017  2017-01-01\n",
       "373038    »   2021  2021-01-01"
      ]
     },
     "execution_count": 14,
     "metadata": {},
     "output_type": "execute_result"
    }
   ],
   "source": [
    "lengths = df[\"text\"].str.len()\n",
    "argmax = np.where(lengths == lengths.min())[0]\n",
    "df.iloc[argmax]"
   ]
  },
  {
   "cell_type": "code",
   "execution_count": 15,
   "metadata": {
    "collapsed": false,
    "pycharm": {
     "name": "#%%\n"
    }
   },
   "outputs": [
    {
     "data": {
      "text/plain": [
       "array(['1998-01-01', '1999-01-01', '2000-01-01', '2001-01-01',\n",
       "       '2002-01-01', '2003-01-01', '2004-01-01', '2005-01-01',\n",
       "       '2006-01-01', '2007-01-01', '2008-01-01', '2009-01-01',\n",
       "       '2010-01-01', '2011-01-01', '2012-01-01', '2013-01-01',\n",
       "       '2014-01-01', '2015-01-01', '2016-01-01', '2017-01-01',\n",
       "       '2018-01-01', '2019-01-01', '2020-01-01', '2021-01-01',\n",
       "       '2022-01-01'], dtype=object)"
      ]
     },
     "execution_count": 15,
     "metadata": {},
     "output_type": "execute_result"
    }
   ],
   "source": [
    "df['date'].unique()"
   ]
  },
  {
   "cell_type": "code",
   "execution_count": 16,
   "metadata": {
    "collapsed": false,
    "pycharm": {
     "name": "#%%\n"
    }
   },
   "outputs": [
    {
     "data": {
      "image/png": "[encoded data removed]",
      "text/plain": [
       "<Figure size 800x600 with 1 Axes>"
      ]
     },
     "metadata": {},
     "output_type": "display_data"
    }
   ],
   "source": [
    "data = df[\"text\"].str.len()\n",
    "\n",
    "fig,ax = plt.subplots(figsize=(8,6))\n",
    "ax.plot(df['date'],data)\n",
    "\n",
    "df['date'] =pd.to_datetime(df['date'])"
   ]
  },
  {
   "cell_type": "code",
   "execution_count": 17,
   "metadata": {
    "collapsed": false,
    "pycharm": {
     "name": "#%%\n"
    }
   },
   "outputs": [
    {
     "data": {
      "text/plain": [
       "0        1998-01-01\n",
       "1        1998-01-01\n",
       "2        1998-01-01\n",
       "3        1998-01-01\n",
       "4        1998-01-01\n",
       "            ...    \n",
       "386792   2022-01-01\n",
       "386793   2022-01-01\n",
       "386794   2022-01-01\n",
       "386795   2022-01-01\n",
       "386796   2022-01-01\n",
       "Name: date, Length: 386797, dtype: datetime64[ns]"
      ]
     },
     "execution_count": 17,
     "metadata": {},
     "output_type": "execute_result"
    }
   ],
   "source": [
    "df.date"
   ]
  },
  {
   "cell_type": "code",
   "execution_count": 18,
   "metadata": {
    "collapsed": false,
    "pycharm": {
     "name": "#%%\n"
    }
   },
   "outputs": [
    {
     "name": "stdout",
     "output_type": "stream",
     "text": [
      "Length of vocab: 919359\n"
     ]
    }
   ],
   "source": [
    "vocab = set()\n",
    "df['text'].str.lower().str.split().apply(vocab.update)\n",
    "print(f\"Length of vocab: {len(vocab)}\")\n",
    "\n"
   ]
  },
  {
   "cell_type": "code",
   "execution_count": 19,
   "metadata": {
    "collapsed": false,
    "pycharm": {
     "name": "#%%\n"
    }
   },
   "outputs": [
    {
     "name": "stdout",
     "output_type": "stream",
     "text": [
      "['«old', 'skolebyråkrat.', 'grei»-', 'läsfrihet', 'sårheit.', 'fattigdomssatsinga.', 'verneområda,', '4-6.', 'laurdagsaviser', 'rekeindustri,', 'sørsamer,', 'nyhetsformidler.', 'helgeturen', 'tunna,', 'hovudproblema.', 'evalueringstidspunktet', 'lokalbåt.', 'forsyningen.', 'kjøpstedene', 'kartleggingsprosjektet', 'gjenfangsten', 'tradisjonsformidling.', '«ranet»', 'debattarenaen,', '«hovedarbeidsoppgavene', 'strømprisprosent.', 'adelskap.', 'kortest.', 'bildelingsordningen.', 'etterspørselsbildet.', 'siidaene.', 'leverandørnæringa.', 'arter,', '«gjennomgang»', 'reisefot', 'ressurseffektiv.»', 'sosialpolitiker.', 'krev?»', 'pedersen-utvalget.', 'økosystemforvaltning,', 'tikronene', 'oversendelsene', 'fiendetenkinga.', 'modis', 'dyrepopulasjonen,', 'aleneganger,', 'nyskapninger,', 'brukerkonflikter,', 'kansler,', 'lokaliseringspolitikken', 'dvergene', 'havforskning', 'rusbrukerne', 'hongkong-befolkningens', 'informasjonsprosjektet', 'ace-skolenes', 'profitere', 'kunstnarorganisasjonane,', 'trengselsskatten', 'kystartilleriet.', 'matval.', 'domstolprinsipper.', 'uuu-fiske', 'treningsaktivitet', 'statsregnskap,', 'skytinger', 'olsen.', '«nødparagrafen»', 'konsul.', 'barnehageincentiv', 'hovedretningslinjer', 'uregulerbar', 'fylkeskommunane»', 'nullutsleppsmålsetjingar,', 'legemidlet?', 'truet', 'brukarane?»', 'influensavariasjonar.', 'medieskadelighetsutvalgets', 'listestilling', 'utrydder,', 'vidareat', 'tilsettingskontrakt,', 'fn-organisasjoner.', 'ikke-somatisk/psykiatrisk.', 'innstillingsorgan', 'anbudsbruken', 'styringsdata', 'psa-screening,', 'entusiasme', 'dem.[[(munterhet', 'eneveldig.', 'brukstenkning', 'livredd.', '«ressurstilgangen', 'forfølgelse.»', 'advart,', 'nyhetsvarsel', 'distriktssysselsettingen', 'eiendomsområdet,', 'avskyte', 'crew-kofferten', 'læringsevnen,', 'utglidinga,', 'kansleren,', 'vare,', 'relevans', 'mørkeste', 'landgangsfartøy,', 'miljøteknologiprosjekter', 'fjerntogtilbodet,', 'psykiatriboliger', 'hørselssektoren.', 'farledsbevis.', 'bedre».«regjeringen', 'b-gruppe.', 'fagorganisere', 'forvaltningsoppgave', 'tapskompensasjonen,', 'adhd-diagnosen.', 'halden\\x96oslo\\x96lillehammer\\x96skien.', 'bratwurstane', 'skogsverdier.', 'produksjonsregioner', 'portefølje?', 'sammendragene', 'panelovner.»', 'disiplinærordning', 'nortra,', 'jordbruksbyråkratiet,', 'valgflesk?', 'democracy,', 'usikker,', 'utru', 'enhetene.tvister', 'trafikantgruppe,', 'lakseveterinærinteressene,', 'elbilen.', 'brystkreftforeningen,', 'rettshjelpsbehovene', 'svakstilte,', 'detaljbehandler', 'eigersunds', 'innhentning', 'systemstyring,', 'heimeområde', 'kjøtt.»presidenten', 'algegiftproblemet', 'disiplinærtiltak', 'skulesekken.', 'lysforurensning', 'nh90-ekvivalenter,', 'fritaktsmetoden', 'målstyringssystemer', 'paris-avtala', 'hovedmåter', 'segregerende.', 'enøydhet', 'familiegjenforening', 'nordlys-artikkelen.', 'likevekt,', 'omskårede', 'landvirksomhet', 'klassifìsert', 'henvendelser:', 'vintertelt.', 'vågslid\\x96røldal', 'legevaktsamarbeidet', 'eigedomsprosjekt.', 'prøvelokaler', 'titalls', 'vasskvaliteten,', 'ordvalg,', '«hyper»,', 'pwc/interfleet,', 'pud-grensen.', 'aldersbestemmelse', 'bergingsoppdraget', 'underkant.', 'forhandlingsfullmakten', 'møter.»', 'papirstrukturer', 'knivforbud', 'administrasjonskomiteen:', 'formannsskapsmodell,', '3521)]][[(jf.', 'rettsikkerheten', 'bakteppet.', 'people,', 'dall».', '«beredt»', 'tannfyllinger', 'kontrollutrusting.', 'grepp,', 'forsørgers', 'adoptivbarn.', 'skatteavtaler.', '«eigenleg', 'avslapning', 'disponere,', 'lukkar', 'europastrategi?»', 'gyldighetsperiode,', 'skapt?', 'helikopterflåten?', 'minstepensjonsnivået,', 'kraftsertifikat,', 'havregionen', 'medregner', 'flekkefjord:', 'fred.saddam', 'medinvestorer.', 'strukturdebatten.', 'industriattachèer', 'søksmålsfrister,', 'prosjektkommunene.', 'strålenivå', 'veterinærhøgskulens', 's-situasjonen', 'takløfter', 'skogsveg,', 'bevare».', 'veiledningssporet', 'sjøfarere', 'grin.', 'grønnboken,', 'tilkjenna', 'vaskeritjenester', 'avdraga', 'morgenkvisten,', 'oppdrag?', 'bodø-regionen:', 'berekningsmodellar', 'women?»', 'reketråltillatelser', 'valvinnaren', 'oslo-lufta', 'funksjonene?', 'identitetsskifte', 'soneforvalting', 'etterregningsordningssystemet', 'vervet', 'mediefantaster,', 'verneombud', 'interpellasjosdebatten', 'resultatoppnåelse».', 'kanaliseringspolitikk:', 'rapporteringsordningane', 'husmannsdatteren', 'folkeparti\\x96venstre-regjering,', '«kjært', 'bustadlån.', 'palestina-saken', 'eignaheitsvurdering', '938,', 'atomtrusselen.', 'atferdsendrede', 'antidiskriminering.', 'skjønnspostene', 'suvenirer', 'driftsinnsparingene', 'gebyrsatsane,', '«reinens', 'fynd.', 'totalregnestykket', 'kabin', 'kulturminneforvaltningen.', 'trim.', 'innfart', 'langtrekkjande', 'interesseorganisasjonane', 'helsesøstertjenesten', 'samfunnspolitikk', 'kjemikalier,', 'kunn-', 'legemiddelsamtaler.', 'leiarflytting', 'finansieringsforslag,', '21-prosess', 'avekkjer', 'klareringsprosessen.', 'fotosyntesenæringene.', 'påplussingar.', 'innkrevningstiden,', 'unibet', 'ferjerutene,', 'halvtimen.', 'lokaltogstasjoner.', 'prostatakreftpasienter', 'heller:', 'fornybarandelen,', 'samarbeidsråd.', 'litervis', 'siidaprinsippet', 'tilrådelige.', 'bekjent.', 'omme.[[(votering', 'boregionene', 'oppdrettsselskap.', 'turismeøyne.', '2010;', 'nemndlederstillingene', 'behovsstyrd', 'prøvesituasjoner.', 'kulturstrømninger', 'frukt-og-grønt-ordningen', 'tynæs', '245\\x96250,', 'smerte-fullt.', 'utenfra!', 'dødsulykke.', 'ferskfiskbonus,', 'k0', 'farvannslov.', 'd.c.,', 'advarsel?', 'minst;', 'johan-eksemplet', 'beskyttet', 'barnehagepersonell.', 'medieverdenens', 'hundehatere', 'radiokonsesjoner.', 'folkedrakt,', 'nordområdemilliard', 'mellomaktivt', 'samme.[[(', 'skogressurs.', 'nho-konferansen', 'anbudsskifte.', 'annonseres', 'personverntryllestav,', 'iverksettingstidspunkt', 'landsmøtet', 'rome,', 'likestillingspolitikk?', 'åsen\\x96steinkjer', 'fremskrittsparti-byrådet,', 'jordbruksavtalen.', 'grunntrekk:', 'vedlikeholdstjenestene,', 'sykepleiestudentene', 'forskerutdannelse».', 'byggjekostnadane', 'akuttiltakene.', 'eigersund?', 'beslutningsevnen', 'overvåkningssituasjonen', 'traséalternativer.', 'prosjektet?', 'ekteskapsvilkår,', 'forelesningen', 'avsetningsmulighet,', 'coordinator».', '«tiggere»', 'secondhand', 'fou-politikk,', 'fakker', '«fylkeskommune».', 'kompetanseoverskudd', 'ventelønnsmottakarane', 'utføres:', 'gjelda.', 'kalvekjøtt', 'uoversiktleg', 'stridsvogner;', 'behandlingsfilosofi', 'utlånsbransjen', 'gjeldstrykk.', 'splittmodell', 'reiselivsmeldingens', 'postpolitiske', 'linge-feltet.', 'behandler:', 'debutant', 'ebolaepidemi', 'lete-', 'boligspørsmålet:', 'sju.', 'gjesteopptreden.', 'bondeopprøret', 'barnekanalene', 'trepartisamarbeidet', 'plusstall', 'brukaromboda.', 'kabelkapasitet', 'feilbehandlinga', 'folkefonntunnelen', 'hatt,', 'militæroppdrag', 'dørstokk.', 'eøs/eu-området.', 'utdanningsretninga.', 'fornybarkilden.', 'samfunnssikkerhetsperm', '«påta', 'byggforsikring,', 'eu\\x96usa', 'terrorfrontar', 'vegstrekningane', 'talgrunnlag', 'erklæringa:', '«taiwan', 'rekefiske.', 'gruppemøte,', 'klimakrise.', 'energipolitikk.»', 'skoleskyssystem', '«organisering', 'lækjarar', 'europakonvensjonen', 'tvedestrand\\x96arendal.', 'bønnerom.', 'flybillettar.', 'verketid', 'trusselbildet».', 'seks.', 'voksen-barn-kommunikasjon', '«men»-ene', 'nauru.', 'mar-tiltak,', 'fisketiden', 'europaparlamentarikerne?', 'presiseringar,', 'road-prosjektet', 'mistolke,', 'bøtesatser', 'ressursriktige', 'spender».', 'tilhøyrer,', 'eres.', '«beslutte', 'uestetiske', 'blokkere.', 'sentralforvaltningen', 'ekspertfokus', 'lunefulle', 'spillesteder.3.', 'evalueringsoppdraget.', 'vektklasse.', 'krigsprofitørene,', 'suksessfylte', 'styringsindikatorene', 'saksbehandlerkapasiteten', '«fjetret»', 'dagaktivitetssenter', 'styrepraksis', '6-motorene.', 'finesser', 'samfunnskontraktar?', 'selvforsvarskurs', 'spesialsykepleiergrupper,', 'flytteskatt.', 'straumlinjeforming.', 'husbank90lån', 'mangt', 'gjenbruke', 'hovedmønster', 'konsesjonsavgiftene,', 'uvêr.', 'laupande.', 'transportledd', 'elektrifiseringsstrategi.', 'vedtaksstøtteordning.', 'krigsoverskrifter', 'kontrollrolle', 'kjempende.', '«egenkapitalbevis»', 'familiegjenforening:', 'eu-sida', 'dagliglivet.', 'ulvehybridene?', 'helsestyrene,', 'kapasitetsreduserende,', 'forskningsfokus.', 'lag-løyving.', 'håndhevingsmyndigheter', 'straffene.', 'karakterisere,', 'dataspel', 'landligge', 'folkestyre', 'investeringstempo,', 'hellig[[(presidenten', 'antibiotikaresistensutfordringen', 'formålet?»', 'miljøsone,', 'pensjonskapitalen', 'fiske»,', 'passgebyrer', 'sykelønnsopplegg,', 'funksjonshemningen', 'endelikt,', 'distriktsinteresser', 'forenklingsønsket.', 'innsatsstyrkane,', 'bruksmønstre,', 'vaksentettleiken', 'spesifisert.', 'landsfengsel.', 'terningen', '145\\x96165', 'libyere', 'satellittdekning', 'rådsbehandling', 'hydrogenferge.', 'miniyrkesfagene', 'underskrivne.', 'målutvelgelsen', 'sognsvann,', 'forhåndsmening', 'leverandøruavhengighet', 'tilføyde', 'sjåarvanar', 'wait.', 'kjøreavstand,', 'stert', 'fribeløpsordningen,', 'henne.skilsmisse:', 'formelt,', 'uværsskyene', 'reingjøring', 'møbelhandler,', 'helhetskunnskap', '«mega', 'aksjon', 'fattigdoms-norge', 'barn/kvinner', '8)', '22.3.04.', 'veterinæravtale.', '«eye', 'ekstrajobben', 'teknologifeltet', 'toåringar.', 'avløpskrav', 'sweco', 'atommaktene', 'a-changin\\x92».', 'mediebyråene.', 'salme.', 'bomutgifter,', 'kritiseres?', '2+2/3+1.', '«code', 'annonsørene.', 'gjenkjennelige,', 'impulskontroll»,', 'manglerudtunnelen.', 'automasjon,', 'hovedsesong', 'rom78ymse', 'solidest', 'lungenes', 'informasjonskløfter,', 'mora-erklæringen', 'adriansen?', 'gyldige,', 'bomstasjoner', '1432norsk', 'folkesykdommen,', 'utviklingsoppgåvene', 'av-og-til', 'luftambulanseflytjenesten,', 'utmattelseslidelser.', 'utredningsinstruks?', 'vindauge.', 'fredsbevaring,', 'heftelsene', 'kvalitetspunkter.', 'bunnfradrag.', 'halvert', 'betydninger.', 'strømbruken,', 'samfunn»', 'skattesystem.»', 'shop»,', 'innsikt»,', 'utslippssektoren', 'syklisten.', 'buskerudprosjekt.', 'alvorliggjøre', 'kontantsalg', 'døden', '«aktivitetsplikt»', 'kløfta-prosjektet.', 'lir?', 'forfedrenes', 'stillingsbank.', 'hjelpeintendent', 'eierskapsstyringen,', 'underbestander,', 'operasjonsrom', 'prøvesprengingane', 'knallbra,', 'høyhastighetstogutredning', 'mindretallsanke', 'avgiftsregning', 'elveleiene', 'landbruksvikarer.', 'produsere,', 'skattefridagen.', 'lokal-tv', 'skadestedsledelse.', 'nato-styrkene', 'personvernopplysninger', 'pensjonsforsikring', 'voksenopplæringstilbudet', 'dataøkonomien,', 'arealplanleggingene', 'sysselmannsbetjenter', 'østlending', 'demonstreres', 'gladdebatten', '«småskulesteget»', 'foreldreundersøkelse', 'innholdsreformen.', 'bistandshåndboka.', 'vestbys,', 'lånerente,', 'personvernnemnda.', 'laksefisker', 'verditransport.', 'sikkerhetssystemet', 'selvsagte,', 'framdriftsløpet', '«tjern».', 'statsmyndighet,', 'kontrollpunkter.', 'suppleringene', 'tilsynsførerfunksjonen', 'straffskjerpingsadgang.', 'hovedroller.', 'svømmebasseng,', '1939»,', 'klimaøkningen', 'kommunestyra', 'veitransportformene', 'kombinasjonsbruka', 'undertonene', 'fiasko.', 'trålfangstene', 'sitte.', 'toppskattposisjon.', 'lovparagrafene', 'bompengerabatt.', 'hogstforbud', 'senketunnel.', 'narviktelefonene/bedin,', 'behovsbasert;', 'europa-politikken?', 'skatteytarar', 'ansvarsmyndighet,', 'taren', '«utgreia»', 'voksenpris', 'korrupsjonsrisiko', 'innleieproposisjonen', 'tt-transporten', 'high».', 'svenskfaget,', 'standhaftige.', 'stoffene,', 'hovedutfordring,', 'rekreasjons-', 'sevan-typen,', 'vindmølletvang.', 'redningsbil.', 'båret', 'solfangar?', 'risikoforståing', 'filmfestivalane', 'mindretalsframlegg.', 'forstyrrelse', 'produksjonstillegg', 'næringshageprogram,', 'oppdateres».', 'praktikalitetsårsaker', 'vurderingsgrunnlag.', 'etterspørselstyngden', 'likeverdsreformen,', 'klimapolitikerne', 'studieførebuande', 'næringsveiene.', 'anbudssystem,', 'administrasjonsby,', 'administrasjonsforhold,', '1976-1977.', 'espedal\\x96frafjord', 'kroppskontroll.', 'innenriksøkonomiske', 'stridde', 'innlemme', 'primærstandpunkt,', 'kjøla»,', 'kongedøme.', 'obduksjonar.', 'hatparagraf,', 'åtferdsvanskane', 'praksisveiledningen', 'innretninger', 'arbeidsløysetala,', 'degrees».', 'fni', 'bjørndal', 'bi-dra', 'melfjord-anleggene', 'toinstansbehandling', 'hvalsafari', 'totalforbudt', 'kredittvurderinger.', 'kunnskapsbygging,', 'fastlands-norge.»', 'velferdskontroll', 'uregulerbare', 'sykebehandling,', 'førarprøvekandidatane.', 'miljøbilar.', 'pensjonistforening.', 'prospektplikt.', 'husdyrforsikringsselskap.', 'urologi.', 'byggetillatelse', 'infanteriets', 'fridom,', 'kunnskapsinfrastruktur', 'karbonmengder,', 'befolkningsrettede,', 'markedsprofil.', 'syria-konferansene,', 'flyktningleirene?', 'vakt?»', 'kongressmedlemer', 'forsvarsområdet', 'regjeringsflørt', 'næringsdebatt', 'kunnskapsledende', 'egnetheten,', 'prostataforstørrelse', 'drukningsulykker,', 'regjeringsutgreiing.', 'forpliktelsene,', 'virkelighetsbeskrivelser', 'kallenavnet', 'pågripelsesrett,', 'billigheit', 'totalbelastning', 'familiestrukturene.', 'bemanningsplanlegging.', 'powerpointpresentasjon,', 'nivåsenkning.', '2018?»', '«multi-purpose»', 'msis-labdatabase', 'banehalvdelen.', 'ekte».', 'omsetningsforhold', 'sannsynlege', 'egenkontrollrutiner.', 'klimakvotene,', 'hovedeiers', 'gigantetterslep', 'portør', 'voksenpedagogikk', 'globaliserer', 'privatarkivsamlinger.', 'graderinga', 'hovedstadsregionene', 'kvalitetsutviklingssystemet', 'totalberedskapen', 'sikkerhetsgevinster', 'skvisar', 'termene', 'statsadministrasjonen!', 'unctad-konferansen', 'namsfogddistriktene', 'salvage', 'slagenheten', 'vassressursforvaltning,', 'befolkningsstørrelse,', 'stordriftsulempe.', 'delsatsing', 'lensmannsbetjenter,', 'målprisoppnåelsen', '1990-tallets', 'wasaloppet.', 'ervervelse,', 'verdensarvfjordene?»', 'menneskeverdet.', 'reguleringslager.', '«atomen»,', 'reitan.»', 'sitrusfrukttre', 'generasjonane,', 'strukturvilje', 'behandlingsresultatet', 'motorveiprosjekter', 'svekkje?', 'infrastrukturtjenestene', '-klinikken.', 'gamlehjem', 'helikopterteknikere', 'hjerneskadd', 'støttestav', 'barnehagereforma', 'kuusijärvi', 'omsorgsboligplass,', 'nettoverføring', 'nervei,', 'sportsskyttermiljøet', 'kvinnedimensjonen', 'etterslepet', 'forholda?', 'planbeslutninger,', 'prodi:', 'legemiddelforvaltninga.', 'pensjonsinnbetalingene', 'beskyttes', 'skjermen,', 'viktige.', 'ombordstigningstid', 'objektive.', 'abel-prisen', 'drektighetsperioden.', 'husdyrbesetninger', 'politimeldinga.', 'gjeldsfor', 'direkteinntekter', 'dansketiden', 'veteranen', 'øvrigheta', 'tron-utvalet', 'familieting', 'veterinærkontroll', 'politietatens', 'skogstandard', 'næringstakerne,', 'gratiskvotesystemet', 'mørkast', 'frevar.', 'instrumenttradisjonar', 'tilstås.', 'etatslederne,', 'kreftsykepleiere.', 'xi\\x96xv.', 'lovgivningsspørsmål', 'betalingstenester,', 'budskapet.', 'vikariere?', 'kulturminnevern.vedlikeholdssituasjonen', 'sjølvfinansiert', 'lys-', 'trefningspunkt', 'økt?', 'enkepensjonen.', 'bioøkonomiordningen.', '46,14', 'eyde-nettverkene,', 'framtida', 'pyse.', 'dårlegast', 'risikoar', 'nivåarbeidet', 'næringslivstoppene,', 'fulltidsarbeidande', 'telefonsamtalen', 'latin-amerika;', '«servilitet»', 'støttepunktene', 'opinions-', 'knussel,', 'sjukekøane', 'ekstrabemanning', 'utdanningssykehus', 'narkotikasaker.»', 'raskast', 'valmoglegheita.', 'kystdepartementet21spesielle', 'oppdrettsgener.', 'fylkesveibudsjettet', 'finansieringsverktøy.', 'pedagognorma', 'omskjæring.', '«bestemmelsens', 'bartenderen,', 'legesituasjonen,', 'kulturarvdebatten,', 'ventelisteregistreringene.', 'plastposebruk', 'folkeparti-velgere,', 'matvareindustrien;', 'tobakkspolitikk.', 'sidebemerkning,', 'fsu', 'algeoppblomstring', 'spillvarmekildene', 'dramaet.', 'operaverksemda', 'førespunaden', 'samtala', 'abc-hendelser,', 'blør:', 'nettleigemodellen', 'nærøysund,', 'strukturrasjonalisere', 'brumm-tenkinga', 'likestillingspolitkk.', 'hygienekrav,', 'sidemål', 'utbestridt', 'kjønn.retten', 'familievoldssakene', 'primæroppgavene,', 'fornminnearbeidet.', 'rustningskontrollavtalen', 'innføddsrett', 'hovedmangelen', 'avverjingsplikta,', 'rognliens', 'statskapitalistiske', 'gruppetenkning,', '1992\\x9693', '«mildt', 'utlysningene.', 'isdataene', 'oppsynsbiten', 'tiltaksplikt', 'ankeforhandlingar', 'verdiparti,', 'medlemsmassar.', 'ytringsmangfoldet,', 'skatten', 'plastpakke.', 'kompensasjonsordningen', 'finansforvaltningen,', 'hjelpepleierutdanning,', 'påvirkede', 'toppand,', 'speisalistbehandling', 'forekomstundersøkelser.', 'vestsiden', 'varebiltransporten', 'egenmerking', 'skrytedebatt', 'ruger.', '691[[(2020\\x962021)]]', 'allmennlegedelen.', 'informasjonsbiten.', 'væskebiopsi', 'bokostnadene,', 'forsvarstalene', 'nettoinnsparinga', 'arbeidsgiveravgift?»', 'høylytt.', 'spole', 'mottakssituasjonen,', 'reklamepåvirkning', 'miljønæring', 'legemiddelindustriforeningen,', 'understatement.', 'scenekunstbruk.', 'stiglitz-kommisjonen:', 'førerprøvesensorer.', '2-inndelingen', 'selvinkrimineringsvernet.', 'kjempefylke.', 'resepten', 'produksjonsdelen,', 'ekspeditrisen', 'avgiftspresset?', 'middelhavslandene', 'trryggleiksomgrep.', 'klannettverk', 'brutus.', 'velferdstilbudå', 'utførerrollen.', 'morsau,', 'budsjettframlegg?', 'reindustrialisere', 'evalueringsprosessen.', 'overgangsboligene', 'inntektsbasis', 'investorformål.', 'klubbhusfellesskapet', '15.26.', 'oppfølgingsvedtak', 'arbeidsbetingelsene,', 'utbetalingsgrunnlag', '1976/1977,', 'sæson,', 'samøvinger', 'grunnskoletilbudet', 'kystforvaltningsutvalgets', 'balanseøvelse', 'terrorhendelser.', 'ølboks,', 'mobilsamtaler', 'jernbanemessige', 'forvaltningsdelens', 'legemiddelbehandling,']\n"
     ]
    }
   ],
   "source": [
    "print(list(vocab)[0:1000])"
   ]
  },
  {
   "cell_type": "code",
   "execution_count": 20,
   "metadata": {
    "collapsed": false,
    "pycharm": {
     "name": "#%%\n"
    }
   },
   "outputs": [
    {
     "name": "stdout",
     "output_type": "stream",
     "text": [
      "Max tokens: 72322\n"
     ]
    }
   ],
   "source": [
    "print(f\"Max tokens: {df.text.map(len).max()}\")"
   ]
  },
  {
   "cell_type": "code",
   "execution_count": 21,
   "metadata": {
    "collapsed": false,
    "pycharm": {
     "name": "#%%\n"
    }
   },
   "outputs": [
    {
     "name": "stdout",
     "output_type": "stream",
     "text": [
      "Min tokens: 1\n"
     ]
    }
   ],
   "source": [
    "print(f\"Min tokens: {df.text.map(len).min()}\")"
   ]
  },
  {
   "cell_type": "code",
   "execution_count": 22,
   "metadata": {
    "collapsed": false,
    "pycharm": {
     "name": "#%%\n"
    }
   },
   "outputs": [],
   "source": [
    "r = list(df['text'])"
   ]
  },
  {
   "cell_type": "code",
   "execution_count": 23,
   "metadata": {
    "collapsed": false,
    "pycharm": {
     "name": "#%%\n"
    }
   },
   "outputs": [
    {
     "name": "stdout",
     "output_type": "stream",
     "text": [
      "Tokens in dataset: 519299398\n"
     ]
    }
   ],
   "source": [
    "res = 0\n",
    "for item in r:\n",
    "    res+= len(item)\n",
    "print(f\"Tokens in dataset: {res}\")"
   ]
  },
  {
   "cell_type": "code",
   "execution_count": 24,
   "metadata": {
    "collapsed": false,
    "pycharm": {
     "name": "#%%\n"
    }
   },
   "outputs": [
    {
     "name": "stdout",
     "output_type": "stream",
     "text": [
      "[386797, 599436, 94530866, 157.69968103350482, 244.39399995346398, 131.0578753196121, 14819, 1]\n"
     ]
    }
   ],
   "source": [
    "from utils.dataset_stats import get_data_stats\n",
    "from utils.filemanagement import write_dataset_stats\n",
    "\n",
    "stats = get_data_stats(df['text'])\n",
    "print(stats)\n",
    "\n",
    "write_dataset_stats(folder_path_data,file_name_data,stats)"
   ]
  }
 ],
 "metadata": {
  "kernelspec": {
   "display_name": "Python 3",
   "language": "python",
   "name": "python3"
  },
  "language_info": {
   "codemirror_mode": {
    "name": "ipython",
    "version": 2
   },
   "file_extension": ".py",
   "mimetype": "text/x-python",
   "name": "python",
   "nbconvert_exporter": "python",
   "pygments_lexer": "ipython2",
   "version": "2.7.6"
  }
 },
 "nbformat": 4,
 "nbformat_minor": 0
}
