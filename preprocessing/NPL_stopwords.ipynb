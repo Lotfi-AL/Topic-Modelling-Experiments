{
 "cells": [
  {
   "cell_type": "code",
   "execution_count": 100,
   "outputs": [],
   "source": [
    "from datasets import load_dataset\n",
    "import pandas as pd\n",
    "import os\n",
    "from utils.filemanagement import load_from_file,save_preprocessed_df_to_file\n",
    "import matplotlib.pyplot as plt\n",
    "from utils.filemanagement import ROOT_PATH\n",
    "from nltk.tokenize import word_tokenize"
   ],
   "metadata": {
    "collapsed": false,
    "pycharm": {
     "name": "#%%\n"
    }
   }
  },
  {
   "cell_type": "code",
   "execution_count": 101,
   "outputs": [],
   "source": [
    "folder_path_data = r\"preprocessed_data\"\n",
    "file_name_previous_data =\"np_large_basic.csv\"\n",
    "file_name_data =\"np_large_stopwords.csv\"\n",
    "\n",
    "file_path = os.path.join(ROOT_PATH,folder_path_data,\"data\",str(file_name_previous_data))\n",
    "df = pd.read_csv(file_path,index_col=0,encoding=\"utf-8\")\n",
    "#df_one = load_from_file(folder_path_data, file_name_data,index_col=0)\n",
    "\n",
    "file_path_load = os.path.join(ROOT_PATH,folder_path_data,\"data\",str(file_name_data))\n",
    "\n",
    "#df = pd.read_csv(file_path_load,index_col=0,encoding=\"utf-8\")"
   ],
   "metadata": {
    "collapsed": false,
    "pycharm": {
     "name": "#%%\n"
    }
   }
  },
  {
   "cell_type": "code",
   "execution_count": 102,
   "outputs": [
    {
     "data": {
      "text/plain": "                                                text  label        date\n0  Hvis ingen har noe å innvende skal jeg etterko...   1998  1998-01-01\n1  Fungerende president vil anmode sekretæren for...   1998  1998-01-01\n2  Odelstinget skal foreta valg av presidenter og...   1998  1998-01-01\n3                          Jeg foreslår Gunnar Skaug   1998  1998-01-01\n4  Gunnar Skaug er foreslått valgt til Odelstinge...   1998  1998-01-01",
      "text/html": "<div>\n<style scoped>\n    .dataframe tbody tr th:only-of-type {\n        vertical-align: middle;\n    }\n\n    .dataframe tbody tr th {\n        vertical-align: top;\n    }\n\n    .dataframe thead th {\n        text-align: right;\n    }\n</style>\n<table border=\"1\" class=\"dataframe\">\n  <thead>\n    <tr style=\"text-align: right;\">\n      <th></th>\n      <th>text</th>\n      <th>label</th>\n      <th>date</th>\n    </tr>\n  </thead>\n  <tbody>\n    <tr>\n      <th>0</th>\n      <td>Hvis ingen har noe å innvende skal jeg etterko...</td>\n      <td>1998</td>\n      <td>1998-01-01</td>\n    </tr>\n    <tr>\n      <th>1</th>\n      <td>Fungerende president vil anmode sekretæren for...</td>\n      <td>1998</td>\n      <td>1998-01-01</td>\n    </tr>\n    <tr>\n      <th>2</th>\n      <td>Odelstinget skal foreta valg av presidenter og...</td>\n      <td>1998</td>\n      <td>1998-01-01</td>\n    </tr>\n    <tr>\n      <th>3</th>\n      <td>Jeg foreslår Gunnar Skaug</td>\n      <td>1998</td>\n      <td>1998-01-01</td>\n    </tr>\n    <tr>\n      <th>4</th>\n      <td>Gunnar Skaug er foreslått valgt til Odelstinge...</td>\n      <td>1998</td>\n      <td>1998-01-01</td>\n    </tr>\n  </tbody>\n</table>\n</div>"
     },
     "execution_count": 102,
     "metadata": {},
     "output_type": "execute_result"
    }
   ],
   "source": [
    "df.head()"
   ],
   "metadata": {
    "collapsed": false,
    "pycharm": {
     "name": "#%%\n"
    }
   }
  },
  {
   "cell_type": "code",
   "execution_count": 103,
   "outputs": [],
   "source": [
    "stopwords = []\n",
    "with open(\"stopwords.txt\",\"r\",encoding=\"utf-8\") as file:\n",
    "    for line in file:\n",
    "        stopwords.append(line.strip())"
   ],
   "metadata": {
    "collapsed": false,
    "pycharm": {
     "name": "#%%\n"
    }
   }
  },
  {
   "cell_type": "code",
   "execution_count": 104,
   "outputs": [],
   "source": [
    "data = df.text.values.tolist()"
   ],
   "metadata": {
    "collapsed": false,
    "pycharm": {
     "name": "#%%\n"
    }
   }
  },
  {
   "cell_type": "code",
   "execution_count": 105,
   "outputs": [
    {
     "name": "stdout",
     "output_type": "stream",
     "text": [
      "573.6402504444122\n"
     ]
    }
   ],
   "source": [
    "new_data = []\n",
    "import time\n",
    "st = time.time()\n",
    "for item in data:\n",
    "    item = str(item).lower()\n",
    "    word_tokens = word_tokenize(item)\n",
    "    filtered_sentence = [w for w in word_tokens if not w in stopwords]\n",
    "    new_data.append(\" \".join(filtered_sentence))\n",
    "et = time.time()\n",
    "print(et-st)"
   ],
   "metadata": {
    "collapsed": false,
    "pycharm": {
     "name": "#%%\n"
    }
   }
  },
  {
   "cell_type": "code",
   "execution_count": 106,
   "outputs": [],
   "source": [
    "#df['text'] = new_data"
   ],
   "metadata": {
    "collapsed": false,
    "pycharm": {
     "name": "#%%\n"
    }
   }
  },
  {
   "cell_type": "code",
   "execution_count": 107,
   "outputs": [],
   "source": [
    "df['text'] = new_data"
   ],
   "metadata": {
    "collapsed": false,
    "pycharm": {
     "name": "#%%\n"
    }
   }
  },
  {
   "cell_type": "code",
   "execution_count": 108,
   "outputs": [],
   "source": [
    "file_path_save = os.path.join(ROOT_PATH,folder_path_data,\"data\",file_name_data)\n",
    "df.to_csv(file_path_save,encoding=\"utf-8\")"
   ],
   "metadata": {
    "collapsed": false,
    "pycharm": {
     "name": "#%%\n"
    }
   }
  },
  {
   "cell_type": "code",
   "execution_count": 109,
   "outputs": [],
   "source": [
    "#save_preprocessed_df_to_file(folder_path_data,\"basic_parlamint.csv\",df)"
   ],
   "metadata": {
    "collapsed": false,
    "pycharm": {
     "name": "#%%\n"
    }
   }
  },
  {
   "cell_type": "code",
   "execution_count": 110,
   "outputs": [],
   "source": [
    "#df = load_from_file(folder_path_data,file_name_data,index_col=0)"
   ],
   "metadata": {
    "collapsed": false,
    "pycharm": {
     "name": "#%%\n"
    }
   }
  },
  {
   "cell_type": "code",
   "execution_count": 111,
   "outputs": [
    {
     "data": {
      "text/plain": "               label\ncount  386795.000000\nmean     2010.553671\nstd         7.108579\nmin      1998.000000\n25%      2004.000000\n50%      2011.000000\n75%      2017.000000\nmax      2022.000000",
      "text/html": "<div>\n<style scoped>\n    .dataframe tbody tr th:only-of-type {\n        vertical-align: middle;\n    }\n\n    .dataframe tbody tr th {\n        vertical-align: top;\n    }\n\n    .dataframe thead th {\n        text-align: right;\n    }\n</style>\n<table border=\"1\" class=\"dataframe\">\n  <thead>\n    <tr style=\"text-align: right;\">\n      <th></th>\n      <th>label</th>\n    </tr>\n  </thead>\n  <tbody>\n    <tr>\n      <th>count</th>\n      <td>386795.000000</td>\n    </tr>\n    <tr>\n      <th>mean</th>\n      <td>2010.553671</td>\n    </tr>\n    <tr>\n      <th>std</th>\n      <td>7.108579</td>\n    </tr>\n    <tr>\n      <th>min</th>\n      <td>1998.000000</td>\n    </tr>\n    <tr>\n      <th>25%</th>\n      <td>2004.000000</td>\n    </tr>\n    <tr>\n      <th>50%</th>\n      <td>2011.000000</td>\n    </tr>\n    <tr>\n      <th>75%</th>\n      <td>2017.000000</td>\n    </tr>\n    <tr>\n      <th>max</th>\n      <td>2022.000000</td>\n    </tr>\n  </tbody>\n</table>\n</div>"
     },
     "execution_count": 111,
     "metadata": {},
     "output_type": "execute_result"
    }
   ],
   "source": [
    "df.describe()"
   ],
   "metadata": {
    "collapsed": false,
    "pycharm": {
     "name": "#%%\n"
    }
   }
  },
  {
   "cell_type": "code",
   "execution_count": 112,
   "outputs": [
    {
     "data": {
      "text/plain": "                                                text  label        date\n0                    innvende etterkomme anmodningen   1998  1998-01-01\n1  fungerende president anmode sekretæren forrige...   1998  1998-01-01\n2  odelstinget foreta valg presidenter sekretærer...   1998  1998-01-01\n3                              foreslår gunnar skaug   1998  1998-01-01\n4  gunnar skaug foreslått valgt odelstingets pres...   1998  1998-01-01",
      "text/html": "<div>\n<style scoped>\n    .dataframe tbody tr th:only-of-type {\n        vertical-align: middle;\n    }\n\n    .dataframe tbody tr th {\n        vertical-align: top;\n    }\n\n    .dataframe thead th {\n        text-align: right;\n    }\n</style>\n<table border=\"1\" class=\"dataframe\">\n  <thead>\n    <tr style=\"text-align: right;\">\n      <th></th>\n      <th>text</th>\n      <th>label</th>\n      <th>date</th>\n    </tr>\n  </thead>\n  <tbody>\n    <tr>\n      <th>0</th>\n      <td>innvende etterkomme anmodningen</td>\n      <td>1998</td>\n      <td>1998-01-01</td>\n    </tr>\n    <tr>\n      <th>1</th>\n      <td>fungerende president anmode sekretæren forrige...</td>\n      <td>1998</td>\n      <td>1998-01-01</td>\n    </tr>\n    <tr>\n      <th>2</th>\n      <td>odelstinget foreta valg presidenter sekretærer...</td>\n      <td>1998</td>\n      <td>1998-01-01</td>\n    </tr>\n    <tr>\n      <th>3</th>\n      <td>foreslår gunnar skaug</td>\n      <td>1998</td>\n      <td>1998-01-01</td>\n    </tr>\n    <tr>\n      <th>4</th>\n      <td>gunnar skaug foreslått valgt odelstingets pres...</td>\n      <td>1998</td>\n      <td>1998-01-01</td>\n    </tr>\n  </tbody>\n</table>\n</div>"
     },
     "execution_count": 112,
     "metadata": {},
     "output_type": "execute_result"
    }
   ],
   "source": [
    "df.head()"
   ],
   "metadata": {
    "collapsed": false,
    "pycharm": {
     "name": "#%%\n"
    }
   }
  },
  {
   "cell_type": "code",
   "execution_count": 113,
   "outputs": [
    {
     "data": {
      "text/plain": "58960"
     },
     "execution_count": 113,
     "metadata": {},
     "output_type": "execute_result"
    }
   ],
   "source": [
    "df.text.map(len).max()"
   ],
   "metadata": {
    "collapsed": false,
    "pycharm": {
     "name": "#%%\n"
    }
   }
  },
  {
   "cell_type": "code",
   "execution_count": 114,
   "outputs": [
    {
     "data": {
      "text/plain": "0"
     },
     "execution_count": 114,
     "metadata": {},
     "output_type": "execute_result"
    }
   ],
   "source": [
    "df.text.map(len).min()"
   ],
   "metadata": {
    "collapsed": false,
    "pycharm": {
     "name": "#%%\n"
    }
   }
  },
  {
   "cell_type": "code",
   "execution_count": 115,
   "outputs": [
    {
     "data": {
      "text/plain": "                                                     text  label        date\n347520  debatten 223 forslag forslagene nr 150 hadia t...   2020  2020-01-01",
      "text/html": "<div>\n<style scoped>\n    .dataframe tbody tr th:only-of-type {\n        vertical-align: middle;\n    }\n\n    .dataframe tbody tr th {\n        vertical-align: top;\n    }\n\n    .dataframe thead th {\n        text-align: right;\n    }\n</style>\n<table border=\"1\" class=\"dataframe\">\n  <thead>\n    <tr style=\"text-align: right;\">\n      <th></th>\n      <th>text</th>\n      <th>label</th>\n      <th>date</th>\n    </tr>\n  </thead>\n  <tbody>\n    <tr>\n      <th>347520</th>\n      <td>debatten 223 forslag forslagene nr 150 hadia t...</td>\n      <td>2020</td>\n      <td>2020-01-01</td>\n    </tr>\n  </tbody>\n</table>\n</div>"
     },
     "execution_count": 115,
     "metadata": {},
     "output_type": "execute_result"
    }
   ],
   "source": [
    "import numpy as np\n",
    "lengths = df[\"text\"].str.len()\n",
    "argmax = np.where(lengths == lengths.max())[0]\n",
    "df.iloc[argmax]"
   ],
   "metadata": {
    "collapsed": false,
    "pycharm": {
     "name": "#%%\n"
    }
   }
  },
  {
   "cell_type": "code",
   "execution_count": 116,
   "outputs": [
    {
     "data": {
      "text/plain": "       text  label        date\n56            1998  1998-01-01\n428           1998  1998-01-01\n768           1998  1998-01-01\n882           1998  1998-01-01\n1225          1998  1998-01-01\n...     ...    ...         ...\n385331        2022  2022-01-01\n386044        2022  2022-01-01\n386296        2022  2022-01-01\n386354        2022  2022-01-01\n386392        2022  2022-01-01\n\n[563 rows x 3 columns]",
      "text/html": "<div>\n<style scoped>\n    .dataframe tbody tr th:only-of-type {\n        vertical-align: middle;\n    }\n\n    .dataframe tbody tr th {\n        vertical-align: top;\n    }\n\n    .dataframe thead th {\n        text-align: right;\n    }\n</style>\n<table border=\"1\" class=\"dataframe\">\n  <thead>\n    <tr style=\"text-align: right;\">\n      <th></th>\n      <th>text</th>\n      <th>label</th>\n      <th>date</th>\n    </tr>\n  </thead>\n  <tbody>\n    <tr>\n      <th>56</th>\n      <td></td>\n      <td>1998</td>\n      <td>1998-01-01</td>\n    </tr>\n    <tr>\n      <th>428</th>\n      <td></td>\n      <td>1998</td>\n      <td>1998-01-01</td>\n    </tr>\n    <tr>\n      <th>768</th>\n      <td></td>\n      <td>1998</td>\n      <td>1998-01-01</td>\n    </tr>\n    <tr>\n      <th>882</th>\n      <td></td>\n      <td>1998</td>\n      <td>1998-01-01</td>\n    </tr>\n    <tr>\n      <th>1225</th>\n      <td></td>\n      <td>1998</td>\n      <td>1998-01-01</td>\n    </tr>\n    <tr>\n      <th>...</th>\n      <td>...</td>\n      <td>...</td>\n      <td>...</td>\n    </tr>\n    <tr>\n      <th>385331</th>\n      <td></td>\n      <td>2022</td>\n      <td>2022-01-01</td>\n    </tr>\n    <tr>\n      <th>386044</th>\n      <td></td>\n      <td>2022</td>\n      <td>2022-01-01</td>\n    </tr>\n    <tr>\n      <th>386296</th>\n      <td></td>\n      <td>2022</td>\n      <td>2022-01-01</td>\n    </tr>\n    <tr>\n      <th>386354</th>\n      <td></td>\n      <td>2022</td>\n      <td>2022-01-01</td>\n    </tr>\n    <tr>\n      <th>386392</th>\n      <td></td>\n      <td>2022</td>\n      <td>2022-01-01</td>\n    </tr>\n  </tbody>\n</table>\n<p>563 rows × 3 columns</p>\n</div>"
     },
     "execution_count": 116,
     "metadata": {},
     "output_type": "execute_result"
    }
   ],
   "source": [
    "lengths = df[\"text\"].str.len()\n",
    "argmax = np.where(lengths == lengths.min())[0]\n",
    "df.iloc[argmax]"
   ],
   "metadata": {
    "collapsed": false,
    "pycharm": {
     "name": "#%%\n"
    }
   }
  },
  {
   "cell_type": "code",
   "execution_count": 117,
   "outputs": [
    {
     "data": {
      "text/plain": "array(['1998-01-01', '1999-01-01', '2000-01-01', '2001-01-01',\n       '2002-01-01', '2003-01-01', '2004-01-01', '2005-01-01',\n       '2006-01-01', '2007-01-01', '2008-01-01', '2009-01-01',\n       '2010-01-01', '2011-01-01', '2012-01-01', '2013-01-01',\n       '2014-01-01', '2015-01-01', '2016-01-01', '2017-01-01',\n       '2018-01-01', '2019-01-01', '2020-01-01', '2021-01-01',\n       '2022-01-01'], dtype=object)"
     },
     "execution_count": 117,
     "metadata": {},
     "output_type": "execute_result"
    }
   ],
   "source": [
    "df['date'].unique()"
   ],
   "metadata": {
    "collapsed": false,
    "pycharm": {
     "name": "#%%\n"
    }
   }
  },
  {
   "cell_type": "code",
   "execution_count": 118,
   "outputs": [
    {
     "data": {
      "text/plain": "<Figure size 800x600 with 1 Axes>",
      "image/png": "[encoded data removed]"
     },
     "metadata": {},
     "output_type": "display_data"
    }
   ],
   "source": [
    "data = df[\"text\"].str.len()\n",
    "\n",
    "fig,ax = plt.subplots(figsize=(8,6))\n",
    "ax.plot(df['date'],data)\n",
    "\n",
    "df['date'] =pd.to_datetime(df['date'])"
   ],
   "metadata": {
    "collapsed": false,
    "pycharm": {
     "name": "#%%\n"
    }
   }
  },
  {
   "cell_type": "code",
   "execution_count": 119,
   "outputs": [
    {
     "data": {
      "text/plain": "0        1998-01-01\n1        1998-01-01\n2        1998-01-01\n3        1998-01-01\n4        1998-01-01\n            ...    \n386792   2022-01-01\n386793   2022-01-01\n386794   2022-01-01\n386795   2022-01-01\n386796   2022-01-01\nName: date, Length: 386795, dtype: datetime64[ns]"
     },
     "execution_count": 119,
     "metadata": {},
     "output_type": "execute_result"
    }
   ],
   "source": [
    "df.date"
   ],
   "metadata": {
    "collapsed": false,
    "pycharm": {
     "name": "#%%\n"
    }
   }
  },
  {
   "cell_type": "code",
   "execution_count": 120,
   "outputs": [
    {
     "name": "stdout",
     "output_type": "stream",
     "text": [
      "Length of vocab: 523405\n"
     ]
    }
   ],
   "source": [
    "vocab = set()\n",
    "df['text'].str.lower().str.split().apply(vocab.update)\n",
    "print(f\"Length of vocab: {len(vocab)}\")"
   ],
   "metadata": {
    "collapsed": false,
    "pycharm": {
     "name": "#%%\n"
    }
   }
  },
  {
   "cell_type": "code",
   "execution_count": 121,
   "outputs": [
    {
     "name": "stdout",
     "output_type": "stream",
     "text": [
      "Max tokens: 58960\n"
     ]
    }
   ],
   "source": [
    "print(f\"Max tokens: {df.text.map(len).max()}\")"
   ],
   "metadata": {
    "collapsed": false,
    "pycharm": {
     "name": "#%%\n"
    }
   }
  },
  {
   "cell_type": "code",
   "execution_count": 122,
   "outputs": [
    {
     "name": "stdout",
     "output_type": "stream",
     "text": [
      "Min tokens: 0\n"
     ]
    }
   ],
   "source": [
    "print(f\"Min tokens: {df.text.map(len).min()}\")"
   ],
   "metadata": {
    "collapsed": false,
    "pycharm": {
     "name": "#%%\n"
    }
   }
  },
  {
   "cell_type": "code",
   "execution_count": 123,
   "outputs": [],
   "source": [
    "vocabulary = list(vocab)"
   ],
   "metadata": {
    "collapsed": false,
    "pycharm": {
     "name": "#%%\n"
    }
   }
  },
  {
   "cell_type": "code",
   "execution_count": 124,
   "outputs": [],
   "source": [
    "with open('your_file.txt', 'w',encoding=\"utf-8\") as f:\n",
    "    for line in vocabulary:\n",
    "        f.write(\"%s\\n\" % line)"
   ],
   "metadata": {
    "collapsed": false,
    "pycharm": {
     "name": "#%%\n"
    }
   }
  },
  {
   "cell_type": "code",
   "execution_count": 125,
   "outputs": [],
   "source": [
    "r = list(df['text'])"
   ],
   "metadata": {
    "collapsed": false,
    "pycharm": {
     "name": "#%%\n"
    }
   }
  },
  {
   "cell_type": "code",
   "execution_count": 126,
   "outputs": [
    {
     "name": "stdout",
     "output_type": "stream",
     "text": [
      "['esakravet', 'sekretærutdanningene', 'konkurranseelementer', 'togproblematikk', 'israelvenner', 'tomatar', '00074arealavgift', 'naudslakt', 'bagasjerommet', 'vaksinasjonsrådgivning', 'gaddafiregimets', 'vertskapsforpliktelser', 'trafikkulykken', 'jevnt', 'kiorovdistriktet', 'utleiereglenes', 'tilbakeføringstransporter', 'dagsordenspunktet', 'sentraliseringslinjen', 'bombardert', 'uttaleorgan', 'bostøtteendringen', 'tsjetsjenerne', 'frådelingsspørsmål', '01012013', '1312', 'säkerhetspolisen', 'hilmar', 'brokryssinger', 'avisreportasjen', 'frontkollisjoners', 'ventetidslister', 'regionledelsen', 'karantenetiltak', 'fradragsført', 'eiendomsmeglertjenester', 'jubileumsuken', 'bjerkreimselva', 'tyverisikkerhet', 'diskrimineres', 'omsetningsbortfallet', 'utdefinert', 'bunninnretninger', 'transplantasjonsteknologi', 'vågeng', 'fylkeslandbruksstyrer', 'strontium90', 'pisten', 'hybridfiskefartøy', 'gasskraftkonsesjonen', 'jernbaneutbedring', 'kommersialiseringsfasen', 'gebyrsiden', 'hamneprosjekt', 'klimarolle', 'støttesamtale', 'klyngeprogrammet', 'grunnpoenget', 'fartsgrensane', 'lærlingeordningene', 'fleirtalet', 'euparlamentet', 'omleggingenmå', 'formueskatt', 'skilsmissekontorer', 'dips', 'skoleeieransvar', 'kontraindisert', 'rovvilttap', 'kulturmyndigheter', 'trallen', 'jaspreet', 'pasientfly', 'betydningsfulle', 'tilstelninger', 'tromsøfusjonen', 'skysskafferkontrakter', '1174', 'hovudarbeidsmåten', 'sjømannspensjonister', 'valkyrkjelydar', 'grunnmateriale', 'torskeprisene', 'integritetskrenking', 'godskøyring', 'timinutterssystemet', 'landsdels', 'regulera', 'stålkonstruksjon', 'gjennomfartsårene', 'etterretningsorganisasjon', 'fartøyets', 'overtidsramma', 'kastende', 'beløpetdepartementet', 'utvisningsregler', 'tostatsprosjektet', 'investeringkapital', 'merita', 'fellesbad', 'lettstelt', 'åpningen', 'enkeltaktør', 'næringslivsfeltet', 'nordmennmunterhet', 'granbarkbillen', 'behovsfinansiering', 'rikskringkastings', 'komitebehandlinga', 'framsagt', 'vekstregionen', 'vegstatsråden', 'hiområder', 'airpiloter', 'pandemitilstanden', 'telegraflinjene', 'antibiotikaforbruk', 'landtilland', 'arveavgiftssaker', 'selvmedisinerer', 'vasskraftanlegg', 'granskingene', 'fiskeriressurser', 'obosstandard', 'nøysomt', 'geografidebatt', '87åring', 'helårsbasert', 'betalingsdirektiv', 'tillatelsessystemet', 'tilsynsrolle', 'grunneierbidrag', 'telehivet', 'nymerking', 'kapillærnettet', 'nedskrive', 'landmålingstjenesten', 'detaljovervåkning', 'teknikkar', 'transportsykling', '4060vedtaket', 'stoffbruk', 'egelands', 'skoleeksemplet', 'diktatorenes', 'leserbrevet', 'distriktsansatte', 'forenklingsprosessene', 'miljøvernmyndighetens', 'gassreservane', 'letesubsidiene', 'eh101', 'embetskonsultasjoner', 'klubbnkk', 'totalbruk', 'drosjesentraler', 'logging', 'pengemarkedsfond', 'plasseringar', 'dypvannsboring', 'veta', 'klagesaksbehandlinga', 'reformeringar', 'førstelinjeberedskap', 'togstyringssystem', 'konverter', 'matvareforedling', 'kveldsopne', 'hovedpunkters', 'innehadde', 'eiendomsmegleren', 'vedlikeholdsplanen', 'forskole', 'jernbaneopptatt', 'campusdiskusjon', 'næringsfrihet', 'omtolkes', 'från', 'beitland', 'lovbestemmelsepresidenten', 'fylkestingsbehandlinga', 'registreringsopplysninger', 'målsetjinga', 'mitchellkommisjonens', 'hål', 'hjemstatsbeskatning', 'tvangsutsenda', 'transportløysing', 'nullutslippsteknologidrivstoff', 'stanspunkt', 'utskiftingsbehovet', 'opphevetglassseagal', 'sysselsysselsetting', 'avdelingsgrensene', 'skuleungar', 'luftromskontroll', 'klumpar', 'vernerunde', 'undervurderte', 'skifergassprisene', 'ohoi', '2020ordning', 'torsketrålkvoten', 'ulsteingruppen', 'føretok', 'oppdatert', 'narkokriminalitet', 'overgangslov', 'minoritetsstempel', 'luseforskrifter', 'prestisjereformene', 'ordensmakta', 'studiemestring', 'vakttime', 'forstandarskapet', 'handelsbildet', '8131', 'restfylkene', 'omsorgsdekning', 'badetur', 'uhelsa', 'rekreerer', 'mandatet', 'svertet', 'kvasirer', 'forespeilt', 'proformadialog', 'søsknene', 'overtidsregelverk', 'skinninnflytelse', 'personsensitive', 'hovudbygning', 'kampsaker', 'anteke', 'ansvarssettingen', 'mottrekka', '1060', 'bpabruker', 'hauglieh', 'barnemigranter', 'videreutdanningsutgiftene', 'avgiftspåfunnet', 'konseptutformingen', 'omdøpte', 'lottinntekter', 'virknin', 'oppgjørsnemnd', 'demensavdelinger', 'legesekretærer', 'bistandsfeltet', 'skadendenne', 'innbrotet', 'enøkdelen', 'mengdereguleringar', 'presidentskapsmedlem', 'kvalitetsutfordringa', 'køfellesskap', 'boreløyve', 'forteljartradisjon', 'meirverdiavgiftsunndragingar', 'kunnskapsmiljøet', 'vegsatsinger', 'sfobetalingen', 'ellevemetersgruppen', 'entrykommuner', 'flyforbudsvedtak', 'overfallvoldtekter', 'finansministerstolen', 'tvistforhold', 'bakvaktbestemmelsen', 'koronakompensasjon', 'koordinatorfunksjonen', 'grensekommissariatet', 'individualiseringen', 'grothogstavfall', 'sjøleid', 'brøytemannskaper', 'menneskerettighetssammenheng', 'gassferjene', 'bostøtteordingen', 'rådgivingsordningar', 'oppbyggingen', 'inngangspartiene', 'konfliktrådsløsning', 'protonterapi', 'overbudsbudsjett', 'kokainmisbruk', 'utdanningsperspektivet', 'skippertakstilnærming', 'nøkkelhull', 'tiltaksplassen', 'aksjesiden', 'fellesmåla', 'ervillige', 'utfra', 'skogstrøka', 'udenlandske', 'hmskortbestilling', 'distriktsvennleg', 'subarktiske', 'grunnlovsendringen', '2005kroner', 'barnforskriften', 'hjørnetann', 'eiertomter', 'innvandrarar', 'aekteskap', 'luftvern', 'næringsfiendtlig', 'strasbourgdommen', 'aktivitetsordninger', '5250', 'arbeidstidsreglar', 'loseffektiviseringsprosjektet', 'sjåfør', 'jordgrunnlag', 'sjukehustale', 'reoppnevning', '0701', 'mostrapporten', 'investeringsbiletet', 'fylkesnes', 'arbeidsregionene', 'dyrevernalliansens', 'ledelseslitteratur', 'krigstilfælde', 'torpa', 'nisjestandpunkt', 'dieselen', 'lånekunden', 'svstatsrådenes', 'teknologibat', 'iktinvesteringane', 'områdefordelingen', 'akademiskøkonomiske', 'virkemiddelpakke', 'byenevi', 'konkurranseregulerende', 'overvåkingssentral', 'parisfra', 'resepsjonister', 'regjeringsinterne', 'særrettene', 'minoritetsmiljøa', 'brannvernkomité', 'helsegevinstar', 'utskrivningsprosess', 'desentralisterte', 'beredskapspolitikere', 'samarbeidsmøte', 'simulatoren', 'farledsutbedringer', 'forsvarssystemene', 'kjøpesterke', 'ventemottakene', 'sykdommenes', 'ferskfiske', 'wwwbabyverdenno', 'betros', 'redningstenestene', 'arbeidsgivertilknytning', 'miljømessig', 'lønnsfunksjoner', 'skattsystem', 'nestekjærleikens', 'stekt', 'nedlastes', 'kvalifikasjonsnivå', 'fylkestingsperioden', 'engangsutgifter', 'nemningar', 'kjøregrupper', 'dimisjonsgodtgjørelse', 'markedene', 'nystekte', 'båtsfjordfabrikken', 'framlagd', 'behandlingsrett', 'kostnadseffektiviseringen', 'distriktsdemografiutvalget', 'titusenar', '810020002001', 'haave', 'anleggsentreprenørene', 'habiliteringsstrategien', 'økerdet', 'markelov', 'komiteenes', 'musikalproduksjoner', 'myndiggjør', 'landbruksvennlige', 'industrimeldingens', 'dnabruk', 'nøytralkompetanse', 'eøstilknytinga', 'sammenligningsgruppen', 'lagringsmetoden', 'medholdsandel', 'realisering', 'nordnorgeplanen', 'sykere', 'pelsdyrboomen', 'husholdskostnader', 'eresepter', 'iktsikkerhetspersonell', 'meislet', 'arealnøytraliteten', 'tauslepebåtene', 'byborgere', 'mastere', 'turistløype', 'forseringsmuligheter', 'risikolånordning', 'melaninrik', 'innkallingsretten', 'samfunnssjikt', 'partikompisane', 'slakteoppgjøret', 'kvoterasjonering', 'embetsmessige', 'utbygginger', 'minimumslønn', 'flerpartiregjering', 'lundefuglen', 'smittefritt', 'samfunnsoppdraga', 'tendensene', 'overgjev', 'samtalesituasjoner', 'geniale', 'katalysatorteknologi', 'rettigheder', 'frontavsnitt', 'fagtrengsel', 'murere', 'intervensjoner', 'helhetsvurdering', 'matserveringstilbudet', 'tørkeerstatning', 'tobakksinvesteringer', 'erkjøp', 'tiltrekkingseffekt', 'sammenflette', 'skogsalgene', 'industrimaskiner', 'næringslivsaktiviteter', 'folketrygdytelsene', 'friarane', 'krigshelvete', 'letemiljøene', 'preferansekapitalinstrumentet', 'undersøkingstid', 'bjørgokryssetnedre', 'yrkeslærde', 'petroleumsskatteregnskapet', 'landbruksbistanden', 'normalrentesatsen', 'gradsforskriftsproblematikken', 'våpenteknologi', 'tobakksskadeforebyggende', 'skogvirke', 'divisjonsmodellen', 'kappostkronerutgifter571rammetilskudd', 'attføringsperioden', 'landstrømmidlene', 'motorsykkelunionen', 'bomsatsene', 'selskapsgruppen', 'passøkerkontorer', 'pgdnemnd', 'institusjonssammenheng', 'vaksinasjonsordning', 'klassetal', 'drgindeks', 'trafikkorken', 'momsgevinst', 'trumpregjeringens', 'brystkreftdiagnose', 'oppbyggingsperiode', 'sødra', 'edbregisteret', 'masud', 'velplasserte', 'wadsystemet', 'begjærende', 'overgrep20162017', 'so2utslipp', 'lossystemet', 'slettemekanismepresidenten', 'bostedsløseprosjektet', 'tjen', 'plonkpolitisk', 'togtidene', 'gjeldsletteordninger', 'brukdriftstillegget', 'faginnslag', 'næringsutviklingsprogrammer', 'undervisningsfaget', 'cfp', 'spesialundervisning1driftsutgifter', 'generasjonsskifte', 'lamhandlingsreformen', 'skuletrøtt', 'nasjonalspråket', 'sosialhjelpsmottakarar', 'ilmenittsmelteverket', 'organisasjonsdata', 'tekstiltoll', 'revitaliseres', 'tiggerstaven', 'altsåmunterheit', 'lokalesituasjonen', 'planleggingsarbeid', 'scrapi', 'fredsavtaleforankring', 'eksportsatsingen', 'tilkomme', 'nyutbygde', 'fagkomités', '00080ny', 'uegnet', 'aserbajdsjanske', 'uoppsigelighet', 'usynleggjord', 'pstordninga', 'hauge', 'inntektsvirkningen', 'differensieringsmuligheter', 'fiskeriavsnittet', 'liding', 'byggherreoppgaver', 'kratt', 'valgthinget', 'utegløymd', 'oppfølgingsgruppen', 'systemers', 'utenomstatlige', 'iktforskningen', 'omkjøringsmuligheter', 'legeutdanning', 'kvalen', 'rettsskapende', 'kjærleiken', 'kapitalmakta', 'militærberedskap', 'parkeres', 'statuering', 'köln', 'kommunikeene', 'teknologikunnskap', 'grunneierinteressentene', 'lottsystemet', 'seksåringsreformen', 'mensch', 'enerskole', 'bereg', 'overlegemedisinsk', 'narkotikatesting', 'teddybjørnen', 'matpapir', 'temaet', 'narkotikabruken', 'delpensjonering', '2lisensen', 'eskilstuna', 'regimeplanlagte', 'tilvotering', 'hovedusikkerhetsmoment', 'irakmellommannsrolle', 'doktorgradstettleiken', 'our', 'utdelingspolitikk', 'regjeringsvennen', 'terrorsiktede', '62årsdagen', 'roquefort', 'selvforskyldt', 'matkriser', 'skogsturer', 'bydelsøkonomi', 'yrkessjåførutdanningen', 'innovasjonskjeda', 'granskingetterforskning', 'knivar', 'tilpasningsmulighetene', 'skolelever', 'lokalorganisasjonen', 'hjelpetilbudet', 'utenlandseide', 'farleisituasjonen', 'kommunestørrelse', 'hadselsfjordtunnelen', 'deltakerlignet', 'rekrutteringskonsert', 'lørdagsutgave', 'plasseringsarbeidet', 'planretningsliner', 'attføringssituasjon', 'kjøkkenkniv', 'forandringsviljen', 'småbedriftsfiendtlige', 'rotnar', 'seksåringane', 'beredskapssituasjoner', 'livvidde', 'eating', 'gardsbaserte', 'rettspraksisbasert', 'klinkekompetanse', 'myndigheitoppgåvene', 'tbanestasjoner', 'dias', 'produksjonsskoleforsøkene', 'vekstgevinst', 'demenslignende', 'skatteteknisk', 'lpen', 'kraftfylka', 'ikkealminnelig', '100metersforbudet', 'liberaliseringsentusiastene', 'buskap', 'samhandlingsreformas', 'skilsmisserett', 'spørjerunden', 'tvillinger', 'matpakker', 'glansdagar', 'leverandørregister', 'helse154', 'utbyggingsalternativa', 'cruiseanløpet', 'kontantbeløp', 'massevandring', 'utbyggingsgruppen', 'spillkultur', 'kjøttslaga', 'kraftmessig', '3264jf', 'sufficient', 'barnevernsdebatten', 'personkunnskap', 'sukkervareindustrien', 'tvoverføringer', 'multikulturen', 'frisklivssentraler', 'sykepenge', 'bergensavisen', 'hovedveistrekninger', 'fvi', 'delutdanningen', 'mitthode', 'fagskoleplassene', 'rovviltsikkert', 'ulandsordningen', 'samferdselsstrategier', '1334', 'saksbehandlingskøa', 'brannfare', 'article', 'utdanningsforsker', 'korrigeringar', 'bemanningsføretaket', 'multireligiøse', 'kulturutøvelsen', 'kravtsjenko', 'rehabiliteringsarbeidene', 'tvangsfjernet', 'gjenoppta', 'masai', 'dommerkurs', 'pedagogikkstudentene', 'nødrettsbetraktninger', 'gravferdsstønaden', 'sørøsterdalsregionen', 'gw', 'klinikarar', 'medrepresentantar', 'seselskap', 'utfytterfolk', 'opsjonsordninger', 'kulturmiljøene', 'kursangivelse', 'konvensjonsforpliktet', 'gjennomsyres', 'strømvedtak', 'stivheter', 'beiteberettigede', 'weight', 'journalistisk', 'sukkerinntaket', 'tenestebustader', 'desinfiserte', 'realverdier', 'gårdsbarnehager', 'uforskyldt', 'børssaken', 'overlykkeleg', 'arealverdi', 'heroinavhengige', '48yrkessjåførdirektivet', '74351012', 'abortsøker', 'klimatförändringar', 'utbyggingsvirksomhet', 'handlevarene', 'kraftkjøperselger', 'promilleøkning', 'fylkesmannsnivået', 'ingssentral', 'legemiddelbrukeren', 'utdanningsdirektorat', 'imfsammenheng', 'fiskeriaktivitetene', 'forliksforhandling', 'samarbeidsklausuler', '0515', 'brynjulf', 'forkjempere', 'plyndrer', 'miljøbiler', 'mailutveksling', 'uttredenen', 'fortrengningseffekten', 'hovudorganisasjonane', 'skoledød', 'mangfoldsmeldingen', 'med401', 'fornøydheten', 'alkoholproblemene', 'rovdyrfeltet', 'corp', 'støttevoll', 'code', 'printere', 'fingre', 'innstrammingsbyrden', 'rettstryggleiksprinsippet', 'stridstemaer', 'nabolagseffektene', 'atombaserte', 'juletiden', 'myndighetsetatene', 'fjerntogreisende', 'bankbygg', 'tonningriises', 'krajnij', 'samanlika', 'badeværelset', 'erstatningsråstoff', 'wtoregi', 'eystein', 'anskaffelsesforskriften', 'utslippet', 'statistikksystemet', 'myrplan', 'forebyggings', '4406jf', 'navnebruk', 'togpassasjerer', 'røykestopp', 'tjenesteyterne', 'samfunnsmidler', 'kssats', 'natohovudkvarteret', 'parlamentsvalgene', 'rolledannelser', 'henriksenfor', 'utskjenking', 'tilleggsløyvingane', '10årig', 'bonustildelinger', 'merinntektsfullmakten', 'kapillærvegnett', 'bedriftspakker', 'korttittelen', 'ruskete', 'næringsutvikleren', 'valgkamplokaler', 'nedtegnes', 'initiativdebatt', 'klimasikring', 'fiskeoppdrettsindustrien', 'eiermessig', 'helhetsoversikt', 'øybuarane', 'trugselvurderinga', 'matvaresikkerheit', 'kystoppsynet', 'klangbunnen', 'siktemåla', 'kommuneløftet', 'overenskomstlønte', 'sonetilknytningen', 'øyenfallende', 'endringa', 'voldgiftsdommere', 'brukthandelforskrifta', 'nasjonalregnskap', 'pisadiskusjonen', 'energikilderdet', 'deltidsstyrke', 'finansieringsmetoder', 'fylkessammensetningen', 'karakteristikkane', 'småfag', 'nr13', 'førskulelærarutdanning', 'gassuttak', 'finansinvestorene', 'strålevernsforvaltning', 'kompetanseanalysen', 'sarnesfjorden', 'helhetsforsvar', 'sundvoldenplattforma', 'shwe', 'uhederlighet', 'casualgrupper', 'borehol', 'kraftkabelkonflikten', 'heildagstilbod', 'kabla', 'beskyttelsesregimer', 'høykompetansearbeidskraft', 'astri', 'meirveksten', 'erfaringenepresidenten', 'foreldrestøttefeltet', 'publikumsundersøkingar', 'jernbanereformens', 'samvere', 'jordvernets', 'seniortiltakene', 'nemndhandsaming', 'temabehandling', 'kiropraktorutdanningene', 'kampflybase', 'vadas', 'havnebehov', 'manøver', 'sluttfakturaen', 'fjernvarmeselskapene', 'dum', 'stormaktsrivaliseringen', 'genteknologiloven', 'accompli', 'matmangelen', 'kunnskapsoverføringen', 'konfliktsonene', 'veu', 'topartsforholdet', 'meldingsforespørsel', 'pleier', 'forvaltningskapitalen', 'nyskapingsprosess', 'fredsbevegelsens', 'søstersolidaritetens', 'næringslivsfolket', 'nybilprisene', 'ungdomsvennlig', 'forbrukerfeltet', 'sluttbehandlingsavgiften', 'openheit', 'skogsbilvegbygging', 'småskalaturisme', 'fengslingsregler', 'barnefødt', 'garantireglene', 'sjarlatan', 'varetakinga', 'deponeringer', 'humanitærhjelp', 'tungoljediskusjonen', 'presumsjonsregel', 'potten', 'bnpet', 'monsteromgrepet', 'artilleribataljon', 'frivillighetsmidlene', 'trafikklovbrot', 'lagringsfrihet', 'skoleinnhold', 'sysselsettingi', 'flommende', 'nordhordaland', 'klarleggende', 'hamnekassa', 'lovgivningskompetanse', 'nordområdeutredning', 'godstiltak', 'småfragmenter', 'kommunedelsplaner', 'finansieringsmåtane', 'mortsund', 'euomlegging', 'lekmannsperspektiv', 'overskjering', 'låvedør', 'søkegode', 'lillelien', 'bortføringer', 'stamveinettet', 'herredøme', 'mayensonen', 'nødhjelpsmidlene', '110kilometersgrense', 'langrennsløypa', 'skredetat', 'biogassfabrikk', 'elevplass', 'katalogiseringsprosjekt', 'laboratoriemedisin', 'lokalsykehuskapasitetsbehovet', 'miljøforebyggende', 'gjennomføringsorgan', 'firkantetheten', 'personopplysningsforskriftens', 'justismyndigheiter', 'livingbevegelse', 'bedøvelsesmateriell', 'miljøavgiftssystemet', 'jordmortilbud', 'middelalderprosjekt', 'sjukmeldingsbiletet', 'fartsskriverkort', 'kapittelfestivalen', 'hjelpere', 'sigrid', 'statsimmunitet', 'doktrinært', 'internasjonaliseringsstrategi', 'søkerkurs', 'spone', 'fylkesgarantien', '6askoler', 'norunn', 'disposisjon', 'hysas', 'lønnsomhetsbegrepet', 'skipbrudne', 'vindmølleutbygginger', 'terroristane', 'høyaktive', 'kompetansesentertilbud', 'førlegheit', 'hensiktsmessigpresidenten', 'sheriffene', 'støres', 'stemmestedene', 'prosentkrav', 'lekfulla', 'borettshaverne', 'bomarkedet', 'meirverdiavgift', 'statsbedrift', 'fcks', 'ettermiddagsrush', 'nordnorgeutvalget', 'handelshindringane', 'visumpolitikk', 'nølere', 'lerø', 'ntpdokumentet', 'sjølis', 'forsyningsstrukturen', 'raif', 'næringsføremål', 'utferdige', 'foreleserens', 'kabelbransje', 'nissefest', 'menighetsrådene', 'sluttprosess', 'støttepunkta', '1309', 'delelinjeavtalen', 'stortingsdokumenter', 'vasskraftkommunar', 'attsnøa', 'sikkerheitsgraderte', 'ytringskanaler', 'vulgarisering', 'bispedømmenivå', 'sheeran', 'statsbudsjettsamanhengen', 'garnene', 'høyprofilert', 'filtloft', 'osloskien', 'kappostformålkroner221tilskudd', 'skatteordning', 'lyntogdebatten', 'fritidsfiske', 'dobbeltadministrering', 'veiledes', 'eierselskap', 'gymnastikkundervisning', 'junk', 'anskaffast', 'ranelva']\n"
     ]
    }
   ],
   "source": [
    "print(vocabulary[0:1000])"
   ],
   "metadata": {
    "collapsed": false,
    "pycharm": {
     "name": "#%%\n"
    }
   }
  },
  {
   "cell_type": "code",
   "execution_count": 127,
   "outputs": [
    {
     "name": "stdout",
     "output_type": "stream",
     "text": [
      "Tokens in dataset: 291364127\n"
     ]
    }
   ],
   "source": [
    "res = 0\n",
    "for item in r:\n",
    "    res+= len(item)\n",
    "print(f\"Tokens in dataset: {res}\") # helt feil teller med mellomrom osv \\n også"
   ],
   "metadata": {
    "collapsed": false,
    "pycharm": {
     "name": "#%%\n"
    }
   }
  },
  {
   "cell_type": "code",
   "execution_count": 128,
   "outputs": [
    {
     "name": "stdout",
     "output_type": "stream",
     "text": [
      "[386795, 523405, 31352260, 59.90057412519941, 81.05652865212839, 0.0, 10627, 0]\n"
     ]
    }
   ],
   "source": [
    "from utils.dataset_stats import get_data_stats\n",
    "from utils.filemanagement import write_dataset_stats\n",
    "\n",
    "stats = get_data_stats(df['text'])\n",
    "print(stats)\n",
    "\n",
    "write_dataset_stats(folder_path_data,file_name_data,stats)"
   ],
   "metadata": {
    "collapsed": false,
    "pycharm": {
     "name": "#%%\n"
    }
   }
  },
  {
   "cell_type": "code",
   "execution_count": 128,
   "outputs": [],
   "source": [],
   "metadata": {
    "collapsed": false,
    "pycharm": {
     "name": "#%%\n"
    }
   }
  }
 ],
 "metadata": {
  "kernelspec": {
   "display_name": "Python 3",
   "language": "python",
   "name": "python3"
  },
  "language_info": {
   "codemirror_mode": {
    "name": "ipython",
    "version": 2
   },
   "file_extension": ".py",
   "mimetype": "text/x-python",
   "name": "python",
   "nbconvert_exporter": "python",
   "pygments_lexer": "ipython2",
   "version": "2.7.6"
  }
 },
 "nbformat": 4,
 "nbformat_minor": 0
}