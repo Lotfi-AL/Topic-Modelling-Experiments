{
 "cells": [
  {
   "cell_type": "code",
   "execution_count": 1,
   "metadata": {
    "collapsed": true,
    "ExecuteTime": {
     "start_time": "2023-06-04T21:01:38.225317Z",
     "end_time": "2023-06-04T21:01:53.889889Z"
    }
   },
   "outputs": [],
   "source": [
    "from top2vec import Top2Vec\n",
    "from gensim.models.coherencemodel import CoherenceModel\n",
    "import os\n",
    "import pandas as pd\n",
    "from nltk.tokenize import word_tokenize\n",
    "\n",
    "import gensim.corpora as corpora\n",
    "from utils.config import random_sample,seed"
   ]
  },
  {
   "cell_type": "code",
   "execution_count": 2,
   "outputs": [],
   "source": [
    "import os\n",
    "import pandas as pd"
   ],
   "metadata": {
    "collapsed": false,
    "ExecuteTime": {
     "start_time": "2023-06-04T21:01:53.892881Z",
     "end_time": "2023-06-04T21:01:53.905847Z"
    }
   }
  },
  {
   "cell_type": "code",
   "execution_count": 3,
   "outputs": [],
   "source": [
    "from utils.filemanagement import load_from_file, write_topics_file, get_project_root\n",
    "\n",
    "model_type = \"top2vec\"\n",
    "model_name = \"Top2Vec\"\n",
    "embedding_model = \"TDE-nb-sbert-base\"\n",
    "data_type = \"np_mini_stopwords\"\n",
    "file_name=f\"{model_type}_{embedding_model}_{data_type}\"\n",
    "folder_path_data =f\"preprocessed_data\"\n",
    "\n",
    "\n",
    "experiment=\"embedding\"\n",
    "folder_path_topics = f\"preprocessed_data/results/embedding/{model_type}\"\n",
    "folder_path_word_cloud = f\"preprocessed_data/wordclouds/{experiment}/{model_type}/{file_name}\"\n",
    "file_name_data = f\"{data_type}.csv\"\n",
    "\n",
    "\n",
    "folder_name = f\"Embedding-experiment/models/{model_type}\"\n",
    "ROOT_PATH = get_project_root()\n",
    "file_path = os.path.join(ROOT_PATH,folder_name,file_name)\n",
    "\n",
    "\n",
    "df = load_from_file(folder_path_data,file_name_data)\n",
    "\n",
    "\n",
    "\n",
    "data = df.text.values.tolist()\n",
    "new_data = []\n",
    "for item in data:\n",
    "    new_data.append(str(item))"
   ],
   "metadata": {
    "collapsed": false,
    "ExecuteTime": {
     "start_time": "2023-06-04T21:01:53.911831Z",
     "end_time": "2023-06-04T21:01:53.983638Z"
    }
   }
  },
  {
   "cell_type": "markdown",
   "source": [],
   "metadata": {
    "collapsed": false
   }
  },
  {
   "cell_type": "code",
   "execution_count": 4,
   "outputs": [],
   "source": [
    "topic_model = None\n",
    "try:\n",
    "    topic_model = Top2Vec.load(file_path)\n",
    "except:\n",
    "    print(\"success\")\n",
    "    topic_model = Top2Vec(documents=new_data,embedding_model=\"flair\",transformer_document_embeddings=True,embedding_model_path=\"NbAiLab/nb-sbert-base\")"
   ],
   "metadata": {
    "collapsed": false,
    "ExecuteTime": {
     "start_time": "2023-06-04T21:01:53.986630Z",
     "end_time": "2023-06-04T21:01:54.062427Z"
    }
   }
  },
  {
   "cell_type": "code",
   "execution_count": 5,
   "outputs": [],
   "source": [
    "topic_model.save(file_path)"
   ],
   "metadata": {
    "collapsed": false,
    "ExecuteTime": {
     "start_time": "2023-06-04T21:01:54.065422Z",
     "end_time": "2023-06-04T21:01:54.186607Z"
    }
   }
  },
  {
   "cell_type": "code",
   "execution_count": 6,
   "outputs": [
    {
     "name": "stdout",
     "output_type": "stream",
     "text": [
      "flair\n"
     ]
    }
   ],
   "source": [
    "print(topic_model.embedding_model)"
   ],
   "metadata": {
    "collapsed": false,
    "ExecuteTime": {
     "start_time": "2023-06-04T21:01:54.187606Z",
     "end_time": "2023-06-04T21:01:54.201568Z"
    }
   }
  },
  {
   "cell_type": "code",
   "execution_count": 7,
   "outputs": [
    {
     "name": "stdout",
     "output_type": "stream",
     "text": [
      "2\n"
     ]
    }
   ],
   "source": [
    "num_topics = topic_model.get_num_topics()\n",
    "print(num_topics)"
   ],
   "metadata": {
    "collapsed": false,
    "ExecuteTime": {
     "start_time": "2023-06-04T21:01:54.206554Z",
     "end_time": "2023-06-04T21:01:54.224142Z"
    }
   }
  },
  {
   "cell_type": "code",
   "execution_count": 8,
   "outputs": [],
   "source": [
    "topic_sizes, topic_nums = topic_model.get_topic_sizes()"
   ],
   "metadata": {
    "collapsed": false,
    "ExecuteTime": {
     "start_time": "2023-06-04T21:01:54.218160Z",
     "end_time": "2023-06-04T21:01:54.235113Z"
    }
   }
  },
  {
   "cell_type": "code",
   "execution_count": 9,
   "outputs": [],
   "source": [
    "topic_words, word_scores, topic_nums = topic_model.get_topics(num_topics)"
   ],
   "metadata": {
    "collapsed": false,
    "ExecuteTime": {
     "start_time": "2023-06-04T21:01:54.235113Z",
     "end_time": "2023-06-04T21:01:54.264035Z"
    }
   }
  },
  {
   "cell_type": "code",
   "execution_count": 10,
   "outputs": [],
   "source": [
    "topic_word_scores = [dict(zip(topic_words[i][:], word_scores[i])) for i in topic_nums]"
   ],
   "metadata": {
    "collapsed": false,
    "ExecuteTime": {
     "start_time": "2023-06-04T21:01:54.252067Z",
     "end_time": "2023-06-04T21:01:54.265033Z"
    }
   }
  },
  {
   "cell_type": "code",
   "execution_count": 11,
   "outputs": [
    {
     "data": {
      "text/plain": "(array([['politikken', 'prioritering', 'regjeringens', 'politikk',\n         'politikere', 'partiene', 'prioriterer', 'aktører', 'høring',\n         'engasjement', 'opposisjonen', 'myndighetene', 'velferd',\n         'representanter', 'helsevesenet', 'regjeringer',\n         'saksordføreren', 'organisasjonene', 'ordninger', 'prioritere',\n         'utfordringene', 'representantene', 'engasjementet',\n         'helseministeren', 'prioritert', 'regjeringen', 'styrking',\n         'barnevernet', 'stortingets', 'begrunnelse', 'organisasjoner',\n         'virkemidler', 'valg', 'myndigheter', 'skattelette',\n         'sammenhenger', 'utredning', 'partier', 'fremmet', 'stortinget',\n         'gjennomslag', 'utfordringer', 'velger', 'standpunkt',\n         'bistanden', 'avtaler', 'statsradens', 'statens', 'opposisjon',\n         'satsingen'],\n        ['ingenting', 'negative', 'manglende', 'umulig', 'unødvendig',\n         'stille', 'mal', 'alene', 'mangel', 'dokument', 'slett',\n         'problem', 'formal', 'uenig', 'forstatt', 'malsetting',\n         'mangler', 'uavhengig', 'darlig', 'sapass', 'fall', 'vapen',\n         'darligere', 'gratis', 'fattigdom', 'slippe', 'fengsel',\n         'darlige', 'posten', 'ordet', 'eus', 'galt', 'motsatte', 'feil',\n         'press', 'stoppe', 'slipper', 'fri', 'mate', 'skrevet',\n         'menneske', 'virkeligheten', 'brev', 'slutte', 'forbud',\n         'person', 'ment', 'lav', 'skrive', 'fattige']], dtype='<U15'),\n array([[0.62671536, 0.61766434, 0.61195815, 0.61035436, 0.6096994 ,\n         0.6077287 , 0.60485965, 0.6039184 , 0.60210276, 0.5985284 ,\n         0.5982507 , 0.5939335 , 0.5884137 , 0.5873095 , 0.58681387,\n         0.584764  , 0.5846689 , 0.583458  , 0.58250445, 0.58120996,\n         0.5795985 , 0.57637715, 0.575958  , 0.57572687, 0.575597  ,\n         0.575366  , 0.57449615, 0.5742815 , 0.572491  , 0.57236594,\n         0.57225156, 0.5721418 , 0.5718224 , 0.5713626 , 0.5709672 ,\n         0.5707849 , 0.5706738 , 0.5705681 , 0.57048035, 0.5693841 ,\n         0.56926537, 0.56889045, 0.5679974 , 0.5654863 , 0.56533873,\n         0.56445134, 0.5638805 , 0.56386256, 0.5633751 , 0.56296194],\n        [0.5316267 , 0.4896797 , 0.46726704, 0.46561936, 0.45256063,\n         0.45236146, 0.4469988 , 0.4430347 , 0.43997535, 0.42023593,\n         0.41924784, 0.41431278, 0.41264972, 0.40226084, 0.39632472,\n         0.39598343, 0.39310807, 0.3899481 , 0.38938144, 0.38028288,\n         0.3765255 , 0.37391084, 0.37337252, 0.370542  , 0.3699041 ,\n         0.36714906, 0.36674392, 0.36505884, 0.363678  , 0.3632438 ,\n         0.36257496, 0.36152408, 0.36065027, 0.35964313, 0.35890865,\n         0.35868782, 0.3557687 , 0.35479975, 0.3541078 , 0.35407263,\n         0.35347387, 0.35319144, 0.35303962, 0.3529492 , 0.34964627,\n         0.3494361 , 0.3486975 , 0.348196  , 0.34810877, 0.34730175]],\n       dtype=float32),\n array([0, 1]))"
     },
     "execution_count": 11,
     "metadata": {},
     "output_type": "execute_result"
    }
   ],
   "source": [
    "topic_model.get_topics()"
   ],
   "metadata": {
    "collapsed": false,
    "ExecuteTime": {
     "start_time": "2023-06-04T21:01:54.266030Z",
     "end_time": "2023-06-04T21:01:54.278996Z"
    }
   }
  },
  {
   "cell_type": "code",
   "execution_count": 11,
   "outputs": [],
   "source": [],
   "metadata": {
    "collapsed": false,
    "ExecuteTime": {
     "start_time": "2023-06-04T21:01:54.279993Z",
     "end_time": "2023-06-04T21:01:54.307917Z"
    }
   }
  },
  {
   "cell_type": "code",
   "execution_count": 12,
   "outputs": [
    {
     "name": "stdout",
     "output_type": "stream",
     "text": [
      "\n",
      " 0\n",
      "{'politikken': 0.62671536, 'prioritering': 0.61766434, 'regjeringens': 0.61195815, 'politikk': 0.61035436, 'politikere': 0.6096994, 'partiene': 0.6077287, 'prioriterer': 0.60485965, 'aktører': 0.6039184, 'høring': 0.60210276, 'engasjement': 0.5985284, 'opposisjonen': 0.5982507, 'myndighetene': 0.5939335, 'velferd': 0.5884137, 'representanter': 0.5873095, 'helsevesenet': 0.58681387, 'regjeringer': 0.584764, 'saksordføreren': 0.5846689, 'organisasjonene': 0.583458, 'ordninger': 0.58250445, 'prioritere': 0.58120996, 'utfordringene': 0.5795985, 'representantene': 0.57637715, 'engasjementet': 0.575958, 'helseministeren': 0.57572687, 'prioritert': 0.575597, 'regjeringen': 0.575366, 'styrking': 0.57449615, 'barnevernet': 0.5742815, 'stortingets': 0.572491, 'begrunnelse': 0.57236594, 'organisasjoner': 0.57225156, 'virkemidler': 0.5721418, 'valg': 0.5718224, 'myndigheter': 0.5713626, 'skattelette': 0.5709672, 'sammenhenger': 0.5707849, 'utredning': 0.5706738, 'partier': 0.5705681, 'fremmet': 0.57048035, 'stortinget': 0.5693841, 'gjennomslag': 0.56926537, 'utfordringer': 0.56889045, 'velger': 0.5679974, 'standpunkt': 0.5654863, 'bistanden': 0.56533873, 'avtaler': 0.56445134, 'statsradens': 0.5638805, 'statens': 0.56386256, 'opposisjon': 0.5633751, 'satsingen': 0.56296194}\n",
      "\n",
      " 1\n",
      "{'ingenting': 0.5316267, 'negative': 0.4896797, 'manglende': 0.46726704, 'umulig': 0.46561936, 'unødvendig': 0.45256063, 'stille': 0.45236146, 'mal': 0.4469988, 'alene': 0.4430347, 'mangel': 0.43997535, 'dokument': 0.42023593, 'slett': 0.41924784, 'problem': 0.41431278, 'formal': 0.41264972, 'uenig': 0.40226084, 'forstatt': 0.39632472, 'malsetting': 0.39598343, 'mangler': 0.39310807, 'uavhengig': 0.3899481, 'darlig': 0.38938144, 'sapass': 0.38028288, 'fall': 0.3765255, 'vapen': 0.37391084, 'darligere': 0.37337252, 'gratis': 0.370542, 'fattigdom': 0.3699041, 'slippe': 0.36714906, 'fengsel': 0.36674392, 'darlige': 0.36505884, 'posten': 0.363678, 'ordet': 0.3632438, 'eus': 0.36257496, 'galt': 0.36152408, 'motsatte': 0.36065027, 'feil': 0.35964313, 'press': 0.35890865, 'stoppe': 0.35868782, 'slipper': 0.3557687, 'fri': 0.35479975, 'mate': 0.3541078, 'skrevet': 0.35407263, 'menneske': 0.35347387, 'virkeligheten': 0.35319144, 'brev': 0.35303962, 'slutte': 0.3529492, 'forbud': 0.34964627, 'person': 0.3494361, 'ment': 0.3486975, 'lav': 0.348196, 'skrive': 0.34810877, 'fattige': 0.34730175}\n"
     ]
    }
   ],
   "source": [
    "for i in range(num_topics):\n",
    "    print(\"\\n\", i)\n",
    "    print(topic_word_scores[i])\n"
   ],
   "metadata": {
    "collapsed": false,
    "ExecuteTime": {
     "start_time": "2023-06-04T21:01:54.297947Z",
     "end_time": "2023-06-04T21:01:54.321881Z"
    }
   }
  },
  {
   "cell_type": "code",
   "execution_count": 13,
   "outputs": [
    {
     "data": {
      "text/plain": "<Figure size 1280x960 with 2 Axes>",
      "image/png": "[encoded data removed]"
     },
     "metadata": {},
     "output_type": "display_data"
    }
   ],
   "source": [
    "\n",
    "from utils.filemanagement import make_excerpt_wordcloud\n",
    "\n",
    "excerpt_wordcloud = make_excerpt_wordcloud(topic_word_scores, num_topics,\n",
    "                                           f\"Sample from {model_name}-{embedding_model}: {data_type}\",\n",
    "                                           random_sample=random_sample, seed=seed)\n",
    "\n",
    "excerpt_wordcloud.savefig(os.path.join(ROOT_PATH,folder_path_word_cloud,f\"{file_name}_wordcloud_sample\"),bbox_inches=\"tight\")"
   ],
   "metadata": {
    "collapsed": false,
    "ExecuteTime": {
     "start_time": "2023-06-04T21:01:54.315898Z",
     "end_time": "2023-06-04T21:01:54.872102Z"
    }
   }
  },
  {
   "cell_type": "code",
   "execution_count": 14,
   "outputs": [
    {
     "data": {
      "text/plain": "<Figure size 1280x960 with 2 Axes>",
      "image/png": "[encoded data removed]"
     },
     "metadata": {},
     "output_type": "display_data"
    }
   ],
   "source": [
    "from utils.tables_and_plots import display_n_wordclouds\n",
    "\n",
    "wordcloud = display_n_wordclouds(topic_word_scores, f\"{model_name}-{embedding_model}: {data_type}\",num_topics, dpi=200)\n"
   ],
   "metadata": {
    "collapsed": false,
    "ExecuteTime": {
     "start_time": "2023-06-04T21:01:54.873100Z",
     "end_time": "2023-06-04T21:01:55.387723Z"
    }
   }
  },
  {
   "cell_type": "code",
   "execution_count": 15,
   "outputs": [],
   "source": [
    "from utils.tables_and_plots import create_wordcloud\n",
    "\n",
    "wordcloud.savefig(os.path.join(ROOT_PATH,folder_path_word_cloud,f\"{file_name}_wordcloud\"))\n",
    "file_name_model = \"wordcloud\"\n",
    "for i in range(num_topics):\n",
    "    topic_wordcloud = create_wordcloud(topic_word_scores[i])\n",
    "    topic_wordcloud.to_file(os.path.join(ROOT_PATH, folder_path_word_cloud, str(file_name_model + f\"_{i}.png\")))"
   ],
   "metadata": {
    "collapsed": false,
    "ExecuteTime": {
     "start_time": "2023-06-04T21:01:55.292977Z",
     "end_time": "2023-06-04T21:01:55.877413Z"
    }
   }
  },
  {
   "cell_type": "code",
   "execution_count": 16,
   "outputs": [],
   "source": [
    "from utils.filemanagement import write_topics_file\n",
    "\n",
    "topic_words_numbered = [(i, list(topic_words[i])) for i in range(num_topics)]\n",
    "\n",
    "write_topics_file(folder_path_topics, file_name, topic_words_numbered)"
   ],
   "metadata": {
    "collapsed": false,
    "ExecuteTime": {
     "start_time": "2023-06-04T21:01:55.879408Z",
     "end_time": "2023-06-04T21:01:55.891376Z"
    }
   }
  },
  {
   "cell_type": "code",
   "execution_count": 17,
   "outputs": [],
   "source": [
    "from utils.filemanagement import load_model_topics\n",
    "\n",
    "loaded_topics = load_model_topics(folder_path_topics, file_name)"
   ],
   "metadata": {
    "collapsed": false,
    "ExecuteTime": {
     "start_time": "2023-06-04T21:01:55.893371Z",
     "end_time": "2023-06-04T21:01:55.915312Z"
    }
   }
  },
  {
   "cell_type": "code",
   "execution_count": 18,
   "outputs": [],
   "source": [
    "folder_path_frequencies = r\"preprocessed_data/stats\"\n",
    "file_name_co_frequencies = f\"{data_type}_co_freq\"\n",
    "file_name_frequencies=f\"{data_type}_freq\""
   ],
   "metadata": {
    "collapsed": false,
    "ExecuteTime": {
     "start_time": "2023-06-04T21:01:55.910327Z",
     "end_time": "2023-06-04T21:01:55.923291Z"
    }
   }
  },
  {
   "cell_type": "code",
   "execution_count": 19,
   "outputs": [
    {
     "data": {
      "text/plain": "2"
     },
     "execution_count": 19,
     "metadata": {},
     "output_type": "execute_result"
    }
   ],
   "source": [
    "len(loaded_topics.values())"
   ],
   "metadata": {
    "collapsed": false,
    "ExecuteTime": {
     "start_time": "2023-06-04T21:01:55.923291Z",
     "end_time": "2023-06-04T21:01:55.953211Z"
    }
   }
  },
  {
   "cell_type": "code",
   "execution_count": 20,
   "outputs": [],
   "source": [
    "\n",
    "from utils.filemanagement import load_word_frequencies\n",
    "\n",
    "word_frequencies = load_word_frequencies(folder_path_frequencies, file_name_frequencies)"
   ],
   "metadata": {
    "collapsed": false,
    "ExecuteTime": {
     "start_time": "2023-06-04T21:01:55.940262Z",
     "end_time": "2023-06-04T21:01:56.062917Z"
    }
   }
  },
  {
   "cell_type": "code",
   "execution_count": 21,
   "outputs": [],
   "source": [
    "from utils.filemanagement import load_zipped_word_co_frequencies\n",
    "\n",
    "word_co_frequencies = load_zipped_word_co_frequencies(folder_path_frequencies,file_name_co_frequencies)"
   ],
   "metadata": {
    "collapsed": false,
    "ExecuteTime": {
     "start_time": "2023-06-04T21:01:56.062917Z",
     "end_time": "2023-06-04T21:02:04.807724Z"
    }
   }
  },
  {
   "cell_type": "code",
   "execution_count": 22,
   "outputs": [
    {
     "name": "stdout",
     "output_type": "stream",
     "text": [
      "10\n",
      "('politikken', 'prioritering') wordtuple\n",
      "('politikken', 'prioritering') wordup\n",
      "6.0 over\n",
      "13869.0 under\n",
      "-11.174613647235942 -2.584962500721156 4.322930659194644 ('politikken', 'prioritering') 6 207 67\n",
      "('politikken', 'regjeringens') wordtuple\n",
      "('politikken', 'regjeringens') wordup\n",
      "32.0 over\n",
      "67068.0 under\n",
      "-11.03333696038395 -5.0 2.20666739207679 ('politikken', 'regjeringens') 32 207 324\n",
      "('politikk', 'politikken') wordtuple\n",
      "('politikk', 'politikken') wordup\n",
      "185.0 over\n",
      "120474.0 under\n",
      "-9.346980839891296 -7.531381460516312 1.2410712282857224 ('politikk', 'politikken') 185 207 582\n",
      "('politikere', 'politikken') wordtuple\n",
      "('politikere', 'politikken') wordup\n",
      "23.0 over\n",
      "23805.0 under\n",
      "-10.015415052386688 -4.523561956057013 2.2140550189604737 ('politikere', 'politikken') 23 207 115\n",
      "('partiene', 'politikken') wordtuple\n",
      "('partiene', 'politikken') wordup\n",
      "42.0 over\n",
      "44919.0 under\n",
      "-10.062720767165045 -5.392317422778761 1.8661217391723093 ('partiene', 'politikken') 42 207 217\n",
      "('politikken', 'prioriterer') wordtuple\n",
      "('politikken', 'prioriterer') wordup\n",
      "5.0 over\n",
      "14490.0 under\n",
      "-11.50084187955693 -2.321928094887362 4.953142995633911 ('politikken', 'prioriterer') 5 207 70\n",
      "('aktører', 'politikken') wordtuple\n",
      "('aktører', 'politikken') wordup\n",
      "7.0 over\n",
      "24633.0 under\n",
      "-11.780949798749665 -2.807354922057604 4.196458989273438 ('aktører', 'politikken') 7 207 119\n",
      "('høring', 'politikken') wordtuple\n",
      "('høring', 'politikken') wordup\n",
      "8.0 over\n",
      "15111.0 under\n",
      "-10.883311516379344 -3.0 3.627770505459781 ('høring', 'politikken') 8 207 73\n",
      "('engasjement', 'politikken') wordtuple\n",
      "('engasjement', 'politikken') wordup\n",
      "19.0 over\n",
      "22977.0 under\n",
      "-10.239975310405846 -4.247927513443585 2.4105814607238445 ('engasjement', 'politikken') 19 207 111\n",
      "('prioritering', 'regjeringens') wordtuple\n",
      "('prioritering', 'regjeringens') wordup\n",
      "14.0 over\n",
      "21708.0 under\n",
      "-10.598584271284793 -3.8073549220576037 2.7837132309054637 ('prioritering', 'regjeringens') 14 67 324\n",
      "('politikk', 'prioritering') wordtuple\n",
      "('politikk', 'prioritering') wordup\n",
      "20.0 over\n",
      "38994.0 under\n",
      "-10.929036438478693 -4.321928094887363 2.5287409226930984 ('politikk', 'prioritering') 20 67 582\n",
      "('politikere', 'prioritering') wordtuple\n",
      "('politikere', 'prioritering') wordup\n",
      "7.0 over\n",
      "7705.0 under\n",
      "-10.104224319344544 -2.807354922057604 3.59919732270219 ('politikere', 'prioritering') 7 67 115\n",
      "('partiene', 'prioritering') wordtuple\n",
      "('partiene', 'prioritering') wordup\n",
      "7.0 over\n",
      "14539.0 under\n",
      "-11.020285500844647 -2.807354922057604 3.925504899383193 ('partiene', 'prioritering') 7 67 217\n",
      "('prioriterer', 'prioritering') wordtuple\n",
      "('prioriterer', 'prioritering') wordup\n",
      "8.0 over\n",
      "4690.0 under\n",
      "-9.19537220740274 -3.0 3.0651240691342463 ('prioriterer', 'prioritering') 8 67 70\n",
      "('aktører', 'prioritering') wordtuple\n",
      "('aktører', 'prioritering') wordup\n",
      "4.0 over\n",
      "7973.0 under\n",
      "-10.960906953765717 -2.0 5.480453476882858 ('aktører', 'prioritering') 4 67 119\n",
      "('høring', 'prioritering') wordtuple\n",
      "('engasjement', 'prioritering') wordtuple\n",
      "('engasjement', 'prioritering') wordup\n",
      "5.0 over\n",
      "7437.0 under\n",
      "-10.538576961920517 -2.321928094887362 4.538718052951484 ('engasjement', 'prioritering') 5 67 111\n",
      "('politikk', 'regjeringens') wordtuple\n",
      "('politikk', 'regjeringens') wordup\n",
      "181.0 over\n",
      "188568.0 under\n",
      "-10.024879458709703 -7.499845887083206 1.3366780610752682 ('politikk', 'regjeringens') 181 324 582\n",
      "('politikere', 'regjeringens') wordtuple\n",
      "('politikere', 'regjeringens') wordup\n",
      "21.0 over\n",
      "37260.0 under\n",
      "-10.79302263105024 -4.392317422778761 2.45725014660305 ('politikere', 'regjeringens') 21 324 115\n",
      "('partiene', 'regjeringens') wordtuple\n",
      "('partiene', 'regjeringens') wordup\n",
      "32.0 over\n",
      "70308.0 under\n",
      "-11.101401235329105 -5.0 2.220280247065821 ('partiene', 'regjeringens') 32 324 217\n",
      "('prioriterer', 'regjeringens') wordtuple\n",
      "('prioriterer', 'regjeringens') wordup\n",
      "22.0 over\n",
      "22680.0 under\n",
      "-10.009701401192293 -4.459431618637297 2.244613721479383 ('prioriterer', 'regjeringens') 22 324 70\n",
      "('aktører', 'regjeringens') wordtuple\n",
      "('aktører', 'regjeringens') wordup\n",
      "14.0 over\n",
      "38556.0 under\n",
      "-11.427312844134963 -3.8073549220576037 3.0013784052365984 ('aktører', 'regjeringens') 14 324 119\n",
      "('høring', 'regjeringens') wordtuple\n",
      "('høring', 'regjeringens') wordup\n",
      "7.0 over\n",
      "23652.0 under\n",
      "-11.722319639707036 -2.807354922057604 4.175574505241167 ('høring', 'regjeringens') 7 324 73\n",
      "('engasjement', 'regjeringens') wordtuple\n",
      "('engasjement', 'regjeringens') wordup\n",
      "27.0 over\n",
      "35964.0 under\n",
      "-10.379378367071263 -4.754887502163469 2.1828862117870624 ('engasjement', 'regjeringens') 27 324 111\n",
      "('politikere', 'politikk') wordtuple\n",
      "('politikere', 'politikk') wordup\n",
      "89.0 over\n",
      "66930.0 under\n",
      "-9.554631962886262 -6.475733430966398 1.4754517097934943 ('politikere', 'politikk') 89 582 115\n",
      "('partiene', 'politikk') wordtuple\n",
      "('partiene', 'politikk') wordup\n",
      "80.0 over\n",
      "126294.0 under\n",
      "-10.624498480465402 -6.321928094887362 1.6805788235803556 ('partiene', 'politikk') 80 582 217\n",
      "('politikk', 'prioriterer') wordtuple\n",
      "('politikk', 'prioriterer') wordup\n",
      "17.0 over\n",
      "40740.0 under\n",
      "-11.226695518602911 -4.08746284125034 2.7466171448224603 ('politikk', 'prioriterer') 17 582 70\n",
      "('aktører', 'politikk') wordtuple\n",
      "('aktører', 'politikk') wordup\n",
      "11.0 over\n",
      "69258.0 under\n",
      "-12.620261487578931 -3.4594316186372978 3.6480736949933323 ('aktører', 'politikk') 11 582 119\n",
      "('høring', 'politikk') wordtuple\n",
      "('høring', 'politikk') wordup\n",
      "10.0 over\n",
      "42486.0 under\n",
      "-12.052771806900939 -3.3219280948873626 3.628245844770344 ('høring', 'politikk') 10 582 73\n",
      "('engasjement', 'politikk') wordtuple\n",
      "('engasjement', 'politikk') wordup\n",
      "67.0 over\n",
      "64602.0 under\n",
      "-9.913202018800618 -6.066089190457772 1.6341998456591316 ('engasjement', 'politikk') 67 582 111\n",
      "('partiene', 'politikere') wordtuple\n",
      "('partiene', 'politikere') wordup\n",
      "16.0 over\n",
      "24955.0 under\n",
      "-10.607041283388854 -4.0 2.6517603208472136 ('partiene', 'politikere') 16 115 217\n",
      "('politikere', 'prioriterer') wordtuple\n",
      "('politikere', 'prioriterer') wordup\n",
      "9.0 over\n",
      "8050.0 under\n",
      "-9.804848066447029 -3.1699250014423126 3.0930851871845024 ('politikere', 'prioriterer') 9 115 70\n",
      "('aktører', 'politikere') wordtuple\n",
      "('aktører', 'politikere') wordup\n",
      "7.0 over\n",
      "13685.0 under\n",
      "-10.932952892194715 -2.807354922057604 3.8943963965131947 ('aktører', 'politikere') 7 115 119\n",
      "('høring', 'politikere') wordtuple\n",
      "('høring', 'politikere') wordup\n",
      "10.0 over\n",
      "8395.0 under\n",
      "-9.71338651493703 -3.3219280948873626 2.9240207004740673 ('høring', 'politikere') 10 115 73\n",
      "('engasjement', 'politikere') wordtuple\n",
      "('engasjement', 'politikere') wordup\n",
      "12.0 over\n",
      "12765.0 under\n",
      "-10.054943416573325 -3.5849625007211565 2.8047555349743987 ('engasjement', 'politikere') 12 115 111\n",
      "('partiene', 'prioriterer') wordtuple\n",
      "('partiene', 'prioriterer') wordup\n",
      "4.0 over\n",
      "15190.0 under\n",
      "-11.890834249389446 -2.0 5.945417124694723 ('partiene', 'prioriterer') 4 217 70\n",
      "('aktører', 'partiene') wordtuple\n",
      "('aktører', 'partiene') wordup\n",
      "8.0 over\n",
      "25823.0 under\n",
      "-11.656368995752423 -3.0 3.8854563319174744 ('aktører', 'partiene') 8 217 119\n",
      "('høring', 'partiene') wordtuple\n",
      "('høring', 'partiene') wordup\n",
      "7.0 over\n",
      "15841.0 under\n",
      "-11.144020869266893 -2.807354922057604 3.969580326914656 ('høring', 'partiene') 7 217 73\n",
      "('engasjement', 'partiene') wordtuple\n",
      "('engasjement', 'partiene') wordup\n",
      "12.0 over\n",
      "24087.0 under\n",
      "-10.97100459807343 -3.5849625007211565 3.060284339338692 ('engasjement', 'partiene') 12 217 111\n",
      "('aktører', 'prioriterer') wordtuple\n",
      "('aktører', 'prioriterer') wordup\n",
      "2.0 over\n",
      "8330.0 under\n",
      "-12.024100780252912 -1.0 12.024100780252912 ('aktører', 'prioriterer') 2 70 119\n",
      "('høring', 'prioriterer') wordtuple\n",
      "('høring', 'prioriterer') wordup\n",
      "('engasjement', 'prioriterer') wordtuple\n",
      "('engasjement', 'prioriterer') wordup\n",
      "('aktører', 'høring') wordtuple\n",
      "('aktører', 'høring') wordup\n",
      "('aktører', 'engasjement') wordtuple\n",
      "('aktører', 'engasjement') wordup\n",
      "6.0 over\n",
      "13209.0 under\n",
      "-11.104271128936894 -2.584962500721156 4.2957184585227095 ('aktører', 'engasjement') 6 119 111\n",
      "('engasjement', 'høring') wordtuple\n",
      "('engasjement', 'høring') wordup\n",
      "3.0 over\n",
      "8103.0 under\n",
      "-11.399277924508967 -1.5849625007211563 7.192143611802996 ('engasjement', 'høring') 3 73 111\n",
      "274.265598877957 2v\n",
      "90 x2\n",
      "82\n",
      "3.0473955430884114 n printed\n",
      "10\n",
      "('ingenting', 'negative') wordtuple\n",
      "('ingenting', 'negative') wordup\n",
      "2.0 over\n",
      "6084.0 under\n",
      "-11.570804437724497 -1.0 11.570804437724497 ('ingenting', 'negative') 2 117 52\n",
      "('ingenting', 'manglende') wordtuple\n",
      "('ingenting', 'manglende') wordup\n",
      "7.0 over\n",
      "12285.0 under\n",
      "-10.777255315191923 -2.807354922057604 3.838935800569496 ('ingenting', 'manglende') 7 117 105\n",
      "('ingenting', 'umulig') wordtuple\n",
      "('ingenting', 'umulig') wordup\n",
      "5.0 over\n",
      "8190.0 under\n",
      "-10.67771964164101 -2.321928094887362 4.598643543334615 ('ingenting', 'umulig') 5 117 70\n",
      "('ingenting', 'unødvendig') wordtuple\n",
      "('ingenting', 'unødvendig') wordup\n",
      "4.0 over\n",
      "6318.0 under\n",
      "-10.625252221746873 -2.0 5.3126261108734365 ('ingenting', 'unødvendig') 4 117 54\n",
      "('ingenting', 'stille') wordtuple\n",
      "('ingenting', 'stille') wordup\n",
      "16.0 over\n",
      "36621.0 under\n",
      "-11.160383566516023 -4.0 2.7900958916290057 ('ingenting', 'stille') 16 117 313\n",
      "('ingenting', 'mal') wordtuple\n",
      "('alene', 'ingenting') wordtuple\n",
      "('alene', 'ingenting') wordup\n",
      "8.0 over\n",
      "13104.0 under\n",
      "-10.67771964164101 -3.0 3.5592398805470036 ('alene', 'ingenting') 8 117 112\n",
      "('ingenting', 'mangel') wordtuple\n",
      "('ingenting', 'mangel') wordup\n",
      "4.0 over\n",
      "12636.0 under\n",
      "-11.625252221746873 -2.0 5.8126261108734365 ('ingenting', 'mangel') 4 117 108\n",
      "('dokument', 'ingenting') wordtuple\n",
      "('dokument', 'ingenting') wordup\n",
      "11.0 over\n",
      "8775.0 under\n",
      "-9.639751791441988 -3.4594316186372978 2.7865131773407263 ('dokument', 'ingenting') 11 117 75\n",
      "('manglende', 'negative') wordtuple\n",
      "('manglende', 'negative') wordup\n",
      "6.0 over\n",
      "5460.0 under\n",
      "-9.829722735086058 -2.584962500721156 3.802655834405238 ('manglende', 'negative') 6 52 105\n",
      "('negative', 'umulig') wordtuple\n",
      "('negative', 'umulig') wordup\n",
      "('negative', 'unødvendig') wordtuple\n",
      "('negative', 'unødvendig') wordup\n",
      "('negative', 'stille') wordtuple\n",
      "('negative', 'stille') wordup\n",
      "7.0 over\n",
      "16276.0 under\n",
      "-11.183103643016107 -2.807354922057604 3.9835018918162426 ('negative', 'stille') 7 52 313\n",
      "('mal', 'negative') wordtuple\n",
      "('alene', 'negative') wordtuple\n",
      "('alene', 'negative') wordup\n",
      "8.0 over\n",
      "5824.0 under\n",
      "-9.507794640198696 -3.0 3.169264880066232 ('alene', 'negative') 8 52 112\n",
      "('mangel', 'negative') wordtuple\n",
      "('mangel', 'negative') wordup\n",
      "4.0 over\n",
      "5616.0 under\n",
      "-10.45532722030456 -2.0 5.22766361015228 ('mangel', 'negative') 4 52 108\n",
      "('dokument', 'negative') wordtuple\n",
      "('manglende', 'umulig') wordtuple\n",
      "('manglende', 'umulig') wordup\n",
      "3.0 over\n",
      "7350.0 under\n",
      "-11.258566033889933 -1.5849625007211563 7.103364293330156 ('manglende', 'umulig') 3 105 70\n",
      "('manglende', 'unødvendig') wordtuple\n",
      "('manglende', 'unødvendig') wordup\n",
      "4.0 over\n",
      "5670.0 under\n",
      "-10.469133019829592 -2.0 5.234566509914796 ('manglende', 'unødvendig') 4 105 54\n",
      "('manglende', 'stille') wordtuple\n",
      "('manglende', 'stille') wordup\n",
      "24.0 over\n",
      "32865.0 under\n",
      "-10.419301863877585 -4.584962500721157 2.2724944560045497 ('manglende', 'stille') 24 105 313\n",
      "('mal', 'manglende') wordtuple\n",
      "('alene', 'manglende') wordtuple\n",
      "('alene', 'manglende') wordup\n",
      "23.0 over\n",
      "11760.0 under\n",
      "-8.998038483666715 -4.523561956057013 1.9891489430399896 ('alene', 'manglende') 23 105 112\n",
      "('mangel', 'manglende') wordtuple\n",
      "('mangel', 'manglende') wordup\n",
      "21.0 over\n",
      "11340.0 under\n",
      "-9.076815597050832 -4.392317422778761 2.0665208643569444 ('mangel', 'manglende') 21 105 108\n",
      "('dokument', 'manglende') wordtuple\n",
      "('dokument', 'manglende') wordup\n",
      "9.0 over\n",
      "7875.0 under\n",
      "-9.77313920671969 -3.1699250014423126 3.0830821556576016 ('dokument', 'manglende') 9 105 75\n",
      "('umulig', 'unødvendig') wordtuple\n",
      "('umulig', 'unødvendig') wordup\n",
      "4.0 over\n",
      "3780.0 under\n",
      "-9.884170519108435 -2.0 4.942085259554218 ('umulig', 'unødvendig') 4 70 54\n",
      "('stille', 'umulig') wordtuple\n",
      "('stille', 'umulig') wordup\n",
      "16.0 over\n",
      "21910.0 under\n",
      "-10.419301863877585 -4.0 2.6048254659693963 ('stille', 'umulig') 16 70 313\n",
      "('mal', 'umulig') wordtuple\n",
      "('alene', 'umulig') wordtuple\n",
      "('alene', 'umulig') wordup\n",
      "14.0 over\n",
      "7840.0 under\n",
      "-9.129283016944967 -3.8073549220576037 2.3978019396235433 ('alene', 'umulig') 14 70 112\n",
      "('mangel', 'umulig') wordtuple\n",
      "('mangel', 'umulig') wordup\n",
      "7.0 over\n",
      "7560.0 under\n",
      "-10.07681559705083 -2.807354922057604 3.589434138831721 ('mangel', 'umulig') 7 70 108\n",
      "('dokument', 'umulig') wordtuple\n",
      "('dokument', 'umulig') wordup\n",
      "4.0 over\n",
      "5250.0 under\n",
      "-10.358101707440847 -2.0 5.179050853720423 ('dokument', 'umulig') 4 70 75\n",
      "('stille', 'unødvendig') wordtuple\n",
      "('stille', 'unødvendig') wordup\n",
      "7.0 over\n",
      "16902.0 under\n",
      "-11.237551427038483 -2.807354922057604 4.002896583807118 ('stille', 'unødvendig') 7 54 313\n",
      "('mal', 'unødvendig') wordtuple\n",
      "('alene', 'unødvendig') wordtuple\n",
      "('alene', 'unødvendig') wordup\n",
      "8.0 over\n",
      "6048.0 under\n",
      "-9.562242424221074 -3.0 3.1874141414070247 ('alene', 'unødvendig') 8 54 112\n",
      "('mangel', 'unødvendig') wordtuple\n",
      "('mangel', 'unødvendig') wordup\n",
      "5.0 over\n",
      "5832.0 under\n",
      "-10.187846909439575 -2.321928094887362 4.387666841136091 ('mangel', 'unødvendig') 5 54 108\n",
      "('dokument', 'unødvendig') wordtuple\n",
      "('dokument', 'unødvendig') wordup\n",
      "4.0 over\n",
      "4050.0 under\n",
      "-9.98370619265935 -2.0 4.991853096329675 ('dokument', 'unødvendig') 4 54 75\n",
      "('mal', 'stille') wordtuple\n",
      "('alene', 'stille') wordtuple\n",
      "('alene', 'stille') wordup\n",
      "18.0 over\n",
      "35056.0 under\n",
      "-10.927448767547912 -4.169925001442312 2.6205384422425526 ('alene', 'stille') 18 313 112\n",
      "('mangel', 'stille') wordtuple\n",
      "('mangel', 'stille') wordup\n",
      "18.0 over\n",
      "33804.0 under\n",
      "-10.874981347653774 -4.169925001442312 2.607956100863274 ('mangel', 'stille') 18 313 108\n",
      "('dokument', 'stille') wordtuple\n",
      "('dokument', 'stille') wordup\n",
      "5.0 over\n",
      "23475.0 under\n",
      "-12.196909442541136 -2.321928094887362 5.252922977846484 ('dokument', 'stille') 5 313 75\n",
      "('alene', 'mal') wordtuple\n",
      "('mal', 'mangel') wordtuple\n",
      "('dokument', 'mal') wordtuple\n",
      "('alene', 'mangel') wordtuple\n",
      "('alene', 'mangel') wordup\n",
      "5.0 over\n",
      "12096.0 under\n",
      "-11.24031432933371 -2.321928094887362 4.840939887020482 ('alene', 'mangel') 5 112 108\n",
      "('alene', 'dokument') wordtuple\n",
      "('alene', 'dokument') wordup\n",
      "11.0 over\n",
      "8400.0 under\n",
      "-9.576741993916189 -3.4594316186372978 2.7682992611626056 ('alene', 'dokument') 11 112 75\n",
      "('dokument', 'mangel') wordtuple\n",
      "('dokument', 'mangel') wordup\n",
      "4.0 over\n",
      "8100.0 under\n",
      "-10.98370619265935 -2.0 5.491853096329675 ('dokument', 'mangel') 4 108 75\n",
      "250.1345729549611 2v\n",
      "90 x2\n",
      "66\n",
      "2.779273032832901 n printed\n",
      "[3.0473955430884114, 2.779273032832901] npmis\n"
     ]
    }
   ],
   "source": [
    "from utils.stats import compute_metrics\n",
    "input_data = list(loaded_topics.values())\n",
    "coherence, diversity = compute_metrics(\n",
    "    input_data, word_frequencies, word_co_frequencies, 10)"
   ],
   "metadata": {
    "collapsed": false,
    "ExecuteTime": {
     "start_time": "2023-06-04T21:02:04.779799Z",
     "end_time": "2023-06-04T21:02:06.037256Z"
    }
   }
  },
  {
   "cell_type": "code",
   "execution_count": 23,
   "outputs": [
    {
     "name": "stdout",
     "output_type": "stream",
     "text": [
      "-0.3074492856534207\n"
     ]
    }
   ],
   "source": [
    "from nltk import word_tokenize\n",
    "from utils.config import use_pmi\n",
    "from gensim.test.utils import common_corpus, common_dictionary\n",
    "from gensim.models.coherencemodel import CoherenceModel\n",
    "from gensim.corpora import Dictionary\n",
    "if not use_pmi:\n",
    "    corpus_tokenized = []\n",
    "    for item in new_data:\n",
    "        word_tokens = word_tokenize(item)\n",
    "        corpus_tokenized.append(word_tokens)\n",
    "\n",
    "    dct = Dictionary(corpus_tokenized)\n",
    "    inp = list(loaded_topics.values())\n",
    "\n",
    "\n",
    "    cm = CoherenceModel(topics=inp, texts = corpus_tokenized, dictionary=dct, coherence='c_npmi')\n",
    "    coherence2 = cm.get_coherence()  # get coherence value\n",
    "    print(coherence2)"
   ],
   "metadata": {
    "collapsed": false,
    "ExecuteTime": {
     "start_time": "2023-06-04T21:02:06.044239Z",
     "end_time": "2023-06-04T21:02:30.264921Z"
    }
   }
  },
  {
   "cell_type": "code",
   "execution_count": 24,
   "outputs": [
    {
     "data": {
      "text/plain": "1.0"
     },
     "execution_count": 24,
     "metadata": {},
     "output_type": "execute_result"
    }
   ],
   "source": [
    "diversity"
   ],
   "metadata": {
    "collapsed": false,
    "ExecuteTime": {
     "start_time": "2023-06-04T21:02:30.267912Z",
     "end_time": "2023-06-04T21:02:30.279880Z"
    }
   }
  },
  {
   "cell_type": "code",
   "execution_count": 25,
   "outputs": [
    {
     "data": {
      "text/plain": "2.913334287960656"
     },
     "execution_count": 25,
     "metadata": {},
     "output_type": "execute_result"
    }
   ],
   "source": [
    "coherence"
   ],
   "metadata": {
    "collapsed": false,
    "ExecuteTime": {
     "start_time": "2023-06-04T21:02:30.281875Z",
     "end_time": "2023-06-04T21:02:30.337724Z"
    }
   }
  },
  {
   "cell_type": "code",
   "execution_count": 26,
   "outputs": [],
   "source": [
    "from tabulate import tabulate\n",
    "import csv"
   ],
   "metadata": {
    "collapsed": false,
    "ExecuteTime": {
     "start_time": "2023-06-04T21:02:30.296835Z",
     "end_time": "2023-06-04T21:02:30.340717Z"
    }
   }
  },
  {
   "cell_type": "code",
   "execution_count": 27,
   "outputs": [
    {
     "name": "stdout",
     "output_type": "stream",
     "text": [
      "╒═════════════════════════════════════════════╤═══════════╤═════════╕\n",
      "│ Model                                       │ Metric    │   Value │\n",
      "╞═════════════════════════════════════════════╪═══════════╪═════════╡\n",
      "│ top2vec_TDE-nb-sbert-base_np_mini_stopwords │ coherence │ 2.91333 │\n",
      "├─────────────────────────────────────────────┼───────────┼─────────┤\n",
      "│ top2vec_TDE-nb-sbert-base_np_mini_stopwords │ diversity │ 1       │\n",
      "╘═════════════════════════════════════════════╧═══════════╧═════════╛\n"
     ]
    }
   ],
   "source": [
    "# Check the stats for the dataset after running basic pipeline\n",
    "\n",
    "models = [file_name for i in range(0, 2)]\n",
    "metrics = [\"coherence\" if i < 1 else \"diversity\" for i in range(0, 2)]\n",
    "values = [\n",
    "    coherence,\n",
    "    diversity\n",
    "    ]\n",
    "\n",
    "stats = [models, metrics, values]\n",
    "stats_tabulate = list(zip(*stats))\n",
    "print(tabulate(stats_tabulate, headers=[\"Model\", \"Metric\", \"Value\"], tablefmt=\"fancy_grid\"))"
   ],
   "metadata": {
    "collapsed": false,
    "ExecuteTime": {
     "start_time": "2023-06-04T21:02:30.331741Z",
     "end_time": "2023-06-04T21:02:30.341714Z"
    }
   }
  },
  {
   "cell_type": "code",
   "execution_count": 28,
   "outputs": [],
   "source": [
    "# Save all topic stats to file\n",
    "\n",
    "topic_stats_folder_path = fr\"preprocessed_data/metrics/{experiment}/{model_type}\"\n",
    "topic_stats_file_name = f\"{file_name}_stats\"\n",
    "topic_stats_path = os.path.join(ROOT_PATH,topic_stats_folder_path, topic_stats_file_name + r\".csv\")\n",
    "\n",
    "TOPIC_STAT = \"Topic stat\"\n",
    "VALUE = \"Value\"\n",
    "\n",
    "with open(topic_stats_path, encoding=\"utf-8\", mode=\"w\", newline=\"\") as topic_stats_file:\n",
    "    header = [TOPIC_STAT, VALUE]\n",
    "    writer = csv.DictWriter(topic_stats_file, fieldnames=header, delimiter=\";\")\n",
    "    writer.writeheader()\n",
    "    writer.writerow({TOPIC_STAT : \"Coherence\", VALUE : coherence})\n",
    "    writer.writerow({TOPIC_STAT : \"Diversity\", VALUE : diversity})"
   ],
   "metadata": {
    "collapsed": false,
    "ExecuteTime": {
     "start_time": "2023-06-04T21:02:30.344706Z",
     "end_time": "2023-06-04T21:02:30.357671Z"
    }
   }
  },
  {
   "cell_type": "code",
   "execution_count": 28,
   "outputs": [],
   "source": [],
   "metadata": {
    "collapsed": false,
    "ExecuteTime": {
     "start_time": "2023-06-04T21:02:30.358669Z",
     "end_time": "2023-06-04T21:02:30.399560Z"
    }
   }
  }
 ],
 "metadata": {
  "kernelspec": {
   "display_name": "Python 3",
   "language": "python",
   "name": "python3"
  },
  "language_info": {
   "codemirror_mode": {
    "name": "ipython",
    "version": 2
   },
   "file_extension": ".py",
   "mimetype": "text/x-python",
   "name": "python",
   "nbconvert_exporter": "python",
   "pygments_lexer": "ipython2",
   "version": "2.7.6"
  }
 },
 "nbformat": 4,
 "nbformat_minor": 0
}
