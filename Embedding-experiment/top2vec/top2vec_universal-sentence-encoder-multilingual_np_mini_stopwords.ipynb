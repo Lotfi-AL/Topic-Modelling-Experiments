{
 "cells": [
  {
   "cell_type": "code",
   "execution_count": 1,
   "metadata": {
    "collapsed": true,
    "ExecuteTime": {
     "start_time": "2023-06-04T21:01:43.527261Z",
     "end_time": "2023-06-04T21:01:58.700991Z"
    }
   },
   "outputs": [],
   "source": [
    "from top2vec import Top2Vec\n",
    "from gensim.models.coherencemodel import CoherenceModel\n",
    "import os\n",
    "import pandas as pd\n",
    "from nltk.tokenize import word_tokenize\n",
    "\n",
    "import gensim.corpora as corpora\n",
    "from utils.config import random_sample,seed"
   ]
  },
  {
   "cell_type": "code",
   "execution_count": 2,
   "outputs": [],
   "source": [
    "import os\n",
    "import pandas as pd"
   ],
   "metadata": {
    "collapsed": false,
    "ExecuteTime": {
     "start_time": "2023-06-04T21:01:58.703984Z",
     "end_time": "2023-06-04T21:01:58.715951Z"
    }
   }
  },
  {
   "cell_type": "code",
   "execution_count": 3,
   "outputs": [],
   "source": [
    "from utils.filemanagement import load_from_file, write_topics_file, get_project_root\n",
    "\n",
    "model_type = \"top2vec\"\n",
    "model_name = \"Top2Vec\"\n",
    "embedding_model = \"universal-sentence-encoder-multilingual\"\n",
    "data_type = \"np_mini_stopwords\"\n",
    "file_name=f\"{model_type}_{embedding_model}_{data_type}\"\n",
    "folder_path_data =f\"preprocessed_data\"\n",
    "file_name_data = f\"{data_type}.csv\"\n",
    "\n",
    "experiment=\"embedding\"\n",
    "folder_path_topics = f\"preprocessed_data/results/embedding/{model_type}\"\n",
    "folder_path_word_cloud = f\"preprocessed_data/wordclouds/{experiment}/{model_type}/{file_name}\"\n",
    "file_name_data = f\"{data_type}.csv\"\n",
    "\n",
    "folder_name = f\"Embedding-experiment/models/{model_type}\"\n",
    "ROOT_PATH = get_project_root()\n",
    "file_path = os.path.join(ROOT_PATH,folder_name,file_name)\n",
    "\n",
    "\n",
    "df = load_from_file(folder_path_data,file_name_data)\n",
    "\n",
    "\n",
    "\n",
    "data = df.text.values.tolist()\n",
    "new_data = []\n",
    "for item in data:\n",
    "    new_data.append(str(item))"
   ],
   "metadata": {
    "collapsed": false,
    "ExecuteTime": {
     "start_time": "2023-06-04T21:01:58.716949Z",
     "end_time": "2023-06-04T21:01:58.795739Z"
    }
   }
  },
  {
   "cell_type": "markdown",
   "source": [],
   "metadata": {
    "collapsed": false
   }
  },
  {
   "cell_type": "code",
   "execution_count": 4,
   "outputs": [],
   "source": [
    "topic_model = None\n",
    "try:\n",
    "    topic_model = Top2Vec.load(file_path)\n",
    "except:\n",
    "    print(\"success\")\n",
    "    topic_model = Top2Vec(documents = new_data, embedding_model=\"universal-sentence-encoder-multilingual\")"
   ],
   "metadata": {
    "collapsed": false,
    "ExecuteTime": {
     "start_time": "2023-06-04T21:01:58.795739Z",
     "end_time": "2023-06-04T21:01:58.858571Z"
    }
   }
  },
  {
   "cell_type": "code",
   "execution_count": 5,
   "outputs": [],
   "source": [
    "topic_model.save(file_path)"
   ],
   "metadata": {
    "collapsed": false,
    "ExecuteTime": {
     "start_time": "2023-06-04T21:01:58.861563Z",
     "end_time": "2023-06-04T21:01:59.016150Z"
    }
   }
  },
  {
   "cell_type": "code",
   "execution_count": 6,
   "outputs": [
    {
     "name": "stdout",
     "output_type": "stream",
     "text": [
      "universal-sentence-encoder-multilingual\n"
     ]
    }
   ],
   "source": [
    "print(topic_model.embedding_model)"
   ],
   "metadata": {
    "collapsed": false,
    "ExecuteTime": {
     "start_time": "2023-06-04T21:01:59.017149Z",
     "end_time": "2023-06-04T21:01:59.031110Z"
    }
   }
  },
  {
   "cell_type": "code",
   "execution_count": 7,
   "outputs": [
    {
     "name": "stdout",
     "output_type": "stream",
     "text": [
      "2\n"
     ]
    }
   ],
   "source": [
    "num_topics = topic_model.get_num_topics()\n",
    "print(num_topics)"
   ],
   "metadata": {
    "collapsed": false,
    "ExecuteTime": {
     "start_time": "2023-06-04T21:01:59.031110Z",
     "end_time": "2023-06-04T21:01:59.084965Z"
    }
   }
  },
  {
   "cell_type": "code",
   "execution_count": 8,
   "outputs": [],
   "source": [
    "topic_sizes, topic_nums = topic_model.get_topic_sizes()"
   ],
   "metadata": {
    "collapsed": false,
    "ExecuteTime": {
     "start_time": "2023-06-04T21:01:59.047066Z",
     "end_time": "2023-06-04T21:01:59.085963Z"
    }
   }
  },
  {
   "cell_type": "code",
   "execution_count": 9,
   "outputs": [],
   "source": [
    "topic_words, word_scores, topic_nums = topic_model.get_topics(num_topics)"
   ],
   "metadata": {
    "collapsed": false,
    "ExecuteTime": {
     "start_time": "2023-06-04T21:01:59.062028Z",
     "end_time": "2023-06-04T21:01:59.086960Z"
    }
   }
  },
  {
   "cell_type": "code",
   "execution_count": 10,
   "outputs": [],
   "source": [
    "topic_word_scores = [dict(zip(topic_words[i][:], word_scores[i])) for i in topic_nums]"
   ],
   "metadata": {
    "collapsed": false,
    "ExecuteTime": {
     "start_time": "2023-06-04T21:01:59.077984Z",
     "end_time": "2023-06-04T21:01:59.123861Z"
    }
   }
  },
  {
   "cell_type": "code",
   "execution_count": 11,
   "outputs": [
    {
     "data": {
      "text/plain": "(array([['selvfølgelig', 'tilnærming', 'nødvendigvis', 'næringslivet',\n         'ønskjer', 'nødvendig', 'høyt', 'lærerne', 'sjølvsagt', 'øvrig',\n         'løsning', 'asylsøkere', 'næringsliv', 'nødvendige', 'søke',\n         'nærmest', 'løsninger', 'kontantstøtten', 'høyre', 'ønske',\n         'løsningen', 'høsten', 'høst', 'ønsker', 'aktører', 'færre',\n         'fornøyd', 'lønning', 'støtter', 'sørge', 'støtte', 'høyskoler',\n         'hørte', 'høy', 'høre', 'raudgrøne', 'nødt', 'innføre', 'øke',\n         'forsøk', 'rødgrønne', 'høyere', 'tilstrekkelig', 'høyres',\n         'øvrige', 'ført', 'øker', 'fører', 'gjennomføre', 'gjennomført'],\n        ['selvfølgelig', 'nødvendigvis', 'tilnærming', 'næringslivet',\n         'lærerne', 'nødvendig', 'næringsliv', 'færre', 'asylsøkere',\n         'øvrig', 'høyt', 'nødvendige', 'nærmest', 'ønskjer', 'lærer',\n         'tilstrekkelig', 'aktører', 'løsningen', 'kontantstøtten',\n         'høyre', 'sjølvsagt', 'løsning', 'søke', 'ordinære', 'sørge',\n         'ønske', 'høst', 'ført', 'høsten', 'hørte', 'kvalitet', 'hørt',\n         'løsninger', 'innført', 'fører', 'ønsker', 'næring', 'høring',\n         'hører', 'høyskoler', 'høy', 'gjennomført', 'lærere', 'høre',\n         'innføre', 'støtter', 'nødt', 'støtte', 'lære', 'lønning']],\n       dtype='<U14'),\n array([[0.5738417 , 0.5258107 , 0.5106198 , 0.47864038, 0.47417963,\n         0.4703197 , 0.46152216, 0.45930564, 0.45798215, 0.45673   ,\n         0.45534587, 0.45481938, 0.44964296, 0.44908884, 0.44790995,\n         0.44660062, 0.4465171 , 0.4460082 , 0.44327858, 0.43830276,\n         0.43717086, 0.43617454, 0.43339604, 0.43003184, 0.42455977,\n         0.4230132 , 0.42098165, 0.420268  , 0.41646504, 0.41634396,\n         0.4138672 , 0.41301346, 0.410906  , 0.41084522, 0.40894035,\n         0.407616  , 0.40641904, 0.4050811 , 0.40382066, 0.40364787,\n         0.40208882, 0.40159935, 0.40157336, 0.40147287, 0.4003439 ,\n         0.39910725, 0.3971498 , 0.39618444, 0.39577472, 0.39526385],\n        [0.49415964, 0.4540261 , 0.4439484 , 0.41583738, 0.41325217,\n         0.38063517, 0.3753125 , 0.36345655, 0.3604691 , 0.36003724,\n         0.3599187 , 0.35943922, 0.35609287, 0.35436064, 0.34852922,\n         0.34809554, 0.346483  , 0.34610718, 0.3440884 , 0.34403795,\n         0.34390038, 0.34209087, 0.34207955, 0.33778945, 0.33633807,\n         0.33528793, 0.33353114, 0.33346766, 0.33254832, 0.33207268,\n         0.33021417, 0.32775646, 0.32654577, 0.3263687 , 0.325037  ,\n         0.32475328, 0.3236761 , 0.32317138, 0.31999302, 0.31997082,\n         0.31978554, 0.31916225, 0.31835794, 0.31726962, 0.3161115 ,\n         0.31512862, 0.3151251 , 0.31360388, 0.31333995, 0.31268632]],\n       dtype=float32),\n array([0, 1]))"
     },
     "execution_count": 11,
     "metadata": {},
     "output_type": "execute_result"
    }
   ],
   "source": [
    "topic_model.get_topics()"
   ],
   "metadata": {
    "collapsed": false,
    "ExecuteTime": {
     "start_time": "2023-06-04T21:01:59.093942Z",
     "end_time": "2023-06-04T21:01:59.181706Z"
    }
   }
  },
  {
   "cell_type": "code",
   "execution_count": 11,
   "outputs": [],
   "source": [],
   "metadata": {
    "collapsed": false,
    "ExecuteTime": {
     "start_time": "2023-06-04T21:01:59.107903Z",
     "end_time": "2023-06-04T21:01:59.187691Z"
    }
   }
  },
  {
   "cell_type": "code",
   "execution_count": 12,
   "outputs": [
    {
     "name": "stdout",
     "output_type": "stream",
     "text": [
      "\n",
      " 0\n",
      "{'selvfølgelig': 0.5738417, 'tilnærming': 0.5258107, 'nødvendigvis': 0.5106198, 'næringslivet': 0.47864038, 'ønskjer': 0.47417963, 'nødvendig': 0.4703197, 'høyt': 0.46152216, 'lærerne': 0.45930564, 'sjølvsagt': 0.45798215, 'øvrig': 0.45673, 'løsning': 0.45534587, 'asylsøkere': 0.45481938, 'næringsliv': 0.44964296, 'nødvendige': 0.44908884, 'søke': 0.44790995, 'nærmest': 0.44660062, 'løsninger': 0.4465171, 'kontantstøtten': 0.4460082, 'høyre': 0.44327858, 'ønske': 0.43830276, 'løsningen': 0.43717086, 'høsten': 0.43617454, 'høst': 0.43339604, 'ønsker': 0.43003184, 'aktører': 0.42455977, 'færre': 0.4230132, 'fornøyd': 0.42098165, 'lønning': 0.420268, 'støtter': 0.41646504, 'sørge': 0.41634396, 'støtte': 0.4138672, 'høyskoler': 0.41301346, 'hørte': 0.410906, 'høy': 0.41084522, 'høre': 0.40894035, 'raudgrøne': 0.407616, 'nødt': 0.40641904, 'innføre': 0.4050811, 'øke': 0.40382066, 'forsøk': 0.40364787, 'rødgrønne': 0.40208882, 'høyere': 0.40159935, 'tilstrekkelig': 0.40157336, 'høyres': 0.40147287, 'øvrige': 0.4003439, 'ført': 0.39910725, 'øker': 0.3971498, 'fører': 0.39618444, 'gjennomføre': 0.39577472, 'gjennomført': 0.39526385}\n",
      "\n",
      " 1\n",
      "{'selvfølgelig': 0.49415964, 'nødvendigvis': 0.4540261, 'tilnærming': 0.4439484, 'næringslivet': 0.41583738, 'lærerne': 0.41325217, 'nødvendig': 0.38063517, 'næringsliv': 0.3753125, 'færre': 0.36345655, 'asylsøkere': 0.3604691, 'øvrig': 0.36003724, 'høyt': 0.3599187, 'nødvendige': 0.35943922, 'nærmest': 0.35609287, 'ønskjer': 0.35436064, 'lærer': 0.34852922, 'tilstrekkelig': 0.34809554, 'aktører': 0.346483, 'løsningen': 0.34610718, 'kontantstøtten': 0.3440884, 'høyre': 0.34403795, 'sjølvsagt': 0.34390038, 'løsning': 0.34209087, 'søke': 0.34207955, 'ordinære': 0.33778945, 'sørge': 0.33633807, 'ønske': 0.33528793, 'høst': 0.33353114, 'ført': 0.33346766, 'høsten': 0.33254832, 'hørte': 0.33207268, 'kvalitet': 0.33021417, 'hørt': 0.32775646, 'løsninger': 0.32654577, 'innført': 0.3263687, 'fører': 0.325037, 'ønsker': 0.32475328, 'næring': 0.3236761, 'høring': 0.32317138, 'hører': 0.31999302, 'høyskoler': 0.31997082, 'høy': 0.31978554, 'gjennomført': 0.31916225, 'lærere': 0.31835794, 'høre': 0.31726962, 'innføre': 0.3161115, 'støtter': 0.31512862, 'nødt': 0.3151251, 'støtte': 0.31360388, 'lære': 0.31333995, 'lønning': 0.31268632}\n"
     ]
    }
   ],
   "source": [
    "for i in range(num_topics):\n",
    "    print(\"\\n\", i)\n",
    "    print(topic_word_scores[i])\n"
   ],
   "metadata": {
    "collapsed": false,
    "ExecuteTime": {
     "start_time": "2023-06-04T21:01:59.124859Z",
     "end_time": "2023-06-04T21:01:59.189686Z"
    }
   }
  },
  {
   "cell_type": "code",
   "execution_count": 13,
   "outputs": [
    {
     "data": {
      "text/plain": "<Figure size 1280x960 with 2 Axes>",
      "image/png": "[encoded data removed]"
     },
     "metadata": {},
     "output_type": "display_data"
    }
   ],
   "source": [
    "\n",
    "from utils.filemanagement import make_excerpt_wordcloud\n",
    "\n",
    "excerpt_wordcloud = make_excerpt_wordcloud(topic_word_scores, num_topics,\n",
    "                                           f\"Sample from {model_name}-{embedding_model}: {data_type}\",\n",
    "                                           random_sample=random_sample, seed=seed)\n",
    "\n",
    "excerpt_wordcloud.savefig(os.path.join(ROOT_PATH,folder_path_word_cloud,f\"{file_name}_wordcloud_sample\"),bbox_inches=\"tight\")"
   ],
   "metadata": {
    "collapsed": false,
    "ExecuteTime": {
     "start_time": "2023-06-04T21:01:59.144806Z",
     "end_time": "2023-06-04T21:01:59.682203Z"
    }
   }
  },
  {
   "cell_type": "code",
   "execution_count": 14,
   "outputs": [
    {
     "data": {
      "text/plain": "<Figure size 1280x960 with 2 Axes>",
      "image/png": "[encoded data removed]"
     },
     "metadata": {},
     "output_type": "display_data"
    }
   ],
   "source": [
    "from utils.tables_and_plots import display_n_wordclouds\n",
    "\n",
    "wordcloud = display_n_wordclouds(topic_word_scores, f\"{model_name}-{embedding_model}: {data_type}\",num_topics, dpi=200)\n"
   ],
   "metadata": {
    "collapsed": false,
    "ExecuteTime": {
     "start_time": "2023-06-04T21:01:59.683200Z",
     "end_time": "2023-06-04T21:02:00.131097Z"
    }
   }
  },
  {
   "cell_type": "code",
   "execution_count": 15,
   "outputs": [],
   "source": [
    "from utils.tables_and_plots import create_wordcloud\n",
    "\n",
    "wordcloud.savefig(os.path.join(ROOT_PATH,folder_path_word_cloud,f\"{file_name}_wordcloud\"))\n",
    "file_name_model = \"wordcloud\"\n",
    "for i in range(num_topics):\n",
    "    topic_wordcloud = create_wordcloud(topic_word_scores[i])\n",
    "    topic_wordcloud.to_file(os.path.join(ROOT_PATH, folder_path_word_cloud, str(file_name_model + f\"_{i}.png\")))"
   ],
   "metadata": {
    "collapsed": false,
    "ExecuteTime": {
     "start_time": "2023-06-04T21:02:00.135088Z",
     "end_time": "2023-06-04T21:02:00.739472Z"
    }
   }
  },
  {
   "cell_type": "code",
   "execution_count": 16,
   "outputs": [],
   "source": [
    "from utils.filemanagement import write_topics_file\n",
    "\n",
    "topic_words_numbered = [(i, list(topic_words[i])) for i in range(num_topics)]\n",
    "\n",
    "\n",
    "write_topics_file(folder_path_topics, file_name, topic_words_numbered)"
   ],
   "metadata": {
    "collapsed": false,
    "ExecuteTime": {
     "start_time": "2023-06-04T21:02:00.739472Z",
     "end_time": "2023-06-04T21:02:00.755427Z"
    }
   }
  },
  {
   "cell_type": "code",
   "execution_count": 17,
   "outputs": [],
   "source": [
    "from utils.filemanagement import load_model_topics\n",
    "\n",
    "\n",
    "loaded_topics = load_model_topics(folder_path_topics, file_name)"
   ],
   "metadata": {
    "collapsed": false,
    "ExecuteTime": {
     "start_time": "2023-06-04T21:02:00.758420Z",
     "end_time": "2023-06-04T21:02:00.782356Z"
    }
   }
  },
  {
   "cell_type": "code",
   "execution_count": 18,
   "outputs": [],
   "source": [
    "folder_path_frequencies = r\"preprocessed_data/stats\"\n",
    "file_name_co_frequencies = f\"{data_type}_co_freq\"\n",
    "file_name_frequencies=f\"{data_type}_freq\""
   ],
   "metadata": {
    "collapsed": false,
    "ExecuteTime": {
     "start_time": "2023-06-04T21:02:00.774378Z",
     "end_time": "2023-06-04T21:02:00.803303Z"
    }
   }
  },
  {
   "cell_type": "code",
   "execution_count": 19,
   "outputs": [
    {
     "data": {
      "text/plain": "2"
     },
     "execution_count": 19,
     "metadata": {},
     "output_type": "execute_result"
    }
   ],
   "source": [
    "len(loaded_topics.values())"
   ],
   "metadata": {
    "collapsed": false,
    "ExecuteTime": {
     "start_time": "2023-06-04T21:02:00.788339Z",
     "end_time": "2023-06-04T21:02:00.803303Z"
    }
   }
  },
  {
   "cell_type": "code",
   "execution_count": 20,
   "outputs": [],
   "source": [
    "\n",
    "from utils.filemanagement import load_word_frequencies\n",
    "\n",
    "word_frequencies = load_word_frequencies(folder_path_frequencies, file_name_frequencies)"
   ],
   "metadata": {
    "collapsed": false,
    "ExecuteTime": {
     "start_time": "2023-06-04T21:02:00.805294Z",
     "end_time": "2023-06-04T21:02:00.938936Z"
    }
   }
  },
  {
   "cell_type": "code",
   "execution_count": 21,
   "outputs": [],
   "source": [
    "from utils.filemanagement import load_zipped_word_co_frequencies\n",
    "\n",
    "word_co_frequencies = load_zipped_word_co_frequencies(folder_path_frequencies,file_name_co_frequencies)"
   ],
   "metadata": {
    "collapsed": false,
    "ExecuteTime": {
     "start_time": "2023-06-04T21:02:00.940931Z",
     "end_time": "2023-06-04T21:02:12.719284Z"
    }
   }
  },
  {
   "cell_type": "code",
   "execution_count": 22,
   "outputs": [
    {
     "name": "stdout",
     "output_type": "stream",
     "text": [
      "10\n",
      "('selvfølgelig', 'tilnærming') wordtuple\n",
      "('selvfølgelig', 'tilnærming') wordup\n",
      "16.0 over\n",
      "26506.0 under\n",
      "-10.694031350185641 -4.0 2.6735078375464103 ('selvfølgelig', 'tilnærming') 16 457 58\n",
      "('nødvendigvis', 'selvfølgelig') wordtuple\n",
      "('nødvendigvis', 'selvfølgelig') wordup\n",
      "31.0 over\n",
      "46614.0 under\n",
      "-10.55427938664269 -4.954196310386876 2.1303716537261117 ('nødvendigvis', 'selvfølgelig') 31 457 102\n",
      "('næringslivet', 'selvfølgelig') wordtuple\n",
      "('næringslivet', 'selvfølgelig') wordup\n",
      "35.0 over\n",
      "103282.0 under\n",
      "-11.526946300528293 -5.129283016944966 2.2472821761731945 ('næringslivet', 'selvfølgelig') 35 457 226\n",
      "('selvfølgelig', 'ønskjer') wordtuple\n",
      "('nødvendig', 'selvfølgelig') wordtuple\n",
      "('nødvendig', 'selvfølgelig') wordup\n",
      "94.0 over\n",
      "181886.0 under\n",
      "-10.918086123924082 -6.554588851677638 1.6657163967087902 ('nødvendig', 'selvfølgelig') 94 457 398\n",
      "('høyt', 'selvfølgelig') wordtuple\n",
      "('høyt', 'selvfølgelig') wordup\n",
      "18.0 over\n",
      "52555.0 under\n",
      "-11.511615404560132 -4.169925001442312 2.760628884351264 ('høyt', 'selvfølgelig') 18 457 115\n",
      "('lærerne', 'selvfølgelig') wordtuple\n",
      "('lærerne', 'selvfølgelig') wordup\n",
      "4.0 over\n",
      "24221.0 under\n",
      "-12.56397080962127 -2.0 6.281985404810635 ('lærerne', 'selvfølgelig') 4 457 53\n",
      "('selvfølgelig', 'sjølvsagt') wordtuple\n",
      "('selvfølgelig', 'øvrig') wordtuple\n",
      "('selvfølgelig', 'øvrig') wordup\n",
      "28.0 over\n",
      "47528.0 under\n",
      "-10.729135151141557 -4.807354922057604 2.2318167318816067 ('selvfølgelig', 'øvrig') 28 457 104\n",
      "('nødvendigvis', 'tilnærming') wordtuple\n",
      "('nødvendigvis', 'tilnærming') wordup\n",
      "('næringslivet', 'tilnærming') wordtuple\n",
      "('næringslivet', 'tilnærming') wordup\n",
      "4.0 over\n",
      "13108.0 under\n",
      "-11.67815995754276 -2.0 5.83907997877138 ('næringslivet', 'tilnærming') 4 58 226\n",
      "('tilnærming', 'ønskjer') wordtuple\n",
      "('tilnærming', 'ønskjer') wordup\n",
      "5.0 over\n",
      "7192.0 under\n",
      "-10.490249210627086 -2.321928094887362 4.517904423365002 ('tilnærming', 'ønskjer') 5 58 124\n",
      "('nødvendig', 'tilnærming') wordtuple\n",
      "('nødvendig', 'tilnærming') wordup\n",
      "19.0 over\n",
      "23084.0 under\n",
      "-10.246678102227635 -4.247927513443585 2.4121593576631346 ('nødvendig', 'tilnærming') 19 58 398\n",
      "('høyt', 'tilnærming') wordtuple\n",
      "('høyt', 'tilnærming') wordup\n",
      "5.0 over\n",
      "6670.0 under\n",
      "-10.381542951184585 -2.321928094887362 4.4710871857072725 ('høyt', 'tilnærming') 5 58 115\n",
      "('lærerne', 'tilnærming') wordtuple\n",
      "('lærerne', 'tilnærming') wordup\n",
      "4.0 over\n",
      "3074.0 under\n",
      "-9.585901449690772 -2.0 4.792950724845386 ('lærerne', 'tilnærming') 4 58 53\n",
      "('sjølvsagt', 'tilnærming') wordtuple\n",
      "('sjølvsagt', 'tilnærming') wordup\n",
      "2.0 over\n",
      "6786.0 under\n",
      "-11.728345714710978 -1.0 11.728345714710978 ('sjølvsagt', 'tilnærming') 2 58 117\n",
      "('tilnærming', 'øvrig') wordtuple\n",
      "('tilnærming', 'øvrig') wordup\n",
      "4.0 over\n",
      "6032.0 under\n",
      "-10.558420713268665 -2.0 5.279210356634333 ('tilnærming', 'øvrig') 4 58 104\n",
      "('næringslivet', 'nødvendigvis') wordtuple\n",
      "('næringslivet', 'nødvendigvis') wordup\n",
      "21.0 over\n",
      "23052.0 under\n",
      "-10.100286881607923 -4.392317422778761 2.2995348262462474 ('næringslivet', 'nødvendigvis') 21 102 226\n",
      "('nødvendigvis', 'ønskjer') wordtuple\n",
      "('nødvendigvis', 'ønskjer') wordup\n",
      "('nødvendig', 'nødvendigvis') wordtuple\n",
      "('nødvendig', 'nødvendigvis') wordup\n",
      "26.0 over\n",
      "40596.0 under\n",
      "-10.608610244374052 -4.700439718141093 2.2569399631763587 ('nødvendig', 'nødvendigvis') 26 102 398\n",
      "('høyt', 'nødvendigvis') wordtuple\n",
      "('høyt', 'nødvendigvis') wordup\n",
      "5.0 over\n",
      "11730.0 under\n",
      "-11.19598729802851 -2.321928094887362 4.821849273748347 ('høyt', 'nødvendigvis') 5 102 115\n",
      "('lærerne', 'nødvendigvis') wordtuple\n",
      "('lærerne', 'nødvendigvis') wordup\n",
      "2.0 over\n",
      "5406.0 under\n",
      "-11.400345796534696 -1.0 11.400345796534696 ('lærerne', 'nødvendigvis') 2 102 53\n",
      "('nødvendigvis', 'sjølvsagt') wordtuple\n",
      "('nødvendigvis', 'sjølvsagt') wordup\n",
      "5.0 over\n",
      "11934.0 under\n",
      "-11.220861966667538 -2.321928094887362 4.8325622104210195 ('nødvendigvis', 'sjølvsagt') 5 102 117\n",
      "('nødvendigvis', 'øvrig') wordtuple\n",
      "('nødvendigvis', 'øvrig') wordup\n",
      "9.0 over\n",
      "10608.0 under\n",
      "-10.202940058670276 -3.1699250014423126 3.2186692284605942 ('nødvendigvis', 'øvrig') 9 102 104\n",
      "('næringslivet', 'ønskjer') wordtuple\n",
      "('næringslivet', 'ønskjer') wordup\n",
      "15.0 over\n",
      "28024.0 under\n",
      "-10.867484677193545 -3.9068905956085187 2.781619912625395 ('næringslivet', 'ønskjer') 15 226 124\n",
      "('næringslivet', 'nødvendig') wordtuple\n",
      "('næringslivet', 'nødvendig') wordup\n",
      "103.0 over\n",
      "89948.0 under\n",
      "-9.770303055775619 -6.6865005271832185 1.461198277941585 ('næringslivet', 'nødvendig') 103 226 398\n",
      "('høyt', 'næringslivet') wordtuple\n",
      "('høyt', 'næringslivet') wordup\n",
      "22.0 over\n",
      "25990.0 under\n",
      "-10.206237394722267 -4.459431618637297 2.288685704264945 ('høyt', 'næringslivet') 22 226 115\n",
      "('lærerne', 'næringslivet') wordtuple\n",
      "('lærerne', 'næringslivet') wordup\n",
      "16.0 over\n",
      "11978.0 under\n",
      "-9.548099416978387 -4.0 2.3870248542445966 ('lærerne', 'næringslivet') 16 226 53\n",
      "('næringslivet', 'sjølvsagt') wordtuple\n",
      "('næringslivet', 'sjølvsagt') wordup\n",
      "21.0 over\n",
      "26442.0 under\n",
      "-10.298226259219833 -4.392317422778761 2.344599733574071 ('næringslivet', 'sjølvsagt') 21 226 117\n",
      "('næringslivet', 'øvrig') wordtuple\n",
      "('næringslivet', 'øvrig') wordup\n",
      "7.0 over\n",
      "23504.0 under\n",
      "-11.713263758498677 -2.807354922057604 4.1723487352691535 ('næringslivet', 'øvrig') 7 226 104\n",
      "('nødvendig', 'ønskjer') wordtuple\n",
      "('nødvendig', 'ønskjer') wordup\n",
      "20.0 over\n",
      "49352.0 under\n",
      "-11.268892836043161 -4.321928094887363 2.6073762886924774 ('nødvendig', 'ønskjer') 20 124 398\n",
      "('høyt', 'ønskjer') wordtuple\n",
      "('lærerne', 'ønskjer') wordtuple\n",
      "('sjølvsagt', 'ønskjer') wordtuple\n",
      "('sjølvsagt', 'ønskjer') wordup\n",
      "31.0 over\n",
      "14508.0 under\n",
      "-8.870364719583405 -4.954196310386876 1.7904750162979943 ('sjølvsagt', 'ønskjer') 31 124 117\n",
      "('ønskjer', 'øvrig') wordtuple\n",
      "('høyt', 'nødvendig') wordtuple\n",
      "('høyt', 'nødvendig') wordup\n",
      "28.0 over\n",
      "45770.0 under\n",
      "-10.67475974943042 -4.807354922057604 2.220505854571166 ('høyt', 'nødvendig') 28 398 115\n",
      "('lærerne', 'nødvendig') wordtuple\n",
      "('lærerne', 'nødvendig') wordup\n",
      "12.0 over\n",
      "21094.0 under\n",
      "-10.779582574385692 -3.5849625007211565 3.0068885161887344 ('lærerne', 'nødvendig') 12 398 53\n",
      "('nødvendig', 'sjølvsagt') wordtuple\n",
      "('nødvendig', 'sjølvsagt') wordup\n",
      "27.0 over\n",
      "46566.0 under\n",
      "-10.752101837963584 -4.754887502163469 2.261273654333859 ('nødvendig', 'sjølvsagt') 27 398 117\n",
      "('nødvendig', 'øvrig') wordtuple\n",
      "('nødvendig', 'øvrig') wordup\n",
      "28.0 over\n",
      "41392.0 under\n",
      "-10.529709416627139 -4.807354922057604 2.1903332679502476 ('nødvendig', 'øvrig') 28 398 104\n",
      "('høyt', 'lærerne') wordtuple\n",
      "('høyt', 'lærerne') wordup\n",
      "8.0 over\n",
      "6095.0 under\n",
      "-9.573410505507576 -3.0 3.191136835169192 ('høyt', 'lærerne') 8 115 53\n",
      "('høyt', 'sjølvsagt') wordtuple\n",
      "('høyt', 'øvrig') wordtuple\n",
      "('høyt', 'øvrig') wordup\n",
      "9.0 over\n",
      "11960.0 under\n",
      "-10.376004767643156 -3.1699250014423126 3.273265065552682 ('høyt', 'øvrig') 9 115 104\n",
      "('lærerne', 'sjølvsagt') wordtuple\n",
      "('lærerne', 'øvrig') wordtuple\n",
      "('lærerne', 'øvrig') wordup\n",
      "('sjølvsagt', 'øvrig') wordtuple\n",
      "225.67735968431776 2v\n",
      "90 x2\n",
      "68\n",
      "2.507526218714642 n printed\n",
      "10\n",
      "('nødvendigvis', 'selvfølgelig') wordtuple\n",
      "('nødvendigvis', 'selvfølgelig') wordup\n",
      "31.0 over\n",
      "46614.0 under\n",
      "-10.55427938664269 -4.954196310386876 2.1303716537261117 ('nødvendigvis', 'selvfølgelig') 31 457 102\n",
      "('selvfølgelig', 'tilnærming') wordtuple\n",
      "('selvfølgelig', 'tilnærming') wordup\n",
      "16.0 over\n",
      "26506.0 under\n",
      "-10.694031350185641 -4.0 2.6735078375464103 ('selvfølgelig', 'tilnærming') 16 457 58\n",
      "('næringslivet', 'selvfølgelig') wordtuple\n",
      "('næringslivet', 'selvfølgelig') wordup\n",
      "35.0 over\n",
      "103282.0 under\n",
      "-11.526946300528293 -5.129283016944966 2.2472821761731945 ('næringslivet', 'selvfølgelig') 35 457 226\n",
      "('lærerne', 'selvfølgelig') wordtuple\n",
      "('lærerne', 'selvfølgelig') wordup\n",
      "4.0 over\n",
      "24221.0 under\n",
      "-12.56397080962127 -2.0 6.281985404810635 ('lærerne', 'selvfølgelig') 4 457 53\n",
      "('nødvendig', 'selvfølgelig') wordtuple\n",
      "('nødvendig', 'selvfølgelig') wordup\n",
      "94.0 over\n",
      "181886.0 under\n",
      "-10.918086123924082 -6.554588851677638 1.6657163967087902 ('nødvendig', 'selvfølgelig') 94 457 398\n",
      "('næringsliv', 'selvfølgelig') wordtuple\n",
      "('næringsliv', 'selvfølgelig') wordup\n",
      "34.0 over\n",
      "94599.0 under\n",
      "-11.442074471307055 -5.08746284125034 2.2490728342096253 ('næringsliv', 'selvfølgelig') 34 457 207\n",
      "('færre', 'selvfølgelig') wordtuple\n",
      "('færre', 'selvfølgelig') wordup\n",
      "25.0 over\n",
      "47071.0 under\n",
      "-10.878694692466564 -4.643856189774724 2.3425993932413944 ('færre', 'selvfølgelig') 25 457 103\n",
      "('asylsøkere', 'selvfølgelig') wordtuple\n",
      "('asylsøkere', 'selvfølgelig') wordup\n",
      "22.0 over\n",
      "28334.0 under\n",
      "-10.330815046807649 -4.459431618637297 2.316621473380618 ('asylsøkere', 'selvfølgelig') 22 457 62\n",
      "('selvfølgelig', 'øvrig') wordtuple\n",
      "('selvfølgelig', 'øvrig') wordup\n",
      "28.0 over\n",
      "47528.0 under\n",
      "-10.729135151141557 -4.807354922057604 2.2318167318816067 ('selvfølgelig', 'øvrig') 28 457 104\n",
      "('nødvendigvis', 'tilnærming') wordtuple\n",
      "('nødvendigvis', 'tilnærming') wordup\n",
      "('næringslivet', 'nødvendigvis') wordtuple\n",
      "('næringslivet', 'nødvendigvis') wordup\n",
      "21.0 over\n",
      "23052.0 under\n",
      "-10.100286881607923 -4.392317422778761 2.2995348262462474 ('næringslivet', 'nødvendigvis') 21 102 226\n",
      "('lærerne', 'nødvendigvis') wordtuple\n",
      "('lærerne', 'nødvendigvis') wordup\n",
      "2.0 over\n",
      "5406.0 under\n",
      "-11.400345796534696 -1.0 11.400345796534696 ('lærerne', 'nødvendigvis') 2 102 53\n",
      "('nødvendig', 'nødvendigvis') wordtuple\n",
      "('nødvendig', 'nødvendigvis') wordup\n",
      "26.0 over\n",
      "40596.0 under\n",
      "-10.608610244374052 -4.700439718141093 2.2569399631763587 ('nødvendig', 'nødvendigvis') 26 102 398\n",
      "('næringsliv', 'nødvendigvis') wordtuple\n",
      "('næringsliv', 'nødvendigvis') wordup\n",
      "7.0 over\n",
      "21114.0 under\n",
      "-11.558557377413216 -2.807354922057604 4.117241210435039 ('næringsliv', 'nødvendigvis') 7 102 207\n",
      "('færre', 'nødvendigvis') wordtuple\n",
      "('færre', 'nødvendigvis') wordup\n",
      "3.0 over\n",
      "10506.0 under\n",
      "-11.773963368433558 -1.5849625007211563 7.428543806605151 ('færre', 'nødvendigvis') 3 102 103\n",
      "('asylsøkere', 'nødvendigvis') wordtuple\n",
      "('nødvendigvis', 'øvrig') wordtuple\n",
      "('nødvendigvis', 'øvrig') wordup\n",
      "9.0 over\n",
      "10608.0 under\n",
      "-10.202940058670276 -3.1699250014423126 3.2186692284605942 ('nødvendigvis', 'øvrig') 9 102 104\n",
      "('næringslivet', 'tilnærming') wordtuple\n",
      "('næringslivet', 'tilnærming') wordup\n",
      "4.0 over\n",
      "13108.0 under\n",
      "-11.67815995754276 -2.0 5.83907997877138 ('næringslivet', 'tilnærming') 4 58 226\n",
      "('lærerne', 'tilnærming') wordtuple\n",
      "('lærerne', 'tilnærming') wordup\n",
      "4.0 over\n",
      "3074.0 under\n",
      "-9.585901449690772 -2.0 4.792950724845386 ('lærerne', 'tilnærming') 4 58 53\n",
      "('nødvendig', 'tilnærming') wordtuple\n",
      "('nødvendig', 'tilnærming') wordup\n",
      "19.0 over\n",
      "23084.0 under\n",
      "-10.246678102227635 -4.247927513443585 2.4121593576631346 ('nødvendig', 'tilnærming') 19 58 398\n",
      "('næringsliv', 'tilnærming') wordtuple\n",
      "('næringsliv', 'tilnærming') wordup\n",
      "4.0 over\n",
      "12006.0 under\n",
      "-11.551467952626897 -2.0 5.7757339763134485 ('næringsliv', 'tilnærming') 4 58 207\n",
      "('færre', 'tilnærming') wordtuple\n",
      "('asylsøkere', 'tilnærming') wordtuple\n",
      "('tilnærming', 'øvrig') wordtuple\n",
      "('tilnærming', 'øvrig') wordup\n",
      "4.0 over\n",
      "6032.0 under\n",
      "-10.558420713268665 -2.0 5.279210356634333 ('tilnærming', 'øvrig') 4 58 104\n",
      "('lærerne', 'næringslivet') wordtuple\n",
      "('lærerne', 'næringslivet') wordup\n",
      "16.0 over\n",
      "11978.0 under\n",
      "-9.548099416978387 -4.0 2.3870248542445966 ('lærerne', 'næringslivet') 16 226 53\n",
      "('næringslivet', 'nødvendig') wordtuple\n",
      "('næringslivet', 'nødvendig') wordup\n",
      "103.0 over\n",
      "89948.0 under\n",
      "-9.770303055775619 -6.6865005271832185 1.461198277941585 ('næringslivet', 'nødvendig') 103 226 398\n",
      "('næringsliv', 'næringslivet') wordtuple\n",
      "('næringsliv', 'næringslivet') wordup\n",
      "132.0 over\n",
      "46782.0 under\n",
      "-8.46927180055606 -7.044394119358453 1.2022711473910794 ('næringsliv', 'næringslivet') 132 226 207\n",
      "('færre', 'næringslivet') wordtuple\n",
      "('færre', 'næringslivet') wordup\n",
      "18.0 over\n",
      "23278.0 under\n",
      "-10.336754488156094 -4.169925001442312 2.478882590113916 ('færre', 'næringslivet') 18 226 103\n",
      "('asylsøkere', 'næringslivet') wordtuple\n",
      "('asylsøkere', 'næringslivet') wordup\n",
      "5.0 over\n",
      "14012.0 under\n",
      "-11.452447177914701 -2.321928094887362 4.932300532101648 ('asylsøkere', 'næringslivet') 5 226 62\n",
      "('næringslivet', 'øvrig') wordtuple\n",
      "('næringslivet', 'øvrig') wordup\n",
      "7.0 over\n",
      "23504.0 under\n",
      "-11.713263758498677 -2.807354922057604 4.1723487352691535 ('næringslivet', 'øvrig') 7 226 104\n",
      "('lærerne', 'nødvendig') wordtuple\n",
      "('lærerne', 'nødvendig') wordup\n",
      "12.0 over\n",
      "21094.0 under\n",
      "-10.779582574385692 -3.5849625007211565 3.0068885161887344 ('lærerne', 'nødvendig') 12 53 398\n",
      "('lærerne', 'næringsliv') wordtuple\n",
      "('færre', 'lærerne') wordtuple\n",
      "('færre', 'lærerne') wordup\n",
      "2.0 over\n",
      "5459.0 under\n",
      "-11.414420981746417 -1.0 11.414420981746417 ('færre', 'lærerne') 2 53 103\n",
      "('asylsøkere', 'lærerne') wordtuple\n",
      "('lærerne', 'øvrig') wordtuple\n",
      "('lærerne', 'øvrig') wordup\n",
      "('næringsliv', 'nødvendig') wordtuple\n",
      "('næringsliv', 'nødvendig') wordup\n",
      "87.0 over\n",
      "82386.0 under\n",
      "-9.887168082194245 -6.442943495848729 1.5345731479043196 ('næringsliv', 'nødvendig') 87 398 207\n",
      "('færre', 'nødvendig') wordtuple\n",
      "('færre', 'nødvendig') wordup\n",
      "31.0 over\n",
      "40994.0 under\n",
      "-10.368928837339993 -4.954196310386876 2.092958814651872 ('færre', 'nødvendig') 31 398 103\n",
      "('asylsøkere', 'nødvendig') wordtuple\n",
      "('asylsøkere', 'nødvendig') wordup\n",
      "3.0 over\n",
      "24676.0 under\n",
      "-13.005858430209368 -1.5849625007211563 8.205783054357259 ('asylsøkere', 'nødvendig') 3 398 62\n",
      "('nødvendig', 'øvrig') wordtuple\n",
      "('nødvendig', 'øvrig') wordup\n",
      "28.0 over\n",
      "41392.0 under\n",
      "-10.529709416627139 -4.807354922057604 2.1903332679502476 ('nødvendig', 'øvrig') 28 398 104\n",
      "('færre', 'næringsliv') wordtuple\n",
      "('færre', 'næringsliv') wordup\n",
      "9.0 over\n",
      "21321.0 under\n",
      "-11.210062483240232 -3.1699250014423126 3.5363809800357 ('færre', 'næringsliv') 9 207 103\n",
      "('asylsøkere', 'næringsliv') wordtuple\n",
      "('asylsøkere', 'næringsliv') wordup\n",
      "3.0 over\n",
      "12834.0 under\n",
      "-12.062720767165045 -1.5849625007211563 7.610729441028743 ('asylsøkere', 'næringsliv') 3 207 62\n",
      "('næringsliv', 'øvrig') wordtuple\n",
      "('næringsliv', 'øvrig') wordup\n",
      "15.0 over\n",
      "21528.0 under\n",
      "-10.4870360800319 -3.9068905956085187 2.684241041154235 ('næringsliv', 'øvrig') 15 207 104\n",
      "('asylsøkere', 'færre') wordtuple\n",
      "('asylsøkere', 'færre') wordup\n",
      "9.0 over\n",
      "6386.0 under\n",
      "-9.470771836127781 -3.1699250014423126 2.9876958703498 ('asylsøkere', 'færre') 9 103 62\n",
      "('færre', 'øvrig') wordtuple\n",
      "('færre', 'øvrig') wordup\n",
      "2.0 over\n",
      "10712.0 under\n",
      "-12.386940245324311 -1.0 12.386940245324311 ('færre', 'øvrig') 2 103 104\n",
      "('asylsøkere', 'øvrig') wordtuple\n",
      "290.4887092502355 2v\n",
      "90 x2\n",
      "74\n",
      "3.227652325002617 n printed\n",
      "[2.507526218714642, 3.227652325002617] npmis\n"
     ]
    }
   ],
   "source": [
    "from utils.stats import compute_metrics\n",
    "input_data = list(loaded_topics.values())\n",
    "coherence, diversity = compute_metrics(\n",
    "    input_data, word_frequencies, word_co_frequencies, 10)"
   ],
   "metadata": {
    "collapsed": false,
    "ExecuteTime": {
     "start_time": "2023-06-04T21:02:12.723274Z",
     "end_time": "2023-06-04T21:02:13.617408Z"
    }
   }
  },
  {
   "cell_type": "code",
   "execution_count": 23,
   "outputs": [
    {
     "name": "stdout",
     "output_type": "stream",
     "text": [
      "-0.2704138583886275\n"
     ]
    }
   ],
   "source": [
    "from nltk import word_tokenize\n",
    "from utils.config import use_pmi\n",
    "from gensim.test.utils import common_corpus, common_dictionary\n",
    "from gensim.models.coherencemodel import CoherenceModel\n",
    "from gensim.corpora import Dictionary\n",
    "if not use_pmi:\n",
    "    corpus_tokenized = []\n",
    "    for item in new_data:\n",
    "        word_tokens = word_tokenize(item)\n",
    "        corpus_tokenized.append(word_tokens)\n",
    "\n",
    "    dct = Dictionary(corpus_tokenized)\n",
    "    inp = list(loaded_topics.values())\n",
    "\n",
    "\n",
    "    cm = CoherenceModel(topics=inp, texts = corpus_tokenized, dictionary=dct, coherence='c_npmi')\n",
    "    coherence2 = cm.get_coherence()  # get coherence value\n",
    "    print(coherence2)"
   ],
   "metadata": {
    "collapsed": false,
    "ExecuteTime": {
     "start_time": "2023-06-04T21:02:13.623393Z",
     "end_time": "2023-06-04T21:02:36.778401Z"
    }
   }
  },
  {
   "cell_type": "code",
   "execution_count": 24,
   "outputs": [
    {
     "data": {
      "text/plain": "0.65"
     },
     "execution_count": 24,
     "metadata": {},
     "output_type": "execute_result"
    }
   ],
   "source": [
    "diversity"
   ],
   "metadata": {
    "collapsed": false,
    "ExecuteTime": {
     "start_time": "2023-06-04T21:02:36.780397Z",
     "end_time": "2023-06-04T21:02:36.793395Z"
    }
   }
  },
  {
   "cell_type": "code",
   "execution_count": 25,
   "outputs": [
    {
     "data": {
      "text/plain": "2.8675892718586296"
     },
     "execution_count": 25,
     "metadata": {},
     "output_type": "execute_result"
    }
   ],
   "source": [
    "coherence"
   ],
   "metadata": {
    "collapsed": false,
    "ExecuteTime": {
     "start_time": "2023-06-04T21:02:36.794434Z",
     "end_time": "2023-06-04T21:02:36.885126Z"
    }
   }
  },
  {
   "cell_type": "code",
   "execution_count": 26,
   "outputs": [],
   "source": [
    "from tabulate import tabulate\n",
    "import csv"
   ],
   "metadata": {
    "collapsed": false,
    "ExecuteTime": {
     "start_time": "2023-06-04T21:02:36.810480Z",
     "end_time": "2023-06-04T21:02:36.889115Z"
    }
   }
  },
  {
   "cell_type": "code",
   "execution_count": 27,
   "outputs": [
    {
     "name": "stdout",
     "output_type": "stream",
     "text": [
      "╒═══════════════════════════════════════════════════════════════════╤═══════════╤═════════╕\n",
      "│ Model                                                             │ Metric    │   Value │\n",
      "╞═══════════════════════════════════════════════════════════════════╪═══════════╪═════════╡\n",
      "│ top2vec_universal-sentence-encoder-multilingual_np_mini_stopwords │ coherence │ 2.86759 │\n",
      "├───────────────────────────────────────────────────────────────────┼───────────┼─────────┤\n",
      "│ top2vec_universal-sentence-encoder-multilingual_np_mini_stopwords │ diversity │ 0.65    │\n",
      "╘═══════════════════════════════════════════════════════════════════╧═══════════╧═════════╛\n"
     ]
    }
   ],
   "source": [
    "# Check the stats for the dataset after running basic pipeline\n",
    "\n",
    "models = [file_name for i in range(0, 2)]\n",
    "metrics = [\"coherence\" if i < 1 else \"diversity\" for i in range(0, 2)]\n",
    "values = [\n",
    "    coherence,\n",
    "    diversity\n",
    "    ]\n",
    "\n",
    "stats = [models, metrics, values]\n",
    "stats_tabulate = list(zip(*stats))\n",
    "print(tabulate(stats_tabulate, headers=[\"Model\", \"Metric\", \"Value\"], tablefmt=\"fancy_grid\"))"
   ],
   "metadata": {
    "collapsed": false,
    "ExecuteTime": {
     "start_time": "2023-06-04T21:02:36.848433Z",
     "end_time": "2023-06-04T21:02:36.890113Z"
    }
   }
  },
  {
   "cell_type": "code",
   "execution_count": 28,
   "outputs": [],
   "source": [
    "# Save all topic stats to file\n",
    "\n",
    "topic_stats_folder_path = fr\"preprocessed_data/metrics/{experiment}/{model_type}\"\n",
    "topic_stats_file_name = f\"{file_name}_stats\"\n",
    "topic_stats_path = os.path.join(ROOT_PATH,topic_stats_folder_path, topic_stats_file_name + r\".csv\")\n",
    "\n",
    "TOPIC_STAT = \"Topic stat\"\n",
    "VALUE = \"Value\"\n",
    "\n",
    "with open(topic_stats_path, encoding=\"utf-8\", mode=\"w\", newline=\"\") as topic_stats_file:\n",
    "    header = [TOPIC_STAT, VALUE]\n",
    "    writer = csv.DictWriter(topic_stats_file, fieldnames=header, delimiter=\";\")\n",
    "    writer.writeheader()\n",
    "    writer.writerow({TOPIC_STAT : \"Coherence\", VALUE : coherence})\n",
    "    writer.writerow({TOPIC_STAT : \"Diversity\", VALUE : diversity})"
   ],
   "metadata": {
    "collapsed": false,
    "ExecuteTime": {
     "start_time": "2023-06-04T21:02:36.859436Z",
     "end_time": "2023-06-04T21:02:36.890113Z"
    }
   }
  },
  {
   "cell_type": "code",
   "execution_count": 28,
   "outputs": [],
   "source": [],
   "metadata": {
    "collapsed": false,
    "ExecuteTime": {
     "start_time": "2023-06-04T21:02:36.872232Z",
     "end_time": "2023-06-04T21:02:36.891112Z"
    }
   }
  }
 ],
 "metadata": {
  "kernelspec": {
   "display_name": "Python 3",
   "language": "python",
   "name": "python3"
  },
  "language_info": {
   "codemirror_mode": {
    "name": "ipython",
    "version": 2
   },
   "file_extension": ".py",
   "mimetype": "text/x-python",
   "name": "python",
   "nbconvert_exporter": "python",
   "pygments_lexer": "ipython2",
   "version": "2.7.6"
  }
 },
 "nbformat": 4,
 "nbformat_minor": 0
}
