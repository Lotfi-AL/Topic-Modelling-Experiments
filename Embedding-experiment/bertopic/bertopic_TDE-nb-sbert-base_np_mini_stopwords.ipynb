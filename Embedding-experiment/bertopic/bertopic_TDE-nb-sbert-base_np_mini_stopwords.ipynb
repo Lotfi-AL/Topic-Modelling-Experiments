{
 "cells": [
  {
   "cell_type": "code",
   "execution_count": 1,
   "metadata": {
    "collapsed": true,
    "ExecuteTime": {
     "start_time": "2023-06-04T20:48:25.844080Z",
     "end_time": "2023-06-04T20:48:40.642498Z"
    }
   },
   "outputs": [],
   "source": [
    "import os\n",
    "import random\n",
    "\n",
    "import pandas as pd\n",
    "from bertopic import BERTopic\n",
    "from nltk.tokenize import word_tokenize\n",
    "from utils.filemanagement import load_from_file\n",
    "from utils.filemanagement import get_project_root\n",
    "from utils.config import random_sample,seed"
   ]
  },
  {
   "cell_type": "code",
   "execution_count": 2,
   "outputs": [],
   "source": [
    "model_type=\"bertopic\"\n",
    "model_name=\"BERTopic\"\n",
    "experiment=\"embedding\"\n",
    "embedding_model = \"TDE-nb-sbert-base\"\n",
    "data_type=\"np_mini_stopwords\"\n",
    "file_name_data = f\"{data_type}.csv\"\n",
    "file_name = f\"{model_type}_{embedding_model}_{data_type}\"\n",
    "folder_path_topics = f\"preprocessed_data/results/embedding/{model_type}\"\n",
    "folder_path_data =f\"preprocessed_data\"\n",
    "df = load_from_file(folder_path_data,file_name_data)\n",
    "TOPN = 20\n",
    "folder_path_word_cloud = f\"preprocessed_data/wordclouds/{experiment}/{model_type}/{file_name}\"\n",
    "\n",
    "\n",
    "folder_name = f\"Embedding-experiment/models/{model_type}\"\n",
    "\n",
    "ROOT_PATH = get_project_root()\n",
    "file_path = os.path.join(ROOT_PATH,folder_name,file_name)\n",
    "\n"
   ],
   "metadata": {
    "collapsed": false,
    "ExecuteTime": {
     "start_time": "2023-06-04T20:48:40.643496Z",
     "end_time": "2023-06-04T20:48:40.718296Z"
    }
   }
  },
  {
   "cell_type": "code",
   "execution_count": 3,
   "outputs": [],
   "source": [
    "data = df.text.values.tolist()\n",
    "timestamps = df.date.values.tolist()\n",
    "new_data = []\n",
    "for item in data:\n",
    "    new_data.append(str(item))"
   ],
   "metadata": {
    "collapsed": false,
    "ExecuteTime": {
     "start_time": "2023-06-04T20:48:40.717298Z",
     "end_time": "2023-06-04T20:48:40.753202Z"
    }
   }
  },
  {
   "cell_type": "code",
   "execution_count": 4,
   "outputs": [],
   "source": [
    "from flair.embeddings import TransformerDocumentEmbeddings\n",
    "\n",
    "emb_model = TransformerDocumentEmbeddings('NbAiLab/nb-sbert-base')"
   ],
   "metadata": {
    "collapsed": false,
    "ExecuteTime": {
     "start_time": "2023-06-04T20:48:40.735251Z",
     "end_time": "2023-06-04T20:48:45.345917Z"
    }
   }
  },
  {
   "cell_type": "code",
   "execution_count": 5,
   "outputs": [],
   "source": [
    "topic_model = BERTopic(embedding_model=emb_model,verbose=True)\n",
    "try:\n",
    "    topic_model = BERTopic.load(file_path)\n",
    "except:\n",
    "    print(\"correctly\")\n",
    "    topics,probs = topic_model.fit_transform(documents=new_data)"
   ],
   "metadata": {
    "collapsed": false,
    "ExecuteTime": {
     "start_time": "2023-06-04T20:48:45.347912Z",
     "end_time": "2023-06-04T20:48:45.593256Z"
    }
   }
  },
  {
   "cell_type": "code",
   "execution_count": 6,
   "outputs": [
    {
     "data": {
      "text/plain": "   Topic  Count                                             Name\n0      0   3174  0_statsråden_regjeringen_representanten_gjelder\n1      1    426        1_norge_fremskrittspartiet_regjeringen_sv",
      "text/html": "<div>\n<style scoped>\n    .dataframe tbody tr th:only-of-type {\n        vertical-align: middle;\n    }\n\n    .dataframe tbody tr th {\n        vertical-align: top;\n    }\n\n    .dataframe thead th {\n        text-align: right;\n    }\n</style>\n<table border=\"1\" class=\"dataframe\">\n  <thead>\n    <tr style=\"text-align: right;\">\n      <th></th>\n      <th>Topic</th>\n      <th>Count</th>\n      <th>Name</th>\n    </tr>\n  </thead>\n  <tbody>\n    <tr>\n      <th>0</th>\n      <td>0</td>\n      <td>3174</td>\n      <td>0_statsråden_regjeringen_representanten_gjelder</td>\n    </tr>\n    <tr>\n      <th>1</th>\n      <td>1</td>\n      <td>426</td>\n      <td>1_norge_fremskrittspartiet_regjeringen_sv</td>\n    </tr>\n  </tbody>\n</table>\n</div>"
     },
     "execution_count": 6,
     "metadata": {},
     "output_type": "execute_result"
    }
   ],
   "source": [
    "topic_model.get_topic_info()"
   ],
   "metadata": {
    "collapsed": false,
    "ExecuteTime": {
     "start_time": "2023-06-04T20:48:45.595251Z",
     "end_time": "2023-06-04T20:48:45.628163Z"
    }
   }
  },
  {
   "cell_type": "code",
   "execution_count": 7,
   "outputs": [],
   "source": [
    "topics = topic_model.get_topics()"
   ],
   "metadata": {
    "collapsed": false,
    "ExecuteTime": {
     "start_time": "2023-06-04T20:48:45.623176Z",
     "end_time": "2023-06-04T20:48:45.683016Z"
    }
   }
  },
  {
   "cell_type": "code",
   "execution_count": 8,
   "outputs": [],
   "source": [
    "NUM_TOPICS = len(topic_model.topic_sizes_.keys())-1"
   ],
   "metadata": {
    "collapsed": false,
    "ExecuteTime": {
     "start_time": "2023-06-04T20:48:45.640131Z",
     "end_time": "2023-06-04T20:48:45.734877Z"
    }
   }
  },
  {
   "cell_type": "code",
   "execution_count": 9,
   "outputs": [],
   "source": [
    "if NUM_TOPICS > 2:\n",
    "    topic_model.visualize_topics()"
   ],
   "metadata": {
    "collapsed": false,
    "ExecuteTime": {
     "start_time": "2023-06-04T20:48:45.660078Z",
     "end_time": "2023-06-04T20:48:45.736874Z"
    }
   }
  },
  {
   "cell_type": "code",
   "execution_count": 10,
   "outputs": [],
   "source": [
    "topic_model.save(file_path,save_embedding_model=False)"
   ],
   "metadata": {
    "collapsed": false,
    "ExecuteTime": {
     "start_time": "2023-06-04T20:48:45.672046Z",
     "end_time": "2023-06-04T20:48:46.275431Z"
    }
   }
  },
  {
   "cell_type": "code",
   "execution_count": 11,
   "outputs": [
    {
     "data": {
      "text/plain": "{0: [('statsråden', 0.03723611841231985),\n  ('regjeringen', 0.028782452892880707),\n  ('representanten', 0.028577044033599345),\n  ('gjelder', 0.025496723375597784),\n  ('fremskrittspartiet', 0.025427724652497152),\n  ('norge', 0.023491818438112082),\n  ('stortinget', 0.02151124121137977),\n  ('ønsker', 0.019536350238811357),\n  ('tror', 0.0193883036306868),\n  ('spørsmål', 0.01856373867355352)],\n 1: [('norge', 0.026948168073228498),\n  ('fremskrittspartiet', 0.022314559572967026),\n  ('regjeringen', 0.022078205557716918),\n  ('sv', 0.01789824216624998),\n  ('land', 0.017881687901339486),\n  ('stortinget', 0.017191151896301656),\n  ('gjelder', 0.016949451665422686),\n  ('kr', 0.01653650042992847),\n  ('barn', 0.016505520488504993),\n  ('pst', 0.01480860949048286)]}"
     },
     "execution_count": 11,
     "metadata": {},
     "output_type": "execute_result"
    }
   ],
   "source": [
    "topics"
   ],
   "metadata": {
    "collapsed": false,
    "ExecuteTime": {
     "start_time": "2023-06-04T20:48:46.276431Z",
     "end_time": "2023-06-04T20:48:46.292386Z"
    }
   }
  },
  {
   "cell_type": "code",
   "execution_count": 12,
   "outputs": [],
   "source": [
    "NUM_TOPICS = len(topic_model.topic_sizes_.keys())-1"
   ],
   "metadata": {
    "collapsed": false,
    "ExecuteTime": {
     "start_time": "2023-06-04T20:48:46.293384Z",
     "end_time": "2023-06-04T20:48:46.313329Z"
    }
   }
  },
  {
   "cell_type": "code",
   "execution_count": 12,
   "outputs": [],
   "source": [],
   "metadata": {
    "collapsed": false,
    "ExecuteTime": {
     "start_time": "2023-06-04T20:48:46.308343Z",
     "end_time": "2023-06-04T20:48:46.324301Z"
    }
   }
  },
  {
   "cell_type": "code",
   "execution_count": 13,
   "outputs": [],
   "source": [
    "formatted_topics = [dict(topics[i]) for i in range(NUM_TOPICS)]"
   ],
   "metadata": {
    "collapsed": false,
    "ExecuteTime": {
     "start_time": "2023-06-04T20:48:46.328290Z",
     "end_time": "2023-06-04T20:48:46.345244Z"
    }
   }
  },
  {
   "cell_type": "code",
   "execution_count": 14,
   "outputs": [
    {
     "name": "stdout",
     "output_type": "stream",
     "text": [
      "[{'statsråden': 0.03723611841231985, 'regjeringen': 0.028782452892880707, 'representanten': 0.028577044033599345, 'gjelder': 0.025496723375597784, 'fremskrittspartiet': 0.025427724652497152, 'norge': 0.023491818438112082, 'stortinget': 0.02151124121137977, 'ønsker': 0.019536350238811357, 'tror': 0.0193883036306868, 'spørsmål': 0.01856373867355352}]\n"
     ]
    }
   ],
   "source": [
    "print(formatted_topics)"
   ],
   "metadata": {
    "collapsed": false,
    "ExecuteTime": {
     "start_time": "2023-06-04T20:48:46.339261Z",
     "end_time": "2023-06-04T20:48:46.354221Z"
    }
   }
  },
  {
   "cell_type": "code",
   "execution_count": 15,
   "outputs": [
    {
     "data": {
      "text/plain": "<Figure size 1280x960 with 1 Axes>",
      "image/png": "[encoded data removed]"
     },
     "metadata": {},
     "output_type": "display_data"
    }
   ],
   "source": [
    "from utils.tables_and_plots import display_n_wordclouds\n",
    "\n",
    "wordcloud = display_n_wordclouds(formatted_topics, f\"{model_name}-{embedding_model}: {data_type}\", NUM_TOPICS, dpi=200)"
   ],
   "metadata": {
    "collapsed": false,
    "ExecuteTime": {
     "start_time": "2023-06-04T20:48:46.356216Z",
     "end_time": "2023-06-04T20:48:46.570641Z"
    }
   }
  },
  {
   "cell_type": "code",
   "execution_count": 16,
   "outputs": [
    {
     "data": {
      "text/plain": "<Figure size 1280x960 with 1 Axes>",
      "image/png": "[encoded data removed]"
     },
     "metadata": {},
     "output_type": "display_data"
    }
   ],
   "source": [
    "from utils.filemanagement import make_excerpt_wordcloud\n",
    "\n",
    "\n",
    "excerpt_wordcloud = make_excerpt_wordcloud(formatted_topics,NUM_TOPICS,f\"Sample from {model_name}-{embedding_model}: {data_type}\",random_sample=random_sample,seed=seed)\n",
    "\n",
    "excerpt_wordcloud.savefig(os.path.join(ROOT_PATH,folder_path_word_cloud,f\"{file_name}_wordcloud_sample\"),bbox_inches=\"tight\")"
   ],
   "metadata": {
    "collapsed": false,
    "ExecuteTime": {
     "start_time": "2023-06-04T20:48:46.572638Z",
     "end_time": "2023-06-04T20:48:46.973564Z"
    }
   }
  },
  {
   "cell_type": "code",
   "execution_count": 17,
   "outputs": [],
   "source": [
    "from utils.tables_and_plots import create_wordcloud\n",
    "\n",
    "\n",
    "\n",
    "wordcloud.savefig(os.path.join(ROOT_PATH,folder_path_word_cloud,f\"{file_name}_wordcloud\"))\n",
    "file_name_model = \"wordcloud\"\n",
    "for i in range(NUM_TOPICS):\n",
    "    topic_wordcloud = create_wordcloud(dict(topics[i]))\n",
    "    topic_wordcloud.to_file(os.path.join(ROOT_PATH, folder_path_word_cloud, str(file_name_model + f\"_{i}.png\")))"
   ],
   "metadata": {
    "collapsed": false,
    "ExecuteTime": {
     "start_time": "2023-06-04T20:48:46.871835Z",
     "end_time": "2023-06-04T20:48:47.267778Z"
    }
   }
  },
  {
   "cell_type": "markdown",
   "source": [],
   "metadata": {
    "collapsed": false
   }
  },
  {
   "cell_type": "code",
   "execution_count": 18,
   "outputs": [],
   "source": [
    "from utils.filemanagement import write_topics_file\n",
    "topic_words_numbered = []\n",
    "for i, key in enumerate(topics.keys()):\n",
    "    if key == -1:\n",
    "        continue\n",
    "    r = topics[key]\n",
    "    rr = []\n",
    "    for item in r:\n",
    "        rr.append(item[0])\n",
    "    topic_words_numbered.append((i,rr))\n",
    "\n",
    "\n",
    "\n",
    "write_topics_file(folder_path_topics, file_name, topic_words_numbered)"
   ],
   "metadata": {
    "collapsed": false,
    "ExecuteTime": {
     "start_time": "2023-06-04T20:48:47.270769Z",
     "end_time": "2023-06-04T20:48:47.283734Z"
    }
   }
  },
  {
   "cell_type": "code",
   "execution_count": 19,
   "outputs": [],
   "source": [
    "from utils.filemanagement import load_model_topics\n",
    "\n",
    "\n",
    "loaded_topics = load_model_topics(folder_path_topics, file_name)\n"
   ],
   "metadata": {
    "collapsed": false,
    "ExecuteTime": {
     "start_time": "2023-06-04T20:48:47.285729Z",
     "end_time": "2023-06-04T20:48:47.318641Z"
    }
   }
  },
  {
   "cell_type": "code",
   "execution_count": 20,
   "outputs": [],
   "source": [
    "folder_path_frequencies = r\"preprocessed_data/stats\"\n",
    "file_name_co_frequencies = f\"{data_type}_co_freq\"\n",
    "file_name_frequencies=f\"{data_type}_freq\""
   ],
   "metadata": {
    "collapsed": false,
    "ExecuteTime": {
     "start_time": "2023-06-04T20:48:47.300689Z",
     "end_time": "2023-06-04T20:48:47.319638Z"
    }
   }
  },
  {
   "cell_type": "code",
   "execution_count": 21,
   "outputs": [],
   "source": [
    "from utils.filemanagement import load_word_frequencies\n",
    "\n",
    "word_frequencies = load_word_frequencies(folder_path_frequencies, file_name_frequencies)"
   ],
   "metadata": {
    "collapsed": false,
    "ExecuteTime": {
     "start_time": "2023-06-04T20:48:47.315649Z",
     "end_time": "2023-06-04T20:48:47.437844Z"
    }
   }
  },
  {
   "cell_type": "code",
   "execution_count": 22,
   "outputs": [],
   "source": [
    "from utils.filemanagement import load_zipped_word_co_frequencies\n",
    "\n",
    "word_co_frequencies = load_zipped_word_co_frequencies(folder_path_frequencies,file_name_co_frequencies)"
   ],
   "metadata": {
    "collapsed": false,
    "ExecuteTime": {
     "start_time": "2023-06-04T20:48:47.438843Z",
     "end_time": "2023-06-04T20:48:55.292835Z"
    }
   }
  },
  {
   "cell_type": "code",
   "execution_count": 22,
   "outputs": [],
   "source": [],
   "metadata": {
    "collapsed": false,
    "ExecuteTime": {
     "start_time": "2023-06-04T20:48:55.293831Z",
     "end_time": "2023-06-04T20:48:55.309789Z"
    }
   }
  },
  {
   "cell_type": "code",
   "execution_count": 23,
   "outputs": [
    {
     "name": "stdout",
     "output_type": "stream",
     "text": [
      "10\n",
      "('regjeringen', 'statsråden') wordtuple\n",
      "('regjeringen', 'statsråden') wordup\n",
      "1095.0 over\n",
      "4574096.0 under\n",
      "-12.028340059831075 -10.096715154488537 1.191312211524936 ('regjeringen', 'statsråden') 1095 2104 2174\n",
      "('representanten', 'statsråden') wordtuple\n",
      "('representanten', 'statsråden') wordup\n",
      "532.0 over\n",
      "3414792.0 under\n",
      "-12.648083838339083 -9.05528243550119 1.3967630417304635 ('representanten', 'statsråden') 532 2104 1623\n",
      "('gjelder', 'statsråden') wordtuple\n",
      "('gjelder', 'statsråden') wordup\n",
      "1119.0 over\n",
      "3709352.0 under\n",
      "-11.694741427636089 -10.127994320976393 1.1546947062771113 ('gjelder', 'statsråden') 1119 2104 1763\n",
      "('fremskrittspartiet', 'statsråden') wordtuple\n",
      "('fremskrittspartiet', 'statsråden') wordup\n",
      "941.0 over\n",
      "4130152.0 under\n",
      "-12.099712534029937 -9.878050912728536 1.2249089057071614 ('fremskrittspartiet', 'statsråden') 941 2104 1963\n",
      "('norge', 'statsråden') wordtuple\n",
      "('norge', 'statsråden') wordup\n",
      "880.0 over\n",
      "4243768.0 under\n",
      "-12.235554644380604 -9.78135971352466 1.2509052936129663 ('norge', 'statsråden') 880 2104 2017\n",
      "('statsråden', 'stortinget') wordtuple\n",
      "('statsråden', 'stortinget') wordup\n",
      "1074.0 over\n",
      "3210704.0 under\n",
      "-11.54567995814142 -10.068778277985414 1.1466813191611473 ('statsråden', 'stortinget') 1074 2104 1526\n",
      "('statsråden', 'ønsker') wordtuple\n",
      "('statsråden', 'ønsker') wordup\n",
      "839.0 over\n",
      "2779384.0 under\n",
      "-11.693806740099307 -9.712527000439824 1.203992198896308 ('statsråden', 'ønsker') 839 2104 1321\n",
      "('statsråden', 'tror') wordtuple\n",
      "('statsråden', 'tror') wordup\n",
      "745.0 over\n",
      "2411184.0 under\n",
      "-11.660213702699684 -9.541096615349524 1.2221041430333037 ('statsråden', 'tror') 745 2104 1146\n",
      "('spørsmål', 'statsråden') wordtuple\n",
      "('spørsmål', 'statsråden') wordup\n",
      "854.0 over\n",
      "2053504.0 under\n",
      "-11.231564067234698 -9.73809225962049 1.1533639000122198 ('spørsmål', 'statsråden') 854 2104 976\n",
      "('regjeringen', 'representanten') wordtuple\n",
      "('regjeringen', 'representanten') wordup\n",
      "1002.0 over\n",
      "3528402.0 under\n",
      "-11.781916716380072 -9.968666793195208 1.1818949274563597 ('regjeringen', 'representanten') 1002 2174 1623\n",
      "('gjelder', 'regjeringen') wordtuple\n",
      "('gjelder', 'regjeringen') wordup\n",
      "1876.0 over\n",
      "3832762.0 under\n",
      "-10.996508871832114 -10.873444112515378 1.011317918963237 ('gjelder', 'regjeringen') 1876 2174 1763\n",
      "('fremskrittspartiet', 'regjeringen') wordtuple\n",
      "('fremskrittspartiet', 'regjeringen') wordup\n",
      "2778.0 over\n",
      "4267562.0 under\n",
      "-10.585149798512088 -11.439830883981394 0.925289010463776 ('fremskrittspartiet', 'regjeringen') 2778 2174 1963\n",
      "('norge', 'regjeringen') wordtuple\n",
      "('norge', 'regjeringen') wordup\n",
      "2675.0 over\n",
      "4384958.0 under\n",
      "-10.6788084174644 -11.385323176175872 0.9379451292002079 ('norge', 'regjeringen') 2675 2174 2017\n",
      "('regjeringen', 'stortinget') wordtuple\n",
      "('regjeringen', 'stortinget') wordup\n",
      "2053.0 over\n",
      "3317524.0 under\n",
      "-10.658157559753239 -11.003517912108602 0.9686136420084963 ('regjeringen', 'stortinget') 2053 2174 1526\n",
      "('regjeringen', 'ønsker') wordtuple\n",
      "('regjeringen', 'ønsker') wordup\n",
      "1326.0 over\n",
      "2871854.0 under\n",
      "-11.08068591616155 -10.372865060112588 1.0682377387488426 ('regjeringen', 'ønsker') 1326 2174 1321\n",
      "('regjeringen', 'tror') wordtuple\n",
      "('regjeringen', 'tror') wordup\n",
      "966.0 over\n",
      "2491404.0 under\n",
      "-11.332648174948442 -9.915879378835774 1.142878784824328 ('regjeringen', 'tror') 966 2174 1146\n",
      "('regjeringen', 'spørsmål') wordtuple\n",
      "('regjeringen', 'spørsmål') wordup\n",
      "624.0 over\n",
      "2121824.0 under\n",
      "-11.731471343727948 -9.285402218862249 1.2634316820327702 ('regjeringen', 'spørsmål') 624 2174 976\n",
      "('gjelder', 'representanten') wordtuple\n",
      "('gjelder', 'representanten') wordup\n",
      "926.0 over\n",
      "2861349.0 under\n",
      "-11.593395660607918 -9.854868383260238 1.1764130386866245 ('gjelder', 'representanten') 926 1623 1763\n",
      "('fremskrittspartiet', 'representanten') wordtuple\n",
      "('fremskrittspartiet', 'representanten') wordup\n",
      "1122.0 over\n",
      "3185949.0 under\n",
      "-11.47143478140535 -10.131856960608793 1.1322144426243523 ('fremskrittspartiet', 'representanten') 1122 1623 1963\n",
      "('norge', 'representanten') wordtuple\n",
      "('norge', 'representanten') wordup\n",
      "965.0 over\n",
      "3273591.0 under\n",
      "-11.72805752100549 -9.914385132155443 1.182933420950911 ('norge', 'representanten') 965 1623 2017\n",
      "('representanten', 'stortinget') wordtuple\n",
      "('representanten', 'stortinget') wordup\n",
      "946.0 over\n",
      "2476698.0 under\n",
      "-11.354290158043108 -9.885696373339394 1.1485574439312485 ('representanten', 'stortinget') 946 1623 1526\n",
      "('representanten', 'ønsker') wordtuple\n",
      "('representanten', 'ønsker') wordup\n",
      "760.0 over\n",
      "2143983.0 under\n",
      "-11.462006427463852 -9.569855608330949 1.1977198921878935 ('representanten', 'ønsker') 760 1623 1321\n",
      "('representanten', 'tror') wordtuple\n",
      "('representanten', 'tror') wordup\n",
      "766.0 over\n",
      "1859958.0 under\n",
      "-11.245638031379919 -9.581200581924957 1.1737190903397787 ('representanten', 'tror') 766 1623 1146\n",
      "('representanten', 'spørsmål') wordtuple\n",
      "('representanten', 'spørsmål') wordup\n",
      "518.0 over\n",
      "1584048.0 under\n",
      "-11.578376334424304 -9.016808287686553 1.2840881124461585 ('representanten', 'spørsmål') 518 1623 976\n",
      "('fremskrittspartiet', 'gjelder') wordtuple\n",
      "('fremskrittspartiet', 'gjelder') wordup\n",
      "1699.0 over\n",
      "3460769.0 under\n",
      "-10.992191079602131 -10.730470137184222 1.0243904450664254 ('fremskrittspartiet', 'gjelder') 1699 1763 1963\n",
      "('gjelder', 'norge') wordtuple\n",
      "('gjelder', 'norge') wordup\n",
      "1904.0 over\n",
      "3555971.0 under\n",
      "-10.8669943646252 -10.894817763307943 0.9974461804421871 ('gjelder', 'norge') 1904 1763 2017\n",
      "('gjelder', 'stortinget') wordtuple\n",
      "('gjelder', 'stortinget') wordup\n",
      "1367.0 over\n",
      "2690338.0 under\n",
      "-10.942558478548653 -10.41679752760606 1.0504724172231676 ('gjelder', 'stortinget') 1367 1763 1526\n",
      "('gjelder', 'ønsker') wordtuple\n",
      "('gjelder', 'ønsker') wordup\n",
      "1158.0 over\n",
      "2328923.0 under\n",
      "-10.973811972577773 -10.177419537989236 1.0782509192645389 ('gjelder', 'ønsker') 1158 1763 1321\n",
      "('gjelder', 'tror') wordtuple\n",
      "('gjelder', 'tror') wordup\n",
      "1089.0 over\n",
      "2020398.0 under\n",
      "-10.85741984936018 -10.088788238716907 1.076186712661245 ('gjelder', 'tror') 1089 1763 1146\n",
      "('gjelder', 'spørsmål') wordtuple\n",
      "('gjelder', 'spørsmål') wordup\n",
      "552.0 over\n",
      "1720688.0 under\n",
      "-11.6060296401049 -9.108524456778168 1.274194266610131 ('gjelder', 'spørsmål') 552 1763 976\n",
      "('fremskrittspartiet', 'norge') wordtuple\n",
      "('fremskrittspartiet', 'norge') wordup\n",
      "2181.0 over\n",
      "3959371.0 under\n",
      "-10.826065771438381 -11.09077405464075 0.9761325691157141 ('fremskrittspartiet', 'norge') 2181 1963 2017\n",
      "('fremskrittspartiet', 'stortinget') wordtuple\n",
      "('fremskrittspartiet', 'stortinget') wordup\n",
      "1167.0 over\n",
      "2995538.0 under\n",
      "-11.325794858593353 -10.188588845707349 1.1116156545432816 ('fremskrittspartiet', 'stortinget') 1167 1963 1526\n",
      "('fremskrittspartiet', 'ønsker') wordtuple\n",
      "('fremskrittspartiet', 'ønsker') wordup\n",
      "1728.0 over\n",
      "2593123.0 under\n",
      "-10.55137170654953 -10.754887502163468 0.9810769014949715 ('fremskrittspartiet', 'ønsker') 1728 1963 1321\n",
      "('fremskrittspartiet', 'tror') wordtuple\n",
      "('fremskrittspartiet', 'tror') wordup\n",
      "960.0 over\n",
      "2249598.0 under\n",
      "-11.194345190614557 -9.90689059560852 1.12995546711465 ('fremskrittspartiet', 'tror') 960 1963 1146\n",
      "('fremskrittspartiet', 'spørsmål') wordtuple\n",
      "('fremskrittspartiet', 'spørsmål') wordup\n",
      "522.0 over\n",
      "1915888.0 under\n",
      "-11.841675798459175 -9.027905996569885 1.3116746898957932 ('fremskrittspartiet', 'spørsmål') 522 1963 976\n",
      "('norge', 'stortinget') wordtuple\n",
      "('norge', 'stortinget') wordup\n",
      "1216.0 over\n",
      "3077942.0 under\n",
      "-11.305607102003908 -10.247927513443587 1.1032091207878685 ('norge', 'stortinget') 1216 2017 1526\n",
      "('norge', 'ønsker') wordtuple\n",
      "('norge', 'ønsker') wordup\n",
      "1699.0 over\n",
      "2664457.0 under\n",
      "-10.614939982675569 -10.730470137184222 0.98923344895129 ('norge', 'ønsker') 1699 2017 1321\n",
      "('norge', 'tror') wordtuple\n",
      "('norge', 'tror') wordup\n",
      "1234.0 over\n",
      "2311482.0 under\n",
      "-10.871260018220449 -10.26912667914942 1.0586353015094856 ('norge', 'tror') 1234 2017 1146\n",
      "('norge', 'spørsmål') wordtuple\n",
      "('norge', 'spørsmål') wordup\n",
      "700.0 over\n",
      "1968592.0 under\n",
      "-11.45752159434352 -9.451211111832329 1.2122807816661099 ('norge', 'spørsmål') 700 2017 976\n",
      "('stortinget', 'ønsker') wordtuple\n",
      "('stortinget', 'ønsker') wordup\n",
      "913.0 over\n",
      "2015846.0 under\n",
      "-11.108482948097137 -9.834471049984222 1.1295455435922972 ('stortinget', 'ønsker') 913 1526 1321\n",
      "('stortinget', 'tror') wordtuple\n",
      "('stortinget', 'tror') wordup\n",
      "897.0 over\n",
      "1748796.0 under\n",
      "-10.928966400672174 -9.80896417491926 1.1141814982479668 ('stortinget', 'tror') 897 1526 1146\n",
      "('spørsmål', 'stortinget') wordtuple\n",
      "('spørsmål', 'stortinget') wordup\n",
      "523.0 over\n",
      "1489376.0 under\n",
      "-11.475609448150475 -9.030667136246942 1.2707377290089807 ('spørsmål', 'stortinget') 523 1526 976\n",
      "('tror', 'ønsker') wordtuple\n",
      "('tror', 'ønsker') wordup\n",
      "818.0 over\n",
      "1513866.0 under\n",
      "-10.853849047061983 -9.67595703294175 1.1217339029214481 ('tror', 'ønsker') 818 1321 1146\n",
      "('spørsmål', 'ønsker') wordtuple\n",
      "('spørsmål', 'ønsker') wordup\n",
      "439.0 over\n",
      "1289296.0 under\n",
      "-11.520074959274357 -8.778077129535358 1.3123688467617896 ('spørsmål', 'ønsker') 439 1321 976\n",
      "('spørsmål', 'tror') wordtuple\n",
      "('spørsmål', 'tror') wordup\n",
      "294.0 over\n",
      "1118496.0 under\n",
      "-11.893456321483425 -8.199672344836364 1.4504794608010372 ('spørsmål', 'tror') 294 1146 976\n",
      "103.02756370500197 2v\n",
      "90 x2\n",
      "90\n",
      "1.1447507078333552 n printed\n",
      "10\n",
      "('fremskrittspartiet', 'norge') wordtuple\n",
      "('fremskrittspartiet', 'norge') wordup\n",
      "2181.0 over\n",
      "3959371.0 under\n",
      "-10.826065771438381 -11.09077405464075 0.9761325691157141 ('fremskrittspartiet', 'norge') 2181 2017 1963\n",
      "('norge', 'regjeringen') wordtuple\n",
      "('norge', 'regjeringen') wordup\n",
      "2675.0 over\n",
      "4384958.0 under\n",
      "-10.6788084174644 -11.385323176175872 0.9379451292002079 ('norge', 'regjeringen') 2675 2017 2174\n",
      "('norge', 'sv') wordtuple\n",
      "('norge', 'sv') wordup\n",
      "1165.0 over\n",
      "2706814.0 under\n",
      "-11.182050085271504 -10.186114239541643 1.0977738735605105 ('norge', 'sv') 1165 2017 1342\n",
      "('land', 'norge') wordtuple\n",
      "('land', 'norge') wordup\n",
      "2506.0 over\n",
      "1809249.0 under\n",
      "-9.495788844210363 -11.291170699321862 0.8409924087659637 ('land', 'norge') 2506 2017 897\n",
      "('norge', 'stortinget') wordtuple\n",
      "('norge', 'stortinget') wordup\n",
      "1216.0 over\n",
      "3077942.0 under\n",
      "-11.305607102003908 -10.247927513443587 1.1032091207878685 ('norge', 'stortinget') 1216 2017 1526\n",
      "('gjelder', 'norge') wordtuple\n",
      "('gjelder', 'norge') wordup\n",
      "1904.0 over\n",
      "3555971.0 under\n",
      "-10.8669943646252 -10.894817763307943 0.9974461804421871 ('gjelder', 'norge') 1904 2017 1763\n",
      "('kr', 'norge') wordtuple\n",
      "('kr', 'norge') wordup\n",
      "1238.0 over\n",
      "2426451.0 under\n",
      "-10.936620696574774 -10.273795599214266 1.064516087648386 ('kr', 'norge') 1238 2017 1203\n",
      "('barn', 'norge') wordtuple\n",
      "('barn', 'norge') wordup\n",
      "722.0 over\n",
      "1799164.0 under\n",
      "-11.283040241646097 -9.49585502688717 1.1882068765475648 ('barn', 'norge') 722 2017 892\n",
      "('norge', 'pst') wordtuple\n",
      "('norge', 'pst') wordup\n",
      "1131.0 over\n",
      "1819334.0 under\n",
      "-10.651595777878521 -10.143383213989821 1.05010286540173 ('norge', 'pst') 1131 2017 902\n",
      "('fremskrittspartiet', 'regjeringen') wordtuple\n",
      "('fremskrittspartiet', 'regjeringen') wordup\n",
      "2778.0 over\n",
      "4267562.0 under\n",
      "-10.585149798512088 -11.439830883981394 0.925289010463776 ('fremskrittspartiet', 'regjeringen') 2778 1963 2174\n",
      "('fremskrittspartiet', 'sv') wordtuple\n",
      "('fremskrittspartiet', 'sv') wordup\n",
      "881.0 over\n",
      "2634346.0 under\n",
      "-11.54601520474594 -9.782998208920414 1.1802123396299875 ('fremskrittspartiet', 'sv') 881 1963 1342\n",
      "('fremskrittspartiet', 'land') wordtuple\n",
      "('fremskrittspartiet', 'land') wordup\n",
      "843.0 over\n",
      "1760811.0 under\n",
      "-11.028419811443351 -9.719388820942083 1.1346824388464363 ('fremskrittspartiet', 'land') 843 1963 897\n",
      "('fremskrittspartiet', 'stortinget') wordtuple\n",
      "('fremskrittspartiet', 'stortinget') wordup\n",
      "1167.0 over\n",
      "2995538.0 under\n",
      "-11.325794858593353 -10.188588845707349 1.1116156545432816 ('fremskrittspartiet', 'stortinget') 1167 1963 1526\n",
      "('fremskrittspartiet', 'gjelder') wordtuple\n",
      "('fremskrittspartiet', 'gjelder') wordup\n",
      "1699.0 over\n",
      "3460769.0 under\n",
      "-10.992191079602131 -10.730470137184222 1.0243904450664254 ('fremskrittspartiet', 'gjelder') 1699 1963 1763\n",
      "('fremskrittspartiet', 'kr') wordtuple\n",
      "('fremskrittspartiet', 'kr') wordup\n",
      "2041.0 over\n",
      "2361489.0 under\n",
      "-10.176204917609528 -10.995060467032719 0.9255251435971249 ('fremskrittspartiet', 'kr') 2041 1963 1203\n",
      "('barn', 'fremskrittspartiet') wordtuple\n",
      "('barn', 'fremskrittspartiet') wordup\n",
      "697.0 over\n",
      "1750996.0 under\n",
      "-11.294729511518053 -9.445014845868423 1.1958403132059405 ('barn', 'fremskrittspartiet') 697 1963 892\n",
      "('fremskrittspartiet', 'pst') wordtuple\n",
      "('fremskrittspartiet', 'pst') wordup\n",
      "1115.0 over\n",
      "1770626.0 under\n",
      "-10.633000085913885 -10.122827994807668 1.0503981783912462 ('fremskrittspartiet', 'pst') 1115 1963 902\n",
      "('regjeringen', 'sv') wordtuple\n",
      "('regjeringen', 'sv') wordup\n",
      "1271.0 over\n",
      "2917508.0 under\n",
      "-11.164556866222535 -10.311748315004959 1.0827026150334398 ('regjeringen', 'sv') 1271 2174 1342\n",
      "('land', 'regjeringen') wordtuple\n",
      "('land', 'regjeringen') wordup\n",
      "1071.0 over\n",
      "1950078.0 under\n",
      "-10.830357635196314 -10.064742764750257 1.0760689953376126 ('land', 'regjeringen') 1071 2174 897\n",
      "('regjeringen', 'stortinget') wordtuple\n",
      "('regjeringen', 'stortinget') wordup\n",
      "2053.0 over\n",
      "3317524.0 under\n",
      "-10.658157559753239 -11.003517912108602 0.9686136420084963 ('regjeringen', 'stortinget') 2053 2174 1526\n",
      "('gjelder', 'regjeringen') wordtuple\n",
      "('gjelder', 'regjeringen') wordup\n",
      "1876.0 over\n",
      "3832762.0 under\n",
      "-10.996508871832114 -10.873444112515378 1.011317918963237 ('gjelder', 'regjeringen') 1876 2174 1763\n",
      "('kr', 'regjeringen') wordtuple\n",
      "('kr', 'regjeringen') wordup\n",
      "1989.0 over\n",
      "2615322.0 under\n",
      "-10.360729591369642 -10.957827560833744 0.9455094574039208 ('kr', 'regjeringen') 1989 2174 1203\n",
      "('barn', 'regjeringen') wordtuple\n",
      "('barn', 'regjeringen') wordup\n",
      "822.0 over\n",
      "1939208.0 under\n",
      "-11.204041541265932 -9.682994583681683 1.1570843548903353 ('barn', 'regjeringen') 822 2174 892\n",
      "('pst', 'regjeringen') wordtuple\n",
      "('pst', 'regjeringen') wordup\n",
      "1065.0 over\n",
      "1960948.0 under\n",
      "-10.84648213316949 -10.056637715113201 1.078539611392116 ('pst', 'regjeringen') 1065 2174 902\n",
      "('land', 'sv') wordtuple\n",
      "('land', 'sv') wordup\n",
      "469.0 over\n",
      "1203774.0 under\n",
      "-11.32568901860407 -8.873444112515376 1.2763577338172416 ('land', 'sv') 469 1342 897\n",
      "('stortinget', 'sv') wordtuple\n",
      "('stortinget', 'sv') wordup\n",
      "1070.0 over\n",
      "2047892.0 under\n",
      "-10.902313121746205 -10.06339508128851 1.083363321590896 ('stortinget', 'sv') 1070 1342 1526\n",
      "('gjelder', 'sv') wordtuple\n",
      "('gjelder', 'sv') wordup\n",
      "1043.0 over\n",
      "2365946.0 under\n",
      "-11.147462273000599 -10.026523442519766 1.11179735796829 ('gjelder', 'sv') 1043 1342 1763\n",
      "('kr', 'sv') wordtuple\n",
      "('kr', 'sv') wordup\n",
      "922.0 over\n",
      "1614426.0 under\n",
      "-10.773966942946922 -9.848622940429339 1.0939566889822714 ('kr', 'sv') 922 1342 1203\n",
      "('barn', 'sv') wordtuple\n",
      "('barn', 'sv') wordup\n",
      "976.0 over\n",
      "1197064.0 under\n",
      "-10.260331518557603 -9.930737337562887 1.033189296000009 ('barn', 'sv') 976 1342 892\n",
      "('pst', 'sv') wordtuple\n",
      "('pst', 'sv') wordup\n",
      "671.0 over\n",
      "1210484.0 under\n",
      "-10.81698362325538 -9.390168956200185 1.1519477097494706 ('pst', 'sv') 671 1342 902\n",
      "('land', 'stortinget') wordtuple\n",
      "('land', 'stortinget') wordup\n",
      "603.0 over\n",
      "1368822.0 under\n",
      "-11.148489229853707 -9.236014191900086 1.2070671393760792 ('land', 'stortinget') 603 897 1526\n",
      "('gjelder', 'land') wordtuple\n",
      "('gjelder', 'land') wordup\n",
      "898.0 over\n",
      "1581411.0 under\n",
      "-10.782209299498296 -9.810571634741148 1.0990398623986792 ('gjelder', 'land') 898 897 1763\n",
      "('kr', 'land') wordtuple\n",
      "('kr', 'land') wordup\n",
      "478.0 over\n",
      "1079091.0 under\n",
      "-11.140518294114589 -8.90086680798075 1.2516217279114557 ('kr', 'land') 478 897 1203\n",
      "('barn', 'land') wordtuple\n",
      "('barn', 'land') wordup\n",
      "358.0 over\n",
      "800124.0 under\n",
      "-11.12604829757531 -8.483815777264256 1.311443882055049 ('barn', 'land') 358 897 892\n",
      "('land', 'pst') wordtuple\n",
      "('land', 'pst') wordup\n",
      "658.0 over\n",
      "809094.0 under\n",
      "-10.264004024439402 -9.361943773735241 1.0963539487638105 ('land', 'pst') 658 897 902\n",
      "('gjelder', 'stortinget') wordtuple\n",
      "('gjelder', 'stortinget') wordup\n",
      "1367.0 over\n",
      "2690338.0 under\n",
      "-10.942558478548653 -10.41679752760606 1.0504724172231676 ('gjelder', 'stortinget') 1367 1526 1763\n",
      "('kr', 'stortinget') wordtuple\n",
      "('kr', 'stortinget') wordup\n",
      "921.0 over\n",
      "1835778.0 under\n",
      "-10.960902827919272 -9.847057346091336 1.1131145521631456 ('kr', 'stortinget') 921 1526 1203\n",
      "('barn', 'stortinget') wordtuple\n",
      "('barn', 'stortinget') wordup\n",
      "540.0 over\n",
      "1361192.0 under\n",
      "-11.299623549704005 -9.076815597050832 1.2448885216281569 ('barn', 'stortinget') 540 1526 892\n",
      "('pst', 'stortinget') wordtuple\n",
      "('pst', 'stortinget') wordup\n",
      "710.0 over\n",
      "1376452.0 under\n",
      "-10.920847655697868 -9.471675214392045 1.153000647562728 ('pst', 'stortinget') 710 1526 902\n",
      "('gjelder', 'kr') wordtuple\n",
      "('gjelder', 'kr') wordup\n",
      "871.0 over\n",
      "2120889.0 under\n",
      "-11.249708777897395 -9.766528908598865 1.1518635620883357 ('gjelder', 'kr') 871 1763 1203\n",
      "('barn', 'gjelder') wordtuple\n",
      "('barn', 'gjelder') wordup\n",
      "795.0 over\n",
      "1572596.0 under\n",
      "-10.949905609068768 -9.634811050171718 1.1364940684408762 ('barn', 'gjelder') 795 1763 892\n",
      "('gjelder', 'pst') wordtuple\n",
      "('gjelder', 'pst') wordup\n",
      "890.0 over\n",
      "1590226.0 under\n",
      "-10.803138856721803 -9.79766152585376 1.1026242158105606 ('gjelder', 'pst') 890 1763 902\n",
      "('barn', 'kr') wordtuple\n",
      "('barn', 'kr') wordup\n",
      "419.0 over\n",
      "1073076.0 under\n",
      "-11.32251439339703 -8.710806433699352 1.2998239002985772 ('barn', 'kr') 419 1203 892\n",
      "('kr', 'pst') wordtuple\n",
      "('kr', 'pst') wordup\n",
      "1098.0 over\n",
      "1085106.0 under\n",
      "-9.948742211426259 -10.100662339005199 0.9849593895449531 ('kr', 'pst') 1098 1203 902\n",
      "('barn', 'pst') wordtuple\n",
      "('barn', 'pst') wordup\n",
      "452.0 over\n",
      "804584.0 under\n",
      "-10.797704560760499 -8.820178962415188 1.2242047022823463 ('barn', 'pst') 452 892 902\n",
      "98.60339975179923 2v\n",
      "90 x2\n",
      "90\n",
      "1.095593330575547 n printed\n",
      "[1.1447507078333552, 1.095593330575547] npmis\n"
     ]
    }
   ],
   "source": [
    "from utils.stats import compute_metrics\n",
    "\n",
    "coherence, diversity = compute_metrics(\n",
    "    loaded_topics.values(), word_frequencies, word_co_frequencies, 10)"
   ],
   "metadata": {
    "collapsed": false,
    "ExecuteTime": {
     "start_time": "2023-06-04T20:48:55.310787Z",
     "end_time": "2023-06-04T20:48:55.681793Z"
    }
   }
  },
  {
   "cell_type": "code",
   "execution_count": 24,
   "outputs": [
    {
     "name": "stdout",
     "output_type": "stream",
     "text": [
      "-0.013791991658821222\n"
     ]
    }
   ],
   "source": [
    "from utils.config import use_pmi\n",
    "from gensim.test.utils import common_corpus, common_dictionary\n",
    "from gensim.models.coherencemodel import CoherenceModel\n",
    "from gensim.corpora import Dictionary\n",
    "if not use_pmi:\n",
    "    corpus_tokenized = []\n",
    "    for item in new_data:\n",
    "        word_tokens = word_tokenize(item)\n",
    "        corpus_tokenized.append(word_tokens)\n",
    "\n",
    "    dct = Dictionary(corpus_tokenized)\n",
    "    inp = list(loaded_topics.values())\n",
    "\n",
    "\n",
    "    cm = CoherenceModel(topics=inp, texts = corpus_tokenized, dictionary=dct, coherence='c_npmi')\n",
    "    coherence2 = cm.get_coherence()  # get coherence value\n",
    "    print(coherence2)"
   ],
   "metadata": {
    "collapsed": false,
    "ExecuteTime": {
     "start_time": "2023-06-04T20:48:55.684786Z",
     "end_time": "2023-06-04T20:49:13.499142Z"
    }
   }
  },
  {
   "cell_type": "code",
   "execution_count": 25,
   "outputs": [
    {
     "name": "stdout",
     "output_type": "stream",
     "text": [
      "0.75\n"
     ]
    }
   ],
   "source": [
    "print(diversity)"
   ],
   "metadata": {
    "collapsed": false,
    "ExecuteTime": {
     "start_time": "2023-06-04T20:49:13.500139Z",
     "end_time": "2023-06-04T20:49:13.542026Z"
    }
   }
  },
  {
   "cell_type": "code",
   "execution_count": 26,
   "outputs": [
    {
     "name": "stdout",
     "output_type": "stream",
     "text": [
      "1.120172019204451\n"
     ]
    }
   ],
   "source": [
    "print(coherence)"
   ],
   "metadata": {
    "collapsed": false,
    "ExecuteTime": {
     "start_time": "2023-06-04T20:49:13.516097Z",
     "end_time": "2023-06-04T20:49:13.544022Z"
    }
   }
  },
  {
   "cell_type": "code",
   "execution_count": 27,
   "outputs": [],
   "source": [
    "from tabulate import tabulate\n",
    "import csv"
   ],
   "metadata": {
    "collapsed": false,
    "ExecuteTime": {
     "start_time": "2023-06-04T20:49:13.532053Z",
     "end_time": "2023-06-04T20:49:13.546016Z"
    }
   }
  },
  {
   "cell_type": "code",
   "execution_count": 28,
   "outputs": [
    {
     "name": "stdout",
     "output_type": "stream",
     "text": [
      "╒══════════════════════════════════════════════╤═══════════╤═════════╕\n",
      "│ Model                                        │ Metric    │   Value │\n",
      "╞══════════════════════════════════════════════╪═══════════╪═════════╡\n",
      "│ bertopic_TDE-nb-sbert-base_np_mini_stopwords │ coherence │ 1.12017 │\n",
      "├──────────────────────────────────────────────┼───────────┼─────────┤\n",
      "│ bertopic_TDE-nb-sbert-base_np_mini_stopwords │ diversity │ 0.75    │\n",
      "╘══════════════════════════════════════════════╧═══════════╧═════════╛\n"
     ]
    }
   ],
   "source": [
    "# Check the stats for the dataset after running basic pipeline\n",
    "\n",
    "models = [file_name for i in range(0, 2)]\n",
    "metrics = [\"coherence\" if i < 1 else \"diversity\" for i in range(0, 2)]\n",
    "values = [\n",
    "    coherence,\n",
    "    diversity\n",
    "    ]\n",
    "\n",
    "stats = [models, metrics, values]\n",
    "stats_tabulate = list(zip(*stats))\n",
    "print(tabulate(stats_tabulate, headers=[\"Model\", \"Metric\", \"Value\"], tablefmt=\"fancy_grid\"))"
   ],
   "metadata": {
    "collapsed": false,
    "ExecuteTime": {
     "start_time": "2023-06-04T20:49:13.545019Z",
     "end_time": "2023-06-04T20:49:13.560976Z"
    }
   }
  },
  {
   "cell_type": "code",
   "execution_count": 29,
   "outputs": [],
   "source": [
    "# Save all topic stats to file\n",
    "\n",
    "topic_stats_folder_path = f\"preprocessed_data/metrics/{experiment}/{model_type}\"\n",
    "topic_stats_file_name = f\"{file_name}_stats\"\n",
    "topic_stats_path = os.path.join(ROOT_PATH,topic_stats_folder_path, topic_stats_file_name + r\".csv\")\n",
    "\n",
    "TOPIC_STAT = \"Topic stat\"\n",
    "VALUE = \"Value\"\n",
    "\n",
    "with open(topic_stats_path, encoding=\"utf-8\", mode=\"w\", newline=\"\") as topic_stats_file:\n",
    "    header = [TOPIC_STAT, VALUE]\n",
    "    writer = csv.DictWriter(topic_stats_file, fieldnames=header, delimiter=\";\")\n",
    "    writer.writeheader()\n",
    "    writer.writerow({TOPIC_STAT : \"Coherence\", VALUE : coherence})\n",
    "    writer.writerow({TOPIC_STAT : \"Diversity\", VALUE : diversity})"
   ],
   "metadata": {
    "collapsed": false,
    "ExecuteTime": {
     "start_time": "2023-06-04T20:49:13.563969Z",
     "end_time": "2023-06-04T20:49:13.596880Z"
    }
   }
  },
  {
   "cell_type": "code",
   "execution_count": 29,
   "outputs": [],
   "source": [],
   "metadata": {
    "collapsed": false,
    "ExecuteTime": {
     "start_time": "2023-06-04T20:49:13.577932Z",
     "end_time": "2023-06-04T20:49:13.598874Z"
    }
   }
  }
 ],
 "metadata": {
  "kernelspec": {
   "display_name": "Python 3",
   "language": "python",
   "name": "python3"
  },
  "language_info": {
   "codemirror_mode": {
    "name": "ipython",
    "version": 2
   },
   "file_extension": ".py",
   "mimetype": "text/x-python",
   "name": "python",
   "nbconvert_exporter": "python",
   "pygments_lexer": "ipython2",
   "version": "2.7.6"
  }
 },
 "nbformat": 4,
 "nbformat_minor": 0
}
