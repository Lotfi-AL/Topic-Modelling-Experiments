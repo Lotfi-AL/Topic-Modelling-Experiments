{
 "cells": [
  {
   "cell_type": "code",
   "execution_count": 66,
   "metadata": {
    "collapsed": true,
    "ExecuteTime": {
     "start_time": "2023-05-30T22:54:31.262181Z",
     "end_time": "2023-05-30T22:54:31.270302Z"
    }
   },
   "outputs": [],
   "source": [
    "from top2vec import Top2Vec\n",
    "from gensim.models.coherencemodel import CoherenceModel\n",
    "import os\n",
    "import pandas as pd\n",
    "from nltk.tokenize import word_tokenize\n",
    "\n",
    "import gensim.corpora as corpora"
   ]
  },
  {
   "cell_type": "code",
   "execution_count": 67,
   "outputs": [],
   "source": [
    "import os\n",
    "import pandas as pd"
   ],
   "metadata": {
    "collapsed": false,
    "ExecuteTime": {
     "start_time": "2023-05-30T22:54:31.271300Z",
     "end_time": "2023-05-30T22:54:31.286352Z"
    }
   }
  },
  {
   "cell_type": "code",
   "execution_count": 68,
   "outputs": [],
   "source": [
    "from utils.filemanagement import load_from_file, write_topics_file, get_project_root\n",
    "\n",
    "model_type=\"top2vec\"\n",
    "model_name=\"Top2Vec\"\n",
    "data_type=\"np_mini_basic\"\n",
    "embedding_model = \"preliminary\"\n",
    "file_name=f\"{model_type}_{embedding_model}_{data_type}\"\n",
    "folder_path_data =f\"preprocessed_data\"\n",
    "file_name_data = f\"{data_type}.csv\"\n",
    "\n",
    "\n",
    "folder_name = f\"Preliminary-experiment/models/{model_type}\"\n",
    "ROOT_PATH = get_project_root()\n",
    "file_path = os.path.join(ROOT_PATH,folder_name,file_name)\n",
    "\n",
    "folder_path_word_cloud = f\"preprocessed_data/wordclouds/preliminary/{file_name}\"\n",
    "folder_name = f\"Preliminary-experiment/models/{model_type}\"\n",
    "random_sample = False\n",
    "seed = 42\n",
    "df = load_from_file(folder_path_data,file_name_data)\n",
    "\n",
    "data = df.text.values.tolist()\n",
    "new_data = []\n",
    "for item in data:\n",
    "    new_data.append(str(item))"
   ],
   "metadata": {
    "collapsed": false,
    "ExecuteTime": {
     "start_time": "2023-05-30T22:54:31.286352Z",
     "end_time": "2023-05-30T22:54:31.416006Z"
    }
   }
  },
  {
   "cell_type": "markdown",
   "source": [],
   "metadata": {
    "collapsed": false
   }
  },
  {
   "cell_type": "code",
   "execution_count": 69,
   "outputs": [],
   "source": [
    "topic_model = None\n",
    "\n",
    "try:\n",
    "    topic_model = Top2Vec.load(file_path)\n",
    "except:\n",
    "    topic_model = Top2Vec(documents=new_data)\n"
   ],
   "metadata": {
    "collapsed": false,
    "ExecuteTime": {
     "start_time": "2023-05-30T22:54:31.413014Z",
     "end_time": "2023-05-30T22:54:31.504769Z"
    }
   }
  },
  {
   "cell_type": "code",
   "execution_count": 70,
   "outputs": [],
   "source": [
    "topic_model.save(file_path)"
   ],
   "metadata": {
    "collapsed": false,
    "ExecuteTime": {
     "start_time": "2023-05-30T22:54:31.505766Z",
     "end_time": "2023-05-30T22:54:31.642195Z"
    }
   }
  },
  {
   "cell_type": "code",
   "execution_count": 71,
   "outputs": [
    {
     "name": "stdout",
     "output_type": "stream",
     "text": [
      "doc2vec\n"
     ]
    }
   ],
   "source": [
    "print(topic_model.embedding_model)"
   ],
   "metadata": {
    "collapsed": false,
    "ExecuteTime": {
     "start_time": "2023-05-30T22:54:31.629435Z",
     "end_time": "2023-05-30T22:54:31.645187Z"
    }
   }
  },
  {
   "cell_type": "code",
   "execution_count": 72,
   "outputs": [
    {
     "name": "stdout",
     "output_type": "stream",
     "text": [
      "2\n"
     ]
    }
   ],
   "source": [
    "num_topics = topic_model.get_num_topics()\n",
    "print(num_topics)"
   ],
   "metadata": {
    "collapsed": false,
    "ExecuteTime": {
     "start_time": "2023-05-30T22:54:31.646185Z",
     "end_time": "2023-05-30T22:54:31.660148Z"
    }
   }
  },
  {
   "cell_type": "code",
   "execution_count": 73,
   "outputs": [],
   "source": [
    "topic_sizes, topic_nums = topic_model.get_topic_sizes()"
   ],
   "metadata": {
    "collapsed": false,
    "ExecuteTime": {
     "start_time": "2023-05-30T22:54:31.661145Z",
     "end_time": "2023-05-30T22:54:31.720368Z"
    }
   }
  },
  {
   "cell_type": "code",
   "execution_count": 74,
   "outputs": [],
   "source": [
    "topic_words, word_scores, topic_nums = topic_model.get_topics(num_topics)"
   ],
   "metadata": {
    "collapsed": false,
    "ExecuteTime": {
     "start_time": "2023-05-30T22:54:31.675291Z",
     "end_time": "2023-05-30T22:54:31.724353Z"
    }
   }
  },
  {
   "cell_type": "code",
   "execution_count": 75,
   "outputs": [],
   "source": [
    "topic_word_scores = [dict(zip(topic_words[i][:], word_scores[i])) for i in topic_nums]"
   ],
   "metadata": {
    "collapsed": false,
    "ExecuteTime": {
     "start_time": "2023-05-30T22:54:31.693243Z",
     "end_time": "2023-05-30T22:54:31.724353Z"
    }
   }
  },
  {
   "cell_type": "code",
   "execution_count": 76,
   "outputs": [
    {
     "name": "stdout",
     "output_type": "stream",
     "text": [
      "\n",
      " 0\n",
      "{'man': 0.43397596, 'jeg': 0.4160495, 'saken': 0.41535494, 'ikke': 0.39493203, 'arbeiderpartiet': 0.38854212, 'være': 0.38528562, 'bare': 0.3831452, 'kommet': 0.3822031, 'en': 0.3792373, 'synes': 0.3785837, 'noen': 0.37761635, 'endringer': 0.3639128, 'de': 0.35806572, 'et': 0.35772577, 'mener': 0.3572963, 'takker': 0.35545257, 'ligger': 0.35541484, 'innstillingen': 0.35169923, 'regjeringen': 0.35156935, 'hvert': 0.35103524, 'kommunene': 0.35009542, 'dem': 0.35001555, 'se': 0.34931675, 'sier': 0.34906572, 'flertall': 0.3452367, 'kommer': 0.3441018, 'egentlig': 0.34217855, 'gjelder': 0.33823314, 'hvordan': 0.33737525, 'noe': 0.33596623, 'allerede': 0.3355308, 'disse': 0.33408493, 'gjør': 0.33372754, 'virksomhet': 0.33033106, 'norge': 0.33006975, 'behandlingen': 0.33006456, 'vært': 0.32733265, 'flere': 0.32595918, 'selvfølgelig': 0.32463196, 'innenfor': 0.32313555, 'hele': 0.3216466, 'mer': 0.32060075, 'ønsker': 0.32048914, 'regner': 0.3200534, 'hva': 0.31911322, 'flertallet': 0.318625, 'pasienter': 0.3150097, 'hun': 0.31426045, 'omrader': 0.31397387, 'talerstolen': 0.31370318}\n",
      "\n",
      " 1\n",
      "{'dei': 0.77815354, 'ein': 0.7637026, 'ikkje': 0.75681907, 'eg': 0.75004214, 'noko': 0.7454879, 'berre': 0.71951634, 'no': 0.71926856, 'eit': 0.7185951, 'heilt': 0.70863587, 'ei': 0.7070131, 'vere': 0.7025184, 'ligg': 0.70242417, 'kome': 0.7003628, 'nokre': 0.69899166, 'gjere': 0.69848496, 'kva': 0.69763374, 'gjer': 0.6912973, 'seie': 0.6895929, 'noreg': 0.6885812, 'vore': 0.6885586, 'meir': 0.68465585, 'synest': 0.68219566, 'sja': 0.6765522, 'fleire': 0.67596656, 'vidare': 0.6641247, 'mykje': 0.661656, 'korleis': 0.6564954, 'desse': 0.65639466, 'sjølv': 0.6563691, 'nokon': 0.65127814, 'kjem': 0.6504023, 'trur': 0.6498509, 'leggje': 0.63942534, 'same': 0.637571, 'meiner': 0.6349866, 'betre': 0.6341126, 'tidlegare': 0.63162565, 'gjeld': 0.6279285, 'treng': 0.627286, 'viktigaste': 0.6249958, 'tek': 0.62490416, 'veit': 0.62329584, 'heile': 0.6230414, 'ho': 0.6167405, 'vert': 0.6158969, 'innanfor': 0.61529356, 'anna': 0.61461294, 'ønskjer': 0.60954773, 'sidan': 0.60826313, 'sjølvsagt': 0.6065657}\n"
     ]
    }
   ],
   "source": [
    "for i in range(num_topics):\n",
    "    print(\"\\n\", i)\n",
    "    print(topic_word_scores[i])\n"
   ],
   "metadata": {
    "collapsed": false,
    "ExecuteTime": {
     "start_time": "2023-05-30T22:54:31.707257Z",
     "end_time": "2023-05-30T22:54:31.725351Z"
    }
   }
  },
  {
   "cell_type": "code",
   "execution_count": 77,
   "outputs": [
    {
     "data": {
      "text/plain": "<Figure size 1280x960 with 2 Axes>",
      "image/png": "[encoded data removed]"
     },
     "metadata": {},
     "output_type": "display_data"
    }
   ],
   "source": [
    "from utils.tables_and_plots import display_n_wordclouds\n",
    "\n",
    "wordcloud = display_n_wordclouds(topic_word_scores, f\"{model_name}-{embedding_model}: {data_type}\",num_topics, dpi=200)\n"
   ],
   "metadata": {
    "collapsed": false,
    "ExecuteTime": {
     "start_time": "2023-05-30T22:54:31.723356Z",
     "end_time": "2023-05-30T22:54:32.096867Z"
    }
   }
  },
  {
   "cell_type": "code",
   "execution_count": 78,
   "outputs": [],
   "source": [
    "from utils.tables_and_plots import create_wordcloud\n",
    "\n",
    "\n",
    "wordcloud.savefig(os.path.join(ROOT_PATH,folder_path_word_cloud,f\"{file_name}_wordcloud\"))\n",
    "file_name_model = \"wordcloud\"\n",
    "for i in range(num_topics):\n",
    "    topic_wordcloud = create_wordcloud(topic_word_scores[i])\n",
    "    topic_wordcloud.to_file(os.path.join(ROOT_PATH, folder_path_word_cloud, str(file_name_model + f\"_{i}.png\")))"
   ],
   "metadata": {
    "collapsed": false,
    "ExecuteTime": {
     "start_time": "2023-05-30T22:54:32.098862Z",
     "end_time": "2023-05-30T22:54:32.510470Z"
    }
   }
  },
  {
   "cell_type": "code",
   "execution_count": 79,
   "outputs": [
    {
     "data": {
      "text/plain": "<Figure size 1280x960 with 2 Axes>",
      "image/png": "[encoded data removed]"
     },
     "metadata": {},
     "output_type": "display_data"
    }
   ],
   "source": [
    "from utils.filemanagement import make_excerpt_wordcloud\n",
    "\n",
    "\n",
    "excerpt_wordcloud = make_excerpt_wordcloud(topic_word_scores,num_topics,f\"Sample from {model_name}-{embedding_model}: {data_type}\",random_sample=random_sample,seed=seed)\n",
    "\n",
    "excerpt_wordcloud.savefig(os.path.join(ROOT_PATH,folder_path_word_cloud,f\"{file_name}_wordcloud_sample\"),bbox_inches=\"tight\")"
   ],
   "metadata": {
    "collapsed": false,
    "ExecuteTime": {
     "start_time": "2023-05-30T22:54:32.510470Z",
     "end_time": "2023-05-30T22:54:32.921828Z"
    }
   }
  },
  {
   "cell_type": "code",
   "execution_count": 80,
   "outputs": [],
   "source": [
    "from utils.filemanagement import write_topics_file\n",
    "\n",
    "topic_words_numbered = [(i, list(topic_words[i])) for i in range(num_topics)]\n",
    "\n",
    "folder_path_topics = r\"preprocessed_data/results\"\n",
    "\n",
    "\n",
    "write_topics_file(folder_path_topics, file_name, topic_words_numbered)"
   ],
   "metadata": {
    "collapsed": false,
    "ExecuteTime": {
     "start_time": "2023-05-30T22:54:32.922825Z",
     "end_time": "2023-05-30T22:54:32.937785Z"
    }
   }
  },
  {
   "cell_type": "code",
   "execution_count": 81,
   "outputs": [],
   "source": [
    "from utils.filemanagement import load_model_topics\n",
    "\n",
    "folder_path_topics = r\"preprocessed_data/results\"\n",
    "\n",
    "loaded_topics = load_model_topics(folder_path_topics, file_name)"
   ],
   "metadata": {
    "collapsed": false,
    "ExecuteTime": {
     "start_time": "2023-05-30T22:54:32.938782Z",
     "end_time": "2023-05-30T22:54:32.982683Z"
    }
   }
  },
  {
   "cell_type": "code",
   "execution_count": 82,
   "outputs": [],
   "source": [
    "folder_path_frequencies = r\"preprocessed_data/stats\"\n",
    "file_name_co_frequencies = f\"{data_type}_co_freq\"\n",
    "file_name_frequencies=f\"{data_type}_freq\""
   ],
   "metadata": {
    "collapsed": false,
    "ExecuteTime": {
     "start_time": "2023-05-30T22:54:32.953742Z",
     "end_time": "2023-05-30T22:54:32.998622Z"
    }
   }
  },
  {
   "cell_type": "code",
   "execution_count": 83,
   "outputs": [],
   "source": [
    "from utils.filemanagement import load_word_frequencies\n",
    "\n",
    "word_frequencies = load_word_frequencies(folder_path_frequencies, file_name_frequencies)"
   ],
   "metadata": {
    "collapsed": false,
    "ExecuteTime": {
     "start_time": "2023-05-30T22:54:32.969699Z",
     "end_time": "2023-05-30T22:54:33.078280Z"
    }
   }
  },
  {
   "cell_type": "code",
   "execution_count": 84,
   "outputs": [],
   "source": [
    "from utils.filemanagement import load_zipped_word_co_frequencies\n",
    "\n",
    "word_co_frequencies = load_zipped_word_co_frequencies(folder_path_frequencies,file_name_co_frequencies)"
   ],
   "metadata": {
    "collapsed": false,
    "ExecuteTime": {
     "start_time": "2023-05-30T22:54:33.080276Z",
     "end_time": "2023-05-30T22:54:43.181510Z"
    }
   }
  },
  {
   "cell_type": "code",
   "execution_count": 85,
   "outputs": [
    {
     "name": "stdout",
     "output_type": "stream",
     "text": [
      "10\n",
      "('jeg', 'man') wordtuple\n",
      "('jeg', 'man') wordup\n",
      "39129.0 over\n",
      "71713213.0 under\n",
      "-10.839785000948003 -15.255950620034112 0.7105283224182176 ('jeg', 'man') 39129 6539 10967\n",
      "('man', 'saken') wordtuple\n",
      "('man', 'saken') wordup\n",
      "2556.0 over\n",
      "4662307.0 under\n",
      "-10.832940453443513 -11.319672120946995 0.95700125743017 ('man', 'saken') 2556 6539 713\n",
      "('ikke', 'man') wordtuple\n",
      "('ikke', 'man') wordup\n",
      "43636.0 over\n",
      "69666506.0 under\n",
      "-10.640730634383228 -15.413231239124542 0.6903633942357964 ('ikke', 'man') 43636 6539 10654\n",
      "('arbeiderpartiet', 'man') wordtuple\n",
      "('arbeiderpartiet', 'man') wordup\n",
      "2549.0 over\n",
      "4603456.0 under\n",
      "-10.818570268561716 -11.315715658022203 0.9560659348038638 ('arbeiderpartiet', 'man') 2549 6539 704\n",
      "('man', 'være') wordtuple\n",
      "('man', 'være') wordup\n",
      "13921.0 over\n",
      "22958429.0 under\n",
      "-10.687545359928754 -13.76497522889862 0.7764304099502471 ('man', 'være') 13921 6539 3511\n",
      "('bare', 'man') wordtuple\n",
      "('bare', 'man') wordup\n",
      "5464.0 over\n",
      "9049976.0 under\n",
      "-10.693740767293253 -12.41574176829009 0.8613050244492969 ('bare', 'man') 5464 6539 1384\n",
      "('kommet', 'man') wordtuple\n",
      "('kommet', 'man') wordup\n",
      "1563.0 over\n",
      "2216721.0 under\n",
      "-10.4698937080833 -10.610102062999665 0.9867853905566742 ('kommet', 'man') 1563 6539 339\n",
      "('en', 'man') wordtuple\n",
      "('en', 'man') wordup\n",
      "55875.0 over\n",
      "97659965.0 under\n",
      "-10.771348619299367 -15.769915305845405 0.6830314818055345 ('en', 'man') 55875 6539 14935\n",
      "('man', 'synes') wordtuple\n",
      "('man', 'synes') wordup\n",
      "3700.0 over\n",
      "5682391.0 under\n",
      "-10.584757119357345 -11.853309555403674 0.8929790511150514 ('man', 'synes') 3700 6539 869\n",
      "('jeg', 'saken') wordtuple\n",
      "('jeg', 'saken') wordup\n",
      "3822.0 over\n",
      "7819471.0 under\n",
      "-10.998527516501925 -11.900112062977456 0.9242373061947493 ('jeg', 'saken') 3822 10967 713\n",
      "('ikke', 'jeg') wordtuple\n",
      "('ikke', 'jeg') wordup\n",
      "61198.0 over\n",
      "116842418.0 under\n",
      "-10.898791993796419 -15.901196884800225 0.6854070214182715 ('ikke', 'jeg') 61198 10967 10654\n",
      "('arbeiderpartiet', 'jeg') wordtuple\n",
      "('arbeiderpartiet', 'jeg') wordup\n",
      "3516.0 over\n",
      "7720768.0 under\n",
      "-11.100593576529386 -11.779719355143406 0.9423478812916293 ('arbeiderpartiet', 'jeg') 3516 10967 704\n",
      "('jeg', 'være') wordtuple\n",
      "('jeg', 'være') wordup\n",
      "19067.0 over\n",
      "38505137.0 under\n",
      "-10.979757346363485 -14.218790247552763 0.7722005286809293 ('jeg', 'være') 19067 10967 3511\n",
      "('bare', 'jeg') wordtuple\n",
      "('bare', 'jeg') wordup\n",
      "8007.0 over\n",
      "15178328.0 under\n",
      "-10.888463449809095 -12.967046090863123 0.8397026873746793 ('bare', 'jeg') 8007 10967 1384\n",
      "('jeg', 'kommet') wordtuple\n",
      "('jeg', 'kommet') wordup\n",
      "2073.0 over\n",
      "3717813.0 under\n",
      "-10.808518375062423 -11.017504401109415 0.9810314551790923 ('jeg', 'kommet') 2073 10967 339\n",
      "('en', 'jeg') wordtuple\n",
      "('en', 'jeg') wordup\n",
      "83280.0 over\n",
      "163792145.0 under\n",
      "-10.941608482046867 -16.34568244818678 0.6693882936200449 ('en', 'jeg') 83280 10967 14935\n",
      "('jeg', 'synes') wordtuple\n",
      "('jeg', 'synes') wordup\n",
      "6499.0 over\n",
      "9530323.0 under\n",
      "-10.518091647204994 -12.6660020326449 0.830419229374513 ('jeg', 'synes') 6499 10967 869\n",
      "('ikke', 'saken') wordtuple\n",
      "('ikke', 'saken') wordup\n",
      "4155.0 over\n",
      "7596302.0 under\n",
      "-10.836233070347332 -12.020632761657707 0.9014694388561422 ('ikke', 'saken') 4155 713 10654\n",
      "('arbeiderpartiet', 'saken') wordtuple\n",
      "('arbeiderpartiet', 'saken') wordup\n",
      "219.0 over\n",
      "501952.0 under\n",
      "-11.162402825480012 -7.774787059601174 1.435718141205608 ('arbeiderpartiet', 'saken') 219 713 704\n",
      "('saken', 'være') wordtuple\n",
      "('saken', 'være') wordup\n",
      "1108.0 over\n",
      "2503343.0 under\n",
      "-11.141682381275455 -10.113742166049189 1.1016379692451481 ('saken', 'være') 1108 713 3511\n",
      "('bare', 'saken') wordtuple\n",
      "('bare', 'saken') wordup\n",
      "469.0 over\n",
      "986792.0 under\n",
      "-11.038942381565237 -8.873444112515376 1.2440425883784603 ('bare', 'saken') 469 713 1384\n",
      "('kommet', 'saken') wordtuple\n",
      "('kommet', 'saken') wordup\n",
      "217.0 over\n",
      "241707.0 under\n",
      "-10.121348497135754 -7.7615512324444795 1.3040368083672447 ('kommet', 'saken') 217 713 339\n",
      "('en', 'saken') wordtuple\n",
      "('en', 'saken') wordup\n",
      "5195.0 over\n",
      "10648655.0 under\n",
      "-11.001259849850467 -12.342908033791575 0.8913020999372242 ('en', 'saken') 5195 713 14935\n",
      "('saken', 'synes') wordtuple\n",
      "('saken', 'synes') wordup\n",
      "319.0 over\n",
      "619597.0 under\n",
      "-10.92355801949342 -8.31741261376487 1.3133360729772527 ('saken', 'synes') 319 713 869\n",
      "('arbeiderpartiet', 'ikke') wordtuple\n",
      "('arbeiderpartiet', 'ikke') wordup\n",
      "4209.0 over\n",
      "7500416.0 under\n",
      "-10.79927738985739 -12.039261794341057 0.897004947174875 ('arbeiderpartiet', 'ikke') 4209 10654 704\n",
      "('ikke', 'være') wordtuple\n",
      "('ikke', 'være') wordup\n",
      "22036.0 over\n",
      "37406194.0 under\n",
      "-10.729199098876816 -14.42757474756509 0.7436592280131876 ('ikke', 'være') 22036 10654 3511\n",
      "('bare', 'ikke') wordtuple\n",
      "('bare', 'ikke') wordup\n",
      "9519.0 over\n",
      "14745136.0 under\n",
      "-10.59714148655908 -13.216594306638795 0.801805763322557 ('bare', 'ikke') 9519 10654 1384\n",
      "('ikke', 'kommet') wordtuple\n",
      "('ikke', 'kommet') wordup\n",
      "2167.0 over\n",
      "3611706.0 under\n",
      "-10.70276559060382 -11.081483438093674 0.9658242644492907 ('ikke', 'kommet') 2167 10654 339\n",
      "('en', 'ikke') wordtuple\n",
      "('en', 'ikke') wordup\n",
      "94672.0 over\n",
      "159117490.0 under\n",
      "-10.714867003009289 -16.530650179750015 0.6481818250642652 ('en', 'ikke') 94672 10654 14935\n",
      "('ikke', 'synes') wordtuple\n",
      "('ikke', 'synes') wordup\n",
      "5560.0 over\n",
      "9258326.0 under\n",
      "-10.70145076476468 -12.440869167610868 0.8601851382398047 ('ikke', 'synes') 5560 10654 869\n",
      "('arbeiderpartiet', 'være') wordtuple\n",
      "('arbeiderpartiet', 'være') wordup\n",
      "1299.0 over\n",
      "2471744.0 under\n",
      "-10.893912184070171 -10.343185715447882 1.053245342757383 ('arbeiderpartiet', 'være') 1299 704 3511\n",
      "('arbeiderpartiet', 'bare') wordtuple\n",
      "('arbeiderpartiet', 'bare') wordup\n",
      "512.0 over\n",
      "974336.0 under\n",
      "-10.894059846274024 -9.0 1.2104510940304472 ('arbeiderpartiet', 'bare') 512 704 1384\n",
      "('arbeiderpartiet', 'kommet') wordtuple\n",
      "('arbeiderpartiet', 'kommet') wordup\n",
      "107.0 over\n",
      "238656.0 under\n",
      "-11.123106095372494 -6.7414669864011465 1.649953358491552 ('arbeiderpartiet', 'kommet') 107 704 339\n",
      "('arbeiderpartiet', 'en') wordtuple\n",
      "('arbeiderpartiet', 'en') wordup\n",
      "5304.0 over\n",
      "10514240.0 under\n",
      "-10.952976175722863 -12.372865060112588 0.8852417061455607 ('arbeiderpartiet', 'en') 5304 704 14935\n",
      "('arbeiderpartiet', 'synes') wordtuple\n",
      "('arbeiderpartiet', 'synes') wordup\n",
      "295.0 over\n",
      "611776.0 under\n",
      "-11.018072841202494 -8.204571144249204 1.3429188006889727 ('arbeiderpartiet', 'synes') 295 704 869\n",
      "('bare', 'være') wordtuple\n",
      "('bare', 'være') wordup\n",
      "2736.0 over\n",
      "4859224.0 under\n",
      "-10.794441993631581 -11.417852514885897 0.945400370127259 ('bare', 'være') 2736 3511 1384\n",
      "('kommet', 'være') wordtuple\n",
      "('kommet', 'være') wordup\n",
      "584.0 over\n",
      "1190229.0 under\n",
      "-10.992983185137081 -9.189824558880018 1.1962125190425636 ('kommet', 'være') 584 3511 339\n",
      "('en', 'være') wordtuple\n",
      "('en', 'være') wordup\n",
      "32009.0 over\n",
      "52436785.0 under\n",
      "-10.677885912485591 -14.966189985593319 0.7134672166238892 ('en', 'være') 32009 3511 14935\n",
      "('synes', 'være') wordtuple\n",
      "('synes', 'være') wordup\n",
      "1705.0 over\n",
      "3051059.0 under\n",
      "-10.80532262378362 -10.735556023911535 1.0064986480175497 ('synes', 'være') 1705 3511 869\n",
      "('bare', 'kommet') wordtuple\n",
      "('bare', 'kommet') wordup\n",
      "261.0 over\n",
      "469176.0 under\n",
      "-10.811863694203184 -8.027905996569885 1.3467850394390284 ('bare', 'kommet') 261 1384 339\n",
      "('bare', 'en') wordtuple\n",
      "('bare', 'en') wordup\n",
      "12351.0 over\n",
      "20670040.0 under\n",
      "-10.708697610792452 -13.592340234042425 0.7878479663106281 ('bare', 'en') 12351 1384 14935\n",
      "('bare', 'synes') wordtuple\n",
      "('bare', 'synes') wordup\n",
      "676.0 over\n",
      "1202696.0 under\n",
      "-10.79696115816894 -9.400879436282185 1.1485054383846955 ('bare', 'synes') 676 1384 869\n",
      "('en', 'kommet') wordtuple\n",
      "('en', 'kommet') wordup\n",
      "3046.0 over\n",
      "5062965.0 under\n",
      "-10.698850853847205 -11.572700226487292 0.9244904511878702 ('en', 'kommet') 3046 339 14935\n",
      "('kommet', 'synes') wordtuple\n",
      "('kommet', 'synes') wordup\n",
      "223.0 over\n",
      "294591.0 under\n",
      "-10.36745393003044 -7.800899899920305 1.3290074303012598 ('kommet', 'synes') 223 339 869\n",
      "('en', 'synes') wordtuple\n",
      "('en', 'synes') wordup\n",
      "7522.0 over\n",
      "12978515.0 under\n",
      "-10.752721392972248 -12.876900591040306 0.8350395591664307 ('en', 'synes') 7522 14935 869\n",
      "-972.4662043502523 2v\n",
      "90 x2\n",
      "90\n",
      "-10.805180048336137 n printed\n",
      "10\n",
      "('dei', 'ein') wordtuple\n",
      "('dei', 'ein') wordup\n",
      "17089.0 over\n",
      "4212831.0 under\n",
      "-7.9455782552956595 -14.06078035659561 0.5650880003661077 ('dei', 'ein') 17089 1743 2417\n",
      "('dei', 'ikkje') wordtuple\n",
      "('dei', 'ikkje') wordup\n",
      "11769.0 over\n",
      "2656332.0 under\n",
      "-7.818299920820755 -13.522704120798252 0.5781609839999395 ('dei', 'ikkje') 11769 1743 1524\n",
      "('dei', 'eg') wordtuple\n",
      "('dei', 'eg') wordup\n",
      "11214.0 over\n",
      "2835861.0 under\n",
      "-7.982342035331899 -13.453013354466316 0.5933497444036813 ('dei', 'eg') 11214 1743 1627\n",
      "('dei', 'noko') wordtuple\n",
      "('dei', 'noko') wordup\n",
      "2146.0 over\n",
      "484554.0 under\n",
      "-7.81886356609267 -11.067434360756522 0.7064748080925782 ('dei', 'noko') 2146 1743 278\n",
      "('berre', 'dei') wordtuple\n",
      "('berre', 'dei') wordup\n",
      "1838.0 over\n",
      "418320.0 under\n",
      "-7.830326398445169 -10.843921051289035 0.7220936376620304 ('berre', 'dei') 1838 1743 240\n",
      "('dei', 'no') wordtuple\n",
      "('dei', 'no') wordup\n",
      "3873.0 over\n",
      "768663.0 under\n",
      "-7.632755913654859 -11.919235786028347 0.6403729274826434 ('dei', 'no') 3873 1743 441\n",
      "('dei', 'eit') wordtuple\n",
      "('dei', 'eit') wordup\n",
      "7878.0 over\n",
      "1838865.0 under\n",
      "-7.86677043610619 -12.943613701614044 0.607772343756305 ('dei', 'eit') 7878 1743 1055\n",
      "('dei', 'heilt') wordtuple\n",
      "('dei', 'heilt') wordup\n",
      "1589.0 over\n",
      "371259.0 under\n",
      "-7.868163065003004 -10.63390340934852 0.7399129710061042 ('dei', 'heilt') 1589 1743 213\n",
      "('dei', 'ei') wordtuple\n",
      "('dei', 'ei') wordup\n",
      "6299.0 over\n",
      "1551270.0 under\n",
      "-7.944111284094108 -12.620907095885338 0.62944059596826 ('dei', 'ei') 6299 1743 890\n",
      "('ein', 'ikkje') wordtuple\n",
      "('ein', 'ikkje') wordup\n",
      "14577.0 over\n",
      "3683508.0 under\n",
      "-7.9812427274204625 -13.831406217838442 0.5770376924601498 ('ein', 'ikkje') 14577 2417 1524\n",
      "('eg', 'ein') wordtuple\n",
      "('eg', 'ein') wordup\n",
      "13746.0 over\n",
      "3932459.0 under\n",
      "-8.16027604941228 -13.746724244025831 0.593616042960827 ('eg', 'ein') 13746 2417 1627\n",
      "('ein', 'noko') wordtuple\n",
      "('ein', 'noko') wordup\n",
      "2840.0 over\n",
      "671926.0 under\n",
      "-7.8862676160970455 -11.471675214392045 0.6874556216692008 ('ein', 'noko') 2840 2417 278\n",
      "('berre', 'ein') wordtuple\n",
      "('berre', 'ein') wordup\n",
      "2221.0 over\n",
      "580080.0 under\n",
      "-8.02889867582712 -11.116993677546981 0.7222185159683149 ('berre', 'ein') 2221 2417 240\n",
      "('ein', 'no') wordtuple\n",
      "('ein', 'no') wordup\n",
      "4227.0 over\n",
      "1065897.0 under\n",
      "-7.97821820629231 -12.045418397030794 0.6623446312382929 ('ein', 'no') 4227 2417 441\n",
      "('ein', 'eit') wordtuple\n",
      "('ein', 'eit') wordup\n",
      "9534.0 over\n",
      "2549935.0 under\n",
      "-8.063163131290455 -13.218865910069677 0.6099738953512052 ('ein', 'eit') 9534 2417 1055\n",
      "('ein', 'heilt') wordtuple\n",
      "('ein', 'heilt') wordup\n",
      "2110.0 over\n",
      "514821.0 under\n",
      "-7.930684094396874 -11.043027283594549 0.7181621389434261 ('ein', 'heilt') 2110 2417 213\n",
      "('ei', 'ein') wordtuple\n",
      "('ei', 'ein') wordup\n",
      "8193.0 over\n",
      "2151130.0 under\n",
      "-8.0364871841329 -13.000176099486444 0.6181829478794808 ('ei', 'ein') 8193 2417 890\n",
      "('eg', 'ikkje') wordtuple\n",
      "('eg', 'ikkje') wordup\n",
      "8923.0 over\n",
      "2479548.0 under\n",
      "-8.118332598597107 -13.123313124568744 0.6186191338678348 ('eg', 'ikkje') 8923 1524 1627\n",
      "('ikkje', 'noko') wordtuple\n",
      "('ikkje', 'noko') wordup\n",
      "1750.0 over\n",
      "423672.0 under\n",
      "-7.9194490534971385 -10.77313920671969 0.7351106211045173 ('ikkje', 'noko') 1750 1524 278\n",
      "('berre', 'ikkje') wordtuple\n",
      "('berre', 'ikkje') wordup\n",
      "1464.0 over\n",
      "365760.0 under\n",
      "-7.9648379448177975 -10.515699838284043 0.757423477971534 ('berre', 'ikkje') 1464 1524 240\n",
      "('ikkje', 'no') wordtuple\n",
      "('ikkje', 'no') wordup\n",
      "3014.0 over\n",
      "672084.0 under\n",
      "-7.800818331453019 -11.557463701597824 0.6749593624399229 ('ikkje', 'no') 3014 1524 441\n",
      "('eit', 'ikkje') wordtuple\n",
      "('eit', 'ikkje') wordup\n",
      "6220.0 over\n",
      "1607820.0 under\n",
      "-8.013975606069904 -12.602698865017965 0.6358936043703112 ('eit', 'ikkje') 6220 1524 1055\n",
      "('heilt', 'ikkje') wordtuple\n",
      "('heilt', 'ikkje') wordup\n",
      "1314.0 over\n",
      "324612.0 under\n",
      "-7.948607247396831 -10.35974956032233 0.7672586292857759 ('heilt', 'ikkje') 1314 1524 213\n",
      "('ei', 'ikkje') wordtuple\n",
      "('ei', 'ikkje') wordup\n",
      "4859.0 over\n",
      "1356360.0 under\n",
      "-8.124864996229796 -12.246443717117286 0.663446889881459 ('ei', 'ikkje') 4859 1524 890\n",
      "('eg', 'noko') wordtuple\n",
      "('eg', 'noko') wordup\n",
      "1736.0 over\n",
      "452306.0 under\n",
      "-8.025388375951557 -10.76155123244448 0.7457464265705674 ('eg', 'noko') 1736 1627 278\n",
      "('berre', 'eg') wordtuple\n",
      "('berre', 'eg') wordup\n",
      "1356.0 over\n",
      "390480.0 under\n",
      "-8.169747668144703 -10.405141463136344 0.7851644974831661 ('berre', 'eg') 1356 1627 240\n",
      "('eg', 'no') wordtuple\n",
      "('eg', 'no') wordup\n",
      "3055.0 over\n",
      "717507.0 under\n",
      "-7.875676716523956 -11.576956664706092 0.6802890383561696 ('eg', 'no') 3055 1627 441\n",
      "('eg', 'eit') wordtuple\n",
      "('eg', 'eit') wordup\n",
      "5849.0 over\n",
      "1716485.0 under\n",
      "-8.197051545526419 -12.513974273740656 0.655031836107185 ('eg', 'eit') 5849 1627 1055\n",
      "('eg', 'heilt') wordtuple\n",
      "('eg', 'heilt') wordup\n",
      "1338.0 over\n",
      "346551.0 under\n",
      "-8.016845755256906 -10.38586240064146 0.7718998621396873 ('eg', 'heilt') 1338 1627 213\n",
      "('eg', 'ei') wordtuple\n",
      "('eg', 'ei') wordup\n",
      "5261.0 over\n",
      "1448030.0 under\n",
      "-8.104538726791498 -12.361121334734788 0.6556475345013983 ('eg', 'ei') 5261 1627 890\n",
      "('berre', 'noko') wordtuple\n",
      "('berre', 'noko') wordup\n",
      "312.0 over\n",
      "66720.0 under\n",
      "-7.7404294494697785 -8.285402218862249 0.9342249470820131 ('berre', 'noko') 312 278 240\n",
      "('no', 'noko') wordtuple\n",
      "('no', 'noko') wordup\n",
      "532.0 over\n",
      "122598.0 under\n",
      "-7.848293482779838 -9.05528243550119 0.8667088562594847 ('no', 'noko') 532 278 441\n",
      "('eit', 'noko') wordtuple\n",
      "('eit', 'noko') wordup\n",
      "1030.0 over\n",
      "293290.0 under\n",
      "-8.153539734247474 -10.008428622070582 0.8146673211284429 ('eit', 'noko') 1030 278 1055\n",
      "('heilt', 'noko') wordtuple\n",
      "('heilt', 'noko') wordup\n",
      "258.0 over\n",
      "59214.0 under\n",
      "-7.842423437526092 -8.011227255423254 0.9789290938185671 ('heilt', 'noko') 258 278 213\n",
      "('ei', 'noko') wordtuple\n",
      "('ei', 'noko') wordup\n",
      "964.0 over\n",
      "247420.0 under\n",
      "-8.003713262347306 -9.912889336229961 0.8074046820128482 ('ei', 'noko') 964 278 890\n",
      "('berre', 'no') wordtuple\n",
      "('berre', 'no') wordup\n",
      "449.0 over\n",
      "105840.0 under\n",
      "-7.880953806424892 -8.810571634741148 0.8944883638820141 ('berre', 'no') 449 240 441\n",
      "('berre', 'eit') wordtuple\n",
      "('berre', 'eit') wordup\n",
      "920.0 over\n",
      "253200.0 under\n",
      "-8.104427828258691 -9.845490050944376 0.8231614461365808 ('berre', 'eit') 920 240 1055\n",
      "('berre', 'heilt') wordtuple\n",
      "('berre', 'heilt') wordup\n",
      "216.0 over\n",
      "51120.0 under\n",
      "-7.886712713670889 -7.754887502163469 1.0169989843786442 ('berre', 'heilt') 216 240 213\n",
      "('berre', 'ei') wordtuple\n",
      "('berre', 'ei') wordup\n",
      "790.0 over\n",
      "213600.0 under\n",
      "-8.078843278397812 -9.625708843064466 0.839298529605827 ('berre', 'ei') 790 240 890\n",
      "('eit', 'no') wordtuple\n",
      "('eit', 'no') wordup\n",
      "1920.0 over\n",
      "465255.0 under\n",
      "-7.92077153354355 -10.90689059560852 0.7262171985783664 ('eit', 'no') 1920 441 1055\n",
      "('heilt', 'no') wordtuple\n",
      "('heilt', 'no') wordup\n",
      "461.0 over\n",
      "93933.0 under\n",
      "-7.670721525354022 -8.848622940429339 0.8668830819207486 ('heilt', 'no') 461 441 213\n",
      "('ei', 'no') wordtuple\n",
      "('ei', 'no') wordup\n",
      "1789.0 over\n",
      "392490.0 under\n",
      "-7.777358699359372 -10.804937672051908 0.7197967202972689 ('ei', 'no') 1789 441 890\n",
      "('eit', 'heilt') wordtuple\n",
      "('eit', 'heilt') wordup\n",
      "876.0 over\n",
      "224715.0 under\n",
      "-8.002949844219213 -9.774787059601174 0.8187339320459576 ('eit', 'heilt') 876 1055 213\n",
      "('ei', 'eit') wordtuple\n",
      "('ei', 'eit') wordup\n",
      "3860.0 over\n",
      "938950.0 under\n",
      "-7.926303677292865 -11.914385132155443 0.6652717357525029 ('ei', 'eit') 3860 1055 890\n",
      "('ei', 'heilt') wordtuple\n",
      "('ei', 'heilt') wordup\n",
      "819.0 over\n",
      "189570.0 under\n",
      "-7.85465150443859 -9.67771964164101 0.811622137785623 ('ei', 'heilt') 819 213 890\n",
      "-715.4893538066015 2v\n",
      "90 x2\n",
      "90\n",
      "-7.949881708962239 n printed\n",
      "[-10.805180048336137, -7.949881708962239] npmis\n"
     ]
    }
   ],
   "source": [
    "from utils.stats import compute_metrics\n",
    "\n",
    "coherence, diversity = compute_metrics(\n",
    "    loaded_topics.values(), word_frequencies, word_co_frequencies, 10)"
   ],
   "metadata": {
    "collapsed": false,
    "ExecuteTime": {
     "start_time": "2023-05-30T22:54:43.187684Z",
     "end_time": "2023-05-30T22:54:43.197033Z"
    }
   }
  },
  {
   "cell_type": "code",
   "execution_count": 86,
   "outputs": [
    {
     "name": "stdout",
     "output_type": "stream",
     "text": [
      "det var spesielt det representanten harald tom nesvik sa som gjorde at jeg bad om ordet det er også naturlig å kommentere noe av det sonja sjøli sa jeg synes at de betraktningene som begge representantene kom med er veldig unyanserte man framstiller det som om regjeringen og de tre regjeringspartiene generelt er motstandere av alt som har med private tjenester å gjøre mens opposisjonen og da spesielt høyre og fremskrittspartiet er veldig for det det er et bilde som stemmer dårlig med virkeligheten da man innførte fastlegeordningen ble den på mange måter drevet gjennom av arbeiderpartiet og sv i utgangspunktet hadde man kommuneleger som var fast ansatt i mange kommuner så ble de privatpraktiserende selvstendig næringsdrivende og fikk arbeidsgiveransvar hvis man ser på avtaler som er inngått med privatpraktiserende spesialister ser man at det ikke var høyre og fremskrittspartiet som drev gjennom at man burde utnytte den kapasiteten  det var i all hovedsak sv og arbeiderpartiet og også fylkeskommunene før man fikk helseforetakene det man så var jo at mange av de privatpraktiserende spesialistene skummet fløten i helsemarkedet uten noen forpliktelser å gå inn og ta forpliktelser og få et refusjonstilskudd mot at man faktisk måtte være med og ta unna ventelistene fikk ned ventelistene men forpliktet dem på en helt annen måte noen av de verste eksemplene jeg har sett på at man skal ha frihet uten ansvar har kommet fra fremskrittspartiet som har foreslått at man skal ha en refusjonsordning for privatpraktiserende spesialister uten at man knytter det til forpliktelser om hva slags pasienter man skal behandle derfor er framstillingen til de to partiene ganske blottet for refleksjoner i forhold til bruken av offentlige midler det man er nødt til å se på når man gir midler gir refusjon til privatpraktiserende spesialister er om midlene brukes målrettet på ett punkt er jeg imidlertid enig og det gjelder at det finnes en del eksempler på kapasitet som ikke utnyttes fullt ut da får man målrette det i forhold til de eksemplene ett eksempel på det er jo capio i østfold jeg har fått ganske mange henvendelser angående det det har også kommet en del henvendelser fra svere som opplever at deres egne familiemedlemmer har alvorlig sykdom og så står det ledige behandlingsplasser der vi har jo et forslag til behandling i komiteen fra fremskrittspartiet angående det jeg må nok si at det gir grunn til ettertanke når det gjelder helseforetakslovgivningen hvis offentlige myndigheter i dette tilfellet regjeringen ikke skal ha virkemidler for å kunne utnytte ledige plasser på et område der man absolutt har behov for å foreta behandling  i påvente av at det offentlige skal bygge opp det tilbudet det burde man selvfølgelig kunne gjøre det kan jo heller ikke være slik at det må være nødvendig å gå veien om fritt sykehusvalg som jeg har hørt fremskrittspartiet flere ganger har tatt til orde for for at det offentlige skal styre virksomheter og sikre bruk av kapasitet der kvaliteten er god og der man trenger plassene det er på mange måter synes jeg en fallitterklæring hvis man skal måtte kalle noe som ikke er sykehus for et sykehus for å utnytte den kapasiteten det synliggjør også hvor liten grad av politisk styring man har med virksomhetene og i hvor stor grad det overlates til andre å vurdere hvilke tjenester som skal brukes dette er spesielt knyttet til spisevegring ellers må jeg si at jeg etterlyser både fra høyre og fremskrittspartiet en mer kritisk vurdering av hva slags private tjenester man skal bruke hvilken pris skal man betale for tjenestene hvem er det som står på venteliste hvor mange flere behandles nå enn før for en av grunnene til at flere står på venteliste er jo at kapasiteten er betydelig utvidet etter at regjeringen overtok derfor er dette relativt unyanserte og ureflekterte betraktninger som i liten grad beskriver den virkeligheten vi står overfor og som søker å skape lettvinte retoriske poenger for de to partiene nå såpass nært opptil den kommende valgkampen\n"
     ]
    }
   ],
   "source": [
    "from nltk import word_tokenize\n",
    "from utils.config import use_pmi\n",
    "from gensim.test.utils import common_corpus, common_dictionary\n",
    "from gensim.models.coherencemodel import CoherenceModel\n",
    "from gensim.corpora import Dictionary\n",
    "if not use_pmi:\n",
    "    corpus_tokenized = []\n",
    "    for item in new_data:\n",
    "        word_tokens = word_tokenize(item)\n",
    "        corpus_tokenized.append(word_tokens)\n",
    "\n",
    "    dct = Dictionary(corpus_tokenized)\n",
    "    inp = list(loaded_topics.values())\n",
    "\n",
    "\n",
    "    cm = CoherenceModel(topics=inp, texts = corpus_tokenized, dictionary=dct, coherence='c_npmi')\n",
    "    coherence2 = cm.get_coherence()  # get coherence value\n",
    "    print(coherence2)"
   ],
   "metadata": {
    "collapsed": false,
    "ExecuteTime": {
     "start_time": "2023-05-30T22:54:43.199028Z",
     "end_time": "2023-05-30T22:55:01.561597Z"
    }
   }
  },
  {
   "cell_type": "code",
   "execution_count": 87,
   "outputs": [
    {
     "name": "stdout",
     "output_type": "stream",
     "text": [
      "0.08001947581049176\n",
      "dict_values([['man', 'jeg', 'saken', 'ikke', 'arbeiderpartiet', 'være', 'bare', 'kommet', 'en', 'synes', 'noen', 'endringer', 'de', 'et', 'mener', 'takker', 'ligger', 'innstillingen', 'regjeringen', 'hvert', 'kommunene', 'dem', 'se', 'sier', 'flertall', 'kommer', 'egentlig', 'gjelder', 'hvordan', 'noe', 'allerede', 'disse', 'gjør', 'virksomhet', 'norge', 'behandlingen', 'vært', 'flere', 'selvfølgelig', 'innenfor', 'hele', 'mer', 'ønsker', 'regner', 'hva', 'flertallet', 'pasienter', 'hun', 'omrader', 'talerstolen'], ['dei', 'ein', 'ikkje', 'eg', 'noko', 'berre', 'no', 'eit', 'heilt', 'ei', 'vere', 'ligg', 'kome', 'nokre', 'gjere', 'kva', 'gjer', 'seie', 'noreg', 'vore', 'meir', 'synest', 'sja', 'fleire', 'vidare', 'mykje', 'korleis', 'desse', 'sjølv', 'nokon', 'kjem', 'trur', 'leggje', 'same', 'meiner', 'betre', 'tidlegare', 'gjeld', 'treng', 'viktigaste', 'tek', 'veit', 'heile', 'ho', 'vert', 'innanfor', 'anna', 'ønskjer', 'sidan', 'sjølvsagt']])\n",
      "1.0\n"
     ]
    }
   ],
   "source": [
    "print(coherence)\n",
    "print(loaded_topics.values())\n",
    "print(diversity)"
   ],
   "metadata": {
    "collapsed": false,
    "ExecuteTime": {
     "start_time": "2023-05-30T22:55:01.562768Z",
     "end_time": "2023-05-30T22:55:01.577554Z"
    }
   }
  },
  {
   "cell_type": "code",
   "execution_count": 87,
   "outputs": [],
   "source": [],
   "metadata": {
    "collapsed": false,
    "ExecuteTime": {
     "start_time": "2023-05-30T22:55:01.578552Z",
     "end_time": "2023-05-30T22:55:01.623482Z"
    }
   }
  },
  {
   "cell_type": "code",
   "execution_count": 88,
   "outputs": [
    {
     "name": "stdout",
     "output_type": "stream",
     "text": [
      "╒═══════════════════════════════════╤═══════════╤═══════════╕\n",
      "│ Model                             │ Metric    │     Value │\n",
      "╞═══════════════════════════════════╪═══════════╪═══════════╡\n",
      "│ top2vec_preliminary_np_mini_basic │ coherence │ 0.0800195 │\n",
      "├───────────────────────────────────┼───────────┼───────────┤\n",
      "│ top2vec_preliminary_np_mini_basic │ diversity │ 1         │\n",
      "╘═══════════════════════════════════╧═══════════╧═══════════╛\n"
     ]
    }
   ],
   "source": [
    "# Check the stats for the dataset after running basic pipeline\n",
    "from tabulate import tabulate\n",
    "import csv\n",
    "models = [file_name for i in range(0, 2)]\n",
    "metrics = [\"coherence\" if i < 1 else \"diversity\" for i in range(0, 2)]\n",
    "values = [\n",
    "    coherence,\n",
    "    diversity\n",
    "    ]\n",
    "\n",
    "stats = [models, metrics, values]\n",
    "stats_tabulate = list(zip(*stats))\n",
    "print(tabulate(stats_tabulate, headers=[\"Model\", \"Metric\", \"Value\"], tablefmt=\"fancy_grid\"))"
   ],
   "metadata": {
    "collapsed": false,
    "ExecuteTime": {
     "start_time": "2023-05-30T22:55:01.595554Z",
     "end_time": "2023-05-30T22:55:01.632454Z"
    }
   }
  },
  {
   "cell_type": "code",
   "execution_count": 89,
   "outputs": [],
   "source": [
    "# Save all topic stats to file\n",
    "\n",
    "topic_stats_folder_path = fr\"preprocessed_data/metrics/{model_type}\"\n",
    "topic_stats_file_name = f\"{file_name}_stats\"\n",
    "topic_stats_path = os.path.join(ROOT_PATH,topic_stats_folder_path, topic_stats_file_name + r\".csv\")\n",
    "\n",
    "TOPIC_STAT = \"Topic stat\"\n",
    "VALUE = \"Value\"\n",
    "\n",
    "with open(topic_stats_path, encoding=\"utf-8\", mode=\"w\", newline=\"\") as topic_stats_file:\n",
    "    header = [TOPIC_STAT, VALUE]\n",
    "    writer = csv.DictWriter(topic_stats_file, fieldnames=header, delimiter=\";\")\n",
    "    writer.writeheader()\n",
    "    writer.writerow({TOPIC_STAT : \"Coherence\", VALUE : coherence})\n",
    "    writer.writerow({TOPIC_STAT : \"Diversity\", VALUE : diversity})"
   ],
   "metadata": {
    "collapsed": false,
    "ExecuteTime": {
     "start_time": "2023-05-30T22:55:01.612509Z",
     "end_time": "2023-05-30T22:55:01.632454Z"
    }
   }
  },
  {
   "cell_type": "code",
   "execution_count": 89,
   "outputs": [],
   "source": [],
   "metadata": {
    "collapsed": false,
    "ExecuteTime": {
     "start_time": "2023-05-30T22:55:01.626470Z",
     "end_time": "2023-05-30T22:55:01.645447Z"
    }
   }
  },
  {
   "cell_type": "code",
   "execution_count": 89,
   "outputs": [],
   "source": [],
   "metadata": {
    "collapsed": false,
    "ExecuteTime": {
     "start_time": "2023-05-30T22:55:01.642429Z",
     "end_time": "2023-05-30T22:55:01.686597Z"
    }
   }
  }
 ],
 "metadata": {
  "kernelspec": {
   "display_name": "Python 3",
   "language": "python",
   "name": "python3"
  },
  "language_info": {
   "codemirror_mode": {
    "name": "ipython",
    "version": 2
   },
   "file_extension": ".py",
   "mimetype": "text/x-python",
   "name": "python",
   "nbconvert_exporter": "python",
   "pygments_lexer": "ipython2",
   "version": "2.7.6"
  }
 },
 "nbformat": 4,
 "nbformat_minor": 0
}
