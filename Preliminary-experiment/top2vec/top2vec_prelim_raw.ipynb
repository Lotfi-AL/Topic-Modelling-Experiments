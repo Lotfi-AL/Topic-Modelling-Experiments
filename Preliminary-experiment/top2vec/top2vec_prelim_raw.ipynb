{
 "cells": [
  {
   "cell_type": "code",
   "execution_count": 55,
   "metadata": {
    "collapsed": true,
    "ExecuteTime": {
     "start_time": "2023-05-30T19:46:14.914127Z",
     "end_time": "2023-05-30T19:46:15.034805Z"
    }
   },
   "outputs": [],
   "source": [
    "from top2vec import Top2Vec\n",
    "from gensim.models.coherencemodel import CoherenceModel\n",
    "import os\n",
    "import pandas as pd\n",
    "from nltk.tokenize import word_tokenize\n",
    "\n",
    "import gensim.corpora as corpora"
   ]
  },
  {
   "cell_type": "code",
   "execution_count": 56,
   "outputs": [],
   "source": [
    "import os\n",
    "import pandas as pd"
   ],
   "metadata": {
    "collapsed": false,
    "ExecuteTime": {
     "start_time": "2023-05-30T19:46:14.934073Z",
     "end_time": "2023-05-30T19:46:15.128162Z"
    }
   }
  },
  {
   "cell_type": "code",
   "execution_count": 57,
   "outputs": [],
   "source": [
    "from utils.filemanagement import load_from_file, write_topics_file, get_project_root\n",
    "\n",
    "model_type=\"top2vec\"\n",
    "model_name=\"Top2Vec\"\n",
    "embedding_model = \"preliminary\"\n",
    "data_type=\"np_mini_raw\"\n",
    "file_name=f\"{model_type}_{embedding_model}_{data_type}\"\n",
    "folder_path_data =f\"preprocessed_data\"\n",
    "file_name_data = f\"{data_type}.csv\"\n",
    "\n",
    "\n",
    "\n",
    "folder_name = f\"Preliminary-experiment/models/{model_type}\"\n",
    "ROOT_PATH = get_project_root()\n",
    "file_path = os.path.join(ROOT_PATH,folder_name,file_name)\n",
    "\n",
    "folder_path_word_cloud = f\"preprocessed_data/wordclouds/preliminary/{file_name}\"\n",
    "folder_name = f\"Preliminary-experiment/models/{model_type}\"\n",
    "random_sample = False\n",
    "seed = 42\n",
    "df = load_from_file(folder_path_data,file_name_data)\n",
    "\n",
    "data = df.text.values.tolist()\n",
    "new_data = []\n",
    "for item in data:\n",
    "    new_data.append(str(item))"
   ],
   "metadata": {
    "collapsed": false,
    "ExecuteTime": {
     "start_time": "2023-05-30T19:46:14.944046Z",
     "end_time": "2023-05-30T19:46:15.133149Z"
    }
   }
  },
  {
   "cell_type": "markdown",
   "source": [],
   "metadata": {
    "collapsed": false
   }
  },
  {
   "cell_type": "code",
   "execution_count": 58,
   "outputs": [],
   "source": [
    "topic_model = None\n",
    "\n",
    "try:\n",
    "    topic_model = Top2Vec.load(file_path)\n",
    "except:\n",
    "    topic_model = Top2Vec(documents=new_data)\n"
   ],
   "metadata": {
    "collapsed": false,
    "ExecuteTime": {
     "start_time": "2023-05-30T19:46:15.037824Z",
     "end_time": "2023-05-30T19:46:15.133149Z"
    }
   }
  },
  {
   "cell_type": "code",
   "execution_count": 59,
   "outputs": [],
   "source": [
    "topic_model.save(file_path)"
   ],
   "metadata": {
    "collapsed": false,
    "ExecuteTime": {
     "start_time": "2023-05-30T19:46:15.117193Z",
     "end_time": "2023-05-30T19:46:15.275328Z"
    }
   }
  },
  {
   "cell_type": "code",
   "execution_count": 60,
   "outputs": [
    {
     "name": "stdout",
     "output_type": "stream",
     "text": [
      "doc2vec\n"
     ]
    }
   ],
   "source": [
    "print(topic_model.embedding_model)"
   ],
   "metadata": {
    "collapsed": false,
    "ExecuteTime": {
     "start_time": "2023-05-30T19:46:15.272337Z",
     "end_time": "2023-05-30T19:46:15.285301Z"
    }
   }
  },
  {
   "cell_type": "code",
   "execution_count": 61,
   "outputs": [
    {
     "name": "stdout",
     "output_type": "stream",
     "text": [
      "2\n"
     ]
    }
   ],
   "source": [
    "num_topics = topic_model.get_num_topics()\n",
    "print(num_topics)"
   ],
   "metadata": {
    "collapsed": false,
    "ExecuteTime": {
     "start_time": "2023-05-30T19:46:15.286299Z",
     "end_time": "2023-05-30T19:46:15.330181Z"
    }
   }
  },
  {
   "cell_type": "code",
   "execution_count": 62,
   "outputs": [],
   "source": [
    "topic_sizes, topic_nums = topic_model.get_topic_sizes()"
   ],
   "metadata": {
    "collapsed": false,
    "ExecuteTime": {
     "start_time": "2023-05-30T19:46:15.303254Z",
     "end_time": "2023-05-30T19:46:15.341151Z"
    }
   }
  },
  {
   "cell_type": "code",
   "execution_count": 63,
   "outputs": [],
   "source": [
    "topic_words, word_scores, topic_nums = topic_model.get_topics(num_topics)"
   ],
   "metadata": {
    "collapsed": false,
    "ExecuteTime": {
     "start_time": "2023-05-30T19:46:15.318213Z",
     "end_time": "2023-05-30T19:46:15.342149Z"
    }
   }
  },
  {
   "cell_type": "code",
   "execution_count": 64,
   "outputs": [],
   "source": [
    "topic_word_scores = [dict(zip(topic_words[i][:], word_scores[i])) for i in topic_nums]"
   ],
   "metadata": {
    "collapsed": false,
    "ExecuteTime": {
     "start_time": "2023-05-30T19:46:15.335169Z",
     "end_time": "2023-05-30T19:46:15.350128Z"
    }
   }
  },
  {
   "cell_type": "code",
   "execution_count": 65,
   "outputs": [
    {
     "data": {
      "text/plain": "(array([['jeg', 'ikke', 'vært', 'noen', 'en', 'saken', 'man', 'være',\n         'et', 'helt', 'de', 'dem', 'noe', 'se', 'synes', 'hva',\n         'hvordan', 'gjør', 'hvis', 'gjelder', 'mener', 'arbeiderpartiet',\n         'hensyn', 'ønsker', 'annen', 'kommunene', 'enig', 'hele', 'sier',\n         'gjøre', 'disse', 'takker', 'samme', 'bare', 'hvilke',\n         'allerede', 'kommer', 'regjeringen', 'hvor', 'na', 'mulig',\n         'selv', 'flertall', 'kommet', 'norge', 'hvert', 'flere', 'tror',\n         'tiden', 'apenbart'],\n        ['ein', 'ikkje', 'ei', 'dei', 'berre', 'eg', 'noko', 'eit', 'no',\n         'sjølv', 'sja', 'vere', 'gjer', 'nokre', 'ligg', 'heilt', 'vore',\n         'kva', 'meir', 'noreg', 'mykje', 'kjem', 'kome', 'trur', 'gjere',\n         'seie', 'korleis', 'desse', 'fleire', 'gjeld', 'heile', 'vidare',\n         'nokon', 'tek', 'sjølvsagt', 'ho', 'veit', 'ønskjer', 'synest',\n         'saman', 'meiner', 'treng', 'betre', 'fekk', 'saka', 'utan',\n         'viktigaste', 'leggje', 'sidan', 'innanfor']], dtype='<U15'),\n array([[0.5055622 , 0.47383833, 0.47284383, 0.47182265, 0.47058627,\n         0.46759608, 0.4607791 , 0.44542253, 0.4429487 , 0.44016778,\n         0.43629208, 0.42410743, 0.41779143, 0.41402292, 0.41056693,\n         0.40921482, 0.40000796, 0.39713666, 0.3964179 , 0.39594305,\n         0.39533257, 0.39347437, 0.393424  , 0.38935506, 0.38719937,\n         0.38680965, 0.38475415, 0.38469633, 0.38375375, 0.38298044,\n         0.37924254, 0.37847546, 0.37836826, 0.3779663 , 0.37609857,\n         0.37534347, 0.3753229 , 0.373604  , 0.37351575, 0.3701946 ,\n         0.36974323, 0.36949766, 0.36885318, 0.36724058, 0.36262363,\n         0.36236522, 0.36131215, 0.36048615, 0.3597507 , 0.3550784 ],\n        [0.7885644 , 0.7778107 , 0.7667514 , 0.75390095, 0.75123847,\n         0.75003767, 0.74776983, 0.7357263 , 0.73461014, 0.7228433 ,\n         0.7150327 , 0.71280336, 0.70371866, 0.70301414, 0.7010322 ,\n         0.7002058 , 0.69975215, 0.69931006, 0.6990862 , 0.69895005,\n         0.6913226 , 0.690641  , 0.68560857, 0.6817092 , 0.67882246,\n         0.6778846 , 0.6775919 , 0.67744505, 0.675388  , 0.6582741 ,\n         0.65534925, 0.65363353, 0.6529859 , 0.65202755, 0.6511645 ,\n         0.6511414 , 0.6464127 , 0.64609164, 0.642967  , 0.6423903 ,\n         0.6382187 , 0.6359999 , 0.6336792 , 0.63276714, 0.6318527 ,\n         0.62677985, 0.62520635, 0.6235596 , 0.6216606 , 0.615589  ]],\n       dtype=float32),\n array([0, 1]))"
     },
     "execution_count": 65,
     "metadata": {},
     "output_type": "execute_result"
    }
   ],
   "source": [
    "topic_model.get_topics()"
   ],
   "metadata": {
    "collapsed": false,
    "ExecuteTime": {
     "start_time": "2023-05-30T19:46:15.348132Z",
     "end_time": "2023-05-30T19:46:15.392016Z"
    }
   }
  },
  {
   "cell_type": "code",
   "execution_count": 66,
   "outputs": [
    {
     "data": {
      "text/plain": "<Figure size 1280x960 with 2 Axes>",
      "image/png": "[encoded data removed]"
     },
     "metadata": {},
     "output_type": "display_data"
    }
   ],
   "source": [
    "from utils.filemanagement import make_excerpt_wordcloud\n",
    "\n",
    "\n",
    "excerpt_wordcloud = make_excerpt_wordcloud(topic_word_scores,num_topics,f\"Sample from {model_name}-{embedding_model}: {data_type}\",random_sample=random_sample,seed=seed)\n",
    "\n",
    "excerpt_wordcloud.savefig(os.path.join(ROOT_PATH,folder_path_word_cloud,f\"{file_name}_wordcloud_sample\"),bbox_inches=\"tight\")"
   ],
   "metadata": {
    "collapsed": false,
    "ExecuteTime": {
     "start_time": "2023-05-30T19:46:15.365087Z",
     "end_time": "2023-05-30T19:46:15.771199Z"
    }
   }
  },
  {
   "cell_type": "code",
   "execution_count": 66,
   "outputs": [],
   "source": [],
   "metadata": {
    "collapsed": false,
    "ExecuteTime": {
     "start_time": "2023-05-30T19:46:15.772196Z",
     "end_time": "2023-05-30T19:46:15.786157Z"
    }
   }
  },
  {
   "cell_type": "code",
   "execution_count": 67,
   "outputs": [
    {
     "name": "stdout",
     "output_type": "stream",
     "text": [
      "\n",
      " 0\n",
      "{'jeg': 0.5055622, 'ikke': 0.47383833, 'vært': 0.47284383, 'noen': 0.47182265, 'en': 0.47058627, 'saken': 0.46759608, 'man': 0.4607791, 'være': 0.44542253, 'et': 0.4429487, 'helt': 0.44016778, 'de': 0.43629208, 'dem': 0.42410743, 'noe': 0.41779143, 'se': 0.41402292, 'synes': 0.41056693, 'hva': 0.40921482, 'hvordan': 0.40000796, 'gjør': 0.39713666, 'hvis': 0.3964179, 'gjelder': 0.39594305, 'mener': 0.39533257, 'arbeiderpartiet': 0.39347437, 'hensyn': 0.393424, 'ønsker': 0.38935506, 'annen': 0.38719937, 'kommunene': 0.38680965, 'enig': 0.38475415, 'hele': 0.38469633, 'sier': 0.38375375, 'gjøre': 0.38298044, 'disse': 0.37924254, 'takker': 0.37847546, 'samme': 0.37836826, 'bare': 0.3779663, 'hvilke': 0.37609857, 'allerede': 0.37534347, 'kommer': 0.3753229, 'regjeringen': 0.373604, 'hvor': 0.37351575, 'na': 0.3701946, 'mulig': 0.36974323, 'selv': 0.36949766, 'flertall': 0.36885318, 'kommet': 0.36724058, 'norge': 0.36262363, 'hvert': 0.36236522, 'flere': 0.36131215, 'tror': 0.36048615, 'tiden': 0.3597507, 'apenbart': 0.3550784}\n",
      "\n",
      " 1\n",
      "{'ein': 0.7885644, 'ikkje': 0.7778107, 'ei': 0.7667514, 'dei': 0.75390095, 'berre': 0.75123847, 'eg': 0.75003767, 'noko': 0.74776983, 'eit': 0.7357263, 'no': 0.73461014, 'sjølv': 0.7228433, 'sja': 0.7150327, 'vere': 0.71280336, 'gjer': 0.70371866, 'nokre': 0.70301414, 'ligg': 0.7010322, 'heilt': 0.7002058, 'vore': 0.69975215, 'kva': 0.69931006, 'meir': 0.6990862, 'noreg': 0.69895005, 'mykje': 0.6913226, 'kjem': 0.690641, 'kome': 0.68560857, 'trur': 0.6817092, 'gjere': 0.67882246, 'seie': 0.6778846, 'korleis': 0.6775919, 'desse': 0.67744505, 'fleire': 0.675388, 'gjeld': 0.6582741, 'heile': 0.65534925, 'vidare': 0.65363353, 'nokon': 0.6529859, 'tek': 0.65202755, 'sjølvsagt': 0.6511645, 'ho': 0.6511414, 'veit': 0.6464127, 'ønskjer': 0.64609164, 'synest': 0.642967, 'saman': 0.6423903, 'meiner': 0.6382187, 'treng': 0.6359999, 'betre': 0.6336792, 'fekk': 0.63276714, 'saka': 0.6318527, 'utan': 0.62677985, 'viktigaste': 0.62520635, 'leggje': 0.6235596, 'sidan': 0.6216606, 'innanfor': 0.615589}\n"
     ]
    }
   ],
   "source": [
    "for i in range(num_topics):\n",
    "    print(\"\\n\", i)\n",
    "    print(topic_word_scores[i])\n"
   ],
   "metadata": {
    "collapsed": false,
    "ExecuteTime": {
     "start_time": "2023-05-30T19:46:15.789150Z",
     "end_time": "2023-05-30T19:46:15.833032Z"
    }
   }
  },
  {
   "cell_type": "code",
   "execution_count": 68,
   "outputs": [
    {
     "data": {
      "text/plain": "<Figure size 1280x960 with 2 Axes>",
      "image/png": "[encoded data removed]"
     },
     "metadata": {},
     "output_type": "display_data"
    }
   ],
   "source": [
    "from utils.tables_and_plots import display_n_wordclouds\n",
    "\n",
    "wordcloud = display_n_wordclouds(topic_word_scores, f\"{model_name}-{embedding_model}: {data_type}\",num_topics, dpi=200)\n"
   ],
   "metadata": {
    "collapsed": false,
    "ExecuteTime": {
     "start_time": "2023-05-30T19:46:15.804109Z",
     "end_time": "2023-05-30T19:46:16.166689Z"
    }
   }
  },
  {
   "cell_type": "code",
   "execution_count": 69,
   "outputs": [],
   "source": [
    "from utils.tables_and_plots import create_wordcloud\n",
    "\n",
    "wordcloud.savefig(os.path.join(ROOT_PATH,folder_path_word_cloud,f\"{file_name}_wordcloud\"))\n",
    "file_name_model = \"wordcloud\"\n",
    "for i in range(num_topics):\n",
    "    topic_wordcloud = create_wordcloud(topic_word_scores[i])\n",
    "    topic_wordcloud.to_file(os.path.join(ROOT_PATH, folder_path_word_cloud, str(file_name_model + f\"_{i}.png\")))"
   ],
   "metadata": {
    "collapsed": false,
    "ExecuteTime": {
     "start_time": "2023-05-30T19:46:16.167687Z",
     "end_time": "2023-05-30T19:46:16.720210Z"
    }
   }
  },
  {
   "cell_type": "code",
   "execution_count": 70,
   "outputs": [],
   "source": [
    "from utils.filemanagement import write_topics_file\n",
    "\n",
    "topic_words_numbered = [(i, list(topic_words[i])) for i in range(num_topics)]\n",
    "\n",
    "folder_path_topics = r\"preprocessed_data/results\"\n",
    "\n",
    "write_topics_file(folder_path_topics, file_name, topic_words_numbered)"
   ],
   "metadata": {
    "collapsed": false,
    "ExecuteTime": {
     "start_time": "2023-05-30T19:46:16.723201Z",
     "end_time": "2023-05-30T19:46:16.735284Z"
    }
   }
  },
  {
   "cell_type": "code",
   "execution_count": 71,
   "outputs": [],
   "source": [
    "from utils.filemanagement import load_model_topics\n",
    "\n",
    "folder_path_topics = r\"preprocessed_data/results\"\n",
    "\n",
    "loaded_topics = load_model_topics(folder_path_topics, file_name)"
   ],
   "metadata": {
    "collapsed": false,
    "ExecuteTime": {
     "start_time": "2023-05-30T19:46:16.735284Z",
     "end_time": "2023-05-30T19:46:16.760341Z"
    }
   }
  },
  {
   "cell_type": "code",
   "execution_count": 72,
   "outputs": [],
   "source": [
    "folder_path_frequencies = r\"preprocessed_data/stats\"\n",
    "file_name_co_frequencies = f\"{data_type}_co_freq\"\n",
    "file_name_frequencies=f\"{data_type}_freq\""
   ],
   "metadata": {
    "collapsed": false,
    "ExecuteTime": {
     "start_time": "2023-05-30T19:46:16.752239Z",
     "end_time": "2023-05-30T19:46:16.767323Z"
    }
   }
  },
  {
   "cell_type": "code",
   "execution_count": 73,
   "outputs": [
    {
     "data": {
      "text/plain": "2"
     },
     "execution_count": 73,
     "metadata": {},
     "output_type": "execute_result"
    }
   ],
   "source": [
    "len(loaded_topics.values())"
   ],
   "metadata": {
    "collapsed": false,
    "ExecuteTime": {
     "start_time": "2023-05-30T19:46:16.767323Z",
     "end_time": "2023-05-30T19:46:16.791311Z"
    }
   }
  },
  {
   "cell_type": "code",
   "execution_count": 74,
   "outputs": [],
   "source": [
    "\n",
    "from utils.filemanagement import load_word_frequencies\n",
    "\n",
    "word_frequencies = load_word_frequencies(folder_path_frequencies, file_name_frequencies)"
   ],
   "metadata": {
    "collapsed": false,
    "ExecuteTime": {
     "start_time": "2023-05-30T19:46:16.784329Z",
     "end_time": "2023-05-30T19:46:17.083406Z"
    }
   }
  },
  {
   "cell_type": "code",
   "execution_count": 75,
   "outputs": [],
   "source": [
    "from utils.filemanagement import load_zipped_word_co_frequencies\n",
    "\n",
    "word_co_frequencies = load_zipped_word_co_frequencies(folder_path_frequencies,file_name_co_frequencies)"
   ],
   "metadata": {
    "collapsed": false,
    "ExecuteTime": {
     "start_time": "2023-05-30T19:46:16.894624Z",
     "end_time": "2023-05-30T19:46:27.064777Z"
    }
   }
  },
  {
   "cell_type": "code",
   "execution_count": 76,
   "outputs": [
    {
     "name": "stdout",
     "output_type": "stream",
     "text": [
      "10\n",
      "('ikke', 'jeg') wordtuple\n",
      "('ikke', 'jeg') wordup\n",
      "61195.0 over\n",
      "116831764.0 under\n",
      "-10.898731163447577 -15.901126160410374 0.6854062444069247 ('ikke', 'jeg') 61195 10966 10654\n",
      "('jeg', 'vært') wordtuple\n",
      "('jeg', 'vært') wordup\n",
      "12354.0 over\n",
      "23204056.0 under\n",
      "-10.875183055057414 -13.59269061535341 0.8000758174230437 ('jeg', 'vært') 12354 10966 2116\n",
      "('jeg', 'noen') wordtuple\n",
      "('jeg', 'noen') wordup\n",
      "11754.0 over\n",
      "20616080.0 under\n",
      "-10.776402521873056 -13.520864182988744 0.7970202478205033 ('jeg', 'noen') 11754 10966 1880\n",
      "('en', 'jeg') wordtuple\n",
      "('en', 'jeg') wordup\n",
      "83276.0 over\n",
      "163777210.0 under\n",
      "-10.941546222682277 -16.345613152812675 0.6693873224816598 ('en', 'jeg') 83276 10966 14935\n",
      "('jeg', 'saken') wordtuple\n",
      "('jeg', 'saken') wordup\n",
      "3822.0 over\n",
      "7807792.0 under\n",
      "-10.99637112628574 -11.900112062977456 0.9240560986393269 ('jeg', 'saken') 3822 10966 712\n",
      "('jeg', 'man') wordtuple\n",
      "('jeg', 'man') wordup\n",
      "39129.0 over\n",
      "71706674.0 under\n",
      "-10.839653446209308 -15.255950620034112 0.7105196992427779 ('jeg', 'man') 39129 10966 6539\n",
      "('jeg', 'være') wordtuple\n",
      "('jeg', 'være') wordup\n",
      "19066.0 over\n",
      "38501626.0 under\n",
      "-10.979701458110052 -14.218714581067502 0.7722007074204682 ('jeg', 'være') 19066 10966 3511\n",
      "('et', 'jeg') wordtuple\n",
      "('et', 'jeg') wordup\n",
      "42356.0 over\n",
      "83429328.0 under\n",
      "-10.943772558536502 -15.370278730620862 0.712008724782211 ('et', 'jeg') 42356 10966 7608\n",
      "('helt', 'jeg') wordtuple\n",
      "('helt', 'jeg') wordup\n",
      "7935.0 over\n",
      "15012454.0 under\n",
      "-10.885641981832155 -12.954014507722546 0.8403296117464336 ('helt', 'jeg') 7935 10966 1369\n",
      "('ikke', 'vært') wordtuple\n",
      "('ikke', 'vært') wordup\n",
      "13388.0 over\n",
      "22543864.0 under\n",
      "-10.717578641988645 -13.708652835686529 0.7818112232070329 ('ikke', 'vært') 13388 10654 2116\n",
      "('ikke', 'noen') wordtuple\n",
      "('ikke', 'noen') wordup\n",
      "13357.0 over\n",
      "20029520.0 under\n",
      "-10.550316119610029 -13.705308392516123 0.7697977905678577 ('ikke', 'noen') 13357 10654 1880\n",
      "('en', 'ikke') wordtuple\n",
      "('en', 'ikke') wordup\n",
      "94672.0 over\n",
      "159117490.0 under\n",
      "-10.714867003009289 -16.530650179750015 0.6481818250642652 ('en', 'ikke') 94672 10654 14935\n",
      "('ikke', 'saken') wordtuple\n",
      "('ikke', 'saken') wordup\n",
      "4155.0 over\n",
      "7585648.0 under\n",
      "-10.834208234869841 -12.020632761657707 0.9013009921930057 ('ikke', 'saken') 4155 10654 712\n",
      "('ikke', 'man') wordtuple\n",
      "('ikke', 'man') wordup\n",
      "43636.0 over\n",
      "69666506.0 under\n",
      "-10.640730634383228 -15.413231239124542 0.6903633942357964 ('ikke', 'man') 43636 10654 6539\n",
      "('ikke', 'være') wordtuple\n",
      "('ikke', 'være') wordup\n",
      "22036.0 over\n",
      "37406194.0 under\n",
      "-10.729199098876816 -14.42757474756509 0.7436592280131876 ('ikke', 'være') 22036 10654 3511\n",
      "('et', 'ikke') wordtuple\n",
      "('et', 'ikke') wordup\n",
      "49332.0 over\n",
      "81055632.0 under\n",
      "-10.68217293913662 -15.590236157285094 0.6851835232877466 ('et', 'ikke') 49332 10654 7608\n",
      "('helt', 'ikke') wordtuple\n",
      "('helt', 'ikke') wordup\n",
      "8438.0 over\n",
      "14585326.0 under\n",
      "-10.755328924599699 -13.042685372219351 0.8246253449851919 ('helt', 'ikke') 8438 10654 1369\n",
      "('noen', 'vært') wordtuple\n",
      "('noen', 'vært') wordup\n",
      "2454.0 over\n",
      "3978080.0 under\n",
      "-10.66272132501612 -11.260919533662905 0.9468783870750024 ('noen', 'vært') 2454 2116 1880\n",
      "('en', 'vært') wordtuple\n",
      "('en', 'vært') wordup\n",
      "18804.0 over\n",
      "31602460.0 under\n",
      "-10.714781564118443 -14.198751965193738 0.75462840610106 ('en', 'vært') 18804 2116 14935\n",
      "('saken', 'vært') wordtuple\n",
      "('saken', 'vært') wordup\n",
      "899.0 over\n",
      "1506592.0 under\n",
      "-10.710680037565975 -9.812177305514448 1.0915701687887935 ('saken', 'vært') 899 2116 712\n",
      "('man', 'vært') wordtuple\n",
      "('man', 'vært') wordup\n",
      "8702.0 over\n",
      "13836524.0 under\n",
      "-10.634846918520116 -13.087131301540529 0.8126186460181885 ('man', 'vært') 8702 2116 6539\n",
      "('være', 'vært') wordtuple\n",
      "('være', 'vært') wordup\n",
      "4127.0 over\n",
      "7429276.0 under\n",
      "-10.813912469987747 -12.010877723007034 0.9003432321414379 ('være', 'vært') 4127 2116 3511\n",
      "('et', 'vært') wordtuple\n",
      "('et', 'vært') wordup\n",
      "9676.0 over\n",
      "16098528.0 under\n",
      "-10.700230388994663 -13.240195053979926 0.8081625946876241 ('et', 'vært') 9676 2116 7608\n",
      "('helt', 'vært') wordtuple\n",
      "('helt', 'vært') wordup\n",
      "1676.0 over\n",
      "2896804.0 under\n",
      "-10.755224209672575 -10.710806433699352 1.0041470057598532 ('helt', 'vært') 1676 2116 1369\n",
      "('en', 'noen') wordtuple\n",
      "('en', 'noen') wordup\n",
      "17480.0 over\n",
      "28077800.0 under\n",
      "-10.649508999375191 -14.093417564387961 0.7556370873651661 ('en', 'noen') 17480 1880 14935\n",
      "('noen', 'saken') wordtuple\n",
      "('noen', 'saken') wordup\n",
      "737.0 over\n",
      "1338560.0 under\n",
      "-10.82672956843633 -9.52552080909507 1.1366023743393485 ('noen', 'saken') 737 1880 712\n",
      "('man', 'noen') wordtuple\n",
      "('man', 'noen') wordup\n",
      "7619.0 over\n",
      "12293320.0 under\n",
      "-10.655985314613114 -12.895385939898507 0.8263409380903711 ('man', 'noen') 7619 1880 6539\n",
      "('noen', 'være') wordtuple\n",
      "('noen', 'være') wordup\n",
      "4083.0 over\n",
      "6600680.0 under\n",
      "-10.658769375220604 -11.995413852225152 0.8885703741887488 ('noen', 'være') 4083 1880 3511\n",
      "('et', 'noen') wordtuple\n",
      "('et', 'noen') wordup\n",
      "9229.0 over\n",
      "14303040.0 under\n",
      "-10.597859858348443 -13.171958619077122 0.804577372646724 ('et', 'noen') 9229 1880 7608\n",
      "('helt', 'noen') wordtuple\n",
      "('helt', 'noen') wordup\n",
      "1479.0 over\n",
      "2573720.0 under\n",
      "-10.765017340723832 -10.530406337099068 1.022279387529256 ('helt', 'noen') 1479 1880 1369\n",
      "('en', 'saken') wordtuple\n",
      "('en', 'saken') wordup\n",
      "5195.0 over\n",
      "10633720.0 under\n",
      "-10.999235014372976 -12.342908033791575 0.8911380514429839 ('en', 'saken') 5195 14935 712\n",
      "('en', 'man') wordtuple\n",
      "('en', 'man') wordup\n",
      "55875.0 over\n",
      "97659965.0 under\n",
      "-10.771348619299367 -15.769915305845405 0.6830314818055345 ('en', 'man') 55875 14935 6539\n",
      "('en', 'være') wordtuple\n",
      "('en', 'være') wordup\n",
      "32009.0 over\n",
      "52436785.0 under\n",
      "-10.677885912485591 -14.966189985593319 0.7134672166238892 ('en', 'være') 32009 14935 3511\n",
      "('en', 'et') wordtuple\n",
      "('en', 'et') wordup\n",
      "72727.0 over\n",
      "113625480.0 under\n",
      "-10.60950770237575 -16.150203445682966 0.6569271859675382 ('en', 'et') 72727 14935 7608\n",
      "('en', 'helt') wordtuple\n",
      "('en', 'helt') wordup\n",
      "11639.0 over\n",
      "20446015.0 under\n",
      "-10.778636858857647 -13.506679489598406 0.7980227018164128 ('en', 'helt') 11639 14935 1369\n",
      "('man', 'saken') wordtuple\n",
      "('man', 'saken') wordup\n",
      "2556.0 over\n",
      "4655768.0 under\n",
      "-10.830915617966022 -11.319672120946995 0.9568223798570515 ('man', 'saken') 2556 712 6539\n",
      "('saken', 'være') wordtuple\n",
      "('saken', 'være') wordup\n",
      "1108.0 over\n",
      "2499832.0 under\n",
      "-11.139657545797965 -10.113742166049189 1.1014377628878724 ('saken', 'være') 1108 712 3511\n",
      "('et', 'saken') wordtuple\n",
      "('et', 'saken') wordup\n",
      "2667.0 over\n",
      "5416896.0 under\n",
      "-10.988032852276035 -11.381002109550927 0.9654714713614618 ('et', 'saken') 2667 712 7608\n",
      "('helt', 'saken') wordtuple\n",
      "('helt', 'saken') wordup\n",
      "500.0 over\n",
      "974728.0 under\n",
      "-10.928855877562212 -8.965784284662087 1.2189514637618912 ('helt', 'saken') 500 712 1369\n",
      "('man', 'være') wordtuple\n",
      "('man', 'være') wordup\n",
      "13921.0 over\n",
      "22958429.0 under\n",
      "-10.687545359928754 -13.76497522889862 0.7764304099502471 ('man', 'være') 13921 6539 3511\n",
      "('et', 'man') wordtuple\n",
      "('et', 'man') wordup\n",
      "29233.0 over\n",
      "49748712.0 under\n",
      "-10.73284556774521 -14.835310271061973 0.7234662013561587 ('et', 'man') 29233 6539 7608\n",
      "('helt', 'man') wordtuple\n",
      "('helt', 'man') wordup\n",
      "5482.0 over\n",
      "8951891.0 under\n",
      "-10.673274426378745 -12.420486612825774 0.8593282017918038 ('helt', 'man') 5482 6539 1369\n",
      "('et', 'være') wordtuple\n",
      "('et', 'være') wordup\n",
      "16981.0 over\n",
      "26711688.0 under\n",
      "-10.61933401143046 -14.05163380031086 0.7557366041801866 ('et', 'være') 16981 3511 7608\n",
      "('helt', 'være') wordtuple\n",
      "('helt', 'være') wordup\n",
      "2858.0 over\n",
      "4806559.0 under\n",
      "-10.715782811042839 -11.480790201095816 0.9333663121916504 ('helt', 'være') 2858 3511 1369\n",
      "('et', 'helt') wordtuple\n",
      "('et', 'helt') wordup\n",
      "6330.0 over\n",
      "10415352.0 under\n",
      "-10.68421847780276 -12.627989784315703 0.8460743681526288 ('et', 'helt') 6330 7608 1369\n",
      "-969.4894983128474 2v\n",
      "90 x2\n",
      "90\n",
      "-10.772105536809416 n printed\n",
      "10\n",
      "('ein', 'ikkje') wordtuple\n",
      "('ein', 'ikkje') wordup\n",
      "14577.0 over\n",
      "3683508.0 under\n",
      "-7.9812427274204625 -13.831406217838442 0.5770376924601498 ('ein', 'ikkje') 14577 2417 1524\n",
      "('ei', 'ein') wordtuple\n",
      "('ei', 'ein') wordup\n",
      "8193.0 over\n",
      "2151130.0 under\n",
      "-8.0364871841329 -13.000176099486444 0.6181829478794808 ('ei', 'ein') 8193 2417 890\n",
      "('dei', 'ein') wordtuple\n",
      "('dei', 'ein') wordup\n",
      "17089.0 over\n",
      "4212831.0 under\n",
      "-7.9455782552956595 -14.06078035659561 0.5650880003661077 ('dei', 'ein') 17089 2417 1743\n",
      "('berre', 'ein') wordtuple\n",
      "('berre', 'ein') wordup\n",
      "2221.0 over\n",
      "580080.0 under\n",
      "-8.02889867582712 -11.116993677546981 0.7222185159683149 ('berre', 'ein') 2221 2417 240\n",
      "('eg', 'ein') wordtuple\n",
      "('eg', 'ein') wordup\n",
      "13746.0 over\n",
      "3932459.0 under\n",
      "-8.16027604941228 -13.746724244025831 0.593616042960827 ('eg', 'ein') 13746 2417 1627\n",
      "('ein', 'noko') wordtuple\n",
      "('ein', 'noko') wordup\n",
      "2840.0 over\n",
      "671926.0 under\n",
      "-7.8862676160970455 -11.471675214392045 0.6874556216692008 ('ein', 'noko') 2840 2417 278\n",
      "('ein', 'eit') wordtuple\n",
      "('ein', 'eit') wordup\n",
      "9534.0 over\n",
      "2549935.0 under\n",
      "-8.063163131290455 -13.218865910069677 0.6099738953512052 ('ein', 'eit') 9534 2417 1055\n",
      "('ein', 'no') wordtuple\n",
      "('ein', 'no') wordup\n",
      "4227.0 over\n",
      "1065897.0 under\n",
      "-7.97821820629231 -12.045418397030794 0.6623446312382929 ('ein', 'no') 4227 2417 441\n",
      "('ein', 'sjølv') wordtuple\n",
      "('ein', 'sjølv') wordup\n",
      "1285.0 over\n",
      "364967.0 under\n",
      "-8.149853853009422 -10.32755264408124 0.7891369943952921 ('ein', 'sjølv') 1285 2417 151\n",
      "('ei', 'ikkje') wordtuple\n",
      "('ei', 'ikkje') wordup\n",
      "4859.0 over\n",
      "1356360.0 under\n",
      "-8.124864996229796 -12.246443717117286 0.663446889881459 ('ei', 'ikkje') 4859 1524 890\n",
      "('dei', 'ikkje') wordtuple\n",
      "('dei', 'ikkje') wordup\n",
      "11769.0 over\n",
      "2656332.0 under\n",
      "-7.818299920820755 -13.522704120798252 0.5781609839999395 ('dei', 'ikkje') 11769 1524 1743\n",
      "('berre', 'ikkje') wordtuple\n",
      "('berre', 'ikkje') wordup\n",
      "1464.0 over\n",
      "365760.0 under\n",
      "-7.9648379448177975 -10.515699838284043 0.757423477971534 ('berre', 'ikkje') 1464 1524 240\n",
      "('eg', 'ikkje') wordtuple\n",
      "('eg', 'ikkje') wordup\n",
      "8923.0 over\n",
      "2479548.0 under\n",
      "-8.118332598597107 -13.123313124568744 0.6186191338678348 ('eg', 'ikkje') 8923 1524 1627\n",
      "('ikkje', 'noko') wordtuple\n",
      "('ikkje', 'noko') wordup\n",
      "1750.0 over\n",
      "423672.0 under\n",
      "-7.9194490534971385 -10.77313920671969 0.7351106211045173 ('ikkje', 'noko') 1750 1524 278\n",
      "('eit', 'ikkje') wordtuple\n",
      "('eit', 'ikkje') wordup\n",
      "6220.0 over\n",
      "1607820.0 under\n",
      "-8.013975606069904 -12.602698865017965 0.6358936043703112 ('eit', 'ikkje') 6220 1524 1055\n",
      "('ikkje', 'no') wordtuple\n",
      "('ikkje', 'no') wordup\n",
      "3014.0 over\n",
      "672084.0 under\n",
      "-7.800818331453019 -11.557463701597824 0.6749593624399229 ('ikkje', 'no') 3014 1524 441\n",
      "('ikkje', 'sjølv') wordtuple\n",
      "('ikkje', 'sjølv') wordup\n",
      "929.0 over\n",
      "230124.0 under\n",
      "-7.952517140435748 -9.859534786382653 0.8065813765796785 ('ikkje', 'sjølv') 929 1524 151\n",
      "('dei', 'ei') wordtuple\n",
      "('dei', 'ei') wordup\n",
      "6299.0 over\n",
      "1551270.0 under\n",
      "-7.944111284094108 -12.620907095885338 0.62944059596826 ('dei', 'ei') 6299 890 1743\n",
      "('berre', 'ei') wordtuple\n",
      "('berre', 'ei') wordup\n",
      "790.0 over\n",
      "213600.0 under\n",
      "-8.078843278397812 -9.625708843064466 0.839298529605827 ('berre', 'ei') 790 890 240\n",
      "('eg', 'ei') wordtuple\n",
      "('eg', 'ei') wordup\n",
      "5261.0 over\n",
      "1448030.0 under\n",
      "-8.104538726791498 -12.361121334734788 0.6556475345013983 ('eg', 'ei') 5261 890 1627\n",
      "('ei', 'noko') wordtuple\n",
      "('ei', 'noko') wordup\n",
      "964.0 over\n",
      "247420.0 under\n",
      "-8.003713262347306 -9.912889336229961 0.8074046820128482 ('ei', 'noko') 964 890 278\n",
      "('ei', 'eit') wordtuple\n",
      "('ei', 'eit') wordup\n",
      "3860.0 over\n",
      "938950.0 under\n",
      "-7.926303677292865 -11.914385132155443 0.6652717357525029 ('ei', 'eit') 3860 890 1055\n",
      "('ei', 'no') wordtuple\n",
      "('ei', 'no') wordup\n",
      "1789.0 over\n",
      "392490.0 under\n",
      "-7.777358699359372 -10.804937672051908 0.7197967202972689 ('ei', 'no') 1789 890 441\n",
      "('ei', 'sjølv') wordtuple\n",
      "('ei', 'sjølv') wordup\n",
      "412.0 over\n",
      "134390.0 under\n",
      "-8.34956573799562 -8.686500527183219 0.9612116768849311 ('ei', 'sjølv') 412 890 151\n",
      "('berre', 'dei') wordtuple\n",
      "('berre', 'dei') wordup\n",
      "1838.0 over\n",
      "418320.0 under\n",
      "-7.830326398445169 -10.843921051289035 0.7220936376620304 ('berre', 'dei') 1838 1743 240\n",
      "('dei', 'eg') wordtuple\n",
      "('dei', 'eg') wordup\n",
      "11214.0 over\n",
      "2835861.0 under\n",
      "-7.982342035331899 -13.453013354466316 0.5933497444036813 ('dei', 'eg') 11214 1743 1627\n",
      "('dei', 'noko') wordtuple\n",
      "('dei', 'noko') wordup\n",
      "2146.0 over\n",
      "484554.0 under\n",
      "-7.81886356609267 -11.067434360756522 0.7064748080925782 ('dei', 'noko') 2146 1743 278\n",
      "('dei', 'eit') wordtuple\n",
      "('dei', 'eit') wordup\n",
      "7878.0 over\n",
      "1838865.0 under\n",
      "-7.86677043610619 -12.943613701614044 0.607772343756305 ('dei', 'eit') 7878 1743 1055\n",
      "('dei', 'no') wordtuple\n",
      "('dei', 'no') wordup\n",
      "3873.0 over\n",
      "768663.0 under\n",
      "-7.632755913654859 -11.919235786028347 0.6403729274826434 ('dei', 'no') 3873 1743 441\n",
      "('dei', 'sjølv') wordtuple\n",
      "('dei', 'sjølv') wordup\n",
      "1046.0 over\n",
      "263193.0 under\n",
      "-7.975094457203824 -10.030667136246942 0.7950711900691954 ('dei', 'sjølv') 1046 1743 151\n",
      "('berre', 'eg') wordtuple\n",
      "('berre', 'eg') wordup\n",
      "1356.0 over\n",
      "390480.0 under\n",
      "-8.169747668144703 -10.405141463136344 0.7851644974831661 ('berre', 'eg') 1356 240 1627\n",
      "('berre', 'noko') wordtuple\n",
      "('berre', 'noko') wordup\n",
      "312.0 over\n",
      "66720.0 under\n",
      "-7.7404294494697785 -8.285402218862249 0.9342249470820131 ('berre', 'noko') 312 240 278\n",
      "('berre', 'eit') wordtuple\n",
      "('berre', 'eit') wordup\n",
      "920.0 over\n",
      "253200.0 under\n",
      "-8.104427828258691 -9.845490050944376 0.8231614461365808 ('berre', 'eit') 920 240 1055\n",
      "('berre', 'no') wordtuple\n",
      "('berre', 'no') wordup\n",
      "449.0 over\n",
      "105840.0 under\n",
      "-7.880953806424892 -8.810571634741148 0.8944883638820141 ('berre', 'no') 449 240 441\n",
      "('berre', 'sjølv') wordtuple\n",
      "('berre', 'sjølv') wordup\n",
      "127.0 over\n",
      "36240.0 under\n",
      "-8.15661064816143 -6.988684686772166 1.167116705608404 ('berre', 'sjølv') 127 240 151\n",
      "('eg', 'noko') wordtuple\n",
      "('eg', 'noko') wordup\n",
      "1736.0 over\n",
      "452306.0 under\n",
      "-8.025388375951557 -10.76155123244448 0.7457464265705674 ('eg', 'noko') 1736 1627 278\n",
      "('eg', 'eit') wordtuple\n",
      "('eg', 'eit') wordup\n",
      "5849.0 over\n",
      "1716485.0 under\n",
      "-8.197051545526419 -12.513974273740656 0.655031836107185 ('eg', 'eit') 5849 1627 1055\n",
      "('eg', 'no') wordtuple\n",
      "('eg', 'no') wordup\n",
      "3055.0 over\n",
      "717507.0 under\n",
      "-7.875676716523956 -11.576956664706092 0.6802890383561696 ('eg', 'no') 3055 1627 441\n",
      "('eg', 'sjølv') wordtuple\n",
      "('eg', 'sjølv') wordup\n",
      "1021.0 over\n",
      "245677.0 under\n",
      "-7.910636124119806 -9.995767150877802 0.7913985994987003 ('eg', 'sjølv') 1021 1627 151\n",
      "('eit', 'noko') wordtuple\n",
      "('eit', 'noko') wordup\n",
      "1030.0 over\n",
      "293290.0 under\n",
      "-8.153539734247474 -10.008428622070582 0.8146673211284429 ('eit', 'noko') 1030 278 1055\n",
      "('no', 'noko') wordtuple\n",
      "('no', 'noko') wordup\n",
      "532.0 over\n",
      "122598.0 under\n",
      "-7.848293482779838 -9.05528243550119 0.8667088562594847 ('no', 'noko') 532 278 441\n",
      "('noko', 'sjølv') wordtuple\n",
      "('noko', 'sjølv') wordup\n",
      "149.0 over\n",
      "41978.0 under\n",
      "-8.138177291586425 -7.219168520462162 1.1273011938313124 ('noko', 'sjølv') 149 278 151\n",
      "('eit', 'no') wordtuple\n",
      "('eit', 'no') wordup\n",
      "1920.0 over\n",
      "465255.0 under\n",
      "-7.92077153354355 -10.90689059560852 0.7262171985783664 ('eit', 'no') 1920 1055 441\n",
      "('eit', 'sjølv') wordtuple\n",
      "('eit', 'sjølv') wordup\n",
      "547.0 over\n",
      "159305.0 under\n",
      "-8.18603500012707 -9.095397022792557 0.900019535113566 ('eit', 'sjølv') 547 1055 151\n",
      "('no', 'sjølv') wordtuple\n",
      "('no', 'sjølv') wordup\n",
      "305.0 over\n",
      "66591.0 under\n",
      "-7.770374152432351 -8.252665432450248 0.9415593320769453 ('no', 'sjølv') 305 441 151\n",
      "-718.62356424222 2v\n",
      "90 x2\n",
      "90\n",
      "-7.984706269358 n printed\n",
      "[-10.772105536809416, -7.984706269358] npmis\n"
     ]
    }
   ],
   "source": [
    "from utils.stats import compute_metrics\n",
    "input_data = list(loaded_topics.values())\n",
    "coherence, diversity = compute_metrics(\n",
    "    input_data, word_frequencies, word_co_frequencies, 10)"
   ],
   "metadata": {
    "collapsed": false,
    "ExecuteTime": {
     "start_time": "2023-05-30T19:46:27.066773Z",
     "end_time": "2023-05-30T19:46:27.080309Z"
    }
   }
  },
  {
   "cell_type": "code",
   "execution_count": 77,
   "outputs": [
    {
     "name": "stdout",
     "output_type": "stream",
     "text": [
      "det var spesielt det representanten harald tom nesvik sa, som gjorde at jeg bad om ordet. det er også naturlig å kommentere noe av det sonja sjøli sa. jeg synes at de betraktningene som begge representantene kom med, er veldig unyanserte. man framstiller det som om regjeringen og de tre regjeringspartiene generelt er motstandere av alt som har med private tjenester å gjøre, mens opposisjonen, og da spesielt høyre og fremskrittspartiet, er veldig for det. det er et bilde som stemmer dårlig med virkeligheten. da man innførte fastlegeordningen, ble den på mange måter drevet gjennom av arbeiderpartiet og sv. i utgangspunktet hadde man kommuneleger som var fast ansatt i mange kommuner. så ble de privatpraktiserende, selvstendig næringsdrivende og fikk arbeidsgiveransvar. hvis man ser på avtaler som er inngått med privatpraktiserende spesialister, ser man at det ikke var høyre og fremskrittspartiet som drev gjennom at man burde utnytte den kapasiteten – det var i all hovedsak sv og arbeiderpartiet og også fylkeskommunene, før man fikk helseforetakene. det man så, var jo at mange av de privatpraktiserende spesialistene skummet fløten i helsemarkedet uten noen forpliktelser. å gå inn og ta forpliktelser og få et refusjonstilskudd, mot at man faktisk måtte være med og ta unna ventelistene, fikk ned ventelistene, men forpliktet dem på en helt annen måte. noen av de verste eksemplene jeg har sett på at man skal ha frihet uten ansvar, har kommet fra fremskrittspartiet, som har foreslått at man skal ha en refusjonsordning for privatpraktiserende spesialister, uten at man knytter det til forpliktelser om hva slags pasienter man skal behandle. derfor er framstillingen til de to partiene ganske blottet for refleksjoner i forhold til bruken av offentlige midler. det man er nødt til å se på når man gir midler, gir refusjon til privatpraktiserende spesialister, er om midlene brukes målrettet. på ett punkt er jeg imidlertid enig, og det gjelder at det finnes en del eksempler på kapasitet som ikke utnyttes fullt ut. da får man målrette det i forhold til de eksemplene. ett eksempel på det er jo capio i østfold. jeg har fått ganske mange henvendelser angående det. det har også kommet en del henvendelser fra sv-ere som opplever at deres egne familiemedlemmer har alvorlig sykdom, og så står det ledige behandlingsplasser der. vi har jo et forslag til behandling i komiteen fra fremskrittspartiet angående det. jeg må nok si at det gir grunn til ettertanke når det gjelder helseforetakslovgivningen, hvis offentlige myndigheter, i dette tilfellet regjeringen, ikke skal ha virkemidler for å kunne utnytte ledige plasser på et område der man absolutt har behov for å foreta behandling – i påvente av at det offentlige skal bygge opp det tilbudet. det burde man selvfølgelig kunne gjøre. det kan jo heller ikke være slik at det må være nødvendig å gå veien om fritt sykehusvalg, som jeg har hørt fremskrittspartiet flere ganger har tatt til orde for, for at det offentlige skal styre virksomheter og sikre bruk av kapasitet der kvaliteten er god, og der man trenger plassene. det er på mange måter, synes jeg, en fallitterklæring hvis man skal måtte kalle noe som ikke er sykehus, for et sykehus for å utnytte den kapasiteten. det synliggjør også hvor liten grad av politisk styring man har med virksomhetene, og i hvor stor grad det overlates til andre å vurdere hvilke tjenester som skal brukes. dette er spesielt knyttet til spisevegring. ellers må jeg si at jeg etterlyser, både fra høyre og fremskrittspartiet, en mer kritisk vurdering av hva slags private tjenester man skal bruke. hvilken pris skal man betale for tjenestene? hvem er det som står på venteliste? hvor mange flere behandles nå enn før? for en av grunnene til at flere står på venteliste, er jo at kapasiteten er betydelig utvidet etter at regjeringen overtok. derfor er dette relativt unyanserte og ureflekterte betraktninger, som i liten grad beskriver den virkeligheten vi står overfor, og som søker å skape lettvinte, retoriske poenger for de to partiene nå såpass nært opptil den kommende valgkampen.\n"
     ]
    }
   ],
   "source": [
    "from nltk import word_tokenize\n",
    "from utils.config import use_pmi\n",
    "from gensim.test.utils import common_corpus, common_dictionary\n",
    "from gensim.models.coherencemodel import CoherenceModel\n",
    "from gensim.corpora import Dictionary\n",
    "if not use_pmi:\n",
    "    corpus_tokenized = []\n",
    "    for item in new_data:\n",
    "        word_tokens = word_tokenize(item)\n",
    "        corpus_tokenized.append(word_tokens)\n",
    "\n",
    "    dct = Dictionary(corpus_tokenized)\n",
    "    inp = list(loaded_topics.values())\n",
    "\n",
    "\n",
    "    cm = CoherenceModel(topics=inp, texts = corpus_tokenized, dictionary=dct, coherence='c_npmi')\n",
    "    coherence2 = cm.get_coherence()  # get coherence value\n",
    "    print(coherence2)"
   ],
   "metadata": {
    "collapsed": false,
    "ExecuteTime": {
     "start_time": "2023-05-30T19:46:27.085296Z",
     "end_time": "2023-05-30T19:46:51.468655Z"
    }
   }
  },
  {
   "cell_type": "code",
   "execution_count": 78,
   "outputs": [
    {
     "data": {
      "text/plain": "1.0"
     },
     "execution_count": 78,
     "metadata": {},
     "output_type": "execute_result"
    }
   ],
   "source": [
    "diversity"
   ],
   "metadata": {
    "collapsed": false,
    "ExecuteTime": {
     "start_time": "2023-05-30T19:46:51.467657Z",
     "end_time": "2023-05-30T19:46:51.482618Z"
    }
   }
  },
  {
   "cell_type": "code",
   "execution_count": 79,
   "outputs": [
    {
     "data": {
      "text/plain": "0.09240950578521848"
     },
     "execution_count": 79,
     "metadata": {},
     "output_type": "execute_result"
    }
   ],
   "source": [
    "coherence"
   ],
   "metadata": {
    "collapsed": false,
    "ExecuteTime": {
     "start_time": "2023-05-30T19:46:51.483615Z",
     "end_time": "2023-05-30T19:46:51.512538Z"
    }
   }
  },
  {
   "cell_type": "code",
   "execution_count": 80,
   "outputs": [],
   "source": [
    "from tabulate import tabulate\n",
    "import csv"
   ],
   "metadata": {
    "collapsed": false,
    "ExecuteTime": {
     "start_time": "2023-05-30T19:46:51.497578Z",
     "end_time": "2023-05-30T19:46:51.513535Z"
    }
   }
  },
  {
   "cell_type": "code",
   "execution_count": 81,
   "outputs": [
    {
     "name": "stdout",
     "output_type": "stream",
     "text": [
      "╒═════════════════════════════════╤═══════════╤═══════════╕\n",
      "│ Model                           │ Metric    │     Value │\n",
      "╞═════════════════════════════════╪═══════════╪═══════════╡\n",
      "│ top2vec_preliminary_np_mini_raw │ coherence │ 0.0924095 │\n",
      "├─────────────────────────────────┼───────────┼───────────┤\n",
      "│ top2vec_preliminary_np_mini_raw │ diversity │ 1         │\n",
      "╘═════════════════════════════════╧═══════════╧═══════════╛\n"
     ]
    }
   ],
   "source": [
    "# Check the stats for the dataset after running basic pipeline\n",
    "\n",
    "models = [file_name for i in range(0, 2)]\n",
    "metrics = [\"coherence\" if i < 1 else \"diversity\" for i in range(0, 2)]\n",
    "values = [\n",
    "    coherence,\n",
    "    diversity\n",
    "    ]\n",
    "\n",
    "stats = [models, metrics, values]\n",
    "stats_tabulate = list(zip(*stats))\n",
    "print(tabulate(stats_tabulate, headers=[\"Model\", \"Metric\", \"Value\"], tablefmt=\"fancy_grid\"))"
   ],
   "metadata": {
    "collapsed": false,
    "ExecuteTime": {
     "start_time": "2023-05-30T19:46:51.514532Z",
     "end_time": "2023-05-30T19:46:51.527501Z"
    }
   }
  },
  {
   "cell_type": "code",
   "execution_count": 82,
   "outputs": [],
   "source": [
    "# Save all topic stats to file\n",
    "\n",
    "topic_stats_folder_path = fr\"preprocessed_data/metrics/{model_type}\"\n",
    "topic_stats_file_name = f\"{file_name}_stats\"\n",
    "topic_stats_path = os.path.join(ROOT_PATH,topic_stats_folder_path, topic_stats_file_name + r\".csv\")\n",
    "\n",
    "TOPIC_STAT = \"Topic stat\"\n",
    "VALUE = \"Value\"\n",
    "\n",
    "with open(topic_stats_path, encoding=\"utf-8\", mode=\"w\", newline=\"\") as topic_stats_file:\n",
    "    header = [TOPIC_STAT, VALUE]\n",
    "    writer = csv.DictWriter(topic_stats_file, fieldnames=header, delimiter=\";\")\n",
    "    writer.writeheader()\n",
    "    writer.writerow({TOPIC_STAT : \"Coherence\", VALUE : coherence})\n",
    "    writer.writerow({TOPIC_STAT : \"Diversity\", VALUE : diversity})"
   ],
   "metadata": {
    "collapsed": false,
    "ExecuteTime": {
     "start_time": "2023-05-30T19:46:51.528519Z",
     "end_time": "2023-05-30T19:46:51.551997Z"
    }
   }
  }
 ],
 "metadata": {
  "kernelspec": {
   "display_name": "Python 3",
   "language": "python",
   "name": "python3"
  },
  "language_info": {
   "codemirror_mode": {
    "name": "ipython",
    "version": 2
   },
   "file_extension": ".py",
   "mimetype": "text/x-python",
   "name": "python",
   "nbconvert_exporter": "python",
   "pygments_lexer": "ipython2",
   "version": "2.7.6"
  }
 },
 "nbformat": 4,
 "nbformat_minor": 0
}
